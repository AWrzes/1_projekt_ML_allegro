{
 "cells": [
  {
   "cell_type": "code",
   "execution_count": 4,
   "id": "5621ea02-262d-40ca-a12d-cbd79dce0425",
   "metadata": {},
   "outputs": [],
   "source": [
    "# Installation checks \n",
    "import pandas as pd \n",
    "assert pd.__version__ == '2.0.3'"
   ]
  },
  {
   "cell_type": "code",
   "execution_count": 5,
   "id": "38f5735d-174d-4862-8470-86f6df9014dc",
   "metadata": {},
   "outputs": [],
   "source": [
    "import transformers \n",
    "assert transformers.__version__ == '4.37.2'"
   ]
  },
  {
   "cell_type": "code",
   "execution_count": 6,
   "id": "da46553e-46f3-4e06-8fa0-3338017ee49a",
   "metadata": {},
   "outputs": [],
   "source": [
    "import datasets \n",
    "assert datasets.__version__ == '2.17.1'"
   ]
  },
  {
   "cell_type": "code",
   "execution_count": 7,
   "id": "9b54bd92-4e4d-407d-a624-8a70c7738fa9",
   "metadata": {},
   "outputs": [
    {
     "ename": "AttributeError",
     "evalue": "module 'torch' has no attribute '__version__'",
     "output_type": "error",
     "traceback": [
      "\u001b[0;31m---------------------------------------------------------------------------\u001b[0m",
      "\u001b[0;31mAttributeError\u001b[0m                            Traceback (most recent call last)",
      "Cell \u001b[0;32mIn[7], line 2\u001b[0m\n\u001b[1;32m      1\u001b[0m \u001b[38;5;28;01mimport\u001b[39;00m \u001b[38;5;21;01mtorch\u001b[39;00m  \n\u001b[0;32m----> 2\u001b[0m \u001b[38;5;28;01massert\u001b[39;00m \u001b[43mtorch\u001b[49m\u001b[38;5;241;43m.\u001b[39;49m\u001b[43m__version__\u001b[49m\u001b[38;5;241m.\u001b[39mstartswith(\u001b[38;5;124m'\u001b[39m\u001b[38;5;124m2.2\u001b[39m\u001b[38;5;124m'\u001b[39m)\n",
      "\u001b[0;31mAttributeError\u001b[0m: module 'torch' has no attribute '__version__'"
     ]
    }
   ],
   "source": [
    "import torch  \n",
    "assert torch.__version__.startswith('2.2')"
   ]
  },
  {
   "cell_type": "code",
   "execution_count": 8,
   "id": "5cc5c3e5-08d0-48aa-a4de-b3608882e6d3",
   "metadata": {},
   "outputs": [
    {
     "data": {
      "text/plain": [
       "['__name__',\n",
       " '__doc__',\n",
       " '__package__',\n",
       " '__loader__',\n",
       " '__spec__',\n",
       " '__file__',\n",
       " '__path__']"
      ]
     },
     "execution_count": 8,
     "metadata": {},
     "output_type": "execute_result"
    }
   ],
   "source": [
    "torch.__dir__()"
   ]
  },
  {
   "cell_type": "code",
   "execution_count": null,
   "id": "e134aba5-8fbb-4893-b7a1-b38b634ed44b",
   "metadata": {},
   "outputs": [],
   "source": []
  }
 ],
 "metadata": {
  "kernelspec": {
   "display_name": "Python 3 (ipykernel)",
   "language": "python",
   "name": "python3"
  },
  "language_info": {
   "codemirror_mode": {
    "name": "ipython",
    "version": 3
   },
   "file_extension": ".py",
   "mimetype": "text/x-python",
   "name": "python",
   "nbconvert_exporter": "python",
   "pygments_lexer": "ipython3",
   "version": "3.10.12"
  }
 },
 "nbformat": 4,
 "nbformat_minor": 5
}
