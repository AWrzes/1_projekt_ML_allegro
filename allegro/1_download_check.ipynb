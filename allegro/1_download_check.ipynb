{
 "cells": [
  {
   "cell_type": "code",
   "execution_count": 2,
   "id": "dc4540f4-49aa-419e-b4de-7dfeaf8a2ff2",
   "metadata": {},
   "outputs": [],
   "source": [
    "from datasets import load_dataset\n",
    "\n",
    "dataset = load_dataset(\"legacy-datasets/allegro_reviews\")\n",
    "\n"
   ]
  },
  {
   "cell_type": "code",
   "execution_count": 3,
   "id": "148303c2-27b8-4a49-b76a-19577ffe269d",
   "metadata": {},
   "outputs": [
    {
     "name": "stdout",
     "output_type": "stream",
     "text": [
      "{'text': \"1. Ładowanie bezprzewodowe działa, ale słabo. Tzn. tak samo jak oryginalna ładowarka bezprzewodowa samsung'a, ale w samochodzie zazwyczaj mam załączoną nawigację + film, albo coś innego i tu ładowanie bezprzewodowe się nie sprawdza.  2. Uchwyt trzyma się świetnie. Wyczyściłem kokpit i przyłożyłem tylko tą gumową podkładkę. Uchwyt nie odpada, a gumę można zdjąć bez odrywania razem z tapicerką.  3. Ramię mogłoby być trochę stabilniejsze. Choć nie jest źle. 4. Pałąki boczne (te które zatrzaskują się w momencie włożenia telefonu) mogłyby być odrobinę krótsze - w tej chwili po zamontowaniu wygląda to trochę topornie.  5. Ładowanie bezprzewodowe zakłóca niektóra stacje radiowe. 6. Świetny patent z zatrzaskiwaniem telefonu, ale jeszcze lepiej by się to sprawdziło gdyby uchwyt był odrobinę stabilniejszy (tak jak pisałem w pkt. 3)\", 'rating': -1.0}\n"
     ]
    }
   ],
   "source": [
    "print(dataset['test'][0])\n",
    "\n"
   ]
  },
  {
   "cell_type": "code",
   "execution_count": 4,
   "id": "53511480-0dda-419a-9ffd-a69457106361",
   "metadata": {},
   "outputs": [
    {
     "data": {
      "text/plain": [
       "DatasetDict({\n",
       "    train: Dataset({\n",
       "        features: ['text', 'rating'],\n",
       "        num_rows: 9577\n",
       "    })\n",
       "    test: Dataset({\n",
       "        features: ['text', 'rating'],\n",
       "        num_rows: 1006\n",
       "    })\n",
       "    validation: Dataset({\n",
       "        features: ['text', 'rating'],\n",
       "        num_rows: 1002\n",
       "    })\n",
       "})"
      ]
     },
     "execution_count": 4,
     "metadata": {},
     "output_type": "execute_result"
    }
   ],
   "source": [
    "dataset\n"
   ]
  },
  {
   "cell_type": "code",
   "execution_count": 5,
   "id": "c1051afd-fb48-4e13-b87c-09b0ce2366a6",
   "metadata": {},
   "outputs": [],
   "source": [
    "import pandas as pd \n",
    "dataset['train']\n",
    "df = pd.DataFrame(dataset['train'])"
   ]
  },
  {
   "cell_type": "code",
   "execution_count": 6,
   "id": "011e322a-a033-4b00-bf59-605a19063c61",
   "metadata": {},
   "outputs": [],
   "source": [
    "df.to_csv(\"train.csv\")\n"
   ]
  },
  {
   "cell_type": "code",
   "execution_count": 7,
   "id": "70a51860-5d50-4f6d-9fcb-36f7ad47ef56",
   "metadata": {},
   "outputs": [],
   "source": [
    "import pandas as pd \n",
    "dataset['test']\n",
    "df = pd.DataFrame(dataset['test'])"
   ]
  },
  {
   "cell_type": "code",
   "execution_count": 8,
   "id": "f61fd091-6c36-42c0-9617-8b4bbfc6fe9c",
   "metadata": {},
   "outputs": [],
   "source": [
    "df.to_csv(\"test.csv\")"
   ]
  },
  {
   "cell_type": "code",
   "execution_count": 9,
   "id": "98aafc35-fa4d-4b05-8aac-46bec3531576",
   "metadata": {},
   "outputs": [],
   "source": [
    "dataset['validation']\n",
    "df = pd.DataFrame(dataset['validation'])"
   ]
  },
  {
   "cell_type": "code",
   "execution_count": 10,
   "id": "3386d057-a0c8-49cc-b00f-e7e61fe2a89b",
   "metadata": {},
   "outputs": [],
   "source": [
    "df.to_csv(\"validation.csv\")"
   ]
  },
  {
   "cell_type": "code",
   "execution_count": 11,
   "id": "f564b07b-4010-4910-b334-750b03112ccd",
   "metadata": {},
   "outputs": [
    {
     "data": {
      "text/plain": [
       "0       3.0\n",
       "1       4.0\n",
       "2       1.0\n",
       "3       5.0\n",
       "4       3.0\n",
       "       ... \n",
       "997     5.0\n",
       "998     1.0\n",
       "999     3.0\n",
       "1000    1.0\n",
       "1001    2.0\n",
       "Name: rating, Length: 1002, dtype: float64"
      ]
     },
     "execution_count": 11,
     "metadata": {},
     "output_type": "execute_result"
    }
   ],
   "source": [
    "df['rating']\n"
   ]
  },
  {
   "cell_type": "code",
   "execution_count": 12,
   "id": "0cd20044-5c9b-41e5-988f-3a48bc285856",
   "metadata": {},
   "outputs": [],
   "source": [
    "import pandas as pd "
   ]
  },
  {
   "cell_type": "code",
   "execution_count": 13,
   "id": "240d5b50-b785-4979-b760-83e30005065c",
   "metadata": {},
   "outputs": [],
   "source": [
    "df = pd.read_csv(\"../allegro.csv\")"
   ]
  },
  {
   "cell_type": "code",
   "execution_count": 14,
   "id": "4ffd8874-e609-429d-ad81-c98d1a323f42",
   "metadata": {},
   "outputs": [
    {
     "data": {
      "text/plain": [
       "<Axes: xlabel='rating'>"
      ]
     },
     "execution_count": 14,
     "metadata": {},
     "output_type": "execute_result"
    },
    {
     "data": {
      "image/png": "[encoded data removed]",
      "text/plain": [
       "<Figure size 640x480 with 1 Axes>"
      ]
     },
     "metadata": {},
     "output_type": "display_data"
    }
   ],
   "source": [
    "df.rating.value_counts().plot(kind = 'bar')"
   ]
  },
  {
   "cell_type": "code",
   "execution_count": null,
   "id": "695eb004-9c5f-4855-9b67-db8fbd29552c",
   "metadata": {},
   "outputs": [],
   "source": []
  },
  {
   "cell_type": "code",
   "execution_count": null,
   "id": "005506ad-6c86-4d1f-ab52-8ccd90b2c223",
   "metadata": {},
   "outputs": [],
   "source": []
  }
 ],
 "metadata": {
  "kernelspec": {
   "display_name": "Python 3 (ipykernel)",
   "language": "python",
   "name": "python3"
  },
  "language_info": {
   "codemirror_mode": {
    "name": "ipython",
    "version": 3
   },
   "file_extension": ".py",
   "mimetype": "text/x-python",
   "name": "python",
   "nbconvert_exporter": "python",
   "pygments_lexer": "ipython3",
   "version": "3.10.12"
  }
 },
 "nbformat": 4,
 "nbformat_minor": 5
}
