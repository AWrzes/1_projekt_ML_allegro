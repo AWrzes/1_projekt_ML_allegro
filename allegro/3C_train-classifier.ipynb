{
 "cells": [
  {
   "cell_type": "code",
   "execution_count": 33,
   "id": "78f26d71-b246-411a-9305-73f835eb7ff0",
   "metadata": {},
   "outputs": [],
   "source": [
    "import torch \n",
    "from torch import nn\n",
    "import numpy as np\n",
    "TWOJ_KOD = None \n",
    "# TODO: Zaprojektuj sieć neuronową która konsumuje wektory o długości 384 (embeddingi) i zwraca binarną odpowiedź (sigmoid) \n",
    "# Pośrednie warstwy niech mają kolejno 150 i 15 neuronów a funkcjami aktywacji niech będzie nn.ReLU \n",
    "class ReviewClassifier(nn.Module):\n",
    "    def __init__(self):\n",
    "        super().__init__()        \n",
    "        self.mlp = nn.Sequential(\n",
    "            nn.Linear(384, 150),\n",
    "            nn.ReLU(),\n",
    "            nn.Linear(150, 15),\n",
    "            nn.ReLU(),\n",
    "            nn.Linear(15, 1),\n",
    "            nn.Sigmoid()\n",
    "        )\n",
    "    \n",
    "    def forward(self, x):        \n",
    "        return self.mlp(x)"
   ]
  },
  {
   "cell_type": "code",
   "execution_count": 34,
   "id": "d1a43a10-7b58-4e69-a20c-4e0f91442279",
   "metadata": {},
   "outputs": [],
   "source": [
    "import pandas as pd \n",
    "#TODO: wczytaj zapisane dane z embeddingami \n",
    "df = pd.read_feather(\"allegro_with_embeddings_C.bin\")"
   ]
  },
  {
   "cell_type": "code",
   "execution_count": 35,
   "id": "ccff75c1-29ad-44f8-9c22-20c8fc113978",
   "metadata": {},
   "outputs": [],
   "source": [
    "df = df.sample(frac=1.0) #shuffle\n",
    "# TODO: Podziel dane na train, val, test (25k, 5k, reszta) \n",
    "train_df = df[:4464]\n",
    "val_df = df[4464:5332]\n",
    "test_df = df[5332:]"
   ]
  },
  {
   "cell_type": "code",
   "execution_count": 36,
   "id": "57a37fcc-312e-444c-bf9a-886f0cde45db",
   "metadata": {},
   "outputs": [
    {
     "data": {
      "application/vnd.jupyter.widget-view+json": {
       "model_id": "31eec905604d4f22bc33d78d858b9af0",
       "version_major": 2,
       "version_minor": 0
      },
      "text/plain": [
       "  0%|          | 0/450 [00:00<?, ?it/s]"
      ]
     },
     "metadata": {},
     "output_type": "display_data"
    },
    {
     "name": "stdout",
     "output_type": "stream",
     "text": [
      "4464\n"
     ]
    },
    {
     "data": {
      "application/vnd.jupyter.widget-view+json": {
       "model_id": "6ab31e19cd1b4b2aaed0f6793fda475c",
       "version_major": 2,
       "version_minor": 0
      },
      "text/plain": [
       "evaluating: 0it [00:00, ?it/s]"
      ]
     },
     "metadata": {},
     "output_type": "display_data"
    },
    {
     "name": "stdout",
     "output_type": "stream",
     "text": [
      "4464\n"
     ]
    },
    {
     "data": {
      "application/vnd.jupyter.widget-view+json": {
       "model_id": "a86afa156416431d84f2540d33a33225",
       "version_major": 2,
       "version_minor": 0
      },
      "text/plain": [
       "evaluating: 0it [00:00, ?it/s]"
      ]
     },
     "metadata": {},
     "output_type": "display_data"
    },
    {
     "name": "stdout",
     "output_type": "stream",
     "text": [
      "4464\n"
     ]
    },
    {
     "data": {
      "application/vnd.jupyter.widget-view+json": {
       "model_id": "db6970a29974442e87594695a58701c2",
       "version_major": 2,
       "version_minor": 0
      },
      "text/plain": [
       "evaluating: 0it [00:00, ?it/s]"
      ]
     },
     "metadata": {},
     "output_type": "display_data"
    },
    {
     "name": "stdout",
     "output_type": "stream",
     "text": [
      "4464\n"
     ]
    },
    {
     "data": {
      "application/vnd.jupyter.widget-view+json": {
       "model_id": "dd629adac8e145449b7ddca8dd74d1c6",
       "version_major": 2,
       "version_minor": 0
      },
      "text/plain": [
       "evaluating: 0it [00:00, ?it/s]"
      ]
     },
     "metadata": {},
     "output_type": "display_data"
    },
    {
     "name": "stdout",
     "output_type": "stream",
     "text": [
      "4464\n"
     ]
    },
    {
     "data": {
      "application/vnd.jupyter.widget-view+json": {
       "model_id": "5943b3dbf8d54912b9403ae1a3f9a006",
       "version_major": 2,
       "version_minor": 0
      },
      "text/plain": [
       "evaluating: 0it [00:00, ?it/s]"
      ]
     },
     "metadata": {},
     "output_type": "display_data"
    },
    {
     "name": "stdout",
     "output_type": "stream",
     "text": [
      "4464\n"
     ]
    },
    {
     "data": {
      "application/vnd.jupyter.widget-view+json": {
       "model_id": "8a38db28451f4ab69690212529ac77a8",
       "version_major": 2,
       "version_minor": 0
      },
      "text/plain": [
       "evaluating: 0it [00:00, ?it/s]"
      ]
     },
     "metadata": {},
     "output_type": "display_data"
    },
    {
     "name": "stdout",
     "output_type": "stream",
     "text": [
      "4464\n"
     ]
    },
    {
     "data": {
      "application/vnd.jupyter.widget-view+json": {
       "model_id": "33348f539bd7463eb66c3c037a79f4b0",
       "version_major": 2,
       "version_minor": 0
      },
      "text/plain": [
       "evaluating: 0it [00:00, ?it/s]"
      ]
     },
     "metadata": {},
     "output_type": "display_data"
    },
    {
     "name": "stdout",
     "output_type": "stream",
     "text": [
      "4464\n"
     ]
    },
    {
     "data": {
      "application/vnd.jupyter.widget-view+json": {
       "model_id": "4979ab7b693b441297999e3ae7bb3fa9",
       "version_major": 2,
       "version_minor": 0
      },
      "text/plain": [
       "evaluating: 0it [00:00, ?it/s]"
      ]
     },
     "metadata": {},
     "output_type": "display_data"
    },
    {
     "name": "stdout",
     "output_type": "stream",
     "text": [
      "4464\n"
     ]
    },
    {
     "data": {
      "application/vnd.jupyter.widget-view+json": {
       "model_id": "76a11dc99d204311b56df3bb47e28dea",
       "version_major": 2,
       "version_minor": 0
      },
      "text/plain": [
       "evaluating: 0it [00:00, ?it/s]"
      ]
     },
     "metadata": {},
     "output_type": "display_data"
    },
    {
     "name": "stdout",
     "output_type": "stream",
     "text": [
      "4464\n"
     ]
    },
    {
     "data": {
      "application/vnd.jupyter.widget-view+json": {
       "model_id": "81846bcff6554dcfa5e5821b1ecea6e0",
       "version_major": 2,
       "version_minor": 0
      },
      "text/plain": [
       "evaluating: 0it [00:00, ?it/s]"
      ]
     },
     "metadata": {},
     "output_type": "display_data"
    },
    {
     "name": "stdout",
     "output_type": "stream",
     "text": [
      "4464\n"
     ]
    },
    {
     "data": {
      "application/vnd.jupyter.widget-view+json": {
       "model_id": "9f958630e4a7407bb897eb73f7cc5aac",
       "version_major": 2,
       "version_minor": 0
      },
      "text/plain": [
       "evaluating: 0it [00:00, ?it/s]"
      ]
     },
     "metadata": {},
     "output_type": "display_data"
    },
    {
     "name": "stdout",
     "output_type": "stream",
     "text": [
      "4464\n"
     ]
    },
    {
     "data": {
      "application/vnd.jupyter.widget-view+json": {
       "model_id": "ab9542b3ab744a909642a7495e150324",
       "version_major": 2,
       "version_minor": 0
      },
      "text/plain": [
       "evaluating: 0it [00:00, ?it/s]"
      ]
     },
     "metadata": {},
     "output_type": "display_data"
    },
    {
     "name": "stdout",
     "output_type": "stream",
     "text": [
      "4464\n"
     ]
    },
    {
     "data": {
      "application/vnd.jupyter.widget-view+json": {
       "model_id": "9ea720f9b57a4e329e87e1e20a333f14",
       "version_major": 2,
       "version_minor": 0
      },
      "text/plain": [
       "evaluating: 0it [00:00, ?it/s]"
      ]
     },
     "metadata": {},
     "output_type": "display_data"
    },
    {
     "name": "stdout",
     "output_type": "stream",
     "text": [
      "4464\n"
     ]
    },
    {
     "data": {
      "application/vnd.jupyter.widget-view+json": {
       "model_id": "a8f70d24bcec41fe8f4d0d66c834580a",
       "version_major": 2,
       "version_minor": 0
      },
      "text/plain": [
       "evaluating: 0it [00:00, ?it/s]"
      ]
     },
     "metadata": {},
     "output_type": "display_data"
    },
    {
     "name": "stdout",
     "output_type": "stream",
     "text": [
      "4464\n"
     ]
    },
    {
     "data": {
      "application/vnd.jupyter.widget-view+json": {
       "model_id": "92e6d1e617004e079167cf1db97e03cc",
       "version_major": 2,
       "version_minor": 0
      },
      "text/plain": [
       "evaluating: 0it [00:00, ?it/s]"
      ]
     },
     "metadata": {},
     "output_type": "display_data"
    },
    {
     "name": "stdout",
     "output_type": "stream",
     "text": [
      "4464\n"
     ]
    },
    {
     "data": {
      "application/vnd.jupyter.widget-view+json": {
       "model_id": "ad09a234b818430391e7f8a79af0e789",
       "version_major": 2,
       "version_minor": 0
      },
      "text/plain": [
       "evaluating: 0it [00:00, ?it/s]"
      ]
     },
     "metadata": {},
     "output_type": "display_data"
    },
    {
     "name": "stdout",
     "output_type": "stream",
     "text": [
      "4464\n"
     ]
    },
    {
     "data": {
      "application/vnd.jupyter.widget-view+json": {
       "model_id": "46e6c35b80ec4c32a88bc44525d6cd24",
       "version_major": 2,
       "version_minor": 0
      },
      "text/plain": [
       "evaluating: 0it [00:00, ?it/s]"
      ]
     },
     "metadata": {},
     "output_type": "display_data"
    },
    {
     "name": "stdout",
     "output_type": "stream",
     "text": [
      "4464\n"
     ]
    },
    {
     "data": {
      "application/vnd.jupyter.widget-view+json": {
       "model_id": "4ccd0c487a214d49a51df3adf6a3f834",
       "version_major": 2,
       "version_minor": 0
      },
      "text/plain": [
       "evaluating: 0it [00:00, ?it/s]"
      ]
     },
     "metadata": {},
     "output_type": "display_data"
    },
    {
     "name": "stdout",
     "output_type": "stream",
     "text": [
      "4464\n"
     ]
    },
    {
     "data": {
      "application/vnd.jupyter.widget-view+json": {
       "model_id": "7359424be8674be2a073311cf0b82412",
       "version_major": 2,
       "version_minor": 0
      },
      "text/plain": [
       "evaluating: 0it [00:00, ?it/s]"
      ]
     },
     "metadata": {},
     "output_type": "display_data"
    },
    {
     "name": "stdout",
     "output_type": "stream",
     "text": [
      "4464\n"
     ]
    },
    {
     "data": {
      "application/vnd.jupyter.widget-view+json": {
       "model_id": "5f255579b8eb43a5a1c68c3bd3d2d039",
       "version_major": 2,
       "version_minor": 0
      },
      "text/plain": [
       "evaluating: 0it [00:00, ?it/s]"
      ]
     },
     "metadata": {},
     "output_type": "display_data"
    },
    {
     "name": "stdout",
     "output_type": "stream",
     "text": [
      "4464\n"
     ]
    },
    {
     "data": {
      "application/vnd.jupyter.widget-view+json": {
       "model_id": "5947089d0fe44c5facf8188d9d2be79a",
       "version_major": 2,
       "version_minor": 0
      },
      "text/plain": [
       "evaluating: 0it [00:00, ?it/s]"
      ]
     },
     "metadata": {},
     "output_type": "display_data"
    },
    {
     "name": "stdout",
     "output_type": "stream",
     "text": [
      "4464\n"
     ]
    },
    {
     "data": {
      "application/vnd.jupyter.widget-view+json": {
       "model_id": "094a9db2d45a468bb1ba4b409564ca70",
       "version_major": 2,
       "version_minor": 0
      },
      "text/plain": [
       "evaluating: 0it [00:00, ?it/s]"
      ]
     },
     "metadata": {},
     "output_type": "display_data"
    },
    {
     "name": "stdout",
     "output_type": "stream",
     "text": [
      "4464\n"
     ]
    },
    {
     "data": {
      "application/vnd.jupyter.widget-view+json": {
       "model_id": "6cd3fffa1ff34e6c8bde6a644edec3f9",
       "version_major": 2,
       "version_minor": 0
      },
      "text/plain": [
       "evaluating: 0it [00:00, ?it/s]"
      ]
     },
     "metadata": {},
     "output_type": "display_data"
    },
    {
     "name": "stdout",
     "output_type": "stream",
     "text": [
      "4464\n"
     ]
    },
    {
     "data": {
      "application/vnd.jupyter.widget-view+json": {
       "model_id": "6aae08fa8e4946da957765148f0470a1",
       "version_major": 2,
       "version_minor": 0
      },
      "text/plain": [
       "evaluating: 0it [00:00, ?it/s]"
      ]
     },
     "metadata": {},
     "output_type": "display_data"
    },
    {
     "name": "stdout",
     "output_type": "stream",
     "text": [
      "4464\n"
     ]
    },
    {
     "data": {
      "application/vnd.jupyter.widget-view+json": {
       "model_id": "ea849df14b5a4acdbfa8e60c14f91d14",
       "version_major": 2,
       "version_minor": 0
      },
      "text/plain": [
       "evaluating: 0it [00:00, ?it/s]"
      ]
     },
     "metadata": {},
     "output_type": "display_data"
    },
    {
     "name": "stdout",
     "output_type": "stream",
     "text": [
      "4464\n"
     ]
    },
    {
     "data": {
      "application/vnd.jupyter.widget-view+json": {
       "model_id": "c0431a9e1f6e4e3182acef8ce9673578",
       "version_major": 2,
       "version_minor": 0
      },
      "text/plain": [
       "evaluating: 0it [00:00, ?it/s]"
      ]
     },
     "metadata": {},
     "output_type": "display_data"
    },
    {
     "name": "stdout",
     "output_type": "stream",
     "text": [
      "4464\n"
     ]
    },
    {
     "data": {
      "application/vnd.jupyter.widget-view+json": {
       "model_id": "0052edf3d97b45f0be7b715455488683",
       "version_major": 2,
       "version_minor": 0
      },
      "text/plain": [
       "evaluating: 0it [00:00, ?it/s]"
      ]
     },
     "metadata": {},
     "output_type": "display_data"
    },
    {
     "name": "stdout",
     "output_type": "stream",
     "text": [
      "4464\n"
     ]
    },
    {
     "data": {
      "application/vnd.jupyter.widget-view+json": {
       "model_id": "9d861499decd4c8a9c42bac2dd74b6c0",
       "version_major": 2,
       "version_minor": 0
      },
      "text/plain": [
       "evaluating: 0it [00:00, ?it/s]"
      ]
     },
     "metadata": {},
     "output_type": "display_data"
    },
    {
     "name": "stdout",
     "output_type": "stream",
     "text": [
      "4464\n"
     ]
    },
    {
     "data": {
      "application/vnd.jupyter.widget-view+json": {
       "model_id": "f65914a6bf2d4b64a6c8d06329892254",
       "version_major": 2,
       "version_minor": 0
      },
      "text/plain": [
       "evaluating: 0it [00:00, ?it/s]"
      ]
     },
     "metadata": {},
     "output_type": "display_data"
    },
    {
     "name": "stdout",
     "output_type": "stream",
     "text": [
      "4464\n"
     ]
    },
    {
     "data": {
      "application/vnd.jupyter.widget-view+json": {
       "model_id": "139b75f9e06c4a1db7c056d47eca4816",
       "version_major": 2,
       "version_minor": 0
      },
      "text/plain": [
       "evaluating: 0it [00:00, ?it/s]"
      ]
     },
     "metadata": {},
     "output_type": "display_data"
    },
    {
     "name": "stdout",
     "output_type": "stream",
     "text": [
      "4464\n"
     ]
    },
    {
     "data": {
      "application/vnd.jupyter.widget-view+json": {
       "model_id": "bf60aca5f93b4561abba13f9d88670bb",
       "version_major": 2,
       "version_minor": 0
      },
      "text/plain": [
       "evaluating: 0it [00:00, ?it/s]"
      ]
     },
     "metadata": {},
     "output_type": "display_data"
    },
    {
     "name": "stdout",
     "output_type": "stream",
     "text": [
      "4464\n"
     ]
    },
    {
     "data": {
      "application/vnd.jupyter.widget-view+json": {
       "model_id": "98ab05722ca0459c91070028fc9e2f85",
       "version_major": 2,
       "version_minor": 0
      },
      "text/plain": [
       "evaluating: 0it [00:00, ?it/s]"
      ]
     },
     "metadata": {},
     "output_type": "display_data"
    },
    {
     "name": "stdout",
     "output_type": "stream",
     "text": [
      "4464\n"
     ]
    },
    {
     "data": {
      "application/vnd.jupyter.widget-view+json": {
       "model_id": "ea15448f88354834a0a12a3f95f87ebb",
       "version_major": 2,
       "version_minor": 0
      },
      "text/plain": [
       "evaluating: 0it [00:00, ?it/s]"
      ]
     },
     "metadata": {},
     "output_type": "display_data"
    },
    {
     "name": "stdout",
     "output_type": "stream",
     "text": [
      "4464\n"
     ]
    },
    {
     "data": {
      "application/vnd.jupyter.widget-view+json": {
       "model_id": "19951582eef5467d8ea01d204b12b2fd",
       "version_major": 2,
       "version_minor": 0
      },
      "text/plain": [
       "evaluating: 0it [00:00, ?it/s]"
      ]
     },
     "metadata": {},
     "output_type": "display_data"
    },
    {
     "name": "stdout",
     "output_type": "stream",
     "text": [
      "4464\n"
     ]
    },
    {
     "data": {
      "application/vnd.jupyter.widget-view+json": {
       "model_id": "83af5833fe1541b1859a95974fc342ce",
       "version_major": 2,
       "version_minor": 0
      },
      "text/plain": [
       "evaluating: 0it [00:00, ?it/s]"
      ]
     },
     "metadata": {},
     "output_type": "display_data"
    },
    {
     "name": "stdout",
     "output_type": "stream",
     "text": [
      "4464\n"
     ]
    },
    {
     "data": {
      "application/vnd.jupyter.widget-view+json": {
       "model_id": "39ed26fdefd84061b7ad1ed0c76e630b",
       "version_major": 2,
       "version_minor": 0
      },
      "text/plain": [
       "evaluating: 0it [00:00, ?it/s]"
      ]
     },
     "metadata": {},
     "output_type": "display_data"
    },
    {
     "name": "stdout",
     "output_type": "stream",
     "text": [
      "4464\n"
     ]
    },
    {
     "data": {
      "application/vnd.jupyter.widget-view+json": {
       "model_id": "fac9ac0397344371b32166cb167ad5d8",
       "version_major": 2,
       "version_minor": 0
      },
      "text/plain": [
       "evaluating: 0it [00:00, ?it/s]"
      ]
     },
     "metadata": {},
     "output_type": "display_data"
    },
    {
     "name": "stdout",
     "output_type": "stream",
     "text": [
      "4464\n"
     ]
    },
    {
     "data": {
      "application/vnd.jupyter.widget-view+json": {
       "model_id": "86cedbfb1dda49bc84503949b6330bad",
       "version_major": 2,
       "version_minor": 0
      },
      "text/plain": [
       "evaluating: 0it [00:00, ?it/s]"
      ]
     },
     "metadata": {},
     "output_type": "display_data"
    },
    {
     "name": "stdout",
     "output_type": "stream",
     "text": [
      "4464\n"
     ]
    },
    {
     "data": {
      "application/vnd.jupyter.widget-view+json": {
       "model_id": "9f8810d329b3476ab63a5d9bc076fd0c",
       "version_major": 2,
       "version_minor": 0
      },
      "text/plain": [
       "evaluating: 0it [00:00, ?it/s]"
      ]
     },
     "metadata": {},
     "output_type": "display_data"
    },
    {
     "name": "stdout",
     "output_type": "stream",
     "text": [
      "4464\n"
     ]
    },
    {
     "data": {
      "application/vnd.jupyter.widget-view+json": {
       "model_id": "915d17d6cd6746f4855cced559278422",
       "version_major": 2,
       "version_minor": 0
      },
      "text/plain": [
       "evaluating: 0it [00:00, ?it/s]"
      ]
     },
     "metadata": {},
     "output_type": "display_data"
    },
    {
     "name": "stdout",
     "output_type": "stream",
     "text": [
      "4464\n"
     ]
    },
    {
     "data": {
      "application/vnd.jupyter.widget-view+json": {
       "model_id": "e0dfdd7be29542d58d6bb98857999be3",
       "version_major": 2,
       "version_minor": 0
      },
      "text/plain": [
       "evaluating: 0it [00:00, ?it/s]"
      ]
     },
     "metadata": {},
     "output_type": "display_data"
    },
    {
     "name": "stdout",
     "output_type": "stream",
     "text": [
      "4464\n"
     ]
    },
    {
     "data": {
      "application/vnd.jupyter.widget-view+json": {
       "model_id": "708c524ef1304d489d22addb65c5d7da",
       "version_major": 2,
       "version_minor": 0
      },
      "text/plain": [
       "evaluating: 0it [00:00, ?it/s]"
      ]
     },
     "metadata": {},
     "output_type": "display_data"
    },
    {
     "name": "stdout",
     "output_type": "stream",
     "text": [
      "4464\n"
     ]
    },
    {
     "data": {
      "application/vnd.jupyter.widget-view+json": {
       "model_id": "e948080dff5f4e15b48b66d69aa600a5",
       "version_major": 2,
       "version_minor": 0
      },
      "text/plain": [
       "evaluating: 0it [00:00, ?it/s]"
      ]
     },
     "metadata": {},
     "output_type": "display_data"
    },
    {
     "name": "stdout",
     "output_type": "stream",
     "text": [
      "4464\n"
     ]
    },
    {
     "data": {
      "application/vnd.jupyter.widget-view+json": {
       "model_id": "7668400025dc46728f2a8821eacc9364",
       "version_major": 2,
       "version_minor": 0
      },
      "text/plain": [
       "evaluating: 0it [00:00, ?it/s]"
      ]
     },
     "metadata": {},
     "output_type": "display_data"
    },
    {
     "name": "stdout",
     "output_type": "stream",
     "text": [
      "4464\n"
     ]
    },
    {
     "data": {
      "application/vnd.jupyter.widget-view+json": {
       "model_id": "4337006d46f74d6ab96bad277a690556",
       "version_major": 2,
       "version_minor": 0
      },
      "text/plain": [
       "evaluating: 0it [00:00, ?it/s]"
      ]
     },
     "metadata": {},
     "output_type": "display_data"
    },
    {
     "name": "stdout",
     "output_type": "stream",
     "text": [
      "4464\n"
     ]
    },
    {
     "data": {
      "application/vnd.jupyter.widget-view+json": {
       "model_id": "83d971e17e014d758ba5d7ef68cefb35",
       "version_major": 2,
       "version_minor": 0
      },
      "text/plain": [
       "evaluating: 0it [00:00, ?it/s]"
      ]
     },
     "metadata": {},
     "output_type": "display_data"
    },
    {
     "name": "stdout",
     "output_type": "stream",
     "text": [
      "4464\n"
     ]
    },
    {
     "data": {
      "application/vnd.jupyter.widget-view+json": {
       "model_id": "dec3951a257b409fbf29c2234bb83485",
       "version_major": 2,
       "version_minor": 0
      },
      "text/plain": [
       "evaluating: 0it [00:00, ?it/s]"
      ]
     },
     "metadata": {},
     "output_type": "display_data"
    },
    {
     "name": "stdout",
     "output_type": "stream",
     "text": [
      "4464\n"
     ]
    },
    {
     "data": {
      "application/vnd.jupyter.widget-view+json": {
       "model_id": "7bb10cf5af4a44378f8add09bcb665f3",
       "version_major": 2,
       "version_minor": 0
      },
      "text/plain": [
       "evaluating: 0it [00:00, ?it/s]"
      ]
     },
     "metadata": {},
     "output_type": "display_data"
    },
    {
     "name": "stdout",
     "output_type": "stream",
     "text": [
      "4464\n"
     ]
    },
    {
     "data": {
      "application/vnd.jupyter.widget-view+json": {
       "model_id": "d0734f3b961d4484b2410d6fb68201bd",
       "version_major": 2,
       "version_minor": 0
      },
      "text/plain": [
       "evaluating: 0it [00:00, ?it/s]"
      ]
     },
     "metadata": {},
     "output_type": "display_data"
    },
    {
     "name": "stdout",
     "output_type": "stream",
     "text": [
      "4464\n"
     ]
    },
    {
     "data": {
      "application/vnd.jupyter.widget-view+json": {
       "model_id": "fcd5a5965f9b4053ae07b5a82ce9b695",
       "version_major": 2,
       "version_minor": 0
      },
      "text/plain": [
       "evaluating: 0it [00:00, ?it/s]"
      ]
     },
     "metadata": {},
     "output_type": "display_data"
    },
    {
     "name": "stdout",
     "output_type": "stream",
     "text": [
      "4464\n"
     ]
    },
    {
     "data": {
      "application/vnd.jupyter.widget-view+json": {
       "model_id": "c9753a97a7e8439ea5ebe2a8f806bad4",
       "version_major": 2,
       "version_minor": 0
      },
      "text/plain": [
       "evaluating: 0it [00:00, ?it/s]"
      ]
     },
     "metadata": {},
     "output_type": "display_data"
    },
    {
     "name": "stdout",
     "output_type": "stream",
     "text": [
      "4464\n"
     ]
    },
    {
     "data": {
      "application/vnd.jupyter.widget-view+json": {
       "model_id": "267a954aeeb1462b8842022f74e512b0",
       "version_major": 2,
       "version_minor": 0
      },
      "text/plain": [
       "evaluating: 0it [00:00, ?it/s]"
      ]
     },
     "metadata": {},
     "output_type": "display_data"
    },
    {
     "name": "stdout",
     "output_type": "stream",
     "text": [
      "4464\n"
     ]
    },
    {
     "data": {
      "application/vnd.jupyter.widget-view+json": {
       "model_id": "edf46b717c394ce6a7f325ca1803532d",
       "version_major": 2,
       "version_minor": 0
      },
      "text/plain": [
       "evaluating: 0it [00:00, ?it/s]"
      ]
     },
     "metadata": {},
     "output_type": "display_data"
    },
    {
     "name": "stdout",
     "output_type": "stream",
     "text": [
      "4464\n"
     ]
    },
    {
     "data": {
      "application/vnd.jupyter.widget-view+json": {
       "model_id": "e6cd9accce3d46d8b755083baa5c44a3",
       "version_major": 2,
       "version_minor": 0
      },
      "text/plain": [
       "evaluating: 0it [00:00, ?it/s]"
      ]
     },
     "metadata": {},
     "output_type": "display_data"
    },
    {
     "name": "stdout",
     "output_type": "stream",
     "text": [
      "4464\n"
     ]
    },
    {
     "data": {
      "application/vnd.jupyter.widget-view+json": {
       "model_id": "10af7690fc004336b0a975ba2fbca6f8",
       "version_major": 2,
       "version_minor": 0
      },
      "text/plain": [
       "evaluating: 0it [00:00, ?it/s]"
      ]
     },
     "metadata": {},
     "output_type": "display_data"
    },
    {
     "name": "stdout",
     "output_type": "stream",
     "text": [
      "4464\n"
     ]
    },
    {
     "data": {
      "application/vnd.jupyter.widget-view+json": {
       "model_id": "d760f84b861445bdb1d96a1573e8cba8",
       "version_major": 2,
       "version_minor": 0
      },
      "text/plain": [
       "evaluating: 0it [00:00, ?it/s]"
      ]
     },
     "metadata": {},
     "output_type": "display_data"
    },
    {
     "name": "stdout",
     "output_type": "stream",
     "text": [
      "4464\n"
     ]
    },
    {
     "data": {
      "application/vnd.jupyter.widget-view+json": {
       "model_id": "b2bee05319594572b19b572ad314f2f0",
       "version_major": 2,
       "version_minor": 0
      },
      "text/plain": [
       "evaluating: 0it [00:00, ?it/s]"
      ]
     },
     "metadata": {},
     "output_type": "display_data"
    },
    {
     "name": "stdout",
     "output_type": "stream",
     "text": [
      "4464\n"
     ]
    },
    {
     "data": {
      "application/vnd.jupyter.widget-view+json": {
       "model_id": "377d711b8d614cf8b3b77e47f6ee84f8",
       "version_major": 2,
       "version_minor": 0
      },
      "text/plain": [
       "evaluating: 0it [00:00, ?it/s]"
      ]
     },
     "metadata": {},
     "output_type": "display_data"
    },
    {
     "name": "stdout",
     "output_type": "stream",
     "text": [
      "4464\n"
     ]
    },
    {
     "data": {
      "application/vnd.jupyter.widget-view+json": {
       "model_id": "1fd38fc8392741dfbefb0973404cf84d",
       "version_major": 2,
       "version_minor": 0
      },
      "text/plain": [
       "evaluating: 0it [00:00, ?it/s]"
      ]
     },
     "metadata": {},
     "output_type": "display_data"
    },
    {
     "name": "stdout",
     "output_type": "stream",
     "text": [
      "4464\n"
     ]
    },
    {
     "data": {
      "application/vnd.jupyter.widget-view+json": {
       "model_id": "4c00de6acb2c4e2a8e82a8aa199b8858",
       "version_major": 2,
       "version_minor": 0
      },
      "text/plain": [
       "evaluating: 0it [00:00, ?it/s]"
      ]
     },
     "metadata": {},
     "output_type": "display_data"
    },
    {
     "name": "stdout",
     "output_type": "stream",
     "text": [
      "4464\n"
     ]
    },
    {
     "data": {
      "application/vnd.jupyter.widget-view+json": {
       "model_id": "94e15366dd374bfd9045ef7fa3784280",
       "version_major": 2,
       "version_minor": 0
      },
      "text/plain": [
       "evaluating: 0it [00:00, ?it/s]"
      ]
     },
     "metadata": {},
     "output_type": "display_data"
    },
    {
     "name": "stdout",
     "output_type": "stream",
     "text": [
      "4464\n"
     ]
    },
    {
     "data": {
      "application/vnd.jupyter.widget-view+json": {
       "model_id": "da368c4952624bfaac16e48b271476f2",
       "version_major": 2,
       "version_minor": 0
      },
      "text/plain": [
       "evaluating: 0it [00:00, ?it/s]"
      ]
     },
     "metadata": {},
     "output_type": "display_data"
    },
    {
     "name": "stdout",
     "output_type": "stream",
     "text": [
      "4464\n"
     ]
    },
    {
     "data": {
      "application/vnd.jupyter.widget-view+json": {
       "model_id": "0684dc870b8f4b2799a4fbc51083dc41",
       "version_major": 2,
       "version_minor": 0
      },
      "text/plain": [
       "evaluating: 0it [00:00, ?it/s]"
      ]
     },
     "metadata": {},
     "output_type": "display_data"
    },
    {
     "name": "stdout",
     "output_type": "stream",
     "text": [
      "4464\n"
     ]
    },
    {
     "data": {
      "application/vnd.jupyter.widget-view+json": {
       "model_id": "f10274832e1442c5b0416239d105d531",
       "version_major": 2,
       "version_minor": 0
      },
      "text/plain": [
       "evaluating: 0it [00:00, ?it/s]"
      ]
     },
     "metadata": {},
     "output_type": "display_data"
    },
    {
     "name": "stdout",
     "output_type": "stream",
     "text": [
      "4464\n"
     ]
    },
    {
     "data": {
      "application/vnd.jupyter.widget-view+json": {
       "model_id": "2b45fc12d1f04a199d93eac1ae7a0f44",
       "version_major": 2,
       "version_minor": 0
      },
      "text/plain": [
       "evaluating: 0it [00:00, ?it/s]"
      ]
     },
     "metadata": {},
     "output_type": "display_data"
    },
    {
     "name": "stdout",
     "output_type": "stream",
     "text": [
      "4464\n"
     ]
    },
    {
     "data": {
      "application/vnd.jupyter.widget-view+json": {
       "model_id": "c698fb2c1d3345888ebeb45088e0ebb7",
       "version_major": 2,
       "version_minor": 0
      },
      "text/plain": [
       "evaluating: 0it [00:00, ?it/s]"
      ]
     },
     "metadata": {},
     "output_type": "display_data"
    },
    {
     "name": "stdout",
     "output_type": "stream",
     "text": [
      "4464\n"
     ]
    },
    {
     "data": {
      "application/vnd.jupyter.widget-view+json": {
       "model_id": "6bf5baf47f0940c18de875eb5e4ed8d6",
       "version_major": 2,
       "version_minor": 0
      },
      "text/plain": [
       "evaluating: 0it [00:00, ?it/s]"
      ]
     },
     "metadata": {},
     "output_type": "display_data"
    },
    {
     "name": "stdout",
     "output_type": "stream",
     "text": [
      "4464\n"
     ]
    },
    {
     "data": {
      "application/vnd.jupyter.widget-view+json": {
       "model_id": "c9c9e474adfa4ff1aa157b5c9ec92d14",
       "version_major": 2,
       "version_minor": 0
      },
      "text/plain": [
       "evaluating: 0it [00:00, ?it/s]"
      ]
     },
     "metadata": {},
     "output_type": "display_data"
    },
    {
     "name": "stdout",
     "output_type": "stream",
     "text": [
      "4464\n"
     ]
    },
    {
     "data": {
      "application/vnd.jupyter.widget-view+json": {
       "model_id": "ecc6c2637d134d3b9c2706fcc507b3a3",
       "version_major": 2,
       "version_minor": 0
      },
      "text/plain": [
       "evaluating: 0it [00:00, ?it/s]"
      ]
     },
     "metadata": {},
     "output_type": "display_data"
    },
    {
     "name": "stdout",
     "output_type": "stream",
     "text": [
      "4464\n"
     ]
    },
    {
     "data": {
      "application/vnd.jupyter.widget-view+json": {
       "model_id": "7cfcfbbcdcf8492e992b3ed58968e704",
       "version_major": 2,
       "version_minor": 0
      },
      "text/plain": [
       "evaluating: 0it [00:00, ?it/s]"
      ]
     },
     "metadata": {},
     "output_type": "display_data"
    },
    {
     "name": "stdout",
     "output_type": "stream",
     "text": [
      "4464\n"
     ]
    },
    {
     "data": {
      "application/vnd.jupyter.widget-view+json": {
       "model_id": "09ca05d1ceff495e829b80b1b15e6662",
       "version_major": 2,
       "version_minor": 0
      },
      "text/plain": [
       "evaluating: 0it [00:00, ?it/s]"
      ]
     },
     "metadata": {},
     "output_type": "display_data"
    },
    {
     "name": "stdout",
     "output_type": "stream",
     "text": [
      "4464\n"
     ]
    },
    {
     "data": {
      "application/vnd.jupyter.widget-view+json": {
       "model_id": "0bb9e3c967764584b43341cbdb635e21",
       "version_major": 2,
       "version_minor": 0
      },
      "text/plain": [
       "evaluating: 0it [00:00, ?it/s]"
      ]
     },
     "metadata": {},
     "output_type": "display_data"
    },
    {
     "name": "stdout",
     "output_type": "stream",
     "text": [
      "4464\n"
     ]
    },
    {
     "data": {
      "application/vnd.jupyter.widget-view+json": {
       "model_id": "9fe34b552a3d41229d00134175b10929",
       "version_major": 2,
       "version_minor": 0
      },
      "text/plain": [
       "evaluating: 0it [00:00, ?it/s]"
      ]
     },
     "metadata": {},
     "output_type": "display_data"
    },
    {
     "name": "stdout",
     "output_type": "stream",
     "text": [
      "4464\n"
     ]
    },
    {
     "data": {
      "application/vnd.jupyter.widget-view+json": {
       "model_id": "f59a45c084294301a5e991c59d342080",
       "version_major": 2,
       "version_minor": 0
      },
      "text/plain": [
       "evaluating: 0it [00:00, ?it/s]"
      ]
     },
     "metadata": {},
     "output_type": "display_data"
    },
    {
     "name": "stdout",
     "output_type": "stream",
     "text": [
      "4464\n"
     ]
    },
    {
     "data": {
      "application/vnd.jupyter.widget-view+json": {
       "model_id": "ca0289b003dc43c7a4af00c8cd29e6eb",
       "version_major": 2,
       "version_minor": 0
      },
      "text/plain": [
       "evaluating: 0it [00:00, ?it/s]"
      ]
     },
     "metadata": {},
     "output_type": "display_data"
    },
    {
     "name": "stdout",
     "output_type": "stream",
     "text": [
      "4464\n"
     ]
    },
    {
     "data": {
      "application/vnd.jupyter.widget-view+json": {
       "model_id": "9f830bee8fb748e8bcf839ca37bfe7f7",
       "version_major": 2,
       "version_minor": 0
      },
      "text/plain": [
       "evaluating: 0it [00:00, ?it/s]"
      ]
     },
     "metadata": {},
     "output_type": "display_data"
    },
    {
     "name": "stdout",
     "output_type": "stream",
     "text": [
      "4464\n"
     ]
    },
    {
     "data": {
      "application/vnd.jupyter.widget-view+json": {
       "model_id": "bdda058bb9724f32ab4716de9ca3bd7b",
       "version_major": 2,
       "version_minor": 0
      },
      "text/plain": [
       "evaluating: 0it [00:00, ?it/s]"
      ]
     },
     "metadata": {},
     "output_type": "display_data"
    },
    {
     "name": "stdout",
     "output_type": "stream",
     "text": [
      "4464\n"
     ]
    },
    {
     "data": {
      "application/vnd.jupyter.widget-view+json": {
       "model_id": "a4489ced7b4b40d2acaf19c1d169a0e2",
       "version_major": 2,
       "version_minor": 0
      },
      "text/plain": [
       "evaluating: 0it [00:00, ?it/s]"
      ]
     },
     "metadata": {},
     "output_type": "display_data"
    },
    {
     "name": "stdout",
     "output_type": "stream",
     "text": [
      "4464\n"
     ]
    },
    {
     "data": {
      "application/vnd.jupyter.widget-view+json": {
       "model_id": "423e076c35824a7499150676cbf4e969",
       "version_major": 2,
       "version_minor": 0
      },
      "text/plain": [
       "evaluating: 0it [00:00, ?it/s]"
      ]
     },
     "metadata": {},
     "output_type": "display_data"
    },
    {
     "name": "stdout",
     "output_type": "stream",
     "text": [
      "4464\n"
     ]
    },
    {
     "data": {
      "application/vnd.jupyter.widget-view+json": {
       "model_id": "031a5359186b4d6c8218e181f7240156",
       "version_major": 2,
       "version_minor": 0
      },
      "text/plain": [
       "evaluating: 0it [00:00, ?it/s]"
      ]
     },
     "metadata": {},
     "output_type": "display_data"
    },
    {
     "name": "stdout",
     "output_type": "stream",
     "text": [
      "4464\n"
     ]
    },
    {
     "data": {
      "application/vnd.jupyter.widget-view+json": {
       "model_id": "c4822d279aa244a1b0547a03c27ebc75",
       "version_major": 2,
       "version_minor": 0
      },
      "text/plain": [
       "evaluating: 0it [00:00, ?it/s]"
      ]
     },
     "metadata": {},
     "output_type": "display_data"
    },
    {
     "name": "stdout",
     "output_type": "stream",
     "text": [
      "4464\n"
     ]
    },
    {
     "data": {
      "application/vnd.jupyter.widget-view+json": {
       "model_id": "4dbdc138274d495995d01ea48a3b267c",
       "version_major": 2,
       "version_minor": 0
      },
      "text/plain": [
       "evaluating: 0it [00:00, ?it/s]"
      ]
     },
     "metadata": {},
     "output_type": "display_data"
    },
    {
     "name": "stdout",
     "output_type": "stream",
     "text": [
      "4464\n"
     ]
    },
    {
     "data": {
      "application/vnd.jupyter.widget-view+json": {
       "model_id": "6821f6c9674c437ba1e9d405e2efb4ba",
       "version_major": 2,
       "version_minor": 0
      },
      "text/plain": [
       "evaluating: 0it [00:00, ?it/s]"
      ]
     },
     "metadata": {},
     "output_type": "display_data"
    },
    {
     "name": "stdout",
     "output_type": "stream",
     "text": [
      "4464\n"
     ]
    },
    {
     "data": {
      "application/vnd.jupyter.widget-view+json": {
       "model_id": "a99dc4709ac6413b9a2ab545069a9311",
       "version_major": 2,
       "version_minor": 0
      },
      "text/plain": [
       "evaluating: 0it [00:00, ?it/s]"
      ]
     },
     "metadata": {},
     "output_type": "display_data"
    },
    {
     "name": "stdout",
     "output_type": "stream",
     "text": [
      "4464\n"
     ]
    },
    {
     "data": {
      "application/vnd.jupyter.widget-view+json": {
       "model_id": "c50373fc478f4b6c975c858cf2eb041c",
       "version_major": 2,
       "version_minor": 0
      },
      "text/plain": [
       "evaluating: 0it [00:00, ?it/s]"
      ]
     },
     "metadata": {},
     "output_type": "display_data"
    },
    {
     "name": "stdout",
     "output_type": "stream",
     "text": [
      "4464\n"
     ]
    },
    {
     "data": {
      "application/vnd.jupyter.widget-view+json": {
       "model_id": "0d8435d51caf4a56ac1acf9f6303bff2",
       "version_major": 2,
       "version_minor": 0
      },
      "text/plain": [
       "evaluating: 0it [00:00, ?it/s]"
      ]
     },
     "metadata": {},
     "output_type": "display_data"
    },
    {
     "name": "stdout",
     "output_type": "stream",
     "text": [
      "4464\n"
     ]
    },
    {
     "data": {
      "application/vnd.jupyter.widget-view+json": {
       "model_id": "ba75998d4b7b4a3e9477e05dcf0f01b1",
       "version_major": 2,
       "version_minor": 0
      },
      "text/plain": [
       "evaluating: 0it [00:00, ?it/s]"
      ]
     },
     "metadata": {},
     "output_type": "display_data"
    },
    {
     "name": "stdout",
     "output_type": "stream",
     "text": [
      "4464\n"
     ]
    },
    {
     "data": {
      "application/vnd.jupyter.widget-view+json": {
       "model_id": "364b4c19fc054bd5b51820d561b0e341",
       "version_major": 2,
       "version_minor": 0
      },
      "text/plain": [
       "evaluating: 0it [00:00, ?it/s]"
      ]
     },
     "metadata": {},
     "output_type": "display_data"
    },
    {
     "name": "stdout",
     "output_type": "stream",
     "text": [
      "4464\n"
     ]
    },
    {
     "data": {
      "application/vnd.jupyter.widget-view+json": {
       "model_id": "0b0dd859a8564a3989ec25ac610dec89",
       "version_major": 2,
       "version_minor": 0
      },
      "text/plain": [
       "evaluating: 0it [00:00, ?it/s]"
      ]
     },
     "metadata": {},
     "output_type": "display_data"
    },
    {
     "name": "stdout",
     "output_type": "stream",
     "text": [
      "4464\n"
     ]
    },
    {
     "data": {
      "application/vnd.jupyter.widget-view+json": {
       "model_id": "21fe2e1eef904754a190e869abbe1d59",
       "version_major": 2,
       "version_minor": 0
      },
      "text/plain": [
       "evaluating: 0it [00:00, ?it/s]"
      ]
     },
     "metadata": {},
     "output_type": "display_data"
    },
    {
     "name": "stdout",
     "output_type": "stream",
     "text": [
      "4464\n"
     ]
    },
    {
     "data": {
      "application/vnd.jupyter.widget-view+json": {
       "model_id": "fc69e210214545ce8fe3f1fe3aee1c79",
       "version_major": 2,
       "version_minor": 0
      },
      "text/plain": [
       "evaluating: 0it [00:00, ?it/s]"
      ]
     },
     "metadata": {},
     "output_type": "display_data"
    },
    {
     "name": "stdout",
     "output_type": "stream",
     "text": [
      "4464\n"
     ]
    },
    {
     "data": {
      "application/vnd.jupyter.widget-view+json": {
       "model_id": "abf4a923050d4c28a535c3a34097f726",
       "version_major": 2,
       "version_minor": 0
      },
      "text/plain": [
       "evaluating: 0it [00:00, ?it/s]"
      ]
     },
     "metadata": {},
     "output_type": "display_data"
    },
    {
     "name": "stdout",
     "output_type": "stream",
     "text": [
      "4464\n"
     ]
    },
    {
     "data": {
      "application/vnd.jupyter.widget-view+json": {
       "model_id": "f034e484cb8543ce972abf6469d7fe18",
       "version_major": 2,
       "version_minor": 0
      },
      "text/plain": [
       "evaluating: 0it [00:00, ?it/s]"
      ]
     },
     "metadata": {},
     "output_type": "display_data"
    },
    {
     "name": "stdout",
     "output_type": "stream",
     "text": [
      "4464\n"
     ]
    },
    {
     "data": {
      "application/vnd.jupyter.widget-view+json": {
       "model_id": "ea26e6edbb2544b5b960a0fb244aac50",
       "version_major": 2,
       "version_minor": 0
      },
      "text/plain": [
       "evaluating: 0it [00:00, ?it/s]"
      ]
     },
     "metadata": {},
     "output_type": "display_data"
    },
    {
     "name": "stdout",
     "output_type": "stream",
     "text": [
      "4464\n"
     ]
    },
    {
     "data": {
      "application/vnd.jupyter.widget-view+json": {
       "model_id": "8e025cedcc384052a2a00552468b78ee",
       "version_major": 2,
       "version_minor": 0
      },
      "text/plain": [
       "evaluating: 0it [00:00, ?it/s]"
      ]
     },
     "metadata": {},
     "output_type": "display_data"
    },
    {
     "name": "stdout",
     "output_type": "stream",
     "text": [
      "4464\n"
     ]
    },
    {
     "data": {
      "application/vnd.jupyter.widget-view+json": {
       "model_id": "eb113b04a4a54bb4904f48066d404ff9",
       "version_major": 2,
       "version_minor": 0
      },
      "text/plain": [
       "evaluating: 0it [00:00, ?it/s]"
      ]
     },
     "metadata": {},
     "output_type": "display_data"
    },
    {
     "name": "stdout",
     "output_type": "stream",
     "text": [
      "4464\n"
     ]
    },
    {
     "data": {
      "application/vnd.jupyter.widget-view+json": {
       "model_id": "0d5e4a9eabf848679ce7afc868277148",
       "version_major": 2,
       "version_minor": 0
      },
      "text/plain": [
       "evaluating: 0it [00:00, ?it/s]"
      ]
     },
     "metadata": {},
     "output_type": "display_data"
    },
    {
     "name": "stdout",
     "output_type": "stream",
     "text": [
      "4464\n"
     ]
    },
    {
     "data": {
      "application/vnd.jupyter.widget-view+json": {
       "model_id": "33ec7dcd672743268ba26b5bdff6ce26",
       "version_major": 2,
       "version_minor": 0
      },
      "text/plain": [
       "evaluating: 0it [00:00, ?it/s]"
      ]
     },
     "metadata": {},
     "output_type": "display_data"
    },
    {
     "name": "stdout",
     "output_type": "stream",
     "text": [
      "4464\n"
     ]
    },
    {
     "data": {
      "application/vnd.jupyter.widget-view+json": {
       "model_id": "8b733a06ee2e46648bd20250c0fdef16",
       "version_major": 2,
       "version_minor": 0
      },
      "text/plain": [
       "evaluating: 0it [00:00, ?it/s]"
      ]
     },
     "metadata": {},
     "output_type": "display_data"
    },
    {
     "name": "stdout",
     "output_type": "stream",
     "text": [
      "4464\n"
     ]
    },
    {
     "data": {
      "application/vnd.jupyter.widget-view+json": {
       "model_id": "f7818aa5425c4572b66eb494d0437984",
       "version_major": 2,
       "version_minor": 0
      },
      "text/plain": [
       "evaluating: 0it [00:00, ?it/s]"
      ]
     },
     "metadata": {},
     "output_type": "display_data"
    },
    {
     "name": "stdout",
     "output_type": "stream",
     "text": [
      "4464\n"
     ]
    },
    {
     "data": {
      "application/vnd.jupyter.widget-view+json": {
       "model_id": "b4772f03e5f347889e6efcb65b9d6953",
       "version_major": 2,
       "version_minor": 0
      },
      "text/plain": [
       "evaluating: 0it [00:00, ?it/s]"
      ]
     },
     "metadata": {},
     "output_type": "display_data"
    },
    {
     "name": "stdout",
     "output_type": "stream",
     "text": [
      "4464\n"
     ]
    },
    {
     "data": {
      "application/vnd.jupyter.widget-view+json": {
       "model_id": "aa1ec30ca81e48619437b28b97a38db1",
       "version_major": 2,
       "version_minor": 0
      },
      "text/plain": [
       "evaluating: 0it [00:00, ?it/s]"
      ]
     },
     "metadata": {},
     "output_type": "display_data"
    },
    {
     "name": "stdout",
     "output_type": "stream",
     "text": [
      "4464\n"
     ]
    },
    {
     "data": {
      "application/vnd.jupyter.widget-view+json": {
       "model_id": "7980eae78bd34e8099a5fcfb00588552",
       "version_major": 2,
       "version_minor": 0
      },
      "text/plain": [
       "evaluating: 0it [00:00, ?it/s]"
      ]
     },
     "metadata": {},
     "output_type": "display_data"
    },
    {
     "name": "stdout",
     "output_type": "stream",
     "text": [
      "4464\n"
     ]
    },
    {
     "data": {
      "application/vnd.jupyter.widget-view+json": {
       "model_id": "5ac4b05832664ad7aa35d7f975ddc303",
       "version_major": 2,
       "version_minor": 0
      },
      "text/plain": [
       "evaluating: 0it [00:00, ?it/s]"
      ]
     },
     "metadata": {},
     "output_type": "display_data"
    },
    {
     "name": "stdout",
     "output_type": "stream",
     "text": [
      "4464\n"
     ]
    },
    {
     "data": {
      "application/vnd.jupyter.widget-view+json": {
       "model_id": "76feca6f68f7417d98f2c48765b57623",
       "version_major": 2,
       "version_minor": 0
      },
      "text/plain": [
       "evaluating: 0it [00:00, ?it/s]"
      ]
     },
     "metadata": {},
     "output_type": "display_data"
    },
    {
     "name": "stdout",
     "output_type": "stream",
     "text": [
      "4464\n"
     ]
    },
    {
     "data": {
      "application/vnd.jupyter.widget-view+json": {
       "model_id": "dce5a5d2cc0b4aa8ba50e314cee9bf27",
       "version_major": 2,
       "version_minor": 0
      },
      "text/plain": [
       "evaluating: 0it [00:00, ?it/s]"
      ]
     },
     "metadata": {},
     "output_type": "display_data"
    },
    {
     "name": "stdout",
     "output_type": "stream",
     "text": [
      "4464\n"
     ]
    },
    {
     "data": {
      "application/vnd.jupyter.widget-view+json": {
       "model_id": "fbb8e12fa3e84916b2d48373f6cf95db",
       "version_major": 2,
       "version_minor": 0
      },
      "text/plain": [
       "evaluating: 0it [00:00, ?it/s]"
      ]
     },
     "metadata": {},
     "output_type": "display_data"
    },
    {
     "name": "stdout",
     "output_type": "stream",
     "text": [
      "4464\n"
     ]
    },
    {
     "data": {
      "application/vnd.jupyter.widget-view+json": {
       "model_id": "165aaddfae3347b7a47cdaa2e7ccee53",
       "version_major": 2,
       "version_minor": 0
      },
      "text/plain": [
       "evaluating: 0it [00:00, ?it/s]"
      ]
     },
     "metadata": {},
     "output_type": "display_data"
    },
    {
     "name": "stdout",
     "output_type": "stream",
     "text": [
      "4464\n"
     ]
    },
    {
     "data": {
      "application/vnd.jupyter.widget-view+json": {
       "model_id": "79ea8ad4659d49fea90416f344579665",
       "version_major": 2,
       "version_minor": 0
      },
      "text/plain": [
       "evaluating: 0it [00:00, ?it/s]"
      ]
     },
     "metadata": {},
     "output_type": "display_data"
    },
    {
     "name": "stdout",
     "output_type": "stream",
     "text": [
      "4464\n"
     ]
    },
    {
     "data": {
      "application/vnd.jupyter.widget-view+json": {
       "model_id": "ec75af12457a4e53acd618b7134f640d",
       "version_major": 2,
       "version_minor": 0
      },
      "text/plain": [
       "evaluating: 0it [00:00, ?it/s]"
      ]
     },
     "metadata": {},
     "output_type": "display_data"
    },
    {
     "name": "stdout",
     "output_type": "stream",
     "text": [
      "4464\n"
     ]
    },
    {
     "data": {
      "application/vnd.jupyter.widget-view+json": {
       "model_id": "afe2c8f71074418cb49732d6099d060e",
       "version_major": 2,
       "version_minor": 0
      },
      "text/plain": [
       "evaluating: 0it [00:00, ?it/s]"
      ]
     },
     "metadata": {},
     "output_type": "display_data"
    },
    {
     "name": "stdout",
     "output_type": "stream",
     "text": [
      "4464\n"
     ]
    },
    {
     "data": {
      "application/vnd.jupyter.widget-view+json": {
       "model_id": "4151f96479614c19bb67a6e29178f8c4",
       "version_major": 2,
       "version_minor": 0
      },
      "text/plain": [
       "evaluating: 0it [00:00, ?it/s]"
      ]
     },
     "metadata": {},
     "output_type": "display_data"
    },
    {
     "name": "stdout",
     "output_type": "stream",
     "text": [
      "4464\n"
     ]
    },
    {
     "data": {
      "application/vnd.jupyter.widget-view+json": {
       "model_id": "a8b0c4c2da114e5c8fc4e50f420ceb39",
       "version_major": 2,
       "version_minor": 0
      },
      "text/plain": [
       "evaluating: 0it [00:00, ?it/s]"
      ]
     },
     "metadata": {},
     "output_type": "display_data"
    },
    {
     "name": "stdout",
     "output_type": "stream",
     "text": [
      "4464\n"
     ]
    },
    {
     "data": {
      "application/vnd.jupyter.widget-view+json": {
       "model_id": "d8dfc1838b9d4118bb53bc0205f8ebe0",
       "version_major": 2,
       "version_minor": 0
      },
      "text/plain": [
       "evaluating: 0it [00:00, ?it/s]"
      ]
     },
     "metadata": {},
     "output_type": "display_data"
    },
    {
     "name": "stdout",
     "output_type": "stream",
     "text": [
      "4464\n"
     ]
    },
    {
     "data": {
      "application/vnd.jupyter.widget-view+json": {
       "model_id": "1808a857fefd410db81d30b1cdab2854",
       "version_major": 2,
       "version_minor": 0
      },
      "text/plain": [
       "evaluating: 0it [00:00, ?it/s]"
      ]
     },
     "metadata": {},
     "output_type": "display_data"
    },
    {
     "name": "stdout",
     "output_type": "stream",
     "text": [
      "4464\n"
     ]
    },
    {
     "data": {
      "application/vnd.jupyter.widget-view+json": {
       "model_id": "6eb6e6415de141fa85b2a07a58ef4694",
       "version_major": 2,
       "version_minor": 0
      },
      "text/plain": [
       "evaluating: 0it [00:00, ?it/s]"
      ]
     },
     "metadata": {},
     "output_type": "display_data"
    },
    {
     "name": "stdout",
     "output_type": "stream",
     "text": [
      "4464\n"
     ]
    },
    {
     "data": {
      "application/vnd.jupyter.widget-view+json": {
       "model_id": "b9e4ce1ad6444fb18767f6d47e3ce93b",
       "version_major": 2,
       "version_minor": 0
      },
      "text/plain": [
       "evaluating: 0it [00:00, ?it/s]"
      ]
     },
     "metadata": {},
     "output_type": "display_data"
    },
    {
     "name": "stdout",
     "output_type": "stream",
     "text": [
      "4464\n"
     ]
    },
    {
     "data": {
      "application/vnd.jupyter.widget-view+json": {
       "model_id": "40ac0c7f30d849ecb8ff9d75addbc087",
       "version_major": 2,
       "version_minor": 0
      },
      "text/plain": [
       "evaluating: 0it [00:00, ?it/s]"
      ]
     },
     "metadata": {},
     "output_type": "display_data"
    },
    {
     "name": "stdout",
     "output_type": "stream",
     "text": [
      "4464\n"
     ]
    },
    {
     "data": {
      "application/vnd.jupyter.widget-view+json": {
       "model_id": "f0b523f818a8442880c5e4c9f2a1598a",
       "version_major": 2,
       "version_minor": 0
      },
      "text/plain": [
       "evaluating: 0it [00:00, ?it/s]"
      ]
     },
     "metadata": {},
     "output_type": "display_data"
    },
    {
     "name": "stdout",
     "output_type": "stream",
     "text": [
      "4464\n"
     ]
    },
    {
     "data": {
      "application/vnd.jupyter.widget-view+json": {
       "model_id": "847e5cda606047919c522631e65ac200",
       "version_major": 2,
       "version_minor": 0
      },
      "text/plain": [
       "evaluating: 0it [00:00, ?it/s]"
      ]
     },
     "metadata": {},
     "output_type": "display_data"
    },
    {
     "name": "stdout",
     "output_type": "stream",
     "text": [
      "4464\n"
     ]
    },
    {
     "data": {
      "application/vnd.jupyter.widget-view+json": {
       "model_id": "da805314ba9c439187a930cdff5f05cd",
       "version_major": 2,
       "version_minor": 0
      },
      "text/plain": [
       "evaluating: 0it [00:00, ?it/s]"
      ]
     },
     "metadata": {},
     "output_type": "display_data"
    },
    {
     "name": "stdout",
     "output_type": "stream",
     "text": [
      "4464\n"
     ]
    },
    {
     "data": {
      "application/vnd.jupyter.widget-view+json": {
       "model_id": "2325469ece9b40788d977ee1f28912a5",
       "version_major": 2,
       "version_minor": 0
      },
      "text/plain": [
       "evaluating: 0it [00:00, ?it/s]"
      ]
     },
     "metadata": {},
     "output_type": "display_data"
    },
    {
     "name": "stdout",
     "output_type": "stream",
     "text": [
      "4464\n"
     ]
    },
    {
     "data": {
      "application/vnd.jupyter.widget-view+json": {
       "model_id": "8a946e6f83da41909485f6b1b4720aea",
       "version_major": 2,
       "version_minor": 0
      },
      "text/plain": [
       "evaluating: 0it [00:00, ?it/s]"
      ]
     },
     "metadata": {},
     "output_type": "display_data"
    },
    {
     "name": "stdout",
     "output_type": "stream",
     "text": [
      "4464\n"
     ]
    },
    {
     "data": {
      "application/vnd.jupyter.widget-view+json": {
       "model_id": "e66e6f6d2b25419c8f99c0a4fcd6657a",
       "version_major": 2,
       "version_minor": 0
      },
      "text/plain": [
       "evaluating: 0it [00:00, ?it/s]"
      ]
     },
     "metadata": {},
     "output_type": "display_data"
    },
    {
     "name": "stdout",
     "output_type": "stream",
     "text": [
      "4464\n"
     ]
    },
    {
     "data": {
      "application/vnd.jupyter.widget-view+json": {
       "model_id": "f49bec7982564e36b02e3ce8f1ba4cd5",
       "version_major": 2,
       "version_minor": 0
      },
      "text/plain": [
       "evaluating: 0it [00:00, ?it/s]"
      ]
     },
     "metadata": {},
     "output_type": "display_data"
    },
    {
     "name": "stdout",
     "output_type": "stream",
     "text": [
      "4464\n"
     ]
    },
    {
     "data": {
      "application/vnd.jupyter.widget-view+json": {
       "model_id": "0d06aff99ac84b89ba11623b3424dee0",
       "version_major": 2,
       "version_minor": 0
      },
      "text/plain": [
       "evaluating: 0it [00:00, ?it/s]"
      ]
     },
     "metadata": {},
     "output_type": "display_data"
    },
    {
     "name": "stdout",
     "output_type": "stream",
     "text": [
      "4464\n"
     ]
    },
    {
     "data": {
      "application/vnd.jupyter.widget-view+json": {
       "model_id": "f208c0f2538d4a63ac80e10cada70e88",
       "version_major": 2,
       "version_minor": 0
      },
      "text/plain": [
       "evaluating: 0it [00:00, ?it/s]"
      ]
     },
     "metadata": {},
     "output_type": "display_data"
    },
    {
     "name": "stdout",
     "output_type": "stream",
     "text": [
      "4464\n"
     ]
    },
    {
     "data": {
      "application/vnd.jupyter.widget-view+json": {
       "model_id": "501889406818476c9f5591810178ae2d",
       "version_major": 2,
       "version_minor": 0
      },
      "text/plain": [
       "evaluating: 0it [00:00, ?it/s]"
      ]
     },
     "metadata": {},
     "output_type": "display_data"
    },
    {
     "name": "stdout",
     "output_type": "stream",
     "text": [
      "4464\n"
     ]
    },
    {
     "data": {
      "application/vnd.jupyter.widget-view+json": {
       "model_id": "abb2f84e997d446cb5fb6f369faefe47",
       "version_major": 2,
       "version_minor": 0
      },
      "text/plain": [
       "evaluating: 0it [00:00, ?it/s]"
      ]
     },
     "metadata": {},
     "output_type": "display_data"
    },
    {
     "name": "stdout",
     "output_type": "stream",
     "text": [
      "4464\n"
     ]
    },
    {
     "data": {
      "application/vnd.jupyter.widget-view+json": {
       "model_id": "045101f0efe44a5b8631cb84fa6fdf8d",
       "version_major": 2,
       "version_minor": 0
      },
      "text/plain": [
       "evaluating: 0it [00:00, ?it/s]"
      ]
     },
     "metadata": {},
     "output_type": "display_data"
    },
    {
     "name": "stdout",
     "output_type": "stream",
     "text": [
      "4464\n"
     ]
    },
    {
     "data": {
      "application/vnd.jupyter.widget-view+json": {
       "model_id": "fdd1ac6e7bed43a4ade78a7c58733b0f",
       "version_major": 2,
       "version_minor": 0
      },
      "text/plain": [
       "evaluating: 0it [00:00, ?it/s]"
      ]
     },
     "metadata": {},
     "output_type": "display_data"
    },
    {
     "name": "stdout",
     "output_type": "stream",
     "text": [
      "4464\n"
     ]
    },
    {
     "data": {
      "application/vnd.jupyter.widget-view+json": {
       "model_id": "d7be451d13e74edbbd4fb76497620edd",
       "version_major": 2,
       "version_minor": 0
      },
      "text/plain": [
       "evaluating: 0it [00:00, ?it/s]"
      ]
     },
     "metadata": {},
     "output_type": "display_data"
    },
    {
     "name": "stdout",
     "output_type": "stream",
     "text": [
      "4464\n"
     ]
    },
    {
     "data": {
      "application/vnd.jupyter.widget-view+json": {
       "model_id": "c645d1a9793f44d893ce04e50ff88e9e",
       "version_major": 2,
       "version_minor": 0
      },
      "text/plain": [
       "evaluating: 0it [00:00, ?it/s]"
      ]
     },
     "metadata": {},
     "output_type": "display_data"
    },
    {
     "name": "stdout",
     "output_type": "stream",
     "text": [
      "4464\n"
     ]
    },
    {
     "data": {
      "application/vnd.jupyter.widget-view+json": {
       "model_id": "a44442a292304b80bc389a87d7d07bf9",
       "version_major": 2,
       "version_minor": 0
      },
      "text/plain": [
       "evaluating: 0it [00:00, ?it/s]"
      ]
     },
     "metadata": {},
     "output_type": "display_data"
    },
    {
     "name": "stdout",
     "output_type": "stream",
     "text": [
      "4464\n"
     ]
    },
    {
     "data": {
      "application/vnd.jupyter.widget-view+json": {
       "model_id": "cb0f70a279b349f684fdb173f8273604",
       "version_major": 2,
       "version_minor": 0
      },
      "text/plain": [
       "evaluating: 0it [00:00, ?it/s]"
      ]
     },
     "metadata": {},
     "output_type": "display_data"
    },
    {
     "name": "stdout",
     "output_type": "stream",
     "text": [
      "4464\n"
     ]
    },
    {
     "data": {
      "application/vnd.jupyter.widget-view+json": {
       "model_id": "b9fab1e1ad1544a380646abd74877a15",
       "version_major": 2,
       "version_minor": 0
      },
      "text/plain": [
       "evaluating: 0it [00:00, ?it/s]"
      ]
     },
     "metadata": {},
     "output_type": "display_data"
    },
    {
     "name": "stdout",
     "output_type": "stream",
     "text": [
      "4464\n"
     ]
    },
    {
     "data": {
      "application/vnd.jupyter.widget-view+json": {
       "model_id": "6bd5d5729a704eaa804f68dfb167172c",
       "version_major": 2,
       "version_minor": 0
      },
      "text/plain": [
       "evaluating: 0it [00:00, ?it/s]"
      ]
     },
     "metadata": {},
     "output_type": "display_data"
    },
    {
     "name": "stdout",
     "output_type": "stream",
     "text": [
      "4464\n"
     ]
    },
    {
     "data": {
      "application/vnd.jupyter.widget-view+json": {
       "model_id": "5b738772c26f4376920b8468a3b08303",
       "version_major": 2,
       "version_minor": 0
      },
      "text/plain": [
       "evaluating: 0it [00:00, ?it/s]"
      ]
     },
     "metadata": {},
     "output_type": "display_data"
    },
    {
     "name": "stdout",
     "output_type": "stream",
     "text": [
      "4464\n"
     ]
    },
    {
     "data": {
      "application/vnd.jupyter.widget-view+json": {
       "model_id": "2d281025604445f5b7ccc103fb806d85",
       "version_major": 2,
       "version_minor": 0
      },
      "text/plain": [
       "evaluating: 0it [00:00, ?it/s]"
      ]
     },
     "metadata": {},
     "output_type": "display_data"
    },
    {
     "name": "stdout",
     "output_type": "stream",
     "text": [
      "4464\n"
     ]
    },
    {
     "data": {
      "application/vnd.jupyter.widget-view+json": {
       "model_id": "69b40f23bb834a44b07a67651d356725",
       "version_major": 2,
       "version_minor": 0
      },
      "text/plain": [
       "evaluating: 0it [00:00, ?it/s]"
      ]
     },
     "metadata": {},
     "output_type": "display_data"
    },
    {
     "name": "stdout",
     "output_type": "stream",
     "text": [
      "4464\n"
     ]
    },
    {
     "data": {
      "application/vnd.jupyter.widget-view+json": {
       "model_id": "0399032b24494cc4869ff7632af95e1b",
       "version_major": 2,
       "version_minor": 0
      },
      "text/plain": [
       "evaluating: 0it [00:00, ?it/s]"
      ]
     },
     "metadata": {},
     "output_type": "display_data"
    },
    {
     "name": "stdout",
     "output_type": "stream",
     "text": [
      "4464\n"
     ]
    },
    {
     "data": {
      "application/vnd.jupyter.widget-view+json": {
       "model_id": "d3fbcbd1b15144d0b4dbe02ce0c5f5b8",
       "version_major": 2,
       "version_minor": 0
      },
      "text/plain": [
       "evaluating: 0it [00:00, ?it/s]"
      ]
     },
     "metadata": {},
     "output_type": "display_data"
    },
    {
     "name": "stdout",
     "output_type": "stream",
     "text": [
      "4464\n"
     ]
    },
    {
     "data": {
      "application/vnd.jupyter.widget-view+json": {
       "model_id": "c43acf7a7a91446ebdb6da7a614f55f8",
       "version_major": 2,
       "version_minor": 0
      },
      "text/plain": [
       "evaluating: 0it [00:00, ?it/s]"
      ]
     },
     "metadata": {},
     "output_type": "display_data"
    },
    {
     "name": "stdout",
     "output_type": "stream",
     "text": [
      "4464\n"
     ]
    },
    {
     "data": {
      "application/vnd.jupyter.widget-view+json": {
       "model_id": "0b38c1b7d1c94f9dbdedce94b9cf557b",
       "version_major": 2,
       "version_minor": 0
      },
      "text/plain": [
       "evaluating: 0it [00:00, ?it/s]"
      ]
     },
     "metadata": {},
     "output_type": "display_data"
    },
    {
     "name": "stdout",
     "output_type": "stream",
     "text": [
      "4464\n"
     ]
    },
    {
     "data": {
      "application/vnd.jupyter.widget-view+json": {
       "model_id": "7e78af4872cb4ad6b5edb43744ec525f",
       "version_major": 2,
       "version_minor": 0
      },
      "text/plain": [
       "evaluating: 0it [00:00, ?it/s]"
      ]
     },
     "metadata": {},
     "output_type": "display_data"
    },
    {
     "name": "stdout",
     "output_type": "stream",
     "text": [
      "4464\n"
     ]
    },
    {
     "data": {
      "application/vnd.jupyter.widget-view+json": {
       "model_id": "8f1b24289e06429ea29b7d86e19a0189",
       "version_major": 2,
       "version_minor": 0
      },
      "text/plain": [
       "evaluating: 0it [00:00, ?it/s]"
      ]
     },
     "metadata": {},
     "output_type": "display_data"
    },
    {
     "name": "stdout",
     "output_type": "stream",
     "text": [
      "4464\n"
     ]
    },
    {
     "data": {
      "application/vnd.jupyter.widget-view+json": {
       "model_id": "ade783e0a84140659c41bb59f52bdf5a",
       "version_major": 2,
       "version_minor": 0
      },
      "text/plain": [
       "evaluating: 0it [00:00, ?it/s]"
      ]
     },
     "metadata": {},
     "output_type": "display_data"
    },
    {
     "name": "stdout",
     "output_type": "stream",
     "text": [
      "4464\n"
     ]
    },
    {
     "data": {
      "application/vnd.jupyter.widget-view+json": {
       "model_id": "653b6f7a039341f9aed78e9f37282a84",
       "version_major": 2,
       "version_minor": 0
      },
      "text/plain": [
       "evaluating: 0it [00:00, ?it/s]"
      ]
     },
     "metadata": {},
     "output_type": "display_data"
    },
    {
     "name": "stdout",
     "output_type": "stream",
     "text": [
      "4464\n"
     ]
    },
    {
     "data": {
      "application/vnd.jupyter.widget-view+json": {
       "model_id": "e9c0fd133fa34ff8aa074179f366e7fb",
       "version_major": 2,
       "version_minor": 0
      },
      "text/plain": [
       "evaluating: 0it [00:00, ?it/s]"
      ]
     },
     "metadata": {},
     "output_type": "display_data"
    },
    {
     "name": "stdout",
     "output_type": "stream",
     "text": [
      "4464\n"
     ]
    },
    {
     "data": {
      "application/vnd.jupyter.widget-view+json": {
       "model_id": "f925a6ade4d949cb95a7421bd0fb82d1",
       "version_major": 2,
       "version_minor": 0
      },
      "text/plain": [
       "evaluating: 0it [00:00, ?it/s]"
      ]
     },
     "metadata": {},
     "output_type": "display_data"
    },
    {
     "name": "stdout",
     "output_type": "stream",
     "text": [
      "4464\n"
     ]
    },
    {
     "data": {
      "application/vnd.jupyter.widget-view+json": {
       "model_id": "ee117e91d6944ac0893de16ca8e1a16e",
       "version_major": 2,
       "version_minor": 0
      },
      "text/plain": [
       "evaluating: 0it [00:00, ?it/s]"
      ]
     },
     "metadata": {},
     "output_type": "display_data"
    },
    {
     "name": "stdout",
     "output_type": "stream",
     "text": [
      "4464\n"
     ]
    },
    {
     "data": {
      "application/vnd.jupyter.widget-view+json": {
       "model_id": "c77cac9172224d2a9a836a43c514a983",
       "version_major": 2,
       "version_minor": 0
      },
      "text/plain": [
       "evaluating: 0it [00:00, ?it/s]"
      ]
     },
     "metadata": {},
     "output_type": "display_data"
    },
    {
     "name": "stdout",
     "output_type": "stream",
     "text": [
      "4464\n"
     ]
    },
    {
     "data": {
      "application/vnd.jupyter.widget-view+json": {
       "model_id": "0a7a8619eb5147fbb5cb8a083d385852",
       "version_major": 2,
       "version_minor": 0
      },
      "text/plain": [
       "evaluating: 0it [00:00, ?it/s]"
      ]
     },
     "metadata": {},
     "output_type": "display_data"
    },
    {
     "name": "stdout",
     "output_type": "stream",
     "text": [
      "4464\n"
     ]
    },
    {
     "data": {
      "application/vnd.jupyter.widget-view+json": {
       "model_id": "191a02ef16de4142aab48e7095f4ee20",
       "version_major": 2,
       "version_minor": 0
      },
      "text/plain": [
       "evaluating: 0it [00:00, ?it/s]"
      ]
     },
     "metadata": {},
     "output_type": "display_data"
    },
    {
     "name": "stdout",
     "output_type": "stream",
     "text": [
      "4464\n"
     ]
    },
    {
     "data": {
      "application/vnd.jupyter.widget-view+json": {
       "model_id": "381c8afeb0474d04b69cc1fc644d8a2d",
       "version_major": 2,
       "version_minor": 0
      },
      "text/plain": [
       "evaluating: 0it [00:00, ?it/s]"
      ]
     },
     "metadata": {},
     "output_type": "display_data"
    },
    {
     "name": "stdout",
     "output_type": "stream",
     "text": [
      "4464\n"
     ]
    },
    {
     "data": {
      "application/vnd.jupyter.widget-view+json": {
       "model_id": "28a8e30157394709b79ac1f949310de8",
       "version_major": 2,
       "version_minor": 0
      },
      "text/plain": [
       "evaluating: 0it [00:00, ?it/s]"
      ]
     },
     "metadata": {},
     "output_type": "display_data"
    },
    {
     "name": "stdout",
     "output_type": "stream",
     "text": [
      "4464\n"
     ]
    },
    {
     "data": {
      "application/vnd.jupyter.widget-view+json": {
       "model_id": "ec21096b875144b7aca062069daa0b1e",
       "version_major": 2,
       "version_minor": 0
      },
      "text/plain": [
       "evaluating: 0it [00:00, ?it/s]"
      ]
     },
     "metadata": {},
     "output_type": "display_data"
    },
    {
     "name": "stdout",
     "output_type": "stream",
     "text": [
      "4464\n"
     ]
    },
    {
     "data": {
      "application/vnd.jupyter.widget-view+json": {
       "model_id": "ec4c442f9e584b68a4ad950ac04bf7ec",
       "version_major": 2,
       "version_minor": 0
      },
      "text/plain": [
       "evaluating: 0it [00:00, ?it/s]"
      ]
     },
     "metadata": {},
     "output_type": "display_data"
    },
    {
     "name": "stdout",
     "output_type": "stream",
     "text": [
      "4464\n"
     ]
    },
    {
     "data": {
      "application/vnd.jupyter.widget-view+json": {
       "model_id": "9ea36a02aa3c49fe95328766ded569ba",
       "version_major": 2,
       "version_minor": 0
      },
      "text/plain": [
       "evaluating: 0it [00:00, ?it/s]"
      ]
     },
     "metadata": {},
     "output_type": "display_data"
    },
    {
     "name": "stdout",
     "output_type": "stream",
     "text": [
      "4464\n"
     ]
    },
    {
     "data": {
      "application/vnd.jupyter.widget-view+json": {
       "model_id": "ea5b732723a24496965b36c05ed99644",
       "version_major": 2,
       "version_minor": 0
      },
      "text/plain": [
       "evaluating: 0it [00:00, ?it/s]"
      ]
     },
     "metadata": {},
     "output_type": "display_data"
    },
    {
     "name": "stdout",
     "output_type": "stream",
     "text": [
      "4464\n"
     ]
    },
    {
     "data": {
      "application/vnd.jupyter.widget-view+json": {
       "model_id": "5ac41b5927414f8bb832d8d15a64c298",
       "version_major": 2,
       "version_minor": 0
      },
      "text/plain": [
       "evaluating: 0it [00:00, ?it/s]"
      ]
     },
     "metadata": {},
     "output_type": "display_data"
    },
    {
     "name": "stdout",
     "output_type": "stream",
     "text": [
      "4464\n"
     ]
    },
    {
     "data": {
      "application/vnd.jupyter.widget-view+json": {
       "model_id": "0f7fe04a61ed44f19ee2883a56353b42",
       "version_major": 2,
       "version_minor": 0
      },
      "text/plain": [
       "evaluating: 0it [00:00, ?it/s]"
      ]
     },
     "metadata": {},
     "output_type": "display_data"
    },
    {
     "name": "stdout",
     "output_type": "stream",
     "text": [
      "4464\n"
     ]
    },
    {
     "data": {
      "application/vnd.jupyter.widget-view+json": {
       "model_id": "e978414153bf44509680f9b65790275a",
       "version_major": 2,
       "version_minor": 0
      },
      "text/plain": [
       "evaluating: 0it [00:00, ?it/s]"
      ]
     },
     "metadata": {},
     "output_type": "display_data"
    },
    {
     "name": "stdout",
     "output_type": "stream",
     "text": [
      "4464\n"
     ]
    },
    {
     "data": {
      "application/vnd.jupyter.widget-view+json": {
       "model_id": "b057aa5d49a243ceb3c2a72bb4d3d567",
       "version_major": 2,
       "version_minor": 0
      },
      "text/plain": [
       "evaluating: 0it [00:00, ?it/s]"
      ]
     },
     "metadata": {},
     "output_type": "display_data"
    },
    {
     "name": "stdout",
     "output_type": "stream",
     "text": [
      "4464\n"
     ]
    },
    {
     "data": {
      "application/vnd.jupyter.widget-view+json": {
       "model_id": "232455308e3e4b5f98e5a8a5b201dc32",
       "version_major": 2,
       "version_minor": 0
      },
      "text/plain": [
       "evaluating: 0it [00:00, ?it/s]"
      ]
     },
     "metadata": {},
     "output_type": "display_data"
    },
    {
     "name": "stdout",
     "output_type": "stream",
     "text": [
      "4464\n"
     ]
    },
    {
     "data": {
      "application/vnd.jupyter.widget-view+json": {
       "model_id": "970348cfb37e4fbfbb33d7b55f69c44f",
       "version_major": 2,
       "version_minor": 0
      },
      "text/plain": [
       "evaluating: 0it [00:00, ?it/s]"
      ]
     },
     "metadata": {},
     "output_type": "display_data"
    },
    {
     "name": "stdout",
     "output_type": "stream",
     "text": [
      "4464\n"
     ]
    },
    {
     "data": {
      "application/vnd.jupyter.widget-view+json": {
       "model_id": "87118fdb7083450a829634f96e85c97c",
       "version_major": 2,
       "version_minor": 0
      },
      "text/plain": [
       "evaluating: 0it [00:00, ?it/s]"
      ]
     },
     "metadata": {},
     "output_type": "display_data"
    },
    {
     "name": "stdout",
     "output_type": "stream",
     "text": [
      "4464\n"
     ]
    },
    {
     "data": {
      "application/vnd.jupyter.widget-view+json": {
       "model_id": "c874d086618e43dc9b324cfdb7f2c51b",
       "version_major": 2,
       "version_minor": 0
      },
      "text/plain": [
       "evaluating: 0it [00:00, ?it/s]"
      ]
     },
     "metadata": {},
     "output_type": "display_data"
    },
    {
     "name": "stdout",
     "output_type": "stream",
     "text": [
      "4464\n"
     ]
    },
    {
     "data": {
      "application/vnd.jupyter.widget-view+json": {
       "model_id": "6c72f1eb9933482d863e7ca501773ade",
       "version_major": 2,
       "version_minor": 0
      },
      "text/plain": [
       "evaluating: 0it [00:00, ?it/s]"
      ]
     },
     "metadata": {},
     "output_type": "display_data"
    },
    {
     "name": "stdout",
     "output_type": "stream",
     "text": [
      "4464\n"
     ]
    },
    {
     "data": {
      "application/vnd.jupyter.widget-view+json": {
       "model_id": "84cabc14f3294fcc8fef8260fcde3e98",
       "version_major": 2,
       "version_minor": 0
      },
      "text/plain": [
       "evaluating: 0it [00:00, ?it/s]"
      ]
     },
     "metadata": {},
     "output_type": "display_data"
    },
    {
     "name": "stdout",
     "output_type": "stream",
     "text": [
      "4464\n"
     ]
    },
    {
     "data": {
      "application/vnd.jupyter.widget-view+json": {
       "model_id": "87258dc1b5514c6f9ce476ab45e00de0",
       "version_major": 2,
       "version_minor": 0
      },
      "text/plain": [
       "evaluating: 0it [00:00, ?it/s]"
      ]
     },
     "metadata": {},
     "output_type": "display_data"
    },
    {
     "name": "stdout",
     "output_type": "stream",
     "text": [
      "4464\n"
     ]
    },
    {
     "data": {
      "application/vnd.jupyter.widget-view+json": {
       "model_id": "17da7b95b1884c4fa76f636e0a73005e",
       "version_major": 2,
       "version_minor": 0
      },
      "text/plain": [
       "evaluating: 0it [00:00, ?it/s]"
      ]
     },
     "metadata": {},
     "output_type": "display_data"
    },
    {
     "name": "stdout",
     "output_type": "stream",
     "text": [
      "4464\n"
     ]
    },
    {
     "data": {
      "application/vnd.jupyter.widget-view+json": {
       "model_id": "e28c2c4d97ce490087718a05e31491bd",
       "version_major": 2,
       "version_minor": 0
      },
      "text/plain": [
       "evaluating: 0it [00:00, ?it/s]"
      ]
     },
     "metadata": {},
     "output_type": "display_data"
    },
    {
     "name": "stdout",
     "output_type": "stream",
     "text": [
      "4464\n"
     ]
    },
    {
     "data": {
      "application/vnd.jupyter.widget-view+json": {
       "model_id": "118626f4fdc64ea6be03fd11bb1e8c94",
       "version_major": 2,
       "version_minor": 0
      },
      "text/plain": [
       "evaluating: 0it [00:00, ?it/s]"
      ]
     },
     "metadata": {},
     "output_type": "display_data"
    },
    {
     "name": "stdout",
     "output_type": "stream",
     "text": [
      "4464\n"
     ]
    },
    {
     "data": {
      "application/vnd.jupyter.widget-view+json": {
       "model_id": "2ae68c0f899a44ed9cd412e09c6e8ad6",
       "version_major": 2,
       "version_minor": 0
      },
      "text/plain": [
       "evaluating: 0it [00:00, ?it/s]"
      ]
     },
     "metadata": {},
     "output_type": "display_data"
    },
    {
     "name": "stdout",
     "output_type": "stream",
     "text": [
      "4464\n"
     ]
    },
    {
     "data": {
      "application/vnd.jupyter.widget-view+json": {
       "model_id": "0a19923d5fd8409b98ffbdf6b2f83262",
       "version_major": 2,
       "version_minor": 0
      },
      "text/plain": [
       "evaluating: 0it [00:00, ?it/s]"
      ]
     },
     "metadata": {},
     "output_type": "display_data"
    },
    {
     "name": "stdout",
     "output_type": "stream",
     "text": [
      "4464\n"
     ]
    },
    {
     "data": {
      "application/vnd.jupyter.widget-view+json": {
       "model_id": "b50c256f772343e38984e1a5cecf18f7",
       "version_major": 2,
       "version_minor": 0
      },
      "text/plain": [
       "evaluating: 0it [00:00, ?it/s]"
      ]
     },
     "metadata": {},
     "output_type": "display_data"
    },
    {
     "name": "stdout",
     "output_type": "stream",
     "text": [
      "4464\n"
     ]
    },
    {
     "data": {
      "application/vnd.jupyter.widget-view+json": {
       "model_id": "739163b2603f4c8a9f751e22ffb9ad1b",
       "version_major": 2,
       "version_minor": 0
      },
      "text/plain": [
       "evaluating: 0it [00:00, ?it/s]"
      ]
     },
     "metadata": {},
     "output_type": "display_data"
    },
    {
     "name": "stdout",
     "output_type": "stream",
     "text": [
      "4464\n"
     ]
    },
    {
     "data": {
      "application/vnd.jupyter.widget-view+json": {
       "model_id": "54da6e985cb54d68a7adc50584478739",
       "version_major": 2,
       "version_minor": 0
      },
      "text/plain": [
       "evaluating: 0it [00:00, ?it/s]"
      ]
     },
     "metadata": {},
     "output_type": "display_data"
    },
    {
     "name": "stdout",
     "output_type": "stream",
     "text": [
      "4464\n"
     ]
    },
    {
     "data": {
      "application/vnd.jupyter.widget-view+json": {
       "model_id": "44b5fe588230436eb2e7c5a5971203a6",
       "version_major": 2,
       "version_minor": 0
      },
      "text/plain": [
       "evaluating: 0it [00:00, ?it/s]"
      ]
     },
     "metadata": {},
     "output_type": "display_data"
    },
    {
     "name": "stdout",
     "output_type": "stream",
     "text": [
      "4464\n"
     ]
    },
    {
     "data": {
      "application/vnd.jupyter.widget-view+json": {
       "model_id": "a720d18649694374b431419f220c3cf9",
       "version_major": 2,
       "version_minor": 0
      },
      "text/plain": [
       "evaluating: 0it [00:00, ?it/s]"
      ]
     },
     "metadata": {},
     "output_type": "display_data"
    },
    {
     "name": "stdout",
     "output_type": "stream",
     "text": [
      "4464\n"
     ]
    },
    {
     "data": {
      "application/vnd.jupyter.widget-view+json": {
       "model_id": "e798e07802f7486098a9de42ad123906",
       "version_major": 2,
       "version_minor": 0
      },
      "text/plain": [
       "evaluating: 0it [00:00, ?it/s]"
      ]
     },
     "metadata": {},
     "output_type": "display_data"
    },
    {
     "name": "stdout",
     "output_type": "stream",
     "text": [
      "4464\n"
     ]
    },
    {
     "data": {
      "application/vnd.jupyter.widget-view+json": {
       "model_id": "5350bba018c74729bae80ac9c8e182d5",
       "version_major": 2,
       "version_minor": 0
      },
      "text/plain": [
       "evaluating: 0it [00:00, ?it/s]"
      ]
     },
     "metadata": {},
     "output_type": "display_data"
    },
    {
     "name": "stdout",
     "output_type": "stream",
     "text": [
      "4464\n"
     ]
    },
    {
     "data": {
      "application/vnd.jupyter.widget-view+json": {
       "model_id": "ace08a986db941f48ec2e911cbe55e6b",
       "version_major": 2,
       "version_minor": 0
      },
      "text/plain": [
       "evaluating: 0it [00:00, ?it/s]"
      ]
     },
     "metadata": {},
     "output_type": "display_data"
    },
    {
     "name": "stdout",
     "output_type": "stream",
     "text": [
      "4464\n"
     ]
    },
    {
     "data": {
      "application/vnd.jupyter.widget-view+json": {
       "model_id": "e857dbb241624d79a16159427d452d34",
       "version_major": 2,
       "version_minor": 0
      },
      "text/plain": [
       "evaluating: 0it [00:00, ?it/s]"
      ]
     },
     "metadata": {},
     "output_type": "display_data"
    },
    {
     "name": "stdout",
     "output_type": "stream",
     "text": [
      "4464\n"
     ]
    },
    {
     "data": {
      "application/vnd.jupyter.widget-view+json": {
       "model_id": "468fd65d69994dceb2da5469a7c03bc4",
       "version_major": 2,
       "version_minor": 0
      },
      "text/plain": [
       "evaluating: 0it [00:00, ?it/s]"
      ]
     },
     "metadata": {},
     "output_type": "display_data"
    },
    {
     "name": "stdout",
     "output_type": "stream",
     "text": [
      "4464\n"
     ]
    },
    {
     "data": {
      "application/vnd.jupyter.widget-view+json": {
       "model_id": "c7b64e0e31324c6e8de35a5fd6a29262",
       "version_major": 2,
       "version_minor": 0
      },
      "text/plain": [
       "evaluating: 0it [00:00, ?it/s]"
      ]
     },
     "metadata": {},
     "output_type": "display_data"
    },
    {
     "name": "stdout",
     "output_type": "stream",
     "text": [
      "4464\n"
     ]
    },
    {
     "data": {
      "application/vnd.jupyter.widget-view+json": {
       "model_id": "57451caafe4d4144b87ffb04848f9c03",
       "version_major": 2,
       "version_minor": 0
      },
      "text/plain": [
       "evaluating: 0it [00:00, ?it/s]"
      ]
     },
     "metadata": {},
     "output_type": "display_data"
    },
    {
     "name": "stdout",
     "output_type": "stream",
     "text": [
      "4464\n"
     ]
    },
    {
     "data": {
      "application/vnd.jupyter.widget-view+json": {
       "model_id": "eec08fe6723144b88a7c26638056ddd3",
       "version_major": 2,
       "version_minor": 0
      },
      "text/plain": [
       "evaluating: 0it [00:00, ?it/s]"
      ]
     },
     "metadata": {},
     "output_type": "display_data"
    },
    {
     "name": "stdout",
     "output_type": "stream",
     "text": [
      "4464\n"
     ]
    },
    {
     "data": {
      "application/vnd.jupyter.widget-view+json": {
       "model_id": "d17144405f11441e89574284a193a990",
       "version_major": 2,
       "version_minor": 0
      },
      "text/plain": [
       "evaluating: 0it [00:00, ?it/s]"
      ]
     },
     "metadata": {},
     "output_type": "display_data"
    },
    {
     "name": "stdout",
     "output_type": "stream",
     "text": [
      "4464\n"
     ]
    },
    {
     "data": {
      "application/vnd.jupyter.widget-view+json": {
       "model_id": "edb14eb8f10540f58ad53ba712712df7",
       "version_major": 2,
       "version_minor": 0
      },
      "text/plain": [
       "evaluating: 0it [00:00, ?it/s]"
      ]
     },
     "metadata": {},
     "output_type": "display_data"
    },
    {
     "name": "stdout",
     "output_type": "stream",
     "text": [
      "4464\n"
     ]
    },
    {
     "data": {
      "application/vnd.jupyter.widget-view+json": {
       "model_id": "4e2ebde924524ade9461a96c0c8fd197",
       "version_major": 2,
       "version_minor": 0
      },
      "text/plain": [
       "evaluating: 0it [00:00, ?it/s]"
      ]
     },
     "metadata": {},
     "output_type": "display_data"
    },
    {
     "name": "stdout",
     "output_type": "stream",
     "text": [
      "4464\n"
     ]
    },
    {
     "data": {
      "application/vnd.jupyter.widget-view+json": {
       "model_id": "5c2449b490ec424cb4edaf51aa5fd10f",
       "version_major": 2,
       "version_minor": 0
      },
      "text/plain": [
       "evaluating: 0it [00:00, ?it/s]"
      ]
     },
     "metadata": {},
     "output_type": "display_data"
    },
    {
     "name": "stdout",
     "output_type": "stream",
     "text": [
      "4464\n"
     ]
    },
    {
     "data": {
      "application/vnd.jupyter.widget-view+json": {
       "model_id": "ffbf72c5d1ed40cf94e7b632f1d65c9d",
       "version_major": 2,
       "version_minor": 0
      },
      "text/plain": [
       "evaluating: 0it [00:00, ?it/s]"
      ]
     },
     "metadata": {},
     "output_type": "display_data"
    },
    {
     "name": "stdout",
     "output_type": "stream",
     "text": [
      "4464\n"
     ]
    },
    {
     "data": {
      "application/vnd.jupyter.widget-view+json": {
       "model_id": "a27490532dab43aead23cba3e9413da9",
       "version_major": 2,
       "version_minor": 0
      },
      "text/plain": [
       "evaluating: 0it [00:00, ?it/s]"
      ]
     },
     "metadata": {},
     "output_type": "display_data"
    },
    {
     "name": "stdout",
     "output_type": "stream",
     "text": [
      "4464\n"
     ]
    },
    {
     "data": {
      "application/vnd.jupyter.widget-view+json": {
       "model_id": "d4e5bc5ed0b84d9f83469009e05127ae",
       "version_major": 2,
       "version_minor": 0
      },
      "text/plain": [
       "evaluating: 0it [00:00, ?it/s]"
      ]
     },
     "metadata": {},
     "output_type": "display_data"
    },
    {
     "name": "stdout",
     "output_type": "stream",
     "text": [
      "4464\n"
     ]
    },
    {
     "data": {
      "application/vnd.jupyter.widget-view+json": {
       "model_id": "f5393ff78a6044fe9ebcbdedf9f0e6d3",
       "version_major": 2,
       "version_minor": 0
      },
      "text/plain": [
       "evaluating: 0it [00:00, ?it/s]"
      ]
     },
     "metadata": {},
     "output_type": "display_data"
    },
    {
     "name": "stdout",
     "output_type": "stream",
     "text": [
      "4464\n"
     ]
    },
    {
     "data": {
      "application/vnd.jupyter.widget-view+json": {
       "model_id": "0b316f851a014736843be8b5a6d09fd4",
       "version_major": 2,
       "version_minor": 0
      },
      "text/plain": [
       "evaluating: 0it [00:00, ?it/s]"
      ]
     },
     "metadata": {},
     "output_type": "display_data"
    },
    {
     "name": "stdout",
     "output_type": "stream",
     "text": [
      "4464\n"
     ]
    },
    {
     "data": {
      "application/vnd.jupyter.widget-view+json": {
       "model_id": "ecfe4105ccb34049ba3951acbb6bb38f",
       "version_major": 2,
       "version_minor": 0
      },
      "text/plain": [
       "evaluating: 0it [00:00, ?it/s]"
      ]
     },
     "metadata": {},
     "output_type": "display_data"
    },
    {
     "name": "stdout",
     "output_type": "stream",
     "text": [
      "4464\n"
     ]
    },
    {
     "data": {
      "application/vnd.jupyter.widget-view+json": {
       "model_id": "7020ff6456954935945acfe1957c53da",
       "version_major": 2,
       "version_minor": 0
      },
      "text/plain": [
       "evaluating: 0it [00:00, ?it/s]"
      ]
     },
     "metadata": {},
     "output_type": "display_data"
    },
    {
     "name": "stdout",
     "output_type": "stream",
     "text": [
      "4464\n"
     ]
    },
    {
     "data": {
      "application/vnd.jupyter.widget-view+json": {
       "model_id": "cd68388aa954429e8eccf59f16cfe434",
       "version_major": 2,
       "version_minor": 0
      },
      "text/plain": [
       "evaluating: 0it [00:00, ?it/s]"
      ]
     },
     "metadata": {},
     "output_type": "display_data"
    },
    {
     "name": "stdout",
     "output_type": "stream",
     "text": [
      "4464\n"
     ]
    },
    {
     "data": {
      "application/vnd.jupyter.widget-view+json": {
       "model_id": "9ee949a9fa644e71bff3f2c709c84892",
       "version_major": 2,
       "version_minor": 0
      },
      "text/plain": [
       "evaluating: 0it [00:00, ?it/s]"
      ]
     },
     "metadata": {},
     "output_type": "display_data"
    },
    {
     "name": "stdout",
     "output_type": "stream",
     "text": [
      "4464\n"
     ]
    },
    {
     "data": {
      "application/vnd.jupyter.widget-view+json": {
       "model_id": "9ccef8421d3b4551b94886401c11ab4f",
       "version_major": 2,
       "version_minor": 0
      },
      "text/plain": [
       "evaluating: 0it [00:00, ?it/s]"
      ]
     },
     "metadata": {},
     "output_type": "display_data"
    },
    {
     "name": "stdout",
     "output_type": "stream",
     "text": [
      "4464\n"
     ]
    },
    {
     "data": {
      "application/vnd.jupyter.widget-view+json": {
       "model_id": "4fec3d98aa904bf5941a1d856dde68f0",
       "version_major": 2,
       "version_minor": 0
      },
      "text/plain": [
       "evaluating: 0it [00:00, ?it/s]"
      ]
     },
     "metadata": {},
     "output_type": "display_data"
    },
    {
     "name": "stdout",
     "output_type": "stream",
     "text": [
      "4464\n"
     ]
    },
    {
     "data": {
      "application/vnd.jupyter.widget-view+json": {
       "model_id": "e3b549471ece44bc8e1c46021a903f08",
       "version_major": 2,
       "version_minor": 0
      },
      "text/plain": [
       "evaluating: 0it [00:00, ?it/s]"
      ]
     },
     "metadata": {},
     "output_type": "display_data"
    },
    {
     "name": "stdout",
     "output_type": "stream",
     "text": [
      "4464\n"
     ]
    },
    {
     "data": {
      "application/vnd.jupyter.widget-view+json": {
       "model_id": "22b84d15a4664698ae02cd89a0cde5dc",
       "version_major": 2,
       "version_minor": 0
      },
      "text/plain": [
       "evaluating: 0it [00:00, ?it/s]"
      ]
     },
     "metadata": {},
     "output_type": "display_data"
    },
    {
     "name": "stdout",
     "output_type": "stream",
     "text": [
      "4464\n"
     ]
    },
    {
     "data": {
      "application/vnd.jupyter.widget-view+json": {
       "model_id": "46f166732d52473ca860fc9cf1130354",
       "version_major": 2,
       "version_minor": 0
      },
      "text/plain": [
       "evaluating: 0it [00:00, ?it/s]"
      ]
     },
     "metadata": {},
     "output_type": "display_data"
    },
    {
     "name": "stdout",
     "output_type": "stream",
     "text": [
      "4464\n"
     ]
    },
    {
     "data": {
      "application/vnd.jupyter.widget-view+json": {
       "model_id": "9978d18dcab34541b43b4d40ce06838c",
       "version_major": 2,
       "version_minor": 0
      },
      "text/plain": [
       "evaluating: 0it [00:00, ?it/s]"
      ]
     },
     "metadata": {},
     "output_type": "display_data"
    },
    {
     "name": "stdout",
     "output_type": "stream",
     "text": [
      "4464\n"
     ]
    },
    {
     "data": {
      "application/vnd.jupyter.widget-view+json": {
       "model_id": "fa3b8c8e81364c2abb3289bc1b6c0590",
       "version_major": 2,
       "version_minor": 0
      },
      "text/plain": [
       "evaluating: 0it [00:00, ?it/s]"
      ]
     },
     "metadata": {},
     "output_type": "display_data"
    },
    {
     "name": "stdout",
     "output_type": "stream",
     "text": [
      "4464\n"
     ]
    },
    {
     "data": {
      "application/vnd.jupyter.widget-view+json": {
       "model_id": "07f1fe331aa84b07bed2b293d6c7544d",
       "version_major": 2,
       "version_minor": 0
      },
      "text/plain": [
       "evaluating: 0it [00:00, ?it/s]"
      ]
     },
     "metadata": {},
     "output_type": "display_data"
    },
    {
     "name": "stdout",
     "output_type": "stream",
     "text": [
      "4464\n"
     ]
    },
    {
     "data": {
      "application/vnd.jupyter.widget-view+json": {
       "model_id": "5391bb624b424faca2ffed0436c39e46",
       "version_major": 2,
       "version_minor": 0
      },
      "text/plain": [
       "evaluating: 0it [00:00, ?it/s]"
      ]
     },
     "metadata": {},
     "output_type": "display_data"
    },
    {
     "name": "stdout",
     "output_type": "stream",
     "text": [
      "4464\n"
     ]
    },
    {
     "data": {
      "application/vnd.jupyter.widget-view+json": {
       "model_id": "de635e216e4f4d1c8c70a15465f329df",
       "version_major": 2,
       "version_minor": 0
      },
      "text/plain": [
       "evaluating: 0it [00:00, ?it/s]"
      ]
     },
     "metadata": {},
     "output_type": "display_data"
    },
    {
     "name": "stdout",
     "output_type": "stream",
     "text": [
      "4464\n"
     ]
    },
    {
     "data": {
      "application/vnd.jupyter.widget-view+json": {
       "model_id": "13cc299e7f354670b8e7f3b642ddfcfe",
       "version_major": 2,
       "version_minor": 0
      },
      "text/plain": [
       "evaluating: 0it [00:00, ?it/s]"
      ]
     },
     "metadata": {},
     "output_type": "display_data"
    },
    {
     "name": "stdout",
     "output_type": "stream",
     "text": [
      "4464\n"
     ]
    },
    {
     "data": {
      "application/vnd.jupyter.widget-view+json": {
       "model_id": "60f6693c8b7341518c3141de237086c8",
       "version_major": 2,
       "version_minor": 0
      },
      "text/plain": [
       "evaluating: 0it [00:00, ?it/s]"
      ]
     },
     "metadata": {},
     "output_type": "display_data"
    },
    {
     "name": "stdout",
     "output_type": "stream",
     "text": [
      "4464\n"
     ]
    },
    {
     "data": {
      "application/vnd.jupyter.widget-view+json": {
       "model_id": "1f6e98ddf44e4c2a93f6084f63e992cf",
       "version_major": 2,
       "version_minor": 0
      },
      "text/plain": [
       "evaluating: 0it [00:00, ?it/s]"
      ]
     },
     "metadata": {},
     "output_type": "display_data"
    },
    {
     "name": "stdout",
     "output_type": "stream",
     "text": [
      "4464\n"
     ]
    },
    {
     "data": {
      "application/vnd.jupyter.widget-view+json": {
       "model_id": "f8d8eb7625184317bb47c6bb8e8be01d",
       "version_major": 2,
       "version_minor": 0
      },
      "text/plain": [
       "evaluating: 0it [00:00, ?it/s]"
      ]
     },
     "metadata": {},
     "output_type": "display_data"
    },
    {
     "name": "stdout",
     "output_type": "stream",
     "text": [
      "4464\n"
     ]
    },
    {
     "data": {
      "application/vnd.jupyter.widget-view+json": {
       "model_id": "ee8b964bdb1e481bbfd87ddb81017178",
       "version_major": 2,
       "version_minor": 0
      },
      "text/plain": [
       "evaluating: 0it [00:00, ?it/s]"
      ]
     },
     "metadata": {},
     "output_type": "display_data"
    },
    {
     "name": "stdout",
     "output_type": "stream",
     "text": [
      "4464\n"
     ]
    },
    {
     "data": {
      "application/vnd.jupyter.widget-view+json": {
       "model_id": "36a6f398a1d84d329da9eb28d6162c50",
       "version_major": 2,
       "version_minor": 0
      },
      "text/plain": [
       "evaluating: 0it [00:00, ?it/s]"
      ]
     },
     "metadata": {},
     "output_type": "display_data"
    },
    {
     "name": "stdout",
     "output_type": "stream",
     "text": [
      "4464\n"
     ]
    },
    {
     "data": {
      "application/vnd.jupyter.widget-view+json": {
       "model_id": "843291b98d16420f91a8b57ae02e214a",
       "version_major": 2,
       "version_minor": 0
      },
      "text/plain": [
       "evaluating: 0it [00:00, ?it/s]"
      ]
     },
     "metadata": {},
     "output_type": "display_data"
    },
    {
     "name": "stdout",
     "output_type": "stream",
     "text": [
      "4464\n"
     ]
    },
    {
     "data": {
      "application/vnd.jupyter.widget-view+json": {
       "model_id": "c8eac688bd8c4f00b072b4d8ab6fce87",
       "version_major": 2,
       "version_minor": 0
      },
      "text/plain": [
       "evaluating: 0it [00:00, ?it/s]"
      ]
     },
     "metadata": {},
     "output_type": "display_data"
    },
    {
     "name": "stdout",
     "output_type": "stream",
     "text": [
      "4464\n"
     ]
    },
    {
     "data": {
      "application/vnd.jupyter.widget-view+json": {
       "model_id": "96bca71c79274527bbe67c2e7405d741",
       "version_major": 2,
       "version_minor": 0
      },
      "text/plain": [
       "evaluating: 0it [00:00, ?it/s]"
      ]
     },
     "metadata": {},
     "output_type": "display_data"
    },
    {
     "name": "stdout",
     "output_type": "stream",
     "text": [
      "4464\n"
     ]
    },
    {
     "data": {
      "application/vnd.jupyter.widget-view+json": {
       "model_id": "41a759fa651542e9a11bccaeed5faf8b",
       "version_major": 2,
       "version_minor": 0
      },
      "text/plain": [
       "evaluating: 0it [00:00, ?it/s]"
      ]
     },
     "metadata": {},
     "output_type": "display_data"
    },
    {
     "name": "stdout",
     "output_type": "stream",
     "text": [
      "4464\n"
     ]
    },
    {
     "data": {
      "application/vnd.jupyter.widget-view+json": {
       "model_id": "839033f7eb544e71b79df5ab6e48a3bd",
       "version_major": 2,
       "version_minor": 0
      },
      "text/plain": [
       "evaluating: 0it [00:00, ?it/s]"
      ]
     },
     "metadata": {},
     "output_type": "display_data"
    },
    {
     "name": "stdout",
     "output_type": "stream",
     "text": [
      "4464\n"
     ]
    },
    {
     "data": {
      "application/vnd.jupyter.widget-view+json": {
       "model_id": "c76b32ee851f4dc588c7837d0813a25e",
       "version_major": 2,
       "version_minor": 0
      },
      "text/plain": [
       "evaluating: 0it [00:00, ?it/s]"
      ]
     },
     "metadata": {},
     "output_type": "display_data"
    },
    {
     "name": "stdout",
     "output_type": "stream",
     "text": [
      "4464\n"
     ]
    },
    {
     "data": {
      "application/vnd.jupyter.widget-view+json": {
       "model_id": "50d46228f2f14dc9977bd69e56884a5a",
       "version_major": 2,
       "version_minor": 0
      },
      "text/plain": [
       "evaluating: 0it [00:00, ?it/s]"
      ]
     },
     "metadata": {},
     "output_type": "display_data"
    },
    {
     "name": "stdout",
     "output_type": "stream",
     "text": [
      "4464\n"
     ]
    },
    {
     "data": {
      "application/vnd.jupyter.widget-view+json": {
       "model_id": "4c40f8d3ed6c4cab94a18851850a0db0",
       "version_major": 2,
       "version_minor": 0
      },
      "text/plain": [
       "evaluating: 0it [00:00, ?it/s]"
      ]
     },
     "metadata": {},
     "output_type": "display_data"
    },
    {
     "name": "stdout",
     "output_type": "stream",
     "text": [
      "4464\n"
     ]
    },
    {
     "data": {
      "application/vnd.jupyter.widget-view+json": {
       "model_id": "6d4adb948485400f82b09cf462ecebb3",
       "version_major": 2,
       "version_minor": 0
      },
      "text/plain": [
       "evaluating: 0it [00:00, ?it/s]"
      ]
     },
     "metadata": {},
     "output_type": "display_data"
    },
    {
     "name": "stdout",
     "output_type": "stream",
     "text": [
      "4464\n"
     ]
    },
    {
     "data": {
      "application/vnd.jupyter.widget-view+json": {
       "model_id": "550bec301b0f4da380d1b5446e605a96",
       "version_major": 2,
       "version_minor": 0
      },
      "text/plain": [
       "evaluating: 0it [00:00, ?it/s]"
      ]
     },
     "metadata": {},
     "output_type": "display_data"
    },
    {
     "name": "stdout",
     "output_type": "stream",
     "text": [
      "4464\n"
     ]
    },
    {
     "data": {
      "application/vnd.jupyter.widget-view+json": {
       "model_id": "64ca4b53accc45e6b7a97064a0630695",
       "version_major": 2,
       "version_minor": 0
      },
      "text/plain": [
       "evaluating: 0it [00:00, ?it/s]"
      ]
     },
     "metadata": {},
     "output_type": "display_data"
    },
    {
     "name": "stdout",
     "output_type": "stream",
     "text": [
      "4464\n"
     ]
    },
    {
     "data": {
      "application/vnd.jupyter.widget-view+json": {
       "model_id": "8dd2577e660d40ce85d21ac64ff698a3",
       "version_major": 2,
       "version_minor": 0
      },
      "text/plain": [
       "evaluating: 0it [00:00, ?it/s]"
      ]
     },
     "metadata": {},
     "output_type": "display_data"
    },
    {
     "name": "stdout",
     "output_type": "stream",
     "text": [
      "4464\n"
     ]
    },
    {
     "data": {
      "application/vnd.jupyter.widget-view+json": {
       "model_id": "fa7d0feb96764dd0ba9adf2895e18946",
       "version_major": 2,
       "version_minor": 0
      },
      "text/plain": [
       "evaluating: 0it [00:00, ?it/s]"
      ]
     },
     "metadata": {},
     "output_type": "display_data"
    },
    {
     "name": "stdout",
     "output_type": "stream",
     "text": [
      "4464\n"
     ]
    },
    {
     "data": {
      "application/vnd.jupyter.widget-view+json": {
       "model_id": "cae14f36379f4bd4b1c46130cffa65d3",
       "version_major": 2,
       "version_minor": 0
      },
      "text/plain": [
       "evaluating: 0it [00:00, ?it/s]"
      ]
     },
     "metadata": {},
     "output_type": "display_data"
    },
    {
     "name": "stdout",
     "output_type": "stream",
     "text": [
      "4464\n"
     ]
    },
    {
     "data": {
      "application/vnd.jupyter.widget-view+json": {
       "model_id": "bc1b61356f264eb2a7eda71f304778e1",
       "version_major": 2,
       "version_minor": 0
      },
      "text/plain": [
       "evaluating: 0it [00:00, ?it/s]"
      ]
     },
     "metadata": {},
     "output_type": "display_data"
    },
    {
     "name": "stdout",
     "output_type": "stream",
     "text": [
      "4464\n"
     ]
    },
    {
     "data": {
      "application/vnd.jupyter.widget-view+json": {
       "model_id": "57fc588791bb4d50a19521e94e7aced6",
       "version_major": 2,
       "version_minor": 0
      },
      "text/plain": [
       "evaluating: 0it [00:00, ?it/s]"
      ]
     },
     "metadata": {},
     "output_type": "display_data"
    },
    {
     "name": "stdout",
     "output_type": "stream",
     "text": [
      "4464\n"
     ]
    },
    {
     "data": {
      "application/vnd.jupyter.widget-view+json": {
       "model_id": "e87bac2b143544938fbffa77bf730d08",
       "version_major": 2,
       "version_minor": 0
      },
      "text/plain": [
       "evaluating: 0it [00:00, ?it/s]"
      ]
     },
     "metadata": {},
     "output_type": "display_data"
    },
    {
     "name": "stdout",
     "output_type": "stream",
     "text": [
      "4464\n"
     ]
    },
    {
     "data": {
      "application/vnd.jupyter.widget-view+json": {
       "model_id": "6f85354212b7416f83bc29f29d81cc72",
       "version_major": 2,
       "version_minor": 0
      },
      "text/plain": [
       "evaluating: 0it [00:00, ?it/s]"
      ]
     },
     "metadata": {},
     "output_type": "display_data"
    },
    {
     "name": "stdout",
     "output_type": "stream",
     "text": [
      "4464\n"
     ]
    },
    {
     "data": {
      "application/vnd.jupyter.widget-view+json": {
       "model_id": "1181f5aaf25d43259d13ab52791921dd",
       "version_major": 2,
       "version_minor": 0
      },
      "text/plain": [
       "evaluating: 0it [00:00, ?it/s]"
      ]
     },
     "metadata": {},
     "output_type": "display_data"
    },
    {
     "name": "stdout",
     "output_type": "stream",
     "text": [
      "4464\n"
     ]
    },
    {
     "data": {
      "application/vnd.jupyter.widget-view+json": {
       "model_id": "18400bcbe246441e8199fec0905f7b1a",
       "version_major": 2,
       "version_minor": 0
      },
      "text/plain": [
       "evaluating: 0it [00:00, ?it/s]"
      ]
     },
     "metadata": {},
     "output_type": "display_data"
    },
    {
     "name": "stdout",
     "output_type": "stream",
     "text": [
      "4464\n"
     ]
    },
    {
     "data": {
      "application/vnd.jupyter.widget-view+json": {
       "model_id": "fad37d024c0749fda02472bc42ba4bbc",
       "version_major": 2,
       "version_minor": 0
      },
      "text/plain": [
       "evaluating: 0it [00:00, ?it/s]"
      ]
     },
     "metadata": {},
     "output_type": "display_data"
    },
    {
     "name": "stdout",
     "output_type": "stream",
     "text": [
      "4464\n"
     ]
    },
    {
     "data": {
      "application/vnd.jupyter.widget-view+json": {
       "model_id": "0aea7129954d4b3e813c0075fb03ee1c",
       "version_major": 2,
       "version_minor": 0
      },
      "text/plain": [
       "evaluating: 0it [00:00, ?it/s]"
      ]
     },
     "metadata": {},
     "output_type": "display_data"
    },
    {
     "name": "stdout",
     "output_type": "stream",
     "text": [
      "4464\n"
     ]
    },
    {
     "data": {
      "application/vnd.jupyter.widget-view+json": {
       "model_id": "73403b32408a4b3d8016d1ce5f2cd542",
       "version_major": 2,
       "version_minor": 0
      },
      "text/plain": [
       "evaluating: 0it [00:00, ?it/s]"
      ]
     },
     "metadata": {},
     "output_type": "display_data"
    },
    {
     "name": "stdout",
     "output_type": "stream",
     "text": [
      "4464\n"
     ]
    },
    {
     "data": {
      "application/vnd.jupyter.widget-view+json": {
       "model_id": "8e9707c8c94543258806b085b7951d80",
       "version_major": 2,
       "version_minor": 0
      },
      "text/plain": [
       "evaluating: 0it [00:00, ?it/s]"
      ]
     },
     "metadata": {},
     "output_type": "display_data"
    },
    {
     "name": "stdout",
     "output_type": "stream",
     "text": [
      "4464\n"
     ]
    },
    {
     "data": {
      "application/vnd.jupyter.widget-view+json": {
       "model_id": "704f95900a8d4c7189bd5898a75b0c7e",
       "version_major": 2,
       "version_minor": 0
      },
      "text/plain": [
       "evaluating: 0it [00:00, ?it/s]"
      ]
     },
     "metadata": {},
     "output_type": "display_data"
    },
    {
     "name": "stdout",
     "output_type": "stream",
     "text": [
      "4464\n"
     ]
    },
    {
     "data": {
      "application/vnd.jupyter.widget-view+json": {
       "model_id": "d6e5d8cca8e7485daa7dd95ee0dc6ae3",
       "version_major": 2,
       "version_minor": 0
      },
      "text/plain": [
       "evaluating: 0it [00:00, ?it/s]"
      ]
     },
     "metadata": {},
     "output_type": "display_data"
    },
    {
     "name": "stdout",
     "output_type": "stream",
     "text": [
      "4464\n"
     ]
    },
    {
     "data": {
      "application/vnd.jupyter.widget-view+json": {
       "model_id": "6f7aa3070d59492390a47ccb75922ad4",
       "version_major": 2,
       "version_minor": 0
      },
      "text/plain": [
       "evaluating: 0it [00:00, ?it/s]"
      ]
     },
     "metadata": {},
     "output_type": "display_data"
    },
    {
     "name": "stdout",
     "output_type": "stream",
     "text": [
      "4464\n"
     ]
    },
    {
     "data": {
      "application/vnd.jupyter.widget-view+json": {
       "model_id": "aedd4bebb504427e9b6ec30703696ee5",
       "version_major": 2,
       "version_minor": 0
      },
      "text/plain": [
       "evaluating: 0it [00:00, ?it/s]"
      ]
     },
     "metadata": {},
     "output_type": "display_data"
    },
    {
     "name": "stdout",
     "output_type": "stream",
     "text": [
      "4464\n"
     ]
    },
    {
     "data": {
      "application/vnd.jupyter.widget-view+json": {
       "model_id": "e6822387d05340acad416e40ee637ce4",
       "version_major": 2,
       "version_minor": 0
      },
      "text/plain": [
       "evaluating: 0it [00:00, ?it/s]"
      ]
     },
     "metadata": {},
     "output_type": "display_data"
    },
    {
     "name": "stdout",
     "output_type": "stream",
     "text": [
      "4464\n"
     ]
    },
    {
     "data": {
      "application/vnd.jupyter.widget-view+json": {
       "model_id": "37f33cbdc45f46a894c66206df6b60a4",
       "version_major": 2,
       "version_minor": 0
      },
      "text/plain": [
       "evaluating: 0it [00:00, ?it/s]"
      ]
     },
     "metadata": {},
     "output_type": "display_data"
    },
    {
     "name": "stdout",
     "output_type": "stream",
     "text": [
      "4464\n"
     ]
    },
    {
     "data": {
      "application/vnd.jupyter.widget-view+json": {
       "model_id": "996f01b5f6214e0595b29215506580f9",
       "version_major": 2,
       "version_minor": 0
      },
      "text/plain": [
       "evaluating: 0it [00:00, ?it/s]"
      ]
     },
     "metadata": {},
     "output_type": "display_data"
    },
    {
     "name": "stdout",
     "output_type": "stream",
     "text": [
      "4464\n"
     ]
    },
    {
     "data": {
      "application/vnd.jupyter.widget-view+json": {
       "model_id": "0c50010dc2bb4bbfb3b3fa8bb70e7071",
       "version_major": 2,
       "version_minor": 0
      },
      "text/plain": [
       "evaluating: 0it [00:00, ?it/s]"
      ]
     },
     "metadata": {},
     "output_type": "display_data"
    },
    {
     "name": "stdout",
     "output_type": "stream",
     "text": [
      "4464\n"
     ]
    },
    {
     "data": {
      "application/vnd.jupyter.widget-view+json": {
       "model_id": "e57a755afb50486da66692894b858ef7",
       "version_major": 2,
       "version_minor": 0
      },
      "text/plain": [
       "evaluating: 0it [00:00, ?it/s]"
      ]
     },
     "metadata": {},
     "output_type": "display_data"
    },
    {
     "name": "stdout",
     "output_type": "stream",
     "text": [
      "4464\n"
     ]
    },
    {
     "data": {
      "application/vnd.jupyter.widget-view+json": {
       "model_id": "7dd301147abc4615ae94e446eb4a5e08",
       "version_major": 2,
       "version_minor": 0
      },
      "text/plain": [
       "evaluating: 0it [00:00, ?it/s]"
      ]
     },
     "metadata": {},
     "output_type": "display_data"
    },
    {
     "name": "stdout",
     "output_type": "stream",
     "text": [
      "4464\n"
     ]
    },
    {
     "data": {
      "application/vnd.jupyter.widget-view+json": {
       "model_id": "85a75eb2b4d048abae36bd484ac285fb",
       "version_major": 2,
       "version_minor": 0
      },
      "text/plain": [
       "evaluating: 0it [00:00, ?it/s]"
      ]
     },
     "metadata": {},
     "output_type": "display_data"
    },
    {
     "name": "stdout",
     "output_type": "stream",
     "text": [
      "4464\n"
     ]
    },
    {
     "data": {
      "application/vnd.jupyter.widget-view+json": {
       "model_id": "0d77637a88384daa8a84bc7d28481a5e",
       "version_major": 2,
       "version_minor": 0
      },
      "text/plain": [
       "evaluating: 0it [00:00, ?it/s]"
      ]
     },
     "metadata": {},
     "output_type": "display_data"
    },
    {
     "name": "stdout",
     "output_type": "stream",
     "text": [
      "4464\n"
     ]
    },
    {
     "data": {
      "application/vnd.jupyter.widget-view+json": {
       "model_id": "d366e5938250451db5fff6506efa505b",
       "version_major": 2,
       "version_minor": 0
      },
      "text/plain": [
       "evaluating: 0it [00:00, ?it/s]"
      ]
     },
     "metadata": {},
     "output_type": "display_data"
    },
    {
     "name": "stdout",
     "output_type": "stream",
     "text": [
      "4464\n"
     ]
    },
    {
     "data": {
      "application/vnd.jupyter.widget-view+json": {
       "model_id": "2236b18de85a47fe846be8f404572e56",
       "version_major": 2,
       "version_minor": 0
      },
      "text/plain": [
       "evaluating: 0it [00:00, ?it/s]"
      ]
     },
     "metadata": {},
     "output_type": "display_data"
    },
    {
     "name": "stdout",
     "output_type": "stream",
     "text": [
      "4464\n"
     ]
    },
    {
     "data": {
      "application/vnd.jupyter.widget-view+json": {
       "model_id": "bd003a0211c24abfadb45bfaa6f9ec22",
       "version_major": 2,
       "version_minor": 0
      },
      "text/plain": [
       "evaluating: 0it [00:00, ?it/s]"
      ]
     },
     "metadata": {},
     "output_type": "display_data"
    },
    {
     "name": "stdout",
     "output_type": "stream",
     "text": [
      "4464\n"
     ]
    },
    {
     "data": {
      "application/vnd.jupyter.widget-view+json": {
       "model_id": "01e993c6b9bc45d1ae6435caa18db850",
       "version_major": 2,
       "version_minor": 0
      },
      "text/plain": [
       "evaluating: 0it [00:00, ?it/s]"
      ]
     },
     "metadata": {},
     "output_type": "display_data"
    },
    {
     "name": "stdout",
     "output_type": "stream",
     "text": [
      "4464\n"
     ]
    },
    {
     "data": {
      "application/vnd.jupyter.widget-view+json": {
       "model_id": "382a134b948f4bfd94a660ada045e972",
       "version_major": 2,
       "version_minor": 0
      },
      "text/plain": [
       "evaluating: 0it [00:00, ?it/s]"
      ]
     },
     "metadata": {},
     "output_type": "display_data"
    },
    {
     "name": "stdout",
     "output_type": "stream",
     "text": [
      "4464\n"
     ]
    },
    {
     "data": {
      "application/vnd.jupyter.widget-view+json": {
       "model_id": "1dbcab015e8e489fb74b44cde23f577e",
       "version_major": 2,
       "version_minor": 0
      },
      "text/plain": [
       "evaluating: 0it [00:00, ?it/s]"
      ]
     },
     "metadata": {},
     "output_type": "display_data"
    },
    {
     "name": "stdout",
     "output_type": "stream",
     "text": [
      "4464\n"
     ]
    },
    {
     "data": {
      "application/vnd.jupyter.widget-view+json": {
       "model_id": "cf2a52bd46e3441ca188e8b5a776f5d9",
       "version_major": 2,
       "version_minor": 0
      },
      "text/plain": [
       "evaluating: 0it [00:00, ?it/s]"
      ]
     },
     "metadata": {},
     "output_type": "display_data"
    },
    {
     "name": "stdout",
     "output_type": "stream",
     "text": [
      "4464\n"
     ]
    },
    {
     "data": {
      "application/vnd.jupyter.widget-view+json": {
       "model_id": "37cc690e408a4ac6a09be63a08e85284",
       "version_major": 2,
       "version_minor": 0
      },
      "text/plain": [
       "evaluating: 0it [00:00, ?it/s]"
      ]
     },
     "metadata": {},
     "output_type": "display_data"
    },
    {
     "name": "stdout",
     "output_type": "stream",
     "text": [
      "4464\n"
     ]
    },
    {
     "data": {
      "application/vnd.jupyter.widget-view+json": {
       "model_id": "edf07d3a19ea4e5dbc0ffde3483f0d17",
       "version_major": 2,
       "version_minor": 0
      },
      "text/plain": [
       "evaluating: 0it [00:00, ?it/s]"
      ]
     },
     "metadata": {},
     "output_type": "display_data"
    },
    {
     "name": "stdout",
     "output_type": "stream",
     "text": [
      "4464\n"
     ]
    },
    {
     "data": {
      "application/vnd.jupyter.widget-view+json": {
       "model_id": "e0a32928f3f9469a81b0bda4031fece9",
       "version_major": 2,
       "version_minor": 0
      },
      "text/plain": [
       "evaluating: 0it [00:00, ?it/s]"
      ]
     },
     "metadata": {},
     "output_type": "display_data"
    },
    {
     "name": "stdout",
     "output_type": "stream",
     "text": [
      "4464\n"
     ]
    },
    {
     "data": {
      "application/vnd.jupyter.widget-view+json": {
       "model_id": "1fbca85eaf034c59b380b028a0680c86",
       "version_major": 2,
       "version_minor": 0
      },
      "text/plain": [
       "evaluating: 0it [00:00, ?it/s]"
      ]
     },
     "metadata": {},
     "output_type": "display_data"
    },
    {
     "name": "stdout",
     "output_type": "stream",
     "text": [
      "4464\n"
     ]
    },
    {
     "data": {
      "application/vnd.jupyter.widget-view+json": {
       "model_id": "7e02baf3e3e642bb96dfeb6a7df3acac",
       "version_major": 2,
       "version_minor": 0
      },
      "text/plain": [
       "evaluating: 0it [00:00, ?it/s]"
      ]
     },
     "metadata": {},
     "output_type": "display_data"
    },
    {
     "name": "stdout",
     "output_type": "stream",
     "text": [
      "4464\n"
     ]
    },
    {
     "data": {
      "application/vnd.jupyter.widget-view+json": {
       "model_id": "99f18071c74040e094df05ef62c9bac1",
       "version_major": 2,
       "version_minor": 0
      },
      "text/plain": [
       "evaluating: 0it [00:00, ?it/s]"
      ]
     },
     "metadata": {},
     "output_type": "display_data"
    },
    {
     "name": "stdout",
     "output_type": "stream",
     "text": [
      "4464\n"
     ]
    },
    {
     "data": {
      "application/vnd.jupyter.widget-view+json": {
       "model_id": "bfc1d5e308ed4609995020ed179a5106",
       "version_major": 2,
       "version_minor": 0
      },
      "text/plain": [
       "evaluating: 0it [00:00, ?it/s]"
      ]
     },
     "metadata": {},
     "output_type": "display_data"
    },
    {
     "name": "stdout",
     "output_type": "stream",
     "text": [
      "4464\n"
     ]
    },
    {
     "data": {
      "application/vnd.jupyter.widget-view+json": {
       "model_id": "6a33f8bbf0d24b7790a5caeb9688a5e6",
       "version_major": 2,
       "version_minor": 0
      },
      "text/plain": [
       "evaluating: 0it [00:00, ?it/s]"
      ]
     },
     "metadata": {},
     "output_type": "display_data"
    },
    {
     "name": "stdout",
     "output_type": "stream",
     "text": [
      "4464\n"
     ]
    },
    {
     "data": {
      "application/vnd.jupyter.widget-view+json": {
       "model_id": "73ed23edbece42a888ac7faa9a6df35e",
       "version_major": 2,
       "version_minor": 0
      },
      "text/plain": [
       "evaluating: 0it [00:00, ?it/s]"
      ]
     },
     "metadata": {},
     "output_type": "display_data"
    },
    {
     "name": "stdout",
     "output_type": "stream",
     "text": [
      "4464\n"
     ]
    },
    {
     "data": {
      "application/vnd.jupyter.widget-view+json": {
       "model_id": "10f789f122604cf4bca69a68e8283473",
       "version_major": 2,
       "version_minor": 0
      },
      "text/plain": [
       "evaluating: 0it [00:00, ?it/s]"
      ]
     },
     "metadata": {},
     "output_type": "display_data"
    },
    {
     "name": "stdout",
     "output_type": "stream",
     "text": [
      "4464\n"
     ]
    },
    {
     "data": {
      "application/vnd.jupyter.widget-view+json": {
       "model_id": "9a63eae5430440fcaaaab787b37e9b6f",
       "version_major": 2,
       "version_minor": 0
      },
      "text/plain": [
       "evaluating: 0it [00:00, ?it/s]"
      ]
     },
     "metadata": {},
     "output_type": "display_data"
    },
    {
     "name": "stdout",
     "output_type": "stream",
     "text": [
      "4464\n"
     ]
    },
    {
     "data": {
      "application/vnd.jupyter.widget-view+json": {
       "model_id": "b340c89f67d14d5c8eb995d5ba654ff0",
       "version_major": 2,
       "version_minor": 0
      },
      "text/plain": [
       "evaluating: 0it [00:00, ?it/s]"
      ]
     },
     "metadata": {},
     "output_type": "display_data"
    },
    {
     "name": "stdout",
     "output_type": "stream",
     "text": [
      "4464\n"
     ]
    },
    {
     "data": {
      "application/vnd.jupyter.widget-view+json": {
       "model_id": "403b42b8c69e4e9fad41b779d35833f2",
       "version_major": 2,
       "version_minor": 0
      },
      "text/plain": [
       "evaluating: 0it [00:00, ?it/s]"
      ]
     },
     "metadata": {},
     "output_type": "display_data"
    },
    {
     "name": "stdout",
     "output_type": "stream",
     "text": [
      "4464\n"
     ]
    },
    {
     "data": {
      "application/vnd.jupyter.widget-view+json": {
       "model_id": "b727ae7e16ac4881b14b8822b801ca1a",
       "version_major": 2,
       "version_minor": 0
      },
      "text/plain": [
       "evaluating: 0it [00:00, ?it/s]"
      ]
     },
     "metadata": {},
     "output_type": "display_data"
    },
    {
     "name": "stdout",
     "output_type": "stream",
     "text": [
      "4464\n"
     ]
    },
    {
     "data": {
      "application/vnd.jupyter.widget-view+json": {
       "model_id": "f632ac3f57c44f2782eaf421cb2c5018",
       "version_major": 2,
       "version_minor": 0
      },
      "text/plain": [
       "evaluating: 0it [00:00, ?it/s]"
      ]
     },
     "metadata": {},
     "output_type": "display_data"
    },
    {
     "name": "stdout",
     "output_type": "stream",
     "text": [
      "4464\n"
     ]
    },
    {
     "data": {
      "application/vnd.jupyter.widget-view+json": {
       "model_id": "3807457c83114e72924994bc0ac9b091",
       "version_major": 2,
       "version_minor": 0
      },
      "text/plain": [
       "evaluating: 0it [00:00, ?it/s]"
      ]
     },
     "metadata": {},
     "output_type": "display_data"
    },
    {
     "name": "stdout",
     "output_type": "stream",
     "text": [
      "4464\n"
     ]
    },
    {
     "data": {
      "application/vnd.jupyter.widget-view+json": {
       "model_id": "253e68dcc5f241c6a9555678ceaa65f6",
       "version_major": 2,
       "version_minor": 0
      },
      "text/plain": [
       "evaluating: 0it [00:00, ?it/s]"
      ]
     },
     "metadata": {},
     "output_type": "display_data"
    },
    {
     "name": "stdout",
     "output_type": "stream",
     "text": [
      "4464\n"
     ]
    },
    {
     "data": {
      "application/vnd.jupyter.widget-view+json": {
       "model_id": "436565a70de940d3836857edba89ab9c",
       "version_major": 2,
       "version_minor": 0
      },
      "text/plain": [
       "evaluating: 0it [00:00, ?it/s]"
      ]
     },
     "metadata": {},
     "output_type": "display_data"
    },
    {
     "name": "stdout",
     "output_type": "stream",
     "text": [
      "4464\n"
     ]
    },
    {
     "data": {
      "application/vnd.jupyter.widget-view+json": {
       "model_id": "df50ed42aa3542bc959c8c7f54a51acb",
       "version_major": 2,
       "version_minor": 0
      },
      "text/plain": [
       "evaluating: 0it [00:00, ?it/s]"
      ]
     },
     "metadata": {},
     "output_type": "display_data"
    },
    {
     "name": "stdout",
     "output_type": "stream",
     "text": [
      "4464\n"
     ]
    },
    {
     "data": {
      "application/vnd.jupyter.widget-view+json": {
       "model_id": "3939186b9f374beeb30fe85cc539f4bf",
       "version_major": 2,
       "version_minor": 0
      },
      "text/plain": [
       "evaluating: 0it [00:00, ?it/s]"
      ]
     },
     "metadata": {},
     "output_type": "display_data"
    },
    {
     "name": "stdout",
     "output_type": "stream",
     "text": [
      "4464\n"
     ]
    },
    {
     "data": {
      "application/vnd.jupyter.widget-view+json": {
       "model_id": "2817d868bca44c648a2798b2e01df8ce",
       "version_major": 2,
       "version_minor": 0
      },
      "text/plain": [
       "evaluating: 0it [00:00, ?it/s]"
      ]
     },
     "metadata": {},
     "output_type": "display_data"
    },
    {
     "name": "stdout",
     "output_type": "stream",
     "text": [
      "4464\n"
     ]
    },
    {
     "data": {
      "application/vnd.jupyter.widget-view+json": {
       "model_id": "8a8739eaaad74b89ab3a2301ea2185b9",
       "version_major": 2,
       "version_minor": 0
      },
      "text/plain": [
       "evaluating: 0it [00:00, ?it/s]"
      ]
     },
     "metadata": {},
     "output_type": "display_data"
    },
    {
     "name": "stdout",
     "output_type": "stream",
     "text": [
      "4464\n"
     ]
    },
    {
     "data": {
      "application/vnd.jupyter.widget-view+json": {
       "model_id": "767a8f0d7d8c461aa8ed056f01a7fe44",
       "version_major": 2,
       "version_minor": 0
      },
      "text/plain": [
       "evaluating: 0it [00:00, ?it/s]"
      ]
     },
     "metadata": {},
     "output_type": "display_data"
    },
    {
     "name": "stdout",
     "output_type": "stream",
     "text": [
      "4464\n"
     ]
    },
    {
     "data": {
      "application/vnd.jupyter.widget-view+json": {
       "model_id": "cd180ebcf0e14f31b1bac2a23d4c26e8",
       "version_major": 2,
       "version_minor": 0
      },
      "text/plain": [
       "evaluating: 0it [00:00, ?it/s]"
      ]
     },
     "metadata": {},
     "output_type": "display_data"
    },
    {
     "name": "stdout",
     "output_type": "stream",
     "text": [
      "4464\n"
     ]
    },
    {
     "data": {
      "application/vnd.jupyter.widget-view+json": {
       "model_id": "2cba8549a8dd4ae08bb211f95cfb6650",
       "version_major": 2,
       "version_minor": 0
      },
      "text/plain": [
       "evaluating: 0it [00:00, ?it/s]"
      ]
     },
     "metadata": {},
     "output_type": "display_data"
    },
    {
     "name": "stdout",
     "output_type": "stream",
     "text": [
      "4464\n"
     ]
    },
    {
     "data": {
      "application/vnd.jupyter.widget-view+json": {
       "model_id": "50a9f621be2b4e62b02a7a98be4174be",
       "version_major": 2,
       "version_minor": 0
      },
      "text/plain": [
       "evaluating: 0it [00:00, ?it/s]"
      ]
     },
     "metadata": {},
     "output_type": "display_data"
    },
    {
     "name": "stdout",
     "output_type": "stream",
     "text": [
      "4464\n"
     ]
    },
    {
     "data": {
      "application/vnd.jupyter.widget-view+json": {
       "model_id": "fd6570c717df44ac9277d8bd3fa5dd3c",
       "version_major": 2,
       "version_minor": 0
      },
      "text/plain": [
       "evaluating: 0it [00:00, ?it/s]"
      ]
     },
     "metadata": {},
     "output_type": "display_data"
    },
    {
     "name": "stdout",
     "output_type": "stream",
     "text": [
      "4464\n"
     ]
    },
    {
     "data": {
      "application/vnd.jupyter.widget-view+json": {
       "model_id": "155118625f9c434f9d8f3805c2435b91",
       "version_major": 2,
       "version_minor": 0
      },
      "text/plain": [
       "evaluating: 0it [00:00, ?it/s]"
      ]
     },
     "metadata": {},
     "output_type": "display_data"
    },
    {
     "name": "stdout",
     "output_type": "stream",
     "text": [
      "4464\n"
     ]
    },
    {
     "data": {
      "application/vnd.jupyter.widget-view+json": {
       "model_id": "979fc5403dae4fe38946c5f1560fe494",
       "version_major": 2,
       "version_minor": 0
      },
      "text/plain": [
       "evaluating: 0it [00:00, ?it/s]"
      ]
     },
     "metadata": {},
     "output_type": "display_data"
    },
    {
     "name": "stdout",
     "output_type": "stream",
     "text": [
      "4464\n"
     ]
    },
    {
     "data": {
      "application/vnd.jupyter.widget-view+json": {
       "model_id": "3d9fa4282de5491e9dbbab6a03f5dc29",
       "version_major": 2,
       "version_minor": 0
      },
      "text/plain": [
       "evaluating: 0it [00:00, ?it/s]"
      ]
     },
     "metadata": {},
     "output_type": "display_data"
    },
    {
     "name": "stdout",
     "output_type": "stream",
     "text": [
      "4464\n"
     ]
    },
    {
     "data": {
      "application/vnd.jupyter.widget-view+json": {
       "model_id": "59b052c078504b4eafe2b7ba821d1d66",
       "version_major": 2,
       "version_minor": 0
      },
      "text/plain": [
       "evaluating: 0it [00:00, ?it/s]"
      ]
     },
     "metadata": {},
     "output_type": "display_data"
    },
    {
     "name": "stdout",
     "output_type": "stream",
     "text": [
      "4464\n"
     ]
    },
    {
     "data": {
      "application/vnd.jupyter.widget-view+json": {
       "model_id": "08f81fe365b140788deebeb405e27523",
       "version_major": 2,
       "version_minor": 0
      },
      "text/plain": [
       "evaluating: 0it [00:00, ?it/s]"
      ]
     },
     "metadata": {},
     "output_type": "display_data"
    },
    {
     "name": "stdout",
     "output_type": "stream",
     "text": [
      "4464\n"
     ]
    },
    {
     "data": {
      "application/vnd.jupyter.widget-view+json": {
       "model_id": "214cab6fb2d04b84bd4c6c7e8694c1c2",
       "version_major": 2,
       "version_minor": 0
      },
      "text/plain": [
       "evaluating: 0it [00:00, ?it/s]"
      ]
     },
     "metadata": {},
     "output_type": "display_data"
    },
    {
     "name": "stdout",
     "output_type": "stream",
     "text": [
      "4464\n"
     ]
    },
    {
     "data": {
      "application/vnd.jupyter.widget-view+json": {
       "model_id": "948ea81f48b243209cc28ad98881e0c5",
       "version_major": 2,
       "version_minor": 0
      },
      "text/plain": [
       "evaluating: 0it [00:00, ?it/s]"
      ]
     },
     "metadata": {},
     "output_type": "display_data"
    },
    {
     "name": "stdout",
     "output_type": "stream",
     "text": [
      "4464\n"
     ]
    },
    {
     "data": {
      "application/vnd.jupyter.widget-view+json": {
       "model_id": "9857d3ee852d41a69aa1a2bd95617caf",
       "version_major": 2,
       "version_minor": 0
      },
      "text/plain": [
       "evaluating: 0it [00:00, ?it/s]"
      ]
     },
     "metadata": {},
     "output_type": "display_data"
    },
    {
     "name": "stdout",
     "output_type": "stream",
     "text": [
      "4464\n"
     ]
    },
    {
     "data": {
      "application/vnd.jupyter.widget-view+json": {
       "model_id": "e9efdcca4f094da89ec21b71cb4dd77e",
       "version_major": 2,
       "version_minor": 0
      },
      "text/plain": [
       "evaluating: 0it [00:00, ?it/s]"
      ]
     },
     "metadata": {},
     "output_type": "display_data"
    },
    {
     "name": "stdout",
     "output_type": "stream",
     "text": [
      "4464\n"
     ]
    },
    {
     "data": {
      "application/vnd.jupyter.widget-view+json": {
       "model_id": "03e38f772ce84eb3aefcb449b5fe1dc5",
       "version_major": 2,
       "version_minor": 0
      },
      "text/plain": [
       "evaluating: 0it [00:00, ?it/s]"
      ]
     },
     "metadata": {},
     "output_type": "display_data"
    },
    {
     "name": "stdout",
     "output_type": "stream",
     "text": [
      "4464\n"
     ]
    },
    {
     "data": {
      "application/vnd.jupyter.widget-view+json": {
       "model_id": "fd766825d10e4a8cb754443a8d1979bf",
       "version_major": 2,
       "version_minor": 0
      },
      "text/plain": [
       "evaluating: 0it [00:00, ?it/s]"
      ]
     },
     "metadata": {},
     "output_type": "display_data"
    },
    {
     "name": "stdout",
     "output_type": "stream",
     "text": [
      "4464\n"
     ]
    },
    {
     "data": {
      "application/vnd.jupyter.widget-view+json": {
       "model_id": "8c0ea7b285e84a7ba1abb7e9e7c2a324",
       "version_major": 2,
       "version_minor": 0
      },
      "text/plain": [
       "evaluating: 0it [00:00, ?it/s]"
      ]
     },
     "metadata": {},
     "output_type": "display_data"
    },
    {
     "name": "stdout",
     "output_type": "stream",
     "text": [
      "4464\n"
     ]
    },
    {
     "data": {
      "application/vnd.jupyter.widget-view+json": {
       "model_id": "90747f006ab741868abfa84aecc64d2e",
       "version_major": 2,
       "version_minor": 0
      },
      "text/plain": [
       "evaluating: 0it [00:00, ?it/s]"
      ]
     },
     "metadata": {},
     "output_type": "display_data"
    },
    {
     "name": "stdout",
     "output_type": "stream",
     "text": [
      "4464\n"
     ]
    },
    {
     "data": {
      "application/vnd.jupyter.widget-view+json": {
       "model_id": "b26247cea01d41a3b68f3c443fd01993",
       "version_major": 2,
       "version_minor": 0
      },
      "text/plain": [
       "evaluating: 0it [00:00, ?it/s]"
      ]
     },
     "metadata": {},
     "output_type": "display_data"
    },
    {
     "name": "stdout",
     "output_type": "stream",
     "text": [
      "4464\n"
     ]
    },
    {
     "data": {
      "application/vnd.jupyter.widget-view+json": {
       "model_id": "ef771d52bc2c4ee9a040d68d59573705",
       "version_major": 2,
       "version_minor": 0
      },
      "text/plain": [
       "evaluating: 0it [00:00, ?it/s]"
      ]
     },
     "metadata": {},
     "output_type": "display_data"
    },
    {
     "name": "stdout",
     "output_type": "stream",
     "text": [
      "4464\n"
     ]
    },
    {
     "data": {
      "application/vnd.jupyter.widget-view+json": {
       "model_id": "a9362263ee264049b05e554a6818bce9",
       "version_major": 2,
       "version_minor": 0
      },
      "text/plain": [
       "evaluating: 0it [00:00, ?it/s]"
      ]
     },
     "metadata": {},
     "output_type": "display_data"
    },
    {
     "name": "stdout",
     "output_type": "stream",
     "text": [
      "4464\n"
     ]
    },
    {
     "data": {
      "application/vnd.jupyter.widget-view+json": {
       "model_id": "9df17cad5fef4476b93ae9878fe93c0e",
       "version_major": 2,
       "version_minor": 0
      },
      "text/plain": [
       "evaluating: 0it [00:00, ?it/s]"
      ]
     },
     "metadata": {},
     "output_type": "display_data"
    },
    {
     "name": "stdout",
     "output_type": "stream",
     "text": [
      "4464\n"
     ]
    },
    {
     "data": {
      "application/vnd.jupyter.widget-view+json": {
       "model_id": "e02093b384b7453bb8f979b7cc92befc",
       "version_major": 2,
       "version_minor": 0
      },
      "text/plain": [
       "evaluating: 0it [00:00, ?it/s]"
      ]
     },
     "metadata": {},
     "output_type": "display_data"
    },
    {
     "name": "stdout",
     "output_type": "stream",
     "text": [
      "4464\n"
     ]
    },
    {
     "data": {
      "application/vnd.jupyter.widget-view+json": {
       "model_id": "f7903438d4754b50a9ed3a1c52469d70",
       "version_major": 2,
       "version_minor": 0
      },
      "text/plain": [
       "evaluating: 0it [00:00, ?it/s]"
      ]
     },
     "metadata": {},
     "output_type": "display_data"
    },
    {
     "name": "stdout",
     "output_type": "stream",
     "text": [
      "4464\n"
     ]
    },
    {
     "data": {
      "application/vnd.jupyter.widget-view+json": {
       "model_id": "33fa8f98358a473d83557a0ba5d330fa",
       "version_major": 2,
       "version_minor": 0
      },
      "text/plain": [
       "evaluating: 0it [00:00, ?it/s]"
      ]
     },
     "metadata": {},
     "output_type": "display_data"
    },
    {
     "name": "stdout",
     "output_type": "stream",
     "text": [
      "4464\n"
     ]
    },
    {
     "data": {
      "application/vnd.jupyter.widget-view+json": {
       "model_id": "716484dcef7d46f09ccd06f81726b5e9",
       "version_major": 2,
       "version_minor": 0
      },
      "text/plain": [
       "evaluating: 0it [00:00, ?it/s]"
      ]
     },
     "metadata": {},
     "output_type": "display_data"
    },
    {
     "name": "stdout",
     "output_type": "stream",
     "text": [
      "4464\n"
     ]
    },
    {
     "data": {
      "application/vnd.jupyter.widget-view+json": {
       "model_id": "af8479eda9b04f51b292866fc4fb15f6",
       "version_major": 2,
       "version_minor": 0
      },
      "text/plain": [
       "evaluating: 0it [00:00, ?it/s]"
      ]
     },
     "metadata": {},
     "output_type": "display_data"
    },
    {
     "name": "stdout",
     "output_type": "stream",
     "text": [
      "4464\n"
     ]
    },
    {
     "data": {
      "application/vnd.jupyter.widget-view+json": {
       "model_id": "fdc61bf66f10403ca3ada8d08f2f2af8",
       "version_major": 2,
       "version_minor": 0
      },
      "text/plain": [
       "evaluating: 0it [00:00, ?it/s]"
      ]
     },
     "metadata": {},
     "output_type": "display_data"
    },
    {
     "name": "stdout",
     "output_type": "stream",
     "text": [
      "4464\n"
     ]
    },
    {
     "data": {
      "application/vnd.jupyter.widget-view+json": {
       "model_id": "e5bb3336b1ce41eba7f9398d998105b0",
       "version_major": 2,
       "version_minor": 0
      },
      "text/plain": [
       "evaluating: 0it [00:00, ?it/s]"
      ]
     },
     "metadata": {},
     "output_type": "display_data"
    },
    {
     "name": "stdout",
     "output_type": "stream",
     "text": [
      "4464\n"
     ]
    },
    {
     "data": {
      "application/vnd.jupyter.widget-view+json": {
       "model_id": "987e03063c544cdeb298cb3bd4d1a68d",
       "version_major": 2,
       "version_minor": 0
      },
      "text/plain": [
       "evaluating: 0it [00:00, ?it/s]"
      ]
     },
     "metadata": {},
     "output_type": "display_data"
    },
    {
     "name": "stdout",
     "output_type": "stream",
     "text": [
      "4464\n"
     ]
    },
    {
     "data": {
      "application/vnd.jupyter.widget-view+json": {
       "model_id": "7956e511396a45138c3ee6a9859e4ef0",
       "version_major": 2,
       "version_minor": 0
      },
      "text/plain": [
       "evaluating: 0it [00:00, ?it/s]"
      ]
     },
     "metadata": {},
     "output_type": "display_data"
    },
    {
     "name": "stdout",
     "output_type": "stream",
     "text": [
      "4464\n"
     ]
    },
    {
     "data": {
      "application/vnd.jupyter.widget-view+json": {
       "model_id": "6df03293eafd4cce870d80b835bbc81f",
       "version_major": 2,
       "version_minor": 0
      },
      "text/plain": [
       "evaluating: 0it [00:00, ?it/s]"
      ]
     },
     "metadata": {},
     "output_type": "display_data"
    },
    {
     "name": "stdout",
     "output_type": "stream",
     "text": [
      "4464\n"
     ]
    },
    {
     "data": {
      "application/vnd.jupyter.widget-view+json": {
       "model_id": "c2d28e962a8c4be2b9eb55e7eddb6159",
       "version_major": 2,
       "version_minor": 0
      },
      "text/plain": [
       "evaluating: 0it [00:00, ?it/s]"
      ]
     },
     "metadata": {},
     "output_type": "display_data"
    },
    {
     "name": "stdout",
     "output_type": "stream",
     "text": [
      "4464\n"
     ]
    },
    {
     "data": {
      "application/vnd.jupyter.widget-view+json": {
       "model_id": "b13090e6d407486aa78385b4bcfe3085",
       "version_major": 2,
       "version_minor": 0
      },
      "text/plain": [
       "evaluating: 0it [00:00, ?it/s]"
      ]
     },
     "metadata": {},
     "output_type": "display_data"
    },
    {
     "name": "stdout",
     "output_type": "stream",
     "text": [
      "4464\n"
     ]
    },
    {
     "data": {
      "application/vnd.jupyter.widget-view+json": {
       "model_id": "f6ca4d6ecca440329193bde95bc2a9b5",
       "version_major": 2,
       "version_minor": 0
      },
      "text/plain": [
       "evaluating: 0it [00:00, ?it/s]"
      ]
     },
     "metadata": {},
     "output_type": "display_data"
    },
    {
     "name": "stdout",
     "output_type": "stream",
     "text": [
      "4464\n"
     ]
    },
    {
     "data": {
      "application/vnd.jupyter.widget-view+json": {
       "model_id": "5c3860fd629f42e0a01b5db32529da1e",
       "version_major": 2,
       "version_minor": 0
      },
      "text/plain": [
       "evaluating: 0it [00:00, ?it/s]"
      ]
     },
     "metadata": {},
     "output_type": "display_data"
    },
    {
     "name": "stdout",
     "output_type": "stream",
     "text": [
      "4464\n"
     ]
    },
    {
     "data": {
      "application/vnd.jupyter.widget-view+json": {
       "model_id": "2bd8ae0e88214eea9ef457fbda7096e5",
       "version_major": 2,
       "version_minor": 0
      },
      "text/plain": [
       "evaluating: 0it [00:00, ?it/s]"
      ]
     },
     "metadata": {},
     "output_type": "display_data"
    },
    {
     "name": "stdout",
     "output_type": "stream",
     "text": [
      "4464\n"
     ]
    },
    {
     "data": {
      "application/vnd.jupyter.widget-view+json": {
       "model_id": "621449b25881417aac775e99a9464c63",
       "version_major": 2,
       "version_minor": 0
      },
      "text/plain": [
       "evaluating: 0it [00:00, ?it/s]"
      ]
     },
     "metadata": {},
     "output_type": "display_data"
    },
    {
     "name": "stdout",
     "output_type": "stream",
     "text": [
      "4464\n"
     ]
    },
    {
     "data": {
      "application/vnd.jupyter.widget-view+json": {
       "model_id": "e86239a975544ec6bf4a0db1540cdcfc",
       "version_major": 2,
       "version_minor": 0
      },
      "text/plain": [
       "evaluating: 0it [00:00, ?it/s]"
      ]
     },
     "metadata": {},
     "output_type": "display_data"
    },
    {
     "name": "stdout",
     "output_type": "stream",
     "text": [
      "4464\n"
     ]
    },
    {
     "data": {
      "application/vnd.jupyter.widget-view+json": {
       "model_id": "55b14e8e73604306b6318f6e7ed40223",
       "version_major": 2,
       "version_minor": 0
      },
      "text/plain": [
       "evaluating: 0it [00:00, ?it/s]"
      ]
     },
     "metadata": {},
     "output_type": "display_data"
    },
    {
     "name": "stdout",
     "output_type": "stream",
     "text": [
      "4464\n"
     ]
    },
    {
     "data": {
      "application/vnd.jupyter.widget-view+json": {
       "model_id": "6603999d2bf5467ea9da8103bea145f6",
       "version_major": 2,
       "version_minor": 0
      },
      "text/plain": [
       "evaluating: 0it [00:00, ?it/s]"
      ]
     },
     "metadata": {},
     "output_type": "display_data"
    },
    {
     "name": "stdout",
     "output_type": "stream",
     "text": [
      "4464\n"
     ]
    },
    {
     "data": {
      "application/vnd.jupyter.widget-view+json": {
       "model_id": "c3a0fead410f4bcda002b1545462d95e",
       "version_major": 2,
       "version_minor": 0
      },
      "text/plain": [
       "evaluating: 0it [00:00, ?it/s]"
      ]
     },
     "metadata": {},
     "output_type": "display_data"
    },
    {
     "name": "stdout",
     "output_type": "stream",
     "text": [
      "4464\n"
     ]
    },
    {
     "data": {
      "application/vnd.jupyter.widget-view+json": {
       "model_id": "a59e8061200746e8831e24df8f06e510",
       "version_major": 2,
       "version_minor": 0
      },
      "text/plain": [
       "evaluating: 0it [00:00, ?it/s]"
      ]
     },
     "metadata": {},
     "output_type": "display_data"
    },
    {
     "name": "stdout",
     "output_type": "stream",
     "text": [
      "4464\n"
     ]
    },
    {
     "data": {
      "application/vnd.jupyter.widget-view+json": {
       "model_id": "76aa0d007be14b2e8ff466e4c43cd2fa",
       "version_major": 2,
       "version_minor": 0
      },
      "text/plain": [
       "evaluating: 0it [00:00, ?it/s]"
      ]
     },
     "metadata": {},
     "output_type": "display_data"
    },
    {
     "name": "stdout",
     "output_type": "stream",
     "text": [
      "4464\n"
     ]
    },
    {
     "data": {
      "application/vnd.jupyter.widget-view+json": {
       "model_id": "13361c07818046a7aa7784d3f071f91d",
       "version_major": 2,
       "version_minor": 0
      },
      "text/plain": [
       "evaluating: 0it [00:00, ?it/s]"
      ]
     },
     "metadata": {},
     "output_type": "display_data"
    },
    {
     "name": "stdout",
     "output_type": "stream",
     "text": [
      "4464\n"
     ]
    },
    {
     "data": {
      "application/vnd.jupyter.widget-view+json": {
       "model_id": "ecb95c046c77428085423c495f7f9666",
       "version_major": 2,
       "version_minor": 0
      },
      "text/plain": [
       "evaluating: 0it [00:00, ?it/s]"
      ]
     },
     "metadata": {},
     "output_type": "display_data"
    },
    {
     "name": "stdout",
     "output_type": "stream",
     "text": [
      "4464\n"
     ]
    },
    {
     "data": {
      "application/vnd.jupyter.widget-view+json": {
       "model_id": "07ad171a768e47809b9d5319b5c8484f",
       "version_major": 2,
       "version_minor": 0
      },
      "text/plain": [
       "evaluating: 0it [00:00, ?it/s]"
      ]
     },
     "metadata": {},
     "output_type": "display_data"
    },
    {
     "name": "stdout",
     "output_type": "stream",
     "text": [
      "4464\n"
     ]
    },
    {
     "data": {
      "application/vnd.jupyter.widget-view+json": {
       "model_id": "14c57f17d18641c0a9f2c7299d2ca34f",
       "version_major": 2,
       "version_minor": 0
      },
      "text/plain": [
       "evaluating: 0it [00:00, ?it/s]"
      ]
     },
     "metadata": {},
     "output_type": "display_data"
    },
    {
     "name": "stdout",
     "output_type": "stream",
     "text": [
      "4464\n"
     ]
    },
    {
     "data": {
      "application/vnd.jupyter.widget-view+json": {
       "model_id": "48c2163272704befb54ad3669a71e313",
       "version_major": 2,
       "version_minor": 0
      },
      "text/plain": [
       "evaluating: 0it [00:00, ?it/s]"
      ]
     },
     "metadata": {},
     "output_type": "display_data"
    },
    {
     "name": "stdout",
     "output_type": "stream",
     "text": [
      "4464\n"
     ]
    },
    {
     "data": {
      "application/vnd.jupyter.widget-view+json": {
       "model_id": "87c889831da141178d9fbb0b26424c83",
       "version_major": 2,
       "version_minor": 0
      },
      "text/plain": [
       "evaluating: 0it [00:00, ?it/s]"
      ]
     },
     "metadata": {},
     "output_type": "display_data"
    },
    {
     "name": "stdout",
     "output_type": "stream",
     "text": [
      "4464\n"
     ]
    },
    {
     "data": {
      "application/vnd.jupyter.widget-view+json": {
       "model_id": "e6b0b43f1988432ab9d7ea05df9e824e",
       "version_major": 2,
       "version_minor": 0
      },
      "text/plain": [
       "evaluating: 0it [00:00, ?it/s]"
      ]
     },
     "metadata": {},
     "output_type": "display_data"
    },
    {
     "name": "stdout",
     "output_type": "stream",
     "text": [
      "4464\n"
     ]
    },
    {
     "data": {
      "application/vnd.jupyter.widget-view+json": {
       "model_id": "861d1e01559440fcbdfde1c14d6a0024",
       "version_major": 2,
       "version_minor": 0
      },
      "text/plain": [
       "evaluating: 0it [00:00, ?it/s]"
      ]
     },
     "metadata": {},
     "output_type": "display_data"
    },
    {
     "name": "stdout",
     "output_type": "stream",
     "text": [
      "4464\n"
     ]
    },
    {
     "data": {
      "application/vnd.jupyter.widget-view+json": {
       "model_id": "45c27b97d1bd4b31a87ef021be66f33e",
       "version_major": 2,
       "version_minor": 0
      },
      "text/plain": [
       "evaluating: 0it [00:00, ?it/s]"
      ]
     },
     "metadata": {},
     "output_type": "display_data"
    },
    {
     "name": "stdout",
     "output_type": "stream",
     "text": [
      "4464\n"
     ]
    },
    {
     "data": {
      "application/vnd.jupyter.widget-view+json": {
       "model_id": "e505b655f72f4b7bab98400d627da151",
       "version_major": 2,
       "version_minor": 0
      },
      "text/plain": [
       "evaluating: 0it [00:00, ?it/s]"
      ]
     },
     "metadata": {},
     "output_type": "display_data"
    },
    {
     "name": "stdout",
     "output_type": "stream",
     "text": [
      "4464\n"
     ]
    },
    {
     "data": {
      "application/vnd.jupyter.widget-view+json": {
       "model_id": "a2cd54e4f5f54f83a474f899e2f8a927",
       "version_major": 2,
       "version_minor": 0
      },
      "text/plain": [
       "evaluating: 0it [00:00, ?it/s]"
      ]
     },
     "metadata": {},
     "output_type": "display_data"
    },
    {
     "name": "stdout",
     "output_type": "stream",
     "text": [
      "4464\n"
     ]
    },
    {
     "data": {
      "application/vnd.jupyter.widget-view+json": {
       "model_id": "76f4a3a567f647ea8a25b5c729c543c0",
       "version_major": 2,
       "version_minor": 0
      },
      "text/plain": [
       "evaluating: 0it [00:00, ?it/s]"
      ]
     },
     "metadata": {},
     "output_type": "display_data"
    },
    {
     "name": "stdout",
     "output_type": "stream",
     "text": [
      "4464\n"
     ]
    },
    {
     "data": {
      "application/vnd.jupyter.widget-view+json": {
       "model_id": "bf80c203b49943bfa70a69a531f2839f",
       "version_major": 2,
       "version_minor": 0
      },
      "text/plain": [
       "evaluating: 0it [00:00, ?it/s]"
      ]
     },
     "metadata": {},
     "output_type": "display_data"
    },
    {
     "name": "stdout",
     "output_type": "stream",
     "text": [
      "4464\n"
     ]
    },
    {
     "data": {
      "application/vnd.jupyter.widget-view+json": {
       "model_id": "8f0de27b9fe1422a9b932cd6140a1d90",
       "version_major": 2,
       "version_minor": 0
      },
      "text/plain": [
       "evaluating: 0it [00:00, ?it/s]"
      ]
     },
     "metadata": {},
     "output_type": "display_data"
    },
    {
     "name": "stdout",
     "output_type": "stream",
     "text": [
      "4464\n"
     ]
    },
    {
     "data": {
      "application/vnd.jupyter.widget-view+json": {
       "model_id": "82d6cf768d834ec18a54cfebd4064d51",
       "version_major": 2,
       "version_minor": 0
      },
      "text/plain": [
       "evaluating: 0it [00:00, ?it/s]"
      ]
     },
     "metadata": {},
     "output_type": "display_data"
    },
    {
     "name": "stdout",
     "output_type": "stream",
     "text": [
      "4464\n"
     ]
    },
    {
     "data": {
      "application/vnd.jupyter.widget-view+json": {
       "model_id": "06134ab9db6d4cc19fddf119419f47cc",
       "version_major": 2,
       "version_minor": 0
      },
      "text/plain": [
       "evaluating: 0it [00:00, ?it/s]"
      ]
     },
     "metadata": {},
     "output_type": "display_data"
    },
    {
     "name": "stdout",
     "output_type": "stream",
     "text": [
      "4464\n"
     ]
    },
    {
     "data": {
      "application/vnd.jupyter.widget-view+json": {
       "model_id": "d5b9ecd7aeaf4ca99a8441a304aa2c4b",
       "version_major": 2,
       "version_minor": 0
      },
      "text/plain": [
       "evaluating: 0it [00:00, ?it/s]"
      ]
     },
     "metadata": {},
     "output_type": "display_data"
    },
    {
     "name": "stdout",
     "output_type": "stream",
     "text": [
      "4464\n"
     ]
    },
    {
     "data": {
      "application/vnd.jupyter.widget-view+json": {
       "model_id": "67d1156211b84cc8b2c2c246580c799b",
       "version_major": 2,
       "version_minor": 0
      },
      "text/plain": [
       "evaluating: 0it [00:00, ?it/s]"
      ]
     },
     "metadata": {},
     "output_type": "display_data"
    },
    {
     "name": "stdout",
     "output_type": "stream",
     "text": [
      "4464\n"
     ]
    },
    {
     "data": {
      "application/vnd.jupyter.widget-view+json": {
       "model_id": "e678d78abc614bb2b3872fbfe39b8e53",
       "version_major": 2,
       "version_minor": 0
      },
      "text/plain": [
       "evaluating: 0it [00:00, ?it/s]"
      ]
     },
     "metadata": {},
     "output_type": "display_data"
    },
    {
     "name": "stdout",
     "output_type": "stream",
     "text": [
      "4464\n"
     ]
    },
    {
     "data": {
      "application/vnd.jupyter.widget-view+json": {
       "model_id": "80cc4307ad9f429998ff75a8358db90e",
       "version_major": 2,
       "version_minor": 0
      },
      "text/plain": [
       "evaluating: 0it [00:00, ?it/s]"
      ]
     },
     "metadata": {},
     "output_type": "display_data"
    },
    {
     "name": "stdout",
     "output_type": "stream",
     "text": [
      "4464\n"
     ]
    },
    {
     "data": {
      "application/vnd.jupyter.widget-view+json": {
       "model_id": "8087bbfc10634e86bdf3721991f4d1df",
       "version_major": 2,
       "version_minor": 0
      },
      "text/plain": [
       "evaluating: 0it [00:00, ?it/s]"
      ]
     },
     "metadata": {},
     "output_type": "display_data"
    },
    {
     "name": "stdout",
     "output_type": "stream",
     "text": [
      "4464\n"
     ]
    },
    {
     "data": {
      "application/vnd.jupyter.widget-view+json": {
       "model_id": "fed6ac4764cf4c30adc7b3d37fb685c4",
       "version_major": 2,
       "version_minor": 0
      },
      "text/plain": [
       "evaluating: 0it [00:00, ?it/s]"
      ]
     },
     "metadata": {},
     "output_type": "display_data"
    },
    {
     "name": "stdout",
     "output_type": "stream",
     "text": [
      "4464\n"
     ]
    },
    {
     "data": {
      "application/vnd.jupyter.widget-view+json": {
       "model_id": "edf153036f64491989d34338c95ceff2",
       "version_major": 2,
       "version_minor": 0
      },
      "text/plain": [
       "evaluating: 0it [00:00, ?it/s]"
      ]
     },
     "metadata": {},
     "output_type": "display_data"
    },
    {
     "name": "stdout",
     "output_type": "stream",
     "text": [
      "4464\n"
     ]
    },
    {
     "data": {
      "application/vnd.jupyter.widget-view+json": {
       "model_id": "715ff52e3c10425eb84bee272037d785",
       "version_major": 2,
       "version_minor": 0
      },
      "text/plain": [
       "evaluating: 0it [00:00, ?it/s]"
      ]
     },
     "metadata": {},
     "output_type": "display_data"
    },
    {
     "name": "stdout",
     "output_type": "stream",
     "text": [
      "4464\n"
     ]
    },
    {
     "data": {
      "application/vnd.jupyter.widget-view+json": {
       "model_id": "7e247162e91646e0ae232b1121bffc7e",
       "version_major": 2,
       "version_minor": 0
      },
      "text/plain": [
       "evaluating: 0it [00:00, ?it/s]"
      ]
     },
     "metadata": {},
     "output_type": "display_data"
    },
    {
     "name": "stdout",
     "output_type": "stream",
     "text": [
      "4464\n"
     ]
    },
    {
     "data": {
      "application/vnd.jupyter.widget-view+json": {
       "model_id": "276d1aeef03347db81457b153c40df91",
       "version_major": 2,
       "version_minor": 0
      },
      "text/plain": [
       "evaluating: 0it [00:00, ?it/s]"
      ]
     },
     "metadata": {},
     "output_type": "display_data"
    },
    {
     "name": "stdout",
     "output_type": "stream",
     "text": [
      "4464\n"
     ]
    },
    {
     "data": {
      "application/vnd.jupyter.widget-view+json": {
       "model_id": "667bc6c6c3fa45649a5ebc712b1e009b",
       "version_major": 2,
       "version_minor": 0
      },
      "text/plain": [
       "evaluating: 0it [00:00, ?it/s]"
      ]
     },
     "metadata": {},
     "output_type": "display_data"
    },
    {
     "name": "stdout",
     "output_type": "stream",
     "text": [
      "4464\n"
     ]
    },
    {
     "data": {
      "application/vnd.jupyter.widget-view+json": {
       "model_id": "2ca21800c80a43038cd5c06c761b9872",
       "version_major": 2,
       "version_minor": 0
      },
      "text/plain": [
       "evaluating: 0it [00:00, ?it/s]"
      ]
     },
     "metadata": {},
     "output_type": "display_data"
    },
    {
     "name": "stdout",
     "output_type": "stream",
     "text": [
      "4464\n"
     ]
    },
    {
     "data": {
      "application/vnd.jupyter.widget-view+json": {
       "model_id": "eafdb46d5f3541fb9857cde1b1c2ad0c",
       "version_major": 2,
       "version_minor": 0
      },
      "text/plain": [
       "evaluating: 0it [00:00, ?it/s]"
      ]
     },
     "metadata": {},
     "output_type": "display_data"
    },
    {
     "name": "stdout",
     "output_type": "stream",
     "text": [
      "4464\n"
     ]
    },
    {
     "data": {
      "application/vnd.jupyter.widget-view+json": {
       "model_id": "f16ef697ea254769a87dd3af2e105f49",
       "version_major": 2,
       "version_minor": 0
      },
      "text/plain": [
       "evaluating: 0it [00:00, ?it/s]"
      ]
     },
     "metadata": {},
     "output_type": "display_data"
    },
    {
     "name": "stdout",
     "output_type": "stream",
     "text": [
      "4464\n"
     ]
    },
    {
     "data": {
      "application/vnd.jupyter.widget-view+json": {
       "model_id": "0dfeade01d74421186414ed99ce1f056",
       "version_major": 2,
       "version_minor": 0
      },
      "text/plain": [
       "evaluating: 0it [00:00, ?it/s]"
      ]
     },
     "metadata": {},
     "output_type": "display_data"
    },
    {
     "name": "stdout",
     "output_type": "stream",
     "text": [
      "4464\n"
     ]
    },
    {
     "data": {
      "application/vnd.jupyter.widget-view+json": {
       "model_id": "43fb9872e2a54d3e9eb57cbfe54c6c44",
       "version_major": 2,
       "version_minor": 0
      },
      "text/plain": [
       "evaluating: 0it [00:00, ?it/s]"
      ]
     },
     "metadata": {},
     "output_type": "display_data"
    },
    {
     "name": "stdout",
     "output_type": "stream",
     "text": [
      "4464\n"
     ]
    },
    {
     "data": {
      "application/vnd.jupyter.widget-view+json": {
       "model_id": "cd456e11ba9a4c64a4ffe66074bd34ea",
       "version_major": 2,
       "version_minor": 0
      },
      "text/plain": [
       "evaluating: 0it [00:00, ?it/s]"
      ]
     },
     "metadata": {},
     "output_type": "display_data"
    },
    {
     "name": "stdout",
     "output_type": "stream",
     "text": [
      "4464\n"
     ]
    },
    {
     "data": {
      "application/vnd.jupyter.widget-view+json": {
       "model_id": "9f9f6b71e74140e49da94b2db0c80b5f",
       "version_major": 2,
       "version_minor": 0
      },
      "text/plain": [
       "evaluating: 0it [00:00, ?it/s]"
      ]
     },
     "metadata": {},
     "output_type": "display_data"
    },
    {
     "name": "stdout",
     "output_type": "stream",
     "text": [
      "4464\n"
     ]
    },
    {
     "data": {
      "application/vnd.jupyter.widget-view+json": {
       "model_id": "685e35e036b743d1b150d1268aba5f91",
       "version_major": 2,
       "version_minor": 0
      },
      "text/plain": [
       "evaluating: 0it [00:00, ?it/s]"
      ]
     },
     "metadata": {},
     "output_type": "display_data"
    },
    {
     "name": "stdout",
     "output_type": "stream",
     "text": [
      "4464\n"
     ]
    },
    {
     "data": {
      "application/vnd.jupyter.widget-view+json": {
       "model_id": "bbd42d79b19b484b88f3277a6b1eba88",
       "version_major": 2,
       "version_minor": 0
      },
      "text/plain": [
       "evaluating: 0it [00:00, ?it/s]"
      ]
     },
     "metadata": {},
     "output_type": "display_data"
    },
    {
     "name": "stdout",
     "output_type": "stream",
     "text": [
      "4464\n"
     ]
    },
    {
     "data": {
      "application/vnd.jupyter.widget-view+json": {
       "model_id": "83d3309a828145d0a04db1c89e33390d",
       "version_major": 2,
       "version_minor": 0
      },
      "text/plain": [
       "evaluating: 0it [00:00, ?it/s]"
      ]
     },
     "metadata": {},
     "output_type": "display_data"
    },
    {
     "name": "stdout",
     "output_type": "stream",
     "text": [
      "4464\n"
     ]
    },
    {
     "data": {
      "application/vnd.jupyter.widget-view+json": {
       "model_id": "855e59cd62c1419493b9b36741b22458",
       "version_major": 2,
       "version_minor": 0
      },
      "text/plain": [
       "evaluating: 0it [00:00, ?it/s]"
      ]
     },
     "metadata": {},
     "output_type": "display_data"
    },
    {
     "name": "stdout",
     "output_type": "stream",
     "text": [
      "4464\n"
     ]
    },
    {
     "data": {
      "application/vnd.jupyter.widget-view+json": {
       "model_id": "d7a47772aea34a4cacf10d4e2b68696e",
       "version_major": 2,
       "version_minor": 0
      },
      "text/plain": [
       "evaluating: 0it [00:00, ?it/s]"
      ]
     },
     "metadata": {},
     "output_type": "display_data"
    },
    {
     "name": "stdout",
     "output_type": "stream",
     "text": [
      "4464\n"
     ]
    },
    {
     "data": {
      "application/vnd.jupyter.widget-view+json": {
       "model_id": "e31df59ddb5e46b7a400b944df0ade60",
       "version_major": 2,
       "version_minor": 0
      },
      "text/plain": [
       "evaluating: 0it [00:00, ?it/s]"
      ]
     },
     "metadata": {},
     "output_type": "display_data"
    },
    {
     "name": "stdout",
     "output_type": "stream",
     "text": [
      "4464\n"
     ]
    },
    {
     "data": {
      "application/vnd.jupyter.widget-view+json": {
       "model_id": "d3e83706d4d747f18406d57be72b5d99",
       "version_major": 2,
       "version_minor": 0
      },
      "text/plain": [
       "evaluating: 0it [00:00, ?it/s]"
      ]
     },
     "metadata": {},
     "output_type": "display_data"
    },
    {
     "name": "stdout",
     "output_type": "stream",
     "text": [
      "4464\n"
     ]
    },
    {
     "data": {
      "application/vnd.jupyter.widget-view+json": {
       "model_id": "3e7dbd9a86804a039efc389b987b9af6",
       "version_major": 2,
       "version_minor": 0
      },
      "text/plain": [
       "evaluating: 0it [00:00, ?it/s]"
      ]
     },
     "metadata": {},
     "output_type": "display_data"
    },
    {
     "name": "stdout",
     "output_type": "stream",
     "text": [
      "4464\n"
     ]
    },
    {
     "data": {
      "application/vnd.jupyter.widget-view+json": {
       "model_id": "aa0508e6973b47eebf0915897329a87f",
       "version_major": 2,
       "version_minor": 0
      },
      "text/plain": [
       "evaluating: 0it [00:00, ?it/s]"
      ]
     },
     "metadata": {},
     "output_type": "display_data"
    },
    {
     "name": "stdout",
     "output_type": "stream",
     "text": [
      "4464\n"
     ]
    },
    {
     "data": {
      "application/vnd.jupyter.widget-view+json": {
       "model_id": "425efdd4cada4af59b9b0317c6bfecbc",
       "version_major": 2,
       "version_minor": 0
      },
      "text/plain": [
       "evaluating: 0it [00:00, ?it/s]"
      ]
     },
     "metadata": {},
     "output_type": "display_data"
    },
    {
     "name": "stdout",
     "output_type": "stream",
     "text": [
      "4464\n"
     ]
    },
    {
     "data": {
      "application/vnd.jupyter.widget-view+json": {
       "model_id": "72d8113292d54360bd7f8ebc353e8a3e",
       "version_major": 2,
       "version_minor": 0
      },
      "text/plain": [
       "evaluating: 0it [00:00, ?it/s]"
      ]
     },
     "metadata": {},
     "output_type": "display_data"
    },
    {
     "name": "stdout",
     "output_type": "stream",
     "text": [
      "4464\n"
     ]
    },
    {
     "data": {
      "application/vnd.jupyter.widget-view+json": {
       "model_id": "134e55c70353494ca7865d885eb70c04",
       "version_major": 2,
       "version_minor": 0
      },
      "text/plain": [
       "evaluating: 0it [00:00, ?it/s]"
      ]
     },
     "metadata": {},
     "output_type": "display_data"
    },
    {
     "name": "stdout",
     "output_type": "stream",
     "text": [
      "4464\n"
     ]
    },
    {
     "data": {
      "application/vnd.jupyter.widget-view+json": {
       "model_id": "3e4c7fe3bfb9415eb9c21ebad569f684",
       "version_major": 2,
       "version_minor": 0
      },
      "text/plain": [
       "evaluating: 0it [00:00, ?it/s]"
      ]
     },
     "metadata": {},
     "output_type": "display_data"
    },
    {
     "name": "stdout",
     "output_type": "stream",
     "text": [
      "4464\n"
     ]
    },
    {
     "data": {
      "application/vnd.jupyter.widget-view+json": {
       "model_id": "70ccfc7a61a847cfb5ac632a77b207bf",
       "version_major": 2,
       "version_minor": 0
      },
      "text/plain": [
       "evaluating: 0it [00:00, ?it/s]"
      ]
     },
     "metadata": {},
     "output_type": "display_data"
    },
    {
     "name": "stdout",
     "output_type": "stream",
     "text": [
      "4464\n"
     ]
    },
    {
     "data": {
      "application/vnd.jupyter.widget-view+json": {
       "model_id": "4d814fd0444e422a8dcddf4b5c32e724",
       "version_major": 2,
       "version_minor": 0
      },
      "text/plain": [
       "evaluating: 0it [00:00, ?it/s]"
      ]
     },
     "metadata": {},
     "output_type": "display_data"
    },
    {
     "name": "stdout",
     "output_type": "stream",
     "text": [
      "4464\n"
     ]
    },
    {
     "data": {
      "application/vnd.jupyter.widget-view+json": {
       "model_id": "aecb34a6bf014ef496df74378cd45008",
       "version_major": 2,
       "version_minor": 0
      },
      "text/plain": [
       "evaluating: 0it [00:00, ?it/s]"
      ]
     },
     "metadata": {},
     "output_type": "display_data"
    },
    {
     "name": "stdout",
     "output_type": "stream",
     "text": [
      "4464\n"
     ]
    },
    {
     "data": {
      "application/vnd.jupyter.widget-view+json": {
       "model_id": "72a80bf69eb943a38868817620cd6273",
       "version_major": 2,
       "version_minor": 0
      },
      "text/plain": [
       "evaluating: 0it [00:00, ?it/s]"
      ]
     },
     "metadata": {},
     "output_type": "display_data"
    },
    {
     "name": "stdout",
     "output_type": "stream",
     "text": [
      "4464\n"
     ]
    },
    {
     "data": {
      "application/vnd.jupyter.widget-view+json": {
       "model_id": "ea25be82824a4bdfa3029b64471f11a0",
       "version_major": 2,
       "version_minor": 0
      },
      "text/plain": [
       "evaluating: 0it [00:00, ?it/s]"
      ]
     },
     "metadata": {},
     "output_type": "display_data"
    },
    {
     "name": "stdout",
     "output_type": "stream",
     "text": [
      "4464\n"
     ]
    },
    {
     "data": {
      "application/vnd.jupyter.widget-view+json": {
       "model_id": "d1b2f4b3719349eaa2c25eeee0f8a85a",
       "version_major": 2,
       "version_minor": 0
      },
      "text/plain": [
       "evaluating: 0it [00:00, ?it/s]"
      ]
     },
     "metadata": {},
     "output_type": "display_data"
    },
    {
     "name": "stdout",
     "output_type": "stream",
     "text": [
      "4464\n"
     ]
    },
    {
     "data": {
      "application/vnd.jupyter.widget-view+json": {
       "model_id": "ac060dad9f314fed8041a037303a00a0",
       "version_major": 2,
       "version_minor": 0
      },
      "text/plain": [
       "evaluating: 0it [00:00, ?it/s]"
      ]
     },
     "metadata": {},
     "output_type": "display_data"
    },
    {
     "name": "stdout",
     "output_type": "stream",
     "text": [
      "4464\n"
     ]
    },
    {
     "data": {
      "application/vnd.jupyter.widget-view+json": {
       "model_id": "76ae34350e974d429cf8f7b7590d4858",
       "version_major": 2,
       "version_minor": 0
      },
      "text/plain": [
       "evaluating: 0it [00:00, ?it/s]"
      ]
     },
     "metadata": {},
     "output_type": "display_data"
    },
    {
     "name": "stdout",
     "output_type": "stream",
     "text": [
      "4464\n"
     ]
    },
    {
     "data": {
      "application/vnd.jupyter.widget-view+json": {
       "model_id": "6e942b12e38b4ca8a575280feed61a57",
       "version_major": 2,
       "version_minor": 0
      },
      "text/plain": [
       "evaluating: 0it [00:00, ?it/s]"
      ]
     },
     "metadata": {},
     "output_type": "display_data"
    },
    {
     "name": "stdout",
     "output_type": "stream",
     "text": [
      "4464\n"
     ]
    },
    {
     "data": {
      "application/vnd.jupyter.widget-view+json": {
       "model_id": "b1726715928e4965a49c9004219ba3bd",
       "version_major": 2,
       "version_minor": 0
      },
      "text/plain": [
       "evaluating: 0it [00:00, ?it/s]"
      ]
     },
     "metadata": {},
     "output_type": "display_data"
    },
    {
     "name": "stdout",
     "output_type": "stream",
     "text": [
      "4464\n"
     ]
    },
    {
     "data": {
      "application/vnd.jupyter.widget-view+json": {
       "model_id": "2945903a3596450dbb3a333eea6ee095",
       "version_major": 2,
       "version_minor": 0
      },
      "text/plain": [
       "evaluating: 0it [00:00, ?it/s]"
      ]
     },
     "metadata": {},
     "output_type": "display_data"
    },
    {
     "name": "stdout",
     "output_type": "stream",
     "text": [
      "4464\n"
     ]
    },
    {
     "data": {
      "application/vnd.jupyter.widget-view+json": {
       "model_id": "884511eb53c5496abec71de6b5dde292",
       "version_major": 2,
       "version_minor": 0
      },
      "text/plain": [
       "evaluating: 0it [00:00, ?it/s]"
      ]
     },
     "metadata": {},
     "output_type": "display_data"
    },
    {
     "name": "stdout",
     "output_type": "stream",
     "text": [
      "4464\n"
     ]
    },
    {
     "data": {
      "application/vnd.jupyter.widget-view+json": {
       "model_id": "fb63916e067445cda7c03405ba52bfd2",
       "version_major": 2,
       "version_minor": 0
      },
      "text/plain": [
       "evaluating: 0it [00:00, ?it/s]"
      ]
     },
     "metadata": {},
     "output_type": "display_data"
    },
    {
     "name": "stdout",
     "output_type": "stream",
     "text": [
      "4464\n"
     ]
    },
    {
     "data": {
      "application/vnd.jupyter.widget-view+json": {
       "model_id": "c0c6dbab8d504019b09a7ce58fff9b13",
       "version_major": 2,
       "version_minor": 0
      },
      "text/plain": [
       "evaluating: 0it [00:00, ?it/s]"
      ]
     },
     "metadata": {},
     "output_type": "display_data"
    },
    {
     "name": "stdout",
     "output_type": "stream",
     "text": [
      "4464\n"
     ]
    },
    {
     "data": {
      "application/vnd.jupyter.widget-view+json": {
       "model_id": "26d28800822e451dbee6b67c562cff19",
       "version_major": 2,
       "version_minor": 0
      },
      "text/plain": [
       "evaluating: 0it [00:00, ?it/s]"
      ]
     },
     "metadata": {},
     "output_type": "display_data"
    },
    {
     "name": "stdout",
     "output_type": "stream",
     "text": [
      "4464\n"
     ]
    },
    {
     "data": {
      "application/vnd.jupyter.widget-view+json": {
       "model_id": "517fe62a3d584ff4b98ff90e0e5636cb",
       "version_major": 2,
       "version_minor": 0
      },
      "text/plain": [
       "evaluating: 0it [00:00, ?it/s]"
      ]
     },
     "metadata": {},
     "output_type": "display_data"
    },
    {
     "name": "stdout",
     "output_type": "stream",
     "text": [
      "4464\n"
     ]
    },
    {
     "data": {
      "application/vnd.jupyter.widget-view+json": {
       "model_id": "c6622b8c0dcc44438221be21b4b481ab",
       "version_major": 2,
       "version_minor": 0
      },
      "text/plain": [
       "evaluating: 0it [00:00, ?it/s]"
      ]
     },
     "metadata": {},
     "output_type": "display_data"
    },
    {
     "name": "stdout",
     "output_type": "stream",
     "text": [
      "4464\n"
     ]
    },
    {
     "data": {
      "application/vnd.jupyter.widget-view+json": {
       "model_id": "1889e3e8b18942fc84fb30ddd605fdad",
       "version_major": 2,
       "version_minor": 0
      },
      "text/plain": [
       "evaluating: 0it [00:00, ?it/s]"
      ]
     },
     "metadata": {},
     "output_type": "display_data"
    },
    {
     "name": "stdout",
     "output_type": "stream",
     "text": [
      "4464\n"
     ]
    },
    {
     "data": {
      "application/vnd.jupyter.widget-view+json": {
       "model_id": "ed237012bbfa4a3da5ff6f45a48a7974",
       "version_major": 2,
       "version_minor": 0
      },
      "text/plain": [
       "evaluating: 0it [00:00, ?it/s]"
      ]
     },
     "metadata": {},
     "output_type": "display_data"
    },
    {
     "name": "stdout",
     "output_type": "stream",
     "text": [
      "4464\n"
     ]
    },
    {
     "data": {
      "application/vnd.jupyter.widget-view+json": {
       "model_id": "18abfc6d7fd5463aba5bdc396dabb458",
       "version_major": 2,
       "version_minor": 0
      },
      "text/plain": [
       "evaluating: 0it [00:00, ?it/s]"
      ]
     },
     "metadata": {},
     "output_type": "display_data"
    },
    {
     "name": "stdout",
     "output_type": "stream",
     "text": [
      "4464\n"
     ]
    },
    {
     "data": {
      "application/vnd.jupyter.widget-view+json": {
       "model_id": "f6144008a12f45ef924eabb14df0a5e4",
       "version_major": 2,
       "version_minor": 0
      },
      "text/plain": [
       "evaluating: 0it [00:00, ?it/s]"
      ]
     },
     "metadata": {},
     "output_type": "display_data"
    },
    {
     "name": "stdout",
     "output_type": "stream",
     "text": [
      "4464\n"
     ]
    },
    {
     "data": {
      "application/vnd.jupyter.widget-view+json": {
       "model_id": "050d1914cf7c45099bdd2acf4f6c37bf",
       "version_major": 2,
       "version_minor": 0
      },
      "text/plain": [
       "evaluating: 0it [00:00, ?it/s]"
      ]
     },
     "metadata": {},
     "output_type": "display_data"
    },
    {
     "name": "stdout",
     "output_type": "stream",
     "text": [
      "4464\n"
     ]
    },
    {
     "data": {
      "application/vnd.jupyter.widget-view+json": {
       "model_id": "aac7c61e9f0143f1a45b9769aa95af44",
       "version_major": 2,
       "version_minor": 0
      },
      "text/plain": [
       "evaluating: 0it [00:00, ?it/s]"
      ]
     },
     "metadata": {},
     "output_type": "display_data"
    },
    {
     "name": "stdout",
     "output_type": "stream",
     "text": [
      "4464\n"
     ]
    },
    {
     "data": {
      "application/vnd.jupyter.widget-view+json": {
       "model_id": "5c340af44cbb4346be3a3943c487a9bf",
       "version_major": 2,
       "version_minor": 0
      },
      "text/plain": [
       "evaluating: 0it [00:00, ?it/s]"
      ]
     },
     "metadata": {},
     "output_type": "display_data"
    },
    {
     "name": "stdout",
     "output_type": "stream",
     "text": [
      "4464\n"
     ]
    },
    {
     "data": {
      "application/vnd.jupyter.widget-view+json": {
       "model_id": "8bdcbfc73b974b169f781b9cf0282bcc",
       "version_major": 2,
       "version_minor": 0
      },
      "text/plain": [
       "evaluating: 0it [00:00, ?it/s]"
      ]
     },
     "metadata": {},
     "output_type": "display_data"
    },
    {
     "name": "stdout",
     "output_type": "stream",
     "text": [
      "4464\n"
     ]
    },
    {
     "data": {
      "application/vnd.jupyter.widget-view+json": {
       "model_id": "b461fdebbd674da6a6cd2ac38eb2d5f1",
       "version_major": 2,
       "version_minor": 0
      },
      "text/plain": [
       "evaluating: 0it [00:00, ?it/s]"
      ]
     },
     "metadata": {},
     "output_type": "display_data"
    },
    {
     "name": "stdout",
     "output_type": "stream",
     "text": [
      "4464\n"
     ]
    },
    {
     "data": {
      "application/vnd.jupyter.widget-view+json": {
       "model_id": "54c8edbc8cb2418b83181b16f154575b",
       "version_major": 2,
       "version_minor": 0
      },
      "text/plain": [
       "evaluating: 0it [00:00, ?it/s]"
      ]
     },
     "metadata": {},
     "output_type": "display_data"
    },
    {
     "name": "stdout",
     "output_type": "stream",
     "text": [
      "4464\n"
     ]
    },
    {
     "data": {
      "application/vnd.jupyter.widget-view+json": {
       "model_id": "d4361b0468ed42bf97cab5e021d58bf5",
       "version_major": 2,
       "version_minor": 0
      },
      "text/plain": [
       "evaluating: 0it [00:00, ?it/s]"
      ]
     },
     "metadata": {},
     "output_type": "display_data"
    },
    {
     "name": "stdout",
     "output_type": "stream",
     "text": [
      "4464\n"
     ]
    },
    {
     "data": {
      "application/vnd.jupyter.widget-view+json": {
       "model_id": "5b698dd7828c4bce92a6a3e4bd01af5d",
       "version_major": 2,
       "version_minor": 0
      },
      "text/plain": [
       "evaluating: 0it [00:00, ?it/s]"
      ]
     },
     "metadata": {},
     "output_type": "display_data"
    },
    {
     "name": "stdout",
     "output_type": "stream",
     "text": [
      "4464\n"
     ]
    },
    {
     "data": {
      "application/vnd.jupyter.widget-view+json": {
       "model_id": "7bdd120f85ec4054b8b487a25164abf3",
       "version_major": 2,
       "version_minor": 0
      },
      "text/plain": [
       "evaluating: 0it [00:00, ?it/s]"
      ]
     },
     "metadata": {},
     "output_type": "display_data"
    },
    {
     "name": "stdout",
     "output_type": "stream",
     "text": [
      "4464\n"
     ]
    },
    {
     "data": {
      "application/vnd.jupyter.widget-view+json": {
       "model_id": "3b3f02b8888e47b9aa6f5bd2961989d1",
       "version_major": 2,
       "version_minor": 0
      },
      "text/plain": [
       "evaluating: 0it [00:00, ?it/s]"
      ]
     },
     "metadata": {},
     "output_type": "display_data"
    },
    {
     "name": "stdout",
     "output_type": "stream",
     "text": [
      "4464\n"
     ]
    },
    {
     "data": {
      "application/vnd.jupyter.widget-view+json": {
       "model_id": "04941603f9d54f948085fde7e821883d",
       "version_major": 2,
       "version_minor": 0
      },
      "text/plain": [
       "evaluating: 0it [00:00, ?it/s]"
      ]
     },
     "metadata": {},
     "output_type": "display_data"
    },
    {
     "name": "stdout",
     "output_type": "stream",
     "text": [
      "4464\n"
     ]
    },
    {
     "data": {
      "application/vnd.jupyter.widget-view+json": {
       "model_id": "332a935c549e4459a847f315ee470420",
       "version_major": 2,
       "version_minor": 0
      },
      "text/plain": [
       "evaluating: 0it [00:00, ?it/s]"
      ]
     },
     "metadata": {},
     "output_type": "display_data"
    },
    {
     "name": "stdout",
     "output_type": "stream",
     "text": [
      "4464\n"
     ]
    },
    {
     "data": {
      "application/vnd.jupyter.widget-view+json": {
       "model_id": "4ef29bbe1a0c482582c441c1399265ea",
       "version_major": 2,
       "version_minor": 0
      },
      "text/plain": [
       "evaluating: 0it [00:00, ?it/s]"
      ]
     },
     "metadata": {},
     "output_type": "display_data"
    },
    {
     "name": "stdout",
     "output_type": "stream",
     "text": [
      "4464\n"
     ]
    },
    {
     "data": {
      "application/vnd.jupyter.widget-view+json": {
       "model_id": "c91485b76c964170a0cab5d891aed343",
       "version_major": 2,
       "version_minor": 0
      },
      "text/plain": [
       "evaluating: 0it [00:00, ?it/s]"
      ]
     },
     "metadata": {},
     "output_type": "display_data"
    },
    {
     "name": "stdout",
     "output_type": "stream",
     "text": [
      "4464\n"
     ]
    },
    {
     "data": {
      "application/vnd.jupyter.widget-view+json": {
       "model_id": "24bac7b44fa4485797b9782825087f80",
       "version_major": 2,
       "version_minor": 0
      },
      "text/plain": [
       "evaluating: 0it [00:00, ?it/s]"
      ]
     },
     "metadata": {},
     "output_type": "display_data"
    },
    {
     "name": "stdout",
     "output_type": "stream",
     "text": [
      "4464\n"
     ]
    },
    {
     "data": {
      "application/vnd.jupyter.widget-view+json": {
       "model_id": "09de6cf4bdcc4bc2a46e20747a273867",
       "version_major": 2,
       "version_minor": 0
      },
      "text/plain": [
       "evaluating: 0it [00:00, ?it/s]"
      ]
     },
     "metadata": {},
     "output_type": "display_data"
    },
    {
     "name": "stdout",
     "output_type": "stream",
     "text": [
      "4464\n"
     ]
    },
    {
     "data": {
      "application/vnd.jupyter.widget-view+json": {
       "model_id": "cfa54f5362dc4bd5a8949d974fc6633b",
       "version_major": 2,
       "version_minor": 0
      },
      "text/plain": [
       "evaluating: 0it [00:00, ?it/s]"
      ]
     },
     "metadata": {},
     "output_type": "display_data"
    },
    {
     "name": "stdout",
     "output_type": "stream",
     "text": [
      "4464\n"
     ]
    },
    {
     "data": {
      "application/vnd.jupyter.widget-view+json": {
       "model_id": "5649078091bd44cc8b37c77d23e93b06",
       "version_major": 2,
       "version_minor": 0
      },
      "text/plain": [
       "evaluating: 0it [00:00, ?it/s]"
      ]
     },
     "metadata": {},
     "output_type": "display_data"
    },
    {
     "name": "stdout",
     "output_type": "stream",
     "text": [
      "4464\n"
     ]
    },
    {
     "data": {
      "application/vnd.jupyter.widget-view+json": {
       "model_id": "de33852da29a4848ba6f9f15a4d568f2",
       "version_major": 2,
       "version_minor": 0
      },
      "text/plain": [
       "evaluating: 0it [00:00, ?it/s]"
      ]
     },
     "metadata": {},
     "output_type": "display_data"
    },
    {
     "name": "stdout",
     "output_type": "stream",
     "text": [
      "4464\n"
     ]
    },
    {
     "data": {
      "application/vnd.jupyter.widget-view+json": {
       "model_id": "f44d6d2b779a47c3be939edaa74047cc",
       "version_major": 2,
       "version_minor": 0
      },
      "text/plain": [
       "evaluating: 0it [00:00, ?it/s]"
      ]
     },
     "metadata": {},
     "output_type": "display_data"
    },
    {
     "name": "stdout",
     "output_type": "stream",
     "text": [
      "4464\n"
     ]
    },
    {
     "data": {
      "application/vnd.jupyter.widget-view+json": {
       "model_id": "b219dd3ee0e04186925e62c0a64b822b",
       "version_major": 2,
       "version_minor": 0
      },
      "text/plain": [
       "evaluating: 0it [00:00, ?it/s]"
      ]
     },
     "metadata": {},
     "output_type": "display_data"
    },
    {
     "name": "stdout",
     "output_type": "stream",
     "text": [
      "4464\n"
     ]
    },
    {
     "data": {
      "application/vnd.jupyter.widget-view+json": {
       "model_id": "d289024cfb5146e1824aa5bab8d9f638",
       "version_major": 2,
       "version_minor": 0
      },
      "text/plain": [
       "evaluating: 0it [00:00, ?it/s]"
      ]
     },
     "metadata": {},
     "output_type": "display_data"
    },
    {
     "name": "stdout",
     "output_type": "stream",
     "text": [
      "4464\n"
     ]
    },
    {
     "data": {
      "application/vnd.jupyter.widget-view+json": {
       "model_id": "4ad2e072c75444d69722b6f118a5d87c",
       "version_major": 2,
       "version_minor": 0
      },
      "text/plain": [
       "evaluating: 0it [00:00, ?it/s]"
      ]
     },
     "metadata": {},
     "output_type": "display_data"
    },
    {
     "name": "stdout",
     "output_type": "stream",
     "text": [
      "4464\n"
     ]
    },
    {
     "data": {
      "application/vnd.jupyter.widget-view+json": {
       "model_id": "ae977a8e6ada4d3ba024f6ea23515d94",
       "version_major": 2,
       "version_minor": 0
      },
      "text/plain": [
       "evaluating: 0it [00:00, ?it/s]"
      ]
     },
     "metadata": {},
     "output_type": "display_data"
    },
    {
     "name": "stdout",
     "output_type": "stream",
     "text": [
      "4464\n"
     ]
    },
    {
     "data": {
      "application/vnd.jupyter.widget-view+json": {
       "model_id": "0f7335512e6f4f3192940e04787d7c2a",
       "version_major": 2,
       "version_minor": 0
      },
      "text/plain": [
       "evaluating: 0it [00:00, ?it/s]"
      ]
     },
     "metadata": {},
     "output_type": "display_data"
    },
    {
     "name": "stdout",
     "output_type": "stream",
     "text": [
      "4464\n"
     ]
    },
    {
     "data": {
      "application/vnd.jupyter.widget-view+json": {
       "model_id": "700c13ba2d3440b78e123ebe39177210",
       "version_major": 2,
       "version_minor": 0
      },
      "text/plain": [
       "evaluating: 0it [00:00, ?it/s]"
      ]
     },
     "metadata": {},
     "output_type": "display_data"
    },
    {
     "name": "stdout",
     "output_type": "stream",
     "text": [
      "4464\n"
     ]
    },
    {
     "data": {
      "application/vnd.jupyter.widget-view+json": {
       "model_id": "be40115a5b4447b4bd8d22e7aa697af9",
       "version_major": 2,
       "version_minor": 0
      },
      "text/plain": [
       "evaluating: 0it [00:00, ?it/s]"
      ]
     },
     "metadata": {},
     "output_type": "display_data"
    },
    {
     "name": "stdout",
     "output_type": "stream",
     "text": [
      "4464\n"
     ]
    },
    {
     "data": {
      "application/vnd.jupyter.widget-view+json": {
       "model_id": "8040a16743aa4ddcb2c3e883f9f2c52b",
       "version_major": 2,
       "version_minor": 0
      },
      "text/plain": [
       "evaluating: 0it [00:00, ?it/s]"
      ]
     },
     "metadata": {},
     "output_type": "display_data"
    },
    {
     "name": "stdout",
     "output_type": "stream",
     "text": [
      "4464\n"
     ]
    },
    {
     "data": {
      "application/vnd.jupyter.widget-view+json": {
       "model_id": "a886f843dbcf412b970b3a08f95c7c4b",
       "version_major": 2,
       "version_minor": 0
      },
      "text/plain": [
       "evaluating: 0it [00:00, ?it/s]"
      ]
     },
     "metadata": {},
     "output_type": "display_data"
    },
    {
     "name": "stdout",
     "output_type": "stream",
     "text": [
      "4464\n"
     ]
    },
    {
     "data": {
      "application/vnd.jupyter.widget-view+json": {
       "model_id": "df856168162041399d77e160cb438668",
       "version_major": 2,
       "version_minor": 0
      },
      "text/plain": [
       "evaluating: 0it [00:00, ?it/s]"
      ]
     },
     "metadata": {},
     "output_type": "display_data"
    },
    {
     "name": "stdout",
     "output_type": "stream",
     "text": [
      "4464\n"
     ]
    },
    {
     "data": {
      "application/vnd.jupyter.widget-view+json": {
       "model_id": "4bb4074d4dcf4872976659bd601d88a1",
       "version_major": 2,
       "version_minor": 0
      },
      "text/plain": [
       "evaluating: 0it [00:00, ?it/s]"
      ]
     },
     "metadata": {},
     "output_type": "display_data"
    },
    {
     "name": "stdout",
     "output_type": "stream",
     "text": [
      "4464\n"
     ]
    },
    {
     "data": {
      "application/vnd.jupyter.widget-view+json": {
       "model_id": "4e48e4ac70984f0ab2bd345923cd18e4",
       "version_major": 2,
       "version_minor": 0
      },
      "text/plain": [
       "evaluating: 0it [00:00, ?it/s]"
      ]
     },
     "metadata": {},
     "output_type": "display_data"
    },
    {
     "name": "stdout",
     "output_type": "stream",
     "text": [
      "4464\n"
     ]
    },
    {
     "data": {
      "application/vnd.jupyter.widget-view+json": {
       "model_id": "acbdcb505b684126b55373252cf2650d",
       "version_major": 2,
       "version_minor": 0
      },
      "text/plain": [
       "evaluating: 0it [00:00, ?it/s]"
      ]
     },
     "metadata": {},
     "output_type": "display_data"
    },
    {
     "name": "stdout",
     "output_type": "stream",
     "text": [
      "4464\n"
     ]
    },
    {
     "data": {
      "application/vnd.jupyter.widget-view+json": {
       "model_id": "8b35b58ee38641d9a890b9db662b9458",
       "version_major": 2,
       "version_minor": 0
      },
      "text/plain": [
       "evaluating: 0it [00:00, ?it/s]"
      ]
     },
     "metadata": {},
     "output_type": "display_data"
    },
    {
     "name": "stdout",
     "output_type": "stream",
     "text": [
      "4464\n"
     ]
    },
    {
     "data": {
      "application/vnd.jupyter.widget-view+json": {
       "model_id": "c40d73289ed84bc88e8dfa7f772911bf",
       "version_major": 2,
       "version_minor": 0
      },
      "text/plain": [
       "evaluating: 0it [00:00, ?it/s]"
      ]
     },
     "metadata": {},
     "output_type": "display_data"
    },
    {
     "name": "stdout",
     "output_type": "stream",
     "text": [
      "4464\n"
     ]
    },
    {
     "data": {
      "application/vnd.jupyter.widget-view+json": {
       "model_id": "cc62c992650b4f7c87e61b4adff242ea",
       "version_major": 2,
       "version_minor": 0
      },
      "text/plain": [
       "evaluating: 0it [00:00, ?it/s]"
      ]
     },
     "metadata": {},
     "output_type": "display_data"
    },
    {
     "name": "stdout",
     "output_type": "stream",
     "text": [
      "4464\n"
     ]
    },
    {
     "data": {
      "application/vnd.jupyter.widget-view+json": {
       "model_id": "eeff30b84bd44f37ae410d49b1799257",
       "version_major": 2,
       "version_minor": 0
      },
      "text/plain": [
       "evaluating: 0it [00:00, ?it/s]"
      ]
     },
     "metadata": {},
     "output_type": "display_data"
    },
    {
     "name": "stdout",
     "output_type": "stream",
     "text": [
      "4464\n"
     ]
    },
    {
     "data": {
      "application/vnd.jupyter.widget-view+json": {
       "model_id": "f8b33f33868d4c77b3fee9b40602f468",
       "version_major": 2,
       "version_minor": 0
      },
      "text/plain": [
       "evaluating: 0it [00:00, ?it/s]"
      ]
     },
     "metadata": {},
     "output_type": "display_data"
    },
    {
     "name": "stdout",
     "output_type": "stream",
     "text": [
      "4464\n"
     ]
    },
    {
     "data": {
      "application/vnd.jupyter.widget-view+json": {
       "model_id": "87fe29dabc13458fa319dcf6b976a361",
       "version_major": 2,
       "version_minor": 0
      },
      "text/plain": [
       "evaluating: 0it [00:00, ?it/s]"
      ]
     },
     "metadata": {},
     "output_type": "display_data"
    },
    {
     "name": "stdout",
     "output_type": "stream",
     "text": [
      "4464\n"
     ]
    },
    {
     "data": {
      "application/vnd.jupyter.widget-view+json": {
       "model_id": "7304436ac6cc418c87b6d52da3414e6d",
       "version_major": 2,
       "version_minor": 0
      },
      "text/plain": [
       "evaluating: 0it [00:00, ?it/s]"
      ]
     },
     "metadata": {},
     "output_type": "display_data"
    },
    {
     "name": "stdout",
     "output_type": "stream",
     "text": [
      "4464\n"
     ]
    },
    {
     "data": {
      "application/vnd.jupyter.widget-view+json": {
       "model_id": "c5626d50f7684d93a04a68cb1a8b5784",
       "version_major": 2,
       "version_minor": 0
      },
      "text/plain": [
       "evaluating: 0it [00:00, ?it/s]"
      ]
     },
     "metadata": {},
     "output_type": "display_data"
    },
    {
     "name": "stdout",
     "output_type": "stream",
     "text": [
      "4464\n"
     ]
    },
    {
     "data": {
      "application/vnd.jupyter.widget-view+json": {
       "model_id": "0058a3f83cec4e8791ccb475e75cd6ee",
       "version_major": 2,
       "version_minor": 0
      },
      "text/plain": [
       "evaluating: 0it [00:00, ?it/s]"
      ]
     },
     "metadata": {},
     "output_type": "display_data"
    },
    {
     "name": "stdout",
     "output_type": "stream",
     "text": [
      "4464\n"
     ]
    },
    {
     "data": {
      "application/vnd.jupyter.widget-view+json": {
       "model_id": "6a86d1575d0142c0a865baf3f6b8b462",
       "version_major": 2,
       "version_minor": 0
      },
      "text/plain": [
       "evaluating: 0it [00:00, ?it/s]"
      ]
     },
     "metadata": {},
     "output_type": "display_data"
    },
    {
     "name": "stdout",
     "output_type": "stream",
     "text": [
      "4464\n"
     ]
    },
    {
     "data": {
      "application/vnd.jupyter.widget-view+json": {
       "model_id": "d1f65ed127a74a74ab014c71b3833070",
       "version_major": 2,
       "version_minor": 0
      },
      "text/plain": [
       "evaluating: 0it [00:00, ?it/s]"
      ]
     },
     "metadata": {},
     "output_type": "display_data"
    },
    {
     "name": "stdout",
     "output_type": "stream",
     "text": [
      "4464\n"
     ]
    },
    {
     "data": {
      "application/vnd.jupyter.widget-view+json": {
       "model_id": "288436c9783f42c6b6532c2cd38c1f12",
       "version_major": 2,
       "version_minor": 0
      },
      "text/plain": [
       "evaluating: 0it [00:00, ?it/s]"
      ]
     },
     "metadata": {},
     "output_type": "display_data"
    },
    {
     "name": "stdout",
     "output_type": "stream",
     "text": [
      "4464\n"
     ]
    },
    {
     "data": {
      "application/vnd.jupyter.widget-view+json": {
       "model_id": "b2ebbb319bbf4aeabca3fd815befc133",
       "version_major": 2,
       "version_minor": 0
      },
      "text/plain": [
       "evaluating: 0it [00:00, ?it/s]"
      ]
     },
     "metadata": {},
     "output_type": "display_data"
    },
    {
     "name": "stdout",
     "output_type": "stream",
     "text": [
      "4464\n"
     ]
    },
    {
     "data": {
      "application/vnd.jupyter.widget-view+json": {
       "model_id": "60c4979bb600459ab2109eefd797f0b8",
       "version_major": 2,
       "version_minor": 0
      },
      "text/plain": [
       "evaluating: 0it [00:00, ?it/s]"
      ]
     },
     "metadata": {},
     "output_type": "display_data"
    },
    {
     "name": "stdout",
     "output_type": "stream",
     "text": [
      "4464\n"
     ]
    },
    {
     "data": {
      "application/vnd.jupyter.widget-view+json": {
       "model_id": "8fd5e9a9cc6c452685cfa11bd568e3f9",
       "version_major": 2,
       "version_minor": 0
      },
      "text/plain": [
       "evaluating: 0it [00:00, ?it/s]"
      ]
     },
     "metadata": {},
     "output_type": "display_data"
    },
    {
     "name": "stdout",
     "output_type": "stream",
     "text": [
      "4464\n"
     ]
    },
    {
     "data": {
      "application/vnd.jupyter.widget-view+json": {
       "model_id": "ada51e62832048438b3769661bb481d9",
       "version_major": 2,
       "version_minor": 0
      },
      "text/plain": [
       "evaluating: 0it [00:00, ?it/s]"
      ]
     },
     "metadata": {},
     "output_type": "display_data"
    },
    {
     "name": "stdout",
     "output_type": "stream",
     "text": [
      "4464\n"
     ]
    },
    {
     "data": {
      "application/vnd.jupyter.widget-view+json": {
       "model_id": "3d2427d426e24cb0b771919c8a5d1d70",
       "version_major": 2,
       "version_minor": 0
      },
      "text/plain": [
       "evaluating: 0it [00:00, ?it/s]"
      ]
     },
     "metadata": {},
     "output_type": "display_data"
    },
    {
     "name": "stdout",
     "output_type": "stream",
     "text": [
      "4464\n"
     ]
    },
    {
     "data": {
      "application/vnd.jupyter.widget-view+json": {
       "model_id": "04b886c3e1dd4d2fb4ac02d050e168d0",
       "version_major": 2,
       "version_minor": 0
      },
      "text/plain": [
       "evaluating: 0it [00:00, ?it/s]"
      ]
     },
     "metadata": {},
     "output_type": "display_data"
    },
    {
     "name": "stdout",
     "output_type": "stream",
     "text": [
      "4464\n"
     ]
    },
    {
     "data": {
      "application/vnd.jupyter.widget-view+json": {
       "model_id": "b5f4f8b9903f4de5a2c6c02e91be82c7",
       "version_major": 2,
       "version_minor": 0
      },
      "text/plain": [
       "evaluating: 0it [00:00, ?it/s]"
      ]
     },
     "metadata": {},
     "output_type": "display_data"
    },
    {
     "name": "stdout",
     "output_type": "stream",
     "text": [
      "4464\n"
     ]
    },
    {
     "data": {
      "application/vnd.jupyter.widget-view+json": {
       "model_id": "94916078e0554bdfaedca4ce27cd8774",
       "version_major": 2,
       "version_minor": 0
      },
      "text/plain": [
       "evaluating: 0it [00:00, ?it/s]"
      ]
     },
     "metadata": {},
     "output_type": "display_data"
    },
    {
     "name": "stdout",
     "output_type": "stream",
     "text": [
      "4464\n"
     ]
    },
    {
     "data": {
      "application/vnd.jupyter.widget-view+json": {
       "model_id": "df104d5149a046c9871c88c2d19b9dca",
       "version_major": 2,
       "version_minor": 0
      },
      "text/plain": [
       "evaluating: 0it [00:00, ?it/s]"
      ]
     },
     "metadata": {},
     "output_type": "display_data"
    },
    {
     "name": "stdout",
     "output_type": "stream",
     "text": [
      "4464\n"
     ]
    },
    {
     "data": {
      "application/vnd.jupyter.widget-view+json": {
       "model_id": "5c212d63b5f9419ebcddc164d2083709",
       "version_major": 2,
       "version_minor": 0
      },
      "text/plain": [
       "evaluating: 0it [00:00, ?it/s]"
      ]
     },
     "metadata": {},
     "output_type": "display_data"
    }
   ],
   "source": [
    "from torchmetrics import Accuracy\n",
    "from tqdm.notebook import tqdm \n",
    "import numpy as np \n",
    "from torch.utils.tensorboard import SummaryWriter\n",
    "\n",
    "writer = SummaryWriter()\n",
    "model = ReviewClassifier()\n",
    "bce_loss = nn.BCELoss() # TODO: https://pytorch.org/docs/stable/generated/torch.nn.BCELoss.html\n",
    "\n",
    "accuracies_per_epoch = []\n",
    "batch_size = 128\n",
    "adam_optimizer = torch.optim.Adam(model.parameters()) #TODO: https://pytorch.org/docs/stable/generated/torch.optim.Adam.html [use lr=0.0005]\n",
    "nr_of_epochs = 450\n",
    "losses = []\n",
    "for epoch in tqdm(range(nr_of_epochs)):\n",
    "    # shuffle \n",
    "    train_df = train_df.sample(frac=1.0)\n",
    "    print(len(train_df))\n",
    "    current_index = 0 \n",
    "    while current_index < len(train_df):        \n",
    "        batch_x = np.array(\n",
    "            train_df.embeddings[current_index:(current_index + batch_size)].tolist()\n",
    "        )\n",
    "        batch_y = np.array(\n",
    "            train_df.rating[current_index: (current_index + batch_size)].tolist()\n",
    "        )\n",
    "        \n",
    "        tensor_batch_x = torch.Tensor(batch_x)\n",
    "        tensor_batch_y = torch.Tensor(batch_y).reshape(-1, 1)\n",
    "        \n",
    "        pred = model.forward(tensor_batch_x)\n",
    "        loss = bce_loss(pred, tensor_batch_y)\n",
    " \n",
    "        # Backpropagation\n",
    "        loss.backward() # Liczenie gradientu wag modelu\n",
    "        adam_optimizer.step() # adam oblicza nowe parametry sieci \n",
    "        adam_optimizer.zero_grad()\n",
    "        \n",
    "        current_index += batch_size\n",
    "        losses.append(float(loss.detach().numpy()))\n",
    "        \n",
    "    model.eval()\n",
    "    metric = Accuracy(task='BINARY')\n",
    "    for _, eval_row in tqdm(val_df.iterrows(), desc='evaluating'):\n",
    "        pred = model.forward(\n",
    "            torch.Tensor(np.array(eval_row.embeddings))\n",
    "        )\n",
    "        metric.update(pred, torch.Tensor([eval_row.rating]))\n",
    "    metric_value = metric.compute()\n",
    "    accuracies_per_epoch.append(metric_value)\n",
    "    writer.add_scalar('Accuracy/eval', metric_value, epoch)\n",
    "\n",
    "        "
   ]
  },
  {
   "cell_type": "code",
   "execution_count": 37,
   "id": "6526a493-3993-41c3-b2a5-763cfc5f30dd",
   "metadata": {},
   "outputs": [],
   "source": [
    "from sentence_transformers import SentenceTransformer\n",
    "sentence_transformer = SentenceTransformer(\"all-MiniLM-L6-v2\")"
   ]
  },
  {
   "cell_type": "code",
   "execution_count": 38,
   "id": "cea9a5db-e1c5-40a9-b1e0-76e3838e795f",
   "metadata": {},
   "outputs": [],
   "source": [
    "review = review = \"\"\"Jonathan Smith's latest novel, *Time in Twilight*, certainly leaves an impression. From the opening chapter, readers are thrust into a world that Smith describes with an abundance of detail that some might find lavish while others could deem excessively verbose. The protagonist, Elara, is as enigmatic as the plot itself; she navigates through her twilight realm with a blend of stoicism and emotiveness that straddles the line between intriguing and puzzling. The pacing of the story might challenge the patience of those accustomed to a brisk narrative, yet for others, it provides a thoughtful, almost meditative examination of themes that resonate deeply in our current era. Smith's stylistic choices, especially his penchant for obscure metaphors, will undoubtedly polarize; they are either strokes of genius or puzzling distractions. Overall, *Time in Twilight* is a book that will be remembered, whether for its ambitious scope or intricate idiosyncrasies.\"\"\"\n",
    "encoded_review = sentence_transformer.encode(review)"
   ]
  },
  {
   "cell_type": "code",
   "execution_count": 39,
   "id": "dd09dd85-72d0-4716-8479-7ca93bcf7e33",
   "metadata": {},
   "outputs": [
    {
     "data": {
      "text/plain": [
       "tensor([0.3807], grad_fn=<SigmoidBackward0>)"
      ]
     },
     "execution_count": 39,
     "metadata": {},
     "output_type": "execute_result"
    }
   ],
   "source": [
    "model.forward(torch.Tensor(encoded_review))"
   ]
  },
  {
   "cell_type": "code",
   "execution_count": 40,
   "id": "effd6f0e-457a-424c-8f64-1fd73e610721",
   "metadata": {},
   "outputs": [
    {
     "data": {
      "text/plain": [
       "[0.699195921421051,\n",
       " 0.6961749792098999,\n",
       " 0.6939771771430969,\n",
       " 0.6913583278656006,\n",
       " 0.6862995624542236,\n",
       " 0.6829888224601746,\n",
       " 0.6790491938591003,\n",
       " 0.6800458431243896,\n",
       " 0.6796654462814331,\n",
       " 0.6734426021575928,\n",
       " 0.6690106987953186,\n",
       " 0.6605433225631714,\n",
       " 0.6682988405227661,\n",
       " 0.6459177732467651,\n",
       " 0.6751080751419067,\n",
       " 0.6595683097839355,\n",
       " 0.634172797203064,\n",
       " 0.6135073900222778,\n",
       " 0.6137115955352783,\n",
       " 0.657823920249939,\n",
       " 0.6223633289337158,\n",
       " 0.6451361775398254,\n",
       " 0.613437294960022,\n",
       " 0.5841354727745056,\n",
       " 0.6189801692962646,\n",
       " 0.6085410118103027,\n",
       " 0.6109589338302612,\n",
       " 0.5855779647827148,\n",
       " 0.6143297553062439,\n",
       " 0.5893867611885071,\n",
       " 0.628661036491394,\n",
       " 0.5757241249084473,\n",
       " 0.5785678625106812,\n",
       " 0.6900035738945007,\n",
       " 0.5431659817695618,\n",
       " 0.5918147563934326,\n",
       " 0.5621832013130188,\n",
       " 0.5807275176048279,\n",
       " 0.6510999202728271,\n",
       " 0.6336138248443604,\n",
       " 0.5838332176208496,\n",
       " 0.6500182151794434,\n",
       " 0.5933793783187866,\n",
       " 0.5646405816078186,\n",
       " 0.6088555455207825,\n",
       " 0.6437807083129883,\n",
       " 0.581981897354126,\n",
       " 0.570085346698761,\n",
       " 0.5456268191337585,\n",
       " 0.552597165107727,\n",
       " 0.5481315851211548,\n",
       " 0.5388335585594177,\n",
       " 0.5852221250534058,\n",
       " 0.5539485812187195,\n",
       " 0.5829814672470093,\n",
       " 0.5725880861282349,\n",
       " 0.5376564264297485,\n",
       " 0.5230609178543091,\n",
       " 0.5136022567749023,\n",
       " 0.5555862188339233,\n",
       " 0.558567464351654,\n",
       " 0.5793968439102173,\n",
       " 0.5878379344940186,\n",
       " 0.5702605247497559,\n",
       " 0.5479408502578735,\n",
       " 0.4855044186115265,\n",
       " 0.5493956208229065,\n",
       " 0.5889962911605835,\n",
       " 0.5308316946029663,\n",
       " 0.5713766813278198,\n",
       " 0.5505506992340088,\n",
       " 0.5430346727371216,\n",
       " 0.5113751292228699,\n",
       " 0.508250892162323,\n",
       " 0.5251078605651855,\n",
       " 0.5471984148025513,\n",
       " 0.5160333514213562,\n",
       " 0.4893665611743927,\n",
       " 0.5278158783912659,\n",
       " 0.5288609266281128,\n",
       " 0.5441690683364868,\n",
       " 0.5350202918052673,\n",
       " 0.4653458595275879,\n",
       " 0.4697308838367462,\n",
       " 0.5525895953178406,\n",
       " 0.49514368176460266,\n",
       " 0.49733027815818787,\n",
       " 0.48575979471206665,\n",
       " 0.4935174882411957,\n",
       " 0.48447486758232117,\n",
       " 0.497149258852005,\n",
       " 0.46301963925361633,\n",
       " 0.513126790523529,\n",
       " 0.49413689970970154,\n",
       " 0.48737597465515137,\n",
       " 0.4569876790046692,\n",
       " 0.5088487267494202,\n",
       " 0.48972752690315247,\n",
       " 0.492514431476593,\n",
       " 0.5058576464653015,\n",
       " 0.4728369414806366,\n",
       " 0.4486336410045624,\n",
       " 0.47762492299079895,\n",
       " 0.46381744742393494,\n",
       " 0.4918260872364044,\n",
       " 0.4629529118537903,\n",
       " 0.5510261654853821,\n",
       " 0.4542313814163208,\n",
       " 0.449605256319046,\n",
       " 0.4586717486381531,\n",
       " 0.4627455472946167,\n",
       " 0.45999863743782043,\n",
       " 0.4239170551300049,\n",
       " 0.5274041295051575,\n",
       " 0.45837271213531494,\n",
       " 0.48855355381965637,\n",
       " 0.4767548143863678,\n",
       " 0.3858019709587097,\n",
       " 0.5043455362319946,\n",
       " 0.41882243752479553,\n",
       " 0.47699397802352905,\n",
       " 0.43252575397491455,\n",
       " 0.39124369621276855,\n",
       " 0.39815011620521545,\n",
       " 0.5022796392440796,\n",
       " 0.507335364818573,\n",
       " 0.45880958437919617,\n",
       " 0.4299476742744446,\n",
       " 0.502870500087738,\n",
       " 0.41544243693351746,\n",
       " 0.39310410618782043,\n",
       " 0.4545074701309204,\n",
       " 0.47062164545059204,\n",
       " 0.43566352128982544,\n",
       " 0.47953882813453674,\n",
       " 0.49246734380722046,\n",
       " 0.4740619957447052,\n",
       " 0.42000091075897217,\n",
       " 0.5429316759109497,\n",
       " 0.4446023404598236,\n",
       " 0.43693581223487854,\n",
       " 0.44053035974502563,\n",
       " 0.40989217162132263,\n",
       " 0.4247558116912842,\n",
       " 0.5005506873130798,\n",
       " 0.4540051221847534,\n",
       " 0.3947715759277344,\n",
       " 0.3997594118118286,\n",
       " 0.4302982687950134,\n",
       " 0.40282872319221497,\n",
       " 0.47513437271118164,\n",
       " 0.4429948925971985,\n",
       " 0.4189639687538147,\n",
       " 0.5188799500465393,\n",
       " 0.4284021258354187,\n",
       " 0.4661497175693512,\n",
       " 0.43268176913261414,\n",
       " 0.39819204807281494,\n",
       " 0.4245154559612274,\n",
       " 0.5088198184967041,\n",
       " 0.4048195779323578,\n",
       " 0.47234705090522766,\n",
       " 0.4802033305168152,\n",
       " 0.44768619537353516,\n",
       " 0.3956468105316162,\n",
       " 0.42574572563171387,\n",
       " 0.4763990640640259,\n",
       " 0.4230673313140869,\n",
       " 0.42135530710220337,\n",
       " 0.446349561214447,\n",
       " 0.39770036935806274,\n",
       " 0.35271909832954407,\n",
       " 0.4035959839820862,\n",
       " 0.4739788770675659,\n",
       " 0.3591608703136444,\n",
       " 0.4103703796863556,\n",
       " 0.3982401192188263,\n",
       " 0.38600215315818787,\n",
       " 0.39686477184295654,\n",
       " 0.4505805969238281,\n",
       " 0.42095720767974854,\n",
       " 0.5337607264518738,\n",
       " 0.3474123775959015,\n",
       " 0.35293203592300415,\n",
       " 0.36871975660324097,\n",
       " 0.4938088357448578,\n",
       " 0.46144258975982666,\n",
       " 0.44532543420791626,\n",
       " 0.41581881046295166,\n",
       " 0.3639930486679077,\n",
       " 0.3815292716026306,\n",
       " 0.3920084238052368,\n",
       " 0.44072771072387695,\n",
       " 0.4103296399116516,\n",
       " 0.5150291323661804,\n",
       " 0.45558324456214905,\n",
       " 0.3856494128704071,\n",
       " 0.3708112835884094,\n",
       " 0.3872119188308716,\n",
       " 0.4231870174407959,\n",
       " 0.39320507645606995,\n",
       " 0.3774663209915161,\n",
       " 0.47036468982696533,\n",
       " 0.45377087593078613,\n",
       " 0.32274529337882996,\n",
       " 0.39942818880081177,\n",
       " 0.4515082836151123,\n",
       " 0.373948872089386,\n",
       " 0.37106433510780334,\n",
       " 0.45619067549705505,\n",
       " 0.4636557102203369,\n",
       " 0.32543355226516724,\n",
       " 0.3637944757938385,\n",
       " 0.34593692421913147,\n",
       " 0.3085216283798218,\n",
       " 0.46145689487457275,\n",
       " 0.4327399730682373,\n",
       " 0.37792539596557617,\n",
       " 0.45783793926239014,\n",
       " 0.4052228331565857,\n",
       " 0.4497699439525604,\n",
       " 0.4806888699531555,\n",
       " 0.4397567808628082,\n",
       " 0.37608155608177185,\n",
       " 0.3530641198158264,\n",
       " 0.42317432165145874,\n",
       " 0.46039944887161255,\n",
       " 0.3486374616622925,\n",
       " 0.4156937003135681,\n",
       " 0.40116944909095764,\n",
       " 0.326511412858963,\n",
       " 0.42521390318870544,\n",
       " 0.401852011680603,\n",
       " 0.33956077694892883,\n",
       " 0.4010905623435974,\n",
       " 0.3752315044403076,\n",
       " 0.448406845331192,\n",
       " 0.3505692183971405,\n",
       " 0.43679460883140564,\n",
       " 0.37006300687789917,\n",
       " 0.39690694212913513,\n",
       " 0.3782528042793274,\n",
       " 0.4510885179042816,\n",
       " 0.37973231077194214,\n",
       " 0.3891232907772064,\n",
       " 0.376809298992157,\n",
       " 0.41195061802864075,\n",
       " 0.4099869728088379,\n",
       " 0.4175358712673187,\n",
       " 0.3414190709590912,\n",
       " 0.3612367510795593,\n",
       " 0.3398295044898987,\n",
       " 0.3018287420272827,\n",
       " 0.4089144170284271,\n",
       " 0.38217535614967346,\n",
       " 0.3123885691165924,\n",
       " 0.46740660071372986,\n",
       " 0.36215466260910034,\n",
       " 0.4167121946811676,\n",
       " 0.3710520565509796,\n",
       " 0.4038906395435333,\n",
       " 0.42978090047836304,\n",
       " 0.4275343716144562,\n",
       " 0.40271565318107605,\n",
       " 0.35724523663520813,\n",
       " 0.40661200881004333,\n",
       " 0.44334810972213745,\n",
       " 0.42761895060539246,\n",
       " 0.3214050531387329,\n",
       " 0.3057273030281067,\n",
       " 0.44772154092788696,\n",
       " 0.32680854201316833,\n",
       " 0.40223899483680725,\n",
       " 0.40021878480911255,\n",
       " 0.36499011516571045,\n",
       " 0.48159927129745483,\n",
       " 0.3387097418308258,\n",
       " 0.3880816102027893,\n",
       " 0.41052424907684326,\n",
       " 0.37520474195480347,\n",
       " 0.3679879605770111,\n",
       " 0.35705840587615967,\n",
       " 0.4556567370891571,\n",
       " 0.4030710756778717,\n",
       " 0.39756646752357483,\n",
       " 0.32805800437927246,\n",
       " 0.3877450227737427,\n",
       " 0.3475111126899719,\n",
       " 0.39538776874542236,\n",
       " 0.33944180607795715,\n",
       " 0.4047462046146393,\n",
       " 0.3639689087867737,\n",
       " 0.4085058271884918,\n",
       " 0.3527252674102783,\n",
       " 0.3436231315135956,\n",
       " 0.39818301796913147,\n",
       " 0.3885917365550995,\n",
       " 0.39218980073928833,\n",
       " 0.38778555393218994,\n",
       " 0.31184089183807373,\n",
       " 0.3471386432647705,\n",
       " 0.3444752097129822,\n",
       " 0.4337283670902252,\n",
       " 0.4702400863170624,\n",
       " 0.389471173286438,\n",
       " 0.3934023082256317,\n",
       " 0.33995962142944336,\n",
       " 0.34505119919776917,\n",
       " 0.3726503849029541,\n",
       " 0.4906672537326813,\n",
       " 0.4339520335197449,\n",
       " 0.42058053612709045,\n",
       " 0.34008902311325073,\n",
       " 0.30825722217559814,\n",
       " 0.3332083225250244,\n",
       " 0.41104426980018616,\n",
       " 0.29224586486816406,\n",
       " 0.3512697219848633,\n",
       " 0.47899580001831055,\n",
       " 0.3342750668525696,\n",
       " 0.3527686893939972,\n",
       " 0.40851107239723206,\n",
       " 0.38970744609832764,\n",
       " 0.2708066701889038,\n",
       " 0.4019469618797302,\n",
       " 0.39549720287323,\n",
       " 0.36695852875709534,\n",
       " 0.3845994174480438,\n",
       " 0.46662086248397827,\n",
       " 0.36054864525794983,\n",
       " 0.3335820734500885,\n",
       " 0.3789110481739044,\n",
       " 0.35829809308052063,\n",
       " 0.3767932653427124,\n",
       " 0.27097004652023315,\n",
       " 0.3621548116207123,\n",
       " 0.3413477838039398,\n",
       " 0.39148902893066406,\n",
       " 0.3565209209918976,\n",
       " 0.32701435685157776,\n",
       " 0.4092869758605957,\n",
       " 0.37118974328041077,\n",
       " 0.4015897810459137,\n",
       " 0.4759185314178467,\n",
       " 0.3816690444946289,\n",
       " 0.40787816047668457,\n",
       " 0.3719296157360077,\n",
       " 0.31470760703086853,\n",
       " 0.3652801811695099,\n",
       " 0.37419310212135315,\n",
       " 0.37259966135025024,\n",
       " 0.3477886915206909,\n",
       " 0.3375512957572937,\n",
       " 0.41760390996932983,\n",
       " 0.4200839698314667,\n",
       " 0.4470498859882355,\n",
       " 0.362996906042099,\n",
       " 0.3599857687950134,\n",
       " 0.40449628233909607,\n",
       " 0.3487561047077179,\n",
       " 0.3386749029159546,\n",
       " 0.3629820942878723,\n",
       " 0.3719789385795593,\n",
       " 0.4390239417552948,\n",
       " 0.38320061564445496,\n",
       " 0.36821356415748596,\n",
       " 0.37993094325065613,\n",
       " 0.35389381647109985,\n",
       " 0.4040828347206116,\n",
       " 0.35250455141067505,\n",
       " 0.290322870016098,\n",
       " 0.45327094197273254,\n",
       " 0.3458572030067444,\n",
       " 0.4444868266582489,\n",
       " 0.33642303943634033,\n",
       " 0.3123360276222229,\n",
       " 0.35554826259613037,\n",
       " 0.30804160237312317,\n",
       " 0.28603672981262207,\n",
       " 0.448709636926651,\n",
       " 0.34240806102752686,\n",
       " 0.3622552454471588,\n",
       " 0.35360318422317505,\n",
       " 0.34251371026039124,\n",
       " 0.2754676640033722,\n",
       " 0.37341806292533875,\n",
       " 0.4020729064941406,\n",
       " 0.4790405035018921,\n",
       " 0.39011746644973755,\n",
       " 0.4006914794445038,\n",
       " 0.37766319513320923,\n",
       " 0.3782423734664917,\n",
       " 0.35159116983413696,\n",
       " 0.35258710384368896,\n",
       " 0.35503873229026794,\n",
       " 0.4305085837841034,\n",
       " 0.3433842062950134,\n",
       " 0.412544846534729,\n",
       " 0.37684446573257446,\n",
       " 0.34348511695861816,\n",
       " 0.3207951486110687,\n",
       " 0.3683357834815979,\n",
       " 0.27921175956726074,\n",
       " 0.37255701422691345,\n",
       " 0.2992277145385742,\n",
       " 0.3381291925907135,\n",
       " 0.3301122486591339,\n",
       " 0.3661688566207886,\n",
       " 0.41206297278404236,\n",
       " 0.31633126735687256,\n",
       " 0.2888360321521759,\n",
       " 0.34770387411117554,\n",
       " 0.28036201000213623,\n",
       " 0.42664334177970886,\n",
       " 0.2690398693084717,\n",
       " 0.3552756607532501,\n",
       " 0.3946247100830078,\n",
       " 0.29900047183036804,\n",
       " 0.3092472553253174,\n",
       " 0.4086015224456787,\n",
       " 0.3926919996738434,\n",
       " 0.3715227544307709,\n",
       " 0.3545965254306793,\n",
       " 0.33762720227241516,\n",
       " 0.33326777815818787,\n",
       " 0.3573201596736908,\n",
       " 0.33416974544525146,\n",
       " 0.25713464617729187,\n",
       " 0.37736499309539795,\n",
       " 0.3692275881767273,\n",
       " 0.43306294083595276,\n",
       " 0.37858691811561584,\n",
       " 0.33584481477737427,\n",
       " 0.29877859354019165,\n",
       " 0.377433180809021,\n",
       " 0.34707969427108765,\n",
       " 0.42022904753685,\n",
       " 0.30413079261779785,\n",
       " 0.38074782490730286,\n",
       " 0.3480960428714752,\n",
       " 0.43340814113616943,\n",
       " 0.3245351314544678,\n",
       " 0.3004622459411621,\n",
       " 0.3396541178226471,\n",
       " 0.40118154883384705,\n",
       " 0.277488648891449,\n",
       " 0.3631061613559723,\n",
       " 0.3672001361846924,\n",
       " 0.3914797902107239,\n",
       " 0.3707100450992584,\n",
       " 0.46200674772262573,\n",
       " 0.3418825566768646,\n",
       " 0.39337724447250366,\n",
       " 0.3671795129776001,\n",
       " 0.409695565700531,\n",
       " 0.3423580229282379,\n",
       " 0.28243905305862427,\n",
       " 0.33712637424468994,\n",
       " 0.3126172125339508,\n",
       " 0.2916441559791565,\n",
       " 0.4296007752418518,\n",
       " 0.3511902093887329,\n",
       " 0.34112605452537537,\n",
       " 0.3322552740573883,\n",
       " 0.4592673182487488,\n",
       " 0.2946271002292633,\n",
       " 0.34759917855262756,\n",
       " 0.37958040833473206,\n",
       " 0.3833855986595154,\n",
       " 0.3415110111236572,\n",
       " 0.36053311824798584,\n",
       " 0.3316919505596161,\n",
       " 0.43652206659317017,\n",
       " 0.3902050256729126,\n",
       " 0.36236682534217834,\n",
       " 0.3472384512424469,\n",
       " 0.44363921880722046,\n",
       " 0.30774256587028503,\n",
       " 0.31931862235069275,\n",
       " 0.35298123955726624,\n",
       " 0.3205982744693756,\n",
       " 0.3313153386116028,\n",
       " 0.2957327365875244,\n",
       " 0.30724745988845825,\n",
       " 0.31393253803253174,\n",
       " 0.3142319917678833,\n",
       " 0.36644744873046875,\n",
       " 0.3026236295700073,\n",
       " 0.35189199447631836,\n",
       " 0.43655210733413696,\n",
       " 0.422175794839859,\n",
       " 0.3603334128856659,\n",
       " 0.3897010087966919,\n",
       " 0.3732481300830841,\n",
       " 0.3563960790634155,\n",
       " 0.35525938868522644,\n",
       " 0.3228214979171753,\n",
       " 0.33742883801460266,\n",
       " 0.41793420910835266,\n",
       " 0.29710960388183594,\n",
       " 0.2243122011423111,\n",
       " 0.30834296345710754,\n",
       " 0.313790500164032,\n",
       " 0.3529944121837616,\n",
       " 0.3769577741622925,\n",
       " 0.32559776306152344,\n",
       " 0.3527708053588867,\n",
       " 0.33262568712234497,\n",
       " 0.2634388208389282,\n",
       " 0.39795514941215515,\n",
       " 0.41869208216667175,\n",
       " 0.3914168179035187,\n",
       " 0.2998341917991638,\n",
       " 0.3265475928783417,\n",
       " 0.297288715839386,\n",
       " 0.3674589693546295,\n",
       " 0.31187838315963745,\n",
       " 0.26155462861061096,\n",
       " 0.3217734098434448,\n",
       " 0.30154556035995483,\n",
       " 0.4571619927883148,\n",
       " 0.304033488035202,\n",
       " 0.3758017420768738,\n",
       " 0.3361179232597351,\n",
       " 0.3554494082927704,\n",
       " 0.2833153307437897,\n",
       " 0.2866227924823761,\n",
       " 0.27327021956443787,\n",
       " 0.39104488492012024,\n",
       " 0.3264053761959076,\n",
       " 0.3377450406551361,\n",
       " 0.3123435080051422,\n",
       " 0.3519103527069092,\n",
       " 0.3081660270690918,\n",
       " 0.3390691578388214,\n",
       " 0.34253793954849243,\n",
       " 0.3721478581428528,\n",
       " 0.32546234130859375,\n",
       " 0.37236112356185913,\n",
       " 0.33233052492141724,\n",
       " 0.31841346621513367,\n",
       " 0.45098045468330383,\n",
       " 0.3936741352081299,\n",
       " 0.33967122435569763,\n",
       " 0.38906487822532654,\n",
       " 0.3007872700691223,\n",
       " 0.28736963868141174,\n",
       " 0.33923855423927307,\n",
       " 0.27015459537506104,\n",
       " 0.35316863656044006,\n",
       " 0.34149277210235596,\n",
       " 0.3147042393684387,\n",
       " 0.34643885493278503,\n",
       " 0.29368340969085693,\n",
       " 0.3784942030906677,\n",
       " 0.3695274889469147,\n",
       " 0.4200536012649536,\n",
       " 0.2997882068157196,\n",
       " 0.3770626485347748,\n",
       " 0.30611124634742737,\n",
       " 0.36377575993537903,\n",
       " 0.40027299523353577,\n",
       " 0.42003333568573,\n",
       " 0.32997211813926697,\n",
       " 0.3344760835170746,\n",
       " 0.378695547580719,\n",
       " 0.338004469871521,\n",
       " 0.3548266291618347,\n",
       " 0.2807031273841858,\n",
       " 0.277072936296463,\n",
       " 0.3087790906429291,\n",
       " 0.2851831018924713,\n",
       " 0.28651106357574463,\n",
       " 0.37779906392097473,\n",
       " 0.3357102572917938,\n",
       " 0.4074823558330536,\n",
       " 0.37823736667633057,\n",
       " 0.32211580872535706,\n",
       " 0.27725696563720703,\n",
       " 0.31810876727104187,\n",
       " 0.36275336146354675,\n",
       " 0.31443408131599426,\n",
       " 0.337594211101532,\n",
       " 0.3877144157886505,\n",
       " 0.37053585052490234,\n",
       " 0.3210533857345581,\n",
       " 0.32324492931365967,\n",
       " 0.3095743656158447,\n",
       " 0.33705055713653564,\n",
       " 0.38674411177635193,\n",
       " 0.3361397683620453,\n",
       " 0.34051352739334106,\n",
       " 0.3945332169532776,\n",
       " 0.2929164469242096,\n",
       " 0.24091088771820068,\n",
       " 0.2605147361755371,\n",
       " 0.31578007340431213,\n",
       " 0.3038807511329651,\n",
       " 0.34643977880477905,\n",
       " 0.3178535997867584,\n",
       " 0.3584798574447632,\n",
       " 0.28263843059539795,\n",
       " 0.28319770097732544,\n",
       " 0.384998619556427,\n",
       " 0.3676154613494873,\n",
       " 0.33325982093811035,\n",
       " 0.3484876751899719,\n",
       " 0.34971535205841064,\n",
       " 0.3069998621940613,\n",
       " 0.3156786561012268,\n",
       " 0.3485015034675598,\n",
       " 0.32527828216552734,\n",
       " 0.3374590277671814,\n",
       " 0.2791135311126709,\n",
       " 0.30675870180130005,\n",
       " 0.30714935064315796,\n",
       " 0.3700656592845917,\n",
       " 0.3096071481704712,\n",
       " 0.2954826056957245,\n",
       " 0.2779003083705902,\n",
       " 0.3782667815685272,\n",
       " 0.35085394978523254,\n",
       " 0.2975219786167145,\n",
       " 0.363478422164917,\n",
       " 0.31816938519477844,\n",
       " 0.3309304118156433,\n",
       " 0.30548030138015747,\n",
       " 0.3300688564777374,\n",
       " 0.34291306138038635,\n",
       " 0.2404356300830841,\n",
       " 0.2662401795387268,\n",
       " 0.3114527761936188,\n",
       " 0.3532916307449341,\n",
       " 0.3683094084262848,\n",
       " 0.31755268573760986,\n",
       " 0.3453851342201233,\n",
       " 0.3032517731189728,\n",
       " 0.3199108839035034,\n",
       " 0.26552295684814453,\n",
       " 0.3040596544742584,\n",
       " 0.37174418568611145,\n",
       " 0.23486784100532532,\n",
       " 0.3119356036186218,\n",
       " 0.2826288938522339,\n",
       " 0.27811700105667114,\n",
       " 0.37551936507225037,\n",
       " 0.24791112542152405,\n",
       " 0.3752487003803253,\n",
       " 0.3439580798149109,\n",
       " 0.2804831266403198,\n",
       " 0.295665979385376,\n",
       " 0.2527347803115845,\n",
       " 0.32754290103912354,\n",
       " 0.3530428409576416,\n",
       " 0.4149683117866516,\n",
       " 0.2941955029964447,\n",
       " 0.3012741804122925,\n",
       " 0.4080595076084137,\n",
       " 0.333981990814209,\n",
       " 0.2519081234931946,\n",
       " 0.29223868250846863,\n",
       " 0.2845803201198578,\n",
       " 0.380084365606308,\n",
       " 0.35331204533576965,\n",
       " 0.3851075768470764,\n",
       " 0.35472285747528076,\n",
       " 0.31717783212661743,\n",
       " 0.3251919746398926,\n",
       " 0.35446521639823914,\n",
       " 0.37703272700309753,\n",
       " 0.34814682602882385,\n",
       " 0.3666878342628479,\n",
       " 0.37563997507095337,\n",
       " 0.2558270990848541,\n",
       " 0.24919313192367554,\n",
       " 0.33879607915878296,\n",
       " 0.29947787523269653,\n",
       " 0.3626757860183716,\n",
       " 0.3826931416988373,\n",
       " 0.2799356281757355,\n",
       " 0.30451443791389465,\n",
       " 0.27067622542381287,\n",
       " 0.3112774193286896,\n",
       " 0.38992393016815186,\n",
       " 0.3129180669784546,\n",
       " 0.2877180576324463,\n",
       " 0.289573073387146,\n",
       " 0.2673848569393158,\n",
       " 0.25543269515037537,\n",
       " 0.2820011079311371,\n",
       " 0.3612384498119354,\n",
       " 0.23385506868362427,\n",
       " 0.3120254576206207,\n",
       " 0.4300117492675781,\n",
       " 0.258659690618515,\n",
       " 0.26754292845726013,\n",
       " 0.26480111479759216,\n",
       " 0.23747248947620392,\n",
       " 0.31483903527259827,\n",
       " 0.3156767189502716,\n",
       " 0.25163447856903076,\n",
       " 0.27778080105781555,\n",
       " 0.39974460005760193,\n",
       " 0.3283064067363739,\n",
       " 0.31549373269081116,\n",
       " 0.2559840977191925,\n",
       " 0.2781611382961273,\n",
       " 0.2874349355697632,\n",
       " 0.2566062808036804,\n",
       " 0.2457331120967865,\n",
       " 0.30954980850219727,\n",
       " 0.21917442977428436,\n",
       " 0.24926067888736725,\n",
       " 0.3365572988986969,\n",
       " 0.29945892095565796,\n",
       " 0.3509052097797394,\n",
       " 0.26997482776641846,\n",
       " 0.3140753209590912,\n",
       " 0.2939761281013489,\n",
       " 0.31460386514663696,\n",
       " 0.3093603849411011,\n",
       " 0.29306694865226746,\n",
       " 0.3635334372520447,\n",
       " 0.2907434105873108,\n",
       " 0.3554919958114624,\n",
       " 0.25121423602104187,\n",
       " 0.28241392970085144,\n",
       " 0.2749246060848236,\n",
       " 0.2779542803764343,\n",
       " 0.35611212253570557,\n",
       " 0.30470678210258484,\n",
       " 0.3342687785625458,\n",
       " 0.38674116134643555,\n",
       " 0.32374727725982666,\n",
       " 0.29518985748291016,\n",
       " 0.26078569889068604,\n",
       " 0.26152849197387695,\n",
       " 0.36117449402809143,\n",
       " 0.34689149260520935,\n",
       " 0.2532799243927002,\n",
       " 0.3040023148059845,\n",
       " 0.28112050890922546,\n",
       " 0.34965217113494873,\n",
       " 0.3057447671890259,\n",
       " 0.23119133710861206,\n",
       " 0.32808855175971985,\n",
       " 0.26903295516967773,\n",
       " 0.29014816880226135,\n",
       " 0.22634804248809814,\n",
       " 0.29760730266571045,\n",
       " 0.3594244122505188,\n",
       " 0.31552252173423767,\n",
       " 0.33000436425209045,\n",
       " 0.22160354256629944,\n",
       " 0.35032564401626587,\n",
       " 0.2511466145515442,\n",
       " 0.2912815511226654,\n",
       " 0.2638765275478363,\n",
       " 0.3083702325820923,\n",
       " 0.29808372259140015,\n",
       " 0.240036740899086,\n",
       " 0.37241819500923157,\n",
       " 0.22273150086402893,\n",
       " 0.327066570520401,\n",
       " 0.42217129468917847,\n",
       " 0.27458956837654114,\n",
       " 0.25586795806884766,\n",
       " 0.3298422694206238,\n",
       " 0.34474846720695496,\n",
       " 0.3388843834400177,\n",
       " 0.254281610250473,\n",
       " 0.2678861916065216,\n",
       " 0.2565975487232208,\n",
       " 0.2592303156852722,\n",
       " 0.33744388818740845,\n",
       " 0.29751548171043396,\n",
       " 0.2541453540325165,\n",
       " 0.30361583828926086,\n",
       " 0.349229097366333,\n",
       " 0.3905493915081024,\n",
       " 0.2781437039375305,\n",
       " 0.35307759046554565,\n",
       " 0.28471168875694275,\n",
       " 0.29860472679138184,\n",
       " 0.35630863904953003,\n",
       " 0.23240584135055542,\n",
       " 0.2487572878599167,\n",
       " 0.2516441345214844,\n",
       " 0.3035848140716553,\n",
       " 0.37300851941108704,\n",
       " 0.2904537320137024,\n",
       " 0.2823781669139862,\n",
       " 0.2746109366416931,\n",
       " 0.2823876440525055,\n",
       " 0.21983757615089417,\n",
       " 0.3631172180175781,\n",
       " 0.2521873712539673,\n",
       " 0.2807401120662689,\n",
       " 0.30268076062202454,\n",
       " 0.23764468729496002,\n",
       " 0.2628624141216278,\n",
       " 0.32202017307281494,\n",
       " 0.2849317491054535,\n",
       " 0.2656702995300293,\n",
       " 0.23431357741355896,\n",
       " 0.3320685923099518,\n",
       " 0.27473729848861694,\n",
       " 0.2831210196018219,\n",
       " 0.23854687809944153,\n",
       " 0.3287868797779083,\n",
       " 0.23534323275089264,\n",
       " 0.3438180685043335,\n",
       " 0.3302548825740814,\n",
       " 0.29477643966674805,\n",
       " 0.2806161642074585,\n",
       " 0.2539941072463989,\n",
       " 0.21101190149784088,\n",
       " 0.35728392004966736,\n",
       " 0.23322555422782898,\n",
       " 0.2987280786037445,\n",
       " 0.24532152712345123,\n",
       " 0.2628936767578125,\n",
       " 0.22793620824813843,\n",
       " 0.2895999252796173,\n",
       " 0.3634035587310791,\n",
       " 0.2837800681591034,\n",
       " 0.26616576313972473,\n",
       " 0.23072312772274017,\n",
       " 0.23192359507083893,\n",
       " 0.2691778242588043,\n",
       " 0.297113299369812,\n",
       " 0.21685703098773956,\n",
       " 0.35473552346229553,\n",
       " 0.24816137552261353,\n",
       " 0.24932265281677246,\n",
       " 0.29098743200302124,\n",
       " 0.2649456858634949,\n",
       " 0.2632679045200348,\n",
       " 0.21610884368419647,\n",
       " 0.3030668795108795,\n",
       " 0.24233004450798035,\n",
       " 0.17378848791122437,\n",
       " 0.23265838623046875,\n",
       " 0.26679670810699463,\n",
       " 0.2342921793460846,\n",
       " 0.2438788264989853,\n",
       " 0.28508245944976807,\n",
       " 0.24310679733753204,\n",
       " 0.23777064681053162,\n",
       " 0.2955189645290375,\n",
       " 0.31993234157562256,\n",
       " 0.24639880657196045,\n",
       " 0.26211410760879517,\n",
       " 0.37358441948890686,\n",
       " 0.24578210711479187,\n",
       " 0.3167145550251007,\n",
       " 0.28629088401794434,\n",
       " 0.3094531297683716,\n",
       " 0.301003098487854,\n",
       " 0.27617958188056946,\n",
       " 0.24396425485610962,\n",
       " 0.16359379887580872,\n",
       " 0.29052790999412537,\n",
       " 0.2504870593547821,\n",
       " 0.32362017035484314,\n",
       " 0.296932578086853,\n",
       " 0.2673487663269043,\n",
       " 0.2669408619403839,\n",
       " 0.22055256366729736,\n",
       " 0.23675036430358887,\n",
       " 0.2985736131668091,\n",
       " 0.3100954294204712,\n",
       " 0.25403890013694763,\n",
       " 0.1918240338563919,\n",
       " 0.3067953586578369,\n",
       " 0.20835113525390625,\n",
       " 0.32108014822006226,\n",
       " 0.20363718271255493,\n",
       " 0.2306649386882782,\n",
       " 0.262479692697525,\n",
       " 0.268541157245636,\n",
       " 0.19504009187221527,\n",
       " 0.24387353658676147,\n",
       " 0.2703225016593933,\n",
       " 0.27796846628189087,\n",
       " 0.2547309100627899,\n",
       " 0.2869814336299896,\n",
       " 0.2497628927230835,\n",
       " 0.2884029746055603,\n",
       " 0.31594210863113403,\n",
       " 0.19826364517211914,\n",
       " 0.2352229654788971,\n",
       " 0.24350440502166748,\n",
       " 0.27211400866508484,\n",
       " 0.2493707537651062,\n",
       " 0.2334742695093155,\n",
       " 0.18484973907470703,\n",
       " 0.2567254602909088,\n",
       " 0.20804063975811005,\n",
       " 0.2402597963809967,\n",
       " 0.3094610869884491,\n",
       " 0.2760743796825409,\n",
       " 0.31903254985809326,\n",
       " 0.24664150178432465,\n",
       " 0.32514429092407227,\n",
       " 0.27662351727485657,\n",
       " 0.2682175040245056,\n",
       " 0.3383038640022278,\n",
       " 0.2563245892524719,\n",
       " 0.24912087619304657,\n",
       " 0.2364659607410431,\n",
       " 0.24605736136436462,\n",
       " 0.2358817160129547,\n",
       " 0.25060775876045227,\n",
       " 0.27603641152381897,\n",
       " 0.25922301411628723,\n",
       " 0.22839483618736267,\n",
       " 0.2908916473388672,\n",
       " 0.21671192348003387,\n",
       " 0.21040470898151398,\n",
       " 0.18401861190795898,\n",
       " 0.21066206693649292,\n",
       " 0.2590448260307312,\n",
       " 0.2747909426689148,\n",
       " 0.243096262216568,\n",
       " 0.2822149395942688,\n",
       " 0.2784760594367981,\n",
       " 0.2601742744445801,\n",
       " 0.24843019247055054,\n",
       " 0.2613588571548462,\n",
       " 0.213445246219635,\n",
       " 0.3344937264919281,\n",
       " 0.2962576150894165,\n",
       " 0.24743247032165527,\n",
       " 0.2500942349433899,\n",
       " 0.24541537463665009,\n",
       " 0.29556533694267273,\n",
       " 0.31327879428863525,\n",
       " 0.28389623761177063,\n",
       " 0.2583196461200714,\n",
       " 0.2773922383785248,\n",
       " 0.24153852462768555,\n",
       " 0.2607129216194153,\n",
       " 0.233037069439888,\n",
       " 0.4275340735912323,\n",
       " 0.24302229285240173,\n",
       " 0.2523198425769806,\n",
       " 0.2548881769180298,\n",
       " 0.21296986937522888,\n",
       " 0.2276739627122879,\n",
       " 0.24915684759616852,\n",
       " 0.23156443238258362,\n",
       " 0.20128896832466125,\n",
       " 0.2996267080307007,\n",
       " 0.2077140063047409,\n",
       " 0.3254144787788391,\n",
       " 0.3374737799167633,\n",
       " 0.2282790243625641,\n",
       " 0.2666184902191162,\n",
       " 0.26634788513183594,\n",
       " 0.26588767766952515,\n",
       " 0.3705452084541321,\n",
       " 0.20272627472877502,\n",
       " 0.2374342530965805,\n",
       " 0.2579326927661896,\n",
       " 0.2297079861164093,\n",
       " 0.17024298012256622,\n",
       " 0.34628209471702576,\n",
       " 0.2640816867351532,\n",
       " 0.2652817964553833,\n",
       " 0.1914740949869156,\n",
       " 0.2517310082912445,\n",
       " 0.26348838210105896,\n",
       " 0.301804780960083,\n",
       " 0.2659790515899658,\n",
       " 0.18589675426483154,\n",
       " 0.2934078276157379,\n",
       " 0.22055715322494507,\n",
       " 0.2589476406574249,\n",
       " 0.3523485064506531,\n",
       " 0.29197216033935547,\n",
       " 0.23776836693286896,\n",
       " 0.2657085061073303,\n",
       " 0.23176369071006775,\n",
       " 0.24007418751716614,\n",
       " 0.2062320113182068,\n",
       " 0.23197954893112183,\n",
       " 0.273948073387146,\n",
       " 0.27929508686065674,\n",
       " 0.25852033495903015,\n",
       " 0.21814031898975372,\n",
       " 0.20678046345710754,\n",
       " 0.24689427018165588,\n",
       " 0.2348915934562683,\n",
       " 0.20338940620422363,\n",
       " 0.22527053952217102,\n",
       " 0.2152579426765442,\n",
       " 0.2506847679615021,\n",
       " 0.25465866923332214,\n",
       " 0.1830398291349411,\n",
       " ...]"
      ]
     },
     "execution_count": 40,
     "metadata": {},
     "output_type": "execute_result"
    }
   ],
   "source": [
    "losses"
   ]
  },
  {
   "cell_type": "code",
   "execution_count": 41,
   "id": "92652e32-1c5c-45ee-a274-5d886286e0a1",
   "metadata": {},
   "outputs": [
    {
     "data": {
      "image/png": "[encoded data removed]",
      "text/plain": [
       "<Figure size 640x480 with 1 Axes>"
      ]
     },
     "metadata": {},
     "output_type": "display_data"
    }
   ],
   "source": [
    "from matplotlib import pyplot as plt\n",
    "plt.plot(losses)\n",
    "plt.show()"
   ]
  },
  {
   "cell_type": "code",
   "execution_count": 42,
   "id": "1eb41b0c-1384-411f-84fb-11ac2eec6665",
   "metadata": {},
   "outputs": [
    {
     "data": {
      "text/plain": [
       "15750"
      ]
     },
     "execution_count": 42,
     "metadata": {},
     "output_type": "execute_result"
    }
   ],
   "source": [
    "len(losses)"
   ]
  },
  {
   "cell_type": "code",
   "execution_count": 43,
   "id": "4675f6d5-344b-4796-b9e9-9c2866da42bf",
   "metadata": {},
   "outputs": [
    {
     "data": {
      "image/png": "[encoded data removed]",
      "text/plain": [
       "<Figure size 640x480 with 1 Axes>"
      ]
     },
     "metadata": {},
     "output_type": "display_data"
    }
   ],
   "source": [
    "plt.xlabel(\"Epochs (every 35)\")\n",
    "plt.ylabel(\"Loss\")\n",
    "plt.plot(losses[::35])\n",
    "plt.show()"
   ]
  },
  {
   "cell_type": "code",
   "execution_count": 44,
   "id": "c6320d71-059a-4399-8d15-399d23bfb4bd",
   "metadata": {},
   "outputs": [
    {
     "data": {
      "image/png": "[encoded data removed]",
      "text/plain": [
       "<Figure size 640x480 with 1 Axes>"
      ]
     },
     "metadata": {},
     "output_type": "display_data"
    }
   ],
   "source": [
    "plt.xlabel(\"Epochs (every 35)\")\n",
    "plt.ylabel(\"Loss\")\n",
    "plt.plot(losses)\n",
    "plt.show()"
   ]
  },
  {
   "cell_type": "code",
   "execution_count": 45,
   "id": "ebaad100-6fc1-4b01-a3c9-f28cca3212f9",
   "metadata": {},
   "outputs": [
    {
     "data": {
      "text/plain": [
       "[tensor(0.6878),\n",
       " tensor(0.6935),\n",
       " tensor(0.7995),\n",
       " tensor(0.8099),\n",
       " tensor(0.8088),\n",
       " tensor(0.8088),\n",
       " tensor(0.8053),\n",
       " tensor(0.8122),\n",
       " tensor(0.8157),\n",
       " tensor(0.8168),\n",
       " tensor(0.8180),\n",
       " tensor(0.8226),\n",
       " tensor(0.8180),\n",
       " tensor(0.8157),\n",
       " tensor(0.8214),\n",
       " tensor(0.8157),\n",
       " tensor(0.8180),\n",
       " tensor(0.8191),\n",
       " tensor(0.8088),\n",
       " tensor(0.8214),\n",
       " tensor(0.8260),\n",
       " tensor(0.8145),\n",
       " tensor(0.8295),\n",
       " tensor(0.8237),\n",
       " tensor(0.8272),\n",
       " tensor(0.8283),\n",
       " tensor(0.8168),\n",
       " tensor(0.8249),\n",
       " tensor(0.8157),\n",
       " tensor(0.8237),\n",
       " tensor(0.8260),\n",
       " tensor(0.8180),\n",
       " tensor(0.8191),\n",
       " tensor(0.8180),\n",
       " tensor(0.8145),\n",
       " tensor(0.8122),\n",
       " tensor(0.8111),\n",
       " tensor(0.8088),\n",
       " tensor(0.8214),\n",
       " tensor(0.8122),\n",
       " tensor(0.8134),\n",
       " tensor(0.8122),\n",
       " tensor(0.8122),\n",
       " tensor(0.8088),\n",
       " tensor(0.8099),\n",
       " tensor(0.8065),\n",
       " tensor(0.8018),\n",
       " tensor(0.8145),\n",
       " tensor(0.8041),\n",
       " tensor(0.8099),\n",
       " tensor(0.8041),\n",
       " tensor(0.8065),\n",
       " tensor(0.8111),\n",
       " tensor(0.8122),\n",
       " tensor(0.8134),\n",
       " tensor(0.7961),\n",
       " tensor(0.8088),\n",
       " tensor(0.8041),\n",
       " tensor(0.8041),\n",
       " tensor(0.8088),\n",
       " tensor(0.8076),\n",
       " tensor(0.8099),\n",
       " tensor(0.8122),\n",
       " tensor(0.8030),\n",
       " tensor(0.8088),\n",
       " tensor(0.8030),\n",
       " tensor(0.8041),\n",
       " tensor(0.8076),\n",
       " tensor(0.8111),\n",
       " tensor(0.8065),\n",
       " tensor(0.8065),\n",
       " tensor(0.8053),\n",
       " tensor(0.8007),\n",
       " tensor(0.8018),\n",
       " tensor(0.8065),\n",
       " tensor(0.8030),\n",
       " tensor(0.8053),\n",
       " tensor(0.8111),\n",
       " tensor(0.8007),\n",
       " tensor(0.8065),\n",
       " tensor(0.8018),\n",
       " tensor(0.8053),\n",
       " tensor(0.8007),\n",
       " tensor(0.8041),\n",
       " tensor(0.8041),\n",
       " tensor(0.7995),\n",
       " tensor(0.7961),\n",
       " tensor(0.8041),\n",
       " tensor(0.7984),\n",
       " tensor(0.8007),\n",
       " tensor(0.8007),\n",
       " tensor(0.8018),\n",
       " tensor(0.8007),\n",
       " tensor(0.8007),\n",
       " tensor(0.8018),\n",
       " tensor(0.7995),\n",
       " tensor(0.8030),\n",
       " tensor(0.7984),\n",
       " tensor(0.8007),\n",
       " tensor(0.8065),\n",
       " tensor(0.7972),\n",
       " tensor(0.8030),\n",
       " tensor(0.8007),\n",
       " tensor(0.8018),\n",
       " tensor(0.7984),\n",
       " tensor(0.7984),\n",
       " tensor(0.7961),\n",
       " tensor(0.8007),\n",
       " tensor(0.8018),\n",
       " tensor(0.7995),\n",
       " tensor(0.8030),\n",
       " tensor(0.7995),\n",
       " tensor(0.7972),\n",
       " tensor(0.7949),\n",
       " tensor(0.8018),\n",
       " tensor(0.8018),\n",
       " tensor(0.7984),\n",
       " tensor(0.8053),\n",
       " tensor(0.7961),\n",
       " tensor(0.8030),\n",
       " tensor(0.7972),\n",
       " tensor(0.7984),\n",
       " tensor(0.8053),\n",
       " tensor(0.7995),\n",
       " tensor(0.7995),\n",
       " tensor(0.7995),\n",
       " tensor(0.7949),\n",
       " tensor(0.7984),\n",
       " tensor(0.7984),\n",
       " tensor(0.8018),\n",
       " tensor(0.7926),\n",
       " tensor(0.7995),\n",
       " tensor(0.7995),\n",
       " tensor(0.7995),\n",
       " tensor(0.7972),\n",
       " tensor(0.8007),\n",
       " tensor(0.7961),\n",
       " tensor(0.7984),\n",
       " tensor(0.8030),\n",
       " tensor(0.8018),\n",
       " tensor(0.7961),\n",
       " tensor(0.7995),\n",
       " tensor(0.7995),\n",
       " tensor(0.8018),\n",
       " tensor(0.7995),\n",
       " tensor(0.7995),\n",
       " tensor(0.8053),\n",
       " tensor(0.8007),\n",
       " tensor(0.8065),\n",
       " tensor(0.8030),\n",
       " tensor(0.8041),\n",
       " tensor(0.7949),\n",
       " tensor(0.7915),\n",
       " tensor(0.7949),\n",
       " tensor(0.7984),\n",
       " tensor(0.7984),\n",
       " tensor(0.7972),\n",
       " tensor(0.8041),\n",
       " tensor(0.8007),\n",
       " tensor(0.7972),\n",
       " tensor(0.7961),\n",
       " tensor(0.8041),\n",
       " tensor(0.7995),\n",
       " tensor(0.7961),\n",
       " tensor(0.7949),\n",
       " tensor(0.7972),\n",
       " tensor(0.7961),\n",
       " tensor(0.7938),\n",
       " tensor(0.7926),\n",
       " tensor(0.7984),\n",
       " tensor(0.7995),\n",
       " tensor(0.7984),\n",
       " tensor(0.7961),\n",
       " tensor(0.8065),\n",
       " tensor(0.8041),\n",
       " tensor(0.7972),\n",
       " tensor(0.7961),\n",
       " tensor(0.7926),\n",
       " tensor(0.7995),\n",
       " tensor(0.7938),\n",
       " tensor(0.7926),\n",
       " tensor(0.7995),\n",
       " tensor(0.7984),\n",
       " tensor(0.7961),\n",
       " tensor(0.8007),\n",
       " tensor(0.7949),\n",
       " tensor(0.8041),\n",
       " tensor(0.7984),\n",
       " tensor(0.7949),\n",
       " tensor(0.7995),\n",
       " tensor(0.8018),\n",
       " tensor(0.8030),\n",
       " tensor(0.7984),\n",
       " tensor(0.7961),\n",
       " tensor(0.7984),\n",
       " tensor(0.7949),\n",
       " tensor(0.7938),\n",
       " tensor(0.7961),\n",
       " tensor(0.7984),\n",
       " tensor(0.7926),\n",
       " tensor(0.8053),\n",
       " tensor(0.7995),\n",
       " tensor(0.8122),\n",
       " tensor(0.7995),\n",
       " tensor(0.7961),\n",
       " tensor(0.7926),\n",
       " tensor(0.8065),\n",
       " tensor(0.7984),\n",
       " tensor(0.7984),\n",
       " tensor(0.7915),\n",
       " tensor(0.7972),\n",
       " tensor(0.8018),\n",
       " tensor(0.7984),\n",
       " tensor(0.7984),\n",
       " tensor(0.7949),\n",
       " tensor(0.8030),\n",
       " tensor(0.7961),\n",
       " tensor(0.7995),\n",
       " tensor(0.8018),\n",
       " tensor(0.8018),\n",
       " tensor(0.7995),\n",
       " tensor(0.8018),\n",
       " tensor(0.8007),\n",
       " tensor(0.8030),\n",
       " tensor(0.8007),\n",
       " tensor(0.8030),\n",
       " tensor(0.8030),\n",
       " tensor(0.7995),\n",
       " tensor(0.8065),\n",
       " tensor(0.8007),\n",
       " tensor(0.8030),\n",
       " tensor(0.8030),\n",
       " tensor(0.8030),\n",
       " tensor(0.8018),\n",
       " tensor(0.7995),\n",
       " tensor(0.8007),\n",
       " tensor(0.8018),\n",
       " tensor(0.8018),\n",
       " tensor(0.8018),\n",
       " tensor(0.8018),\n",
       " tensor(0.8018),\n",
       " tensor(0.7972),\n",
       " tensor(0.8007),\n",
       " tensor(0.8076),\n",
       " tensor(0.8018),\n",
       " tensor(0.7995),\n",
       " tensor(0.8041),\n",
       " tensor(0.7961),\n",
       " tensor(0.8018),\n",
       " tensor(0.8030),\n",
       " tensor(0.8041),\n",
       " tensor(0.8018),\n",
       " tensor(0.8007),\n",
       " tensor(0.8007),\n",
       " tensor(0.8018),\n",
       " tensor(0.8030),\n",
       " tensor(0.8030),\n",
       " tensor(0.8007),\n",
       " tensor(0.8018),\n",
       " tensor(0.7972),\n",
       " tensor(0.8053),\n",
       " tensor(0.8018),\n",
       " tensor(0.8065),\n",
       " tensor(0.7984),\n",
       " tensor(0.8041),\n",
       " tensor(0.8030),\n",
       " tensor(0.8053),\n",
       " tensor(0.8053),\n",
       " tensor(0.8053),\n",
       " tensor(0.7995),\n",
       " tensor(0.7984),\n",
       " tensor(0.8053),\n",
       " tensor(0.7995),\n",
       " tensor(0.7995),\n",
       " tensor(0.8007),\n",
       " tensor(0.7995),\n",
       " tensor(0.8041),\n",
       " tensor(0.8053),\n",
       " tensor(0.7995),\n",
       " tensor(0.8053),\n",
       " tensor(0.8053),\n",
       " tensor(0.8007),\n",
       " tensor(0.8018),\n",
       " tensor(0.8053),\n",
       " tensor(0.8065),\n",
       " tensor(0.7995),\n",
       " tensor(0.8018),\n",
       " tensor(0.8053),\n",
       " tensor(0.8007),\n",
       " tensor(0.8030),\n",
       " tensor(0.8007),\n",
       " tensor(0.8053),\n",
       " tensor(0.8018),\n",
       " tensor(0.8065),\n",
       " tensor(0.8030),\n",
       " tensor(0.8030),\n",
       " tensor(0.8018),\n",
       " tensor(0.8007),\n",
       " tensor(0.8041),\n",
       " tensor(0.8018),\n",
       " tensor(0.8065),\n",
       " tensor(0.8030),\n",
       " tensor(0.8030),\n",
       " tensor(0.8065),\n",
       " tensor(0.8065),\n",
       " tensor(0.8053),\n",
       " tensor(0.8065),\n",
       " tensor(0.8076),\n",
       " tensor(0.8065),\n",
       " tensor(0.8076),\n",
       " tensor(0.8065),\n",
       " tensor(0.8041),\n",
       " tensor(0.8065),\n",
       " tensor(0.8065),\n",
       " tensor(0.8065),\n",
       " tensor(0.8053),\n",
       " tensor(0.8065),\n",
       " tensor(0.8053),\n",
       " tensor(0.8111),\n",
       " tensor(0.8007),\n",
       " tensor(0.8053),\n",
       " tensor(0.8007),\n",
       " tensor(0.8065),\n",
       " tensor(0.8065),\n",
       " tensor(0.8041),\n",
       " tensor(0.8111),\n",
       " tensor(0.8065),\n",
       " tensor(0.8088),\n",
       " tensor(0.8088),\n",
       " tensor(0.8088),\n",
       " tensor(0.8053),\n",
       " tensor(0.8076),\n",
       " tensor(0.8065),\n",
       " tensor(0.8076),\n",
       " tensor(0.8099),\n",
       " tensor(0.8030),\n",
       " tensor(0.8088),\n",
       " tensor(0.8018),\n",
       " tensor(0.8041),\n",
       " tensor(0.8030),\n",
       " tensor(0.8053),\n",
       " tensor(0.8030),\n",
       " tensor(0.8053),\n",
       " tensor(0.8018),\n",
       " tensor(0.8065),\n",
       " tensor(0.8053),\n",
       " tensor(0.8065),\n",
       " tensor(0.8088),\n",
       " tensor(0.8088),\n",
       " tensor(0.8076),\n",
       " tensor(0.8065),\n",
       " tensor(0.8007),\n",
       " tensor(0.8065),\n",
       " tensor(0.8041),\n",
       " tensor(0.8041),\n",
       " tensor(0.8018),\n",
       " tensor(0.8111),\n",
       " tensor(0.8076),\n",
       " tensor(0.8053),\n",
       " tensor(0.8053),\n",
       " tensor(0.8076),\n",
       " tensor(0.8099),\n",
       " tensor(0.8065),\n",
       " tensor(0.8088),\n",
       " tensor(0.8088),\n",
       " tensor(0.8099),\n",
       " tensor(0.8088),\n",
       " tensor(0.8053),\n",
       " tensor(0.8099),\n",
       " tensor(0.8099),\n",
       " tensor(0.8111),\n",
       " tensor(0.8088),\n",
       " tensor(0.8088),\n",
       " tensor(0.8076),\n",
       " tensor(0.8076),\n",
       " tensor(0.8053),\n",
       " tensor(0.8053),\n",
       " tensor(0.8099),\n",
       " tensor(0.8065),\n",
       " tensor(0.8030),\n",
       " tensor(0.8088),\n",
       " tensor(0.8076),\n",
       " tensor(0.8065),\n",
       " tensor(0.8122),\n",
       " tensor(0.8076),\n",
       " tensor(0.8088),\n",
       " tensor(0.8065),\n",
       " tensor(0.8076),\n",
       " tensor(0.8099),\n",
       " tensor(0.8065),\n",
       " tensor(0.8076),\n",
       " tensor(0.8065),\n",
       " tensor(0.8088),\n",
       " tensor(0.8065),\n",
       " tensor(0.8088),\n",
       " tensor(0.8088),\n",
       " tensor(0.8076),\n",
       " tensor(0.8076),\n",
       " tensor(0.8076),\n",
       " tensor(0.8076),\n",
       " tensor(0.8076),\n",
       " tensor(0.8088),\n",
       " tensor(0.8076),\n",
       " tensor(0.8111),\n",
       " tensor(0.8076),\n",
       " tensor(0.8065),\n",
       " tensor(0.8088),\n",
       " tensor(0.8088),\n",
       " tensor(0.8088),\n",
       " tensor(0.8076),\n",
       " tensor(0.8076),\n",
       " tensor(0.8076),\n",
       " tensor(0.8076),\n",
       " tensor(0.8099),\n",
       " tensor(0.8099),\n",
       " tensor(0.8076),\n",
       " tensor(0.8076),\n",
       " tensor(0.8076),\n",
       " tensor(0.8076),\n",
       " tensor(0.8076),\n",
       " tensor(0.8088),\n",
       " tensor(0.8065),\n",
       " tensor(0.8088),\n",
       " tensor(0.8088),\n",
       " tensor(0.8111),\n",
       " tensor(0.8076),\n",
       " tensor(0.8076),\n",
       " tensor(0.8088),\n",
       " tensor(0.8088),\n",
       " tensor(0.8088),\n",
       " tensor(0.8099),\n",
       " tensor(0.8076),\n",
       " tensor(0.8076),\n",
       " tensor(0.8088),\n",
       " tensor(0.8076),\n",
       " tensor(0.8099),\n",
       " tensor(0.8076),\n",
       " tensor(0.8076),\n",
       " tensor(0.8065),\n",
       " tensor(0.8134),\n",
       " tensor(0.8076),\n",
       " tensor(0.8088),\n",
       " tensor(0.8076),\n",
       " tensor(0.8099),\n",
       " tensor(0.8076),\n",
       " tensor(0.8111),\n",
       " tensor(0.8111),\n",
       " tensor(0.8088),\n",
       " tensor(0.8041),\n",
       " tensor(0.8088)]"
      ]
     },
     "execution_count": 45,
     "metadata": {},
     "output_type": "execute_result"
    }
   ],
   "source": [
    "accuracies_per_epoch"
   ]
  },
  {
   "cell_type": "code",
   "execution_count": 46,
   "id": "b10c1d01-eaf6-4451-b81d-427a4334b0e7",
   "metadata": {},
   "outputs": [
    {
     "data": {
      "image/png": "[encoded data removed]",
      "text/plain": [
       "<Figure size 640x480 with 1 Axes>"
      ]
     },
     "metadata": {},
     "output_type": "display_data"
    }
   ],
   "source": [
    "plt.plot([float(acc) for acc in accuracies_per_epoch])\n",
    "plt.xlabel(\"Epochs\")\n",
    "plt.ylabel(\"Accuracy\")\n",
    "plt.show()\n"
   ]
  },
  {
   "cell_type": "code",
   "execution_count": 47,
   "id": "0d991836-2118-4cee-b7a6-dba3ce41a1fd",
   "metadata": {},
   "outputs": [
    {
     "name": "stdout",
     "output_type": "stream",
     "text": [
      "ReviewClassifier(\n",
      "  (mlp): Sequential(\n",
      "    (0): Linear(in_features=384, out_features=150, bias=True)\n",
      "    (1): ReLU()\n",
      "    (2): Linear(in_features=150, out_features=15, bias=True)\n",
      "    (3): ReLU()\n",
      "    (4): Linear(in_features=15, out_features=1, bias=True)\n",
      "    (5): Sigmoid()\n",
      "  )\n",
      ")\n",
      "['T_destination', '__annotations__', '__call__', '__class__', '__delattr__', '__dict__', '__dir__', '__doc__', '__eq__', '__format__', '__ge__', '__getattr__', '__getattribute__', '__getstate__', '__gt__', '__hash__', '__init__', '__init_subclass__', '__le__', '__lt__', '__module__', '__ne__', '__new__', '__reduce__', '__reduce_ex__', '__repr__', '__setattr__', '__setstate__', '__sizeof__', '__str__', '__subclasshook__', '__weakref__', '_apply', '_backward_hooks', '_backward_pre_hooks', '_buffers', '_call_impl', '_compiled_call_impl', '_forward_hooks', '_forward_hooks_always_called', '_forward_hooks_with_kwargs', '_forward_pre_hooks', '_forward_pre_hooks_with_kwargs', '_get_backward_hooks', '_get_backward_pre_hooks', '_get_name', '_is_full_backward_hook', '_load_from_state_dict', '_load_state_dict_post_hooks', '_load_state_dict_pre_hooks', '_maybe_warn_non_full_backward_hook', '_modules', '_named_members', '_non_persistent_buffers_set', '_parameters', '_register_load_state_dict_pre_hook', '_register_state_dict_hook', '_replicate_for_data_parallel', '_save_to_state_dict', '_slow_forward', '_state_dict_hooks', '_state_dict_pre_hooks', '_version', '_wrapped_call_impl', 'add_module', 'apply', 'bfloat16', 'buffers', 'call_super_init', 'children', 'compile', 'cpu', 'cuda', 'double', 'dump_patches', 'eval', 'extra_repr', 'float', 'forward', 'get_buffer', 'get_extra_state', 'get_parameter', 'get_submodule', 'half', 'ipu', 'load_state_dict', 'mlp', 'modules', 'named_buffers', 'named_children', 'named_modules', 'named_parameters', 'parameters', 'register_backward_hook', 'register_buffer', 'register_forward_hook', 'register_forward_pre_hook', 'register_full_backward_hook', 'register_full_backward_pre_hook', 'register_load_state_dict_post_hook', 'register_module', 'register_parameter', 'register_state_dict_pre_hook', 'requires_grad_', 'set_extra_state', 'share_memory', 'state_dict', 'to', 'to_empty', 'train', 'training', 'type', 'xpu', 'zero_grad']\n",
      "[Parameter containing:\n",
      "tensor([[ 0.0473,  0.0202,  0.0045,  ..., -0.0278, -0.0076, -0.0328],\n",
      "        [-0.0385,  0.0295, -0.0216,  ...,  0.0367, -0.0052, -0.0327],\n",
      "        [-0.0151,  0.0315, -0.0199,  ...,  0.0346,  0.0180,  0.0340],\n",
      "        ...,\n",
      "        [ 0.0169,  0.0385, -0.0476,  ...,  0.0040, -0.0287,  0.0203],\n",
      "        [-0.0074,  0.0055,  0.0215,  ...,  0.0005, -0.0113,  0.0197],\n",
      "        [-0.0328,  0.0450,  0.0072,  ..., -0.0370, -0.0393,  0.0147]],\n",
      "       requires_grad=True), Parameter containing:\n",
      "tensor([ 0.0289,  0.0309, -0.0104,  0.0428, -0.0401, -0.0289, -0.0282, -0.0296,\n",
      "         0.0229, -0.0121, -0.0402, -0.0003, -0.0449,  0.0328, -0.0283,  0.0040,\n",
      "         0.0417,  0.0153,  0.0281, -0.0149,  0.0202,  0.0062,  0.0192,  0.0365,\n",
      "        -0.0505, -0.0114, -0.0045,  0.0217,  0.0080,  0.0471,  0.0121,  0.0126,\n",
      "         0.0115, -0.0169,  0.0332, -0.0114, -0.0381,  0.0368,  0.0373,  0.0151,\n",
      "        -0.0048,  0.0183, -0.0040, -0.0342, -0.0322, -0.0150, -0.0011,  0.0206,\n",
      "        -0.0402,  0.0333, -0.0403, -0.0403, -0.0149,  0.0131,  0.0060,  0.0412,\n",
      "         0.0009, -0.0390,  0.0371,  0.0231, -0.0405, -0.0301, -0.0413,  0.0190,\n",
      "        -0.0157, -0.0410,  0.0103, -0.0494,  0.0152, -0.0356, -0.0352, -0.0109,\n",
      "         0.0110, -0.0273, -0.0412, -0.0353,  0.0122, -0.0061, -0.0476,  0.0260,\n",
      "         0.0005, -0.0186, -0.0503, -0.0328, -0.0265, -0.0176, -0.0260,  0.0384,\n",
      "        -0.0205, -0.0485, -0.0375,  0.0217, -0.0382,  0.0421, -0.0253, -0.0204,\n",
      "         0.0350,  0.0322,  0.0354,  0.0263,  0.0313, -0.0303, -0.0405, -0.0244,\n",
      "         0.0427,  0.0080,  0.0367,  0.0464,  0.0042, -0.0214,  0.0196,  0.0095,\n",
      "        -0.0208, -0.0004, -0.0311, -0.0098, -0.0479,  0.0473,  0.0341,  0.0190,\n",
      "        -0.0342,  0.0045, -0.0276,  0.0269,  0.0355,  0.0275,  0.0173, -0.0437,\n",
      "        -0.0130,  0.0393, -0.0177,  0.0392, -0.0015, -0.0349,  0.0116, -0.0015,\n",
      "         0.0142,  0.0403, -0.0188,  0.0407,  0.0218,  0.0236, -0.0034, -0.0160,\n",
      "         0.0292, -0.0097, -0.0106,  0.0169,  0.0273,  0.0347],\n",
      "       requires_grad=True), Parameter containing:\n",
      "tensor([[ 0.0535, -0.0183,  0.0664,  ..., -0.0776,  0.0702,  0.0692],\n",
      "        [-0.0493,  0.0379,  0.0600,  ..., -0.0375,  0.0129,  0.0143],\n",
      "        [-0.0110, -0.0413,  0.0062,  ..., -0.0358,  0.0228,  0.0538],\n",
      "        ...,\n",
      "        [-0.0486,  0.0038, -0.0805,  ..., -0.0350,  0.0330,  0.0320],\n",
      "        [-0.0530, -0.0167,  0.0034,  ..., -0.0755, -0.0020, -0.0531],\n",
      "        [-0.0070,  0.0355,  0.0621,  ...,  0.0079,  0.0633,  0.0119]],\n",
      "       requires_grad=True), Parameter containing:\n",
      "tensor([ 0.0331,  0.0370,  0.0376, -0.0345, -0.0280, -0.0081, -0.0190,  0.0177,\n",
      "         0.0802,  0.0661,  0.0242,  0.0307,  0.0729, -0.0403,  0.0414],\n",
      "       requires_grad=True), Parameter containing:\n",
      "tensor([[-0.2538,  0.1352, -0.1915,  0.2504, -0.1657,  0.1946, -0.0610,  0.1655,\n",
      "         -0.1260, -0.2552, -0.0808,  0.0200, -0.0545,  0.2479,  0.0535]],\n",
      "       requires_grad=True), Parameter containing:\n",
      "tensor([0.1757], requires_grad=True)]\n"
     ]
    }
   ],
   "source": [
    "empty_model = ReviewClassifier()\n",
    "print(empty_model)\n",
    "print(dir(empty_model))\n",
    "print(list(empty_model.parameters()))"
   ]
  },
  {
   "cell_type": "code",
   "execution_count": 48,
   "id": "6a26dea4-049f-4fa0-b34f-8968cd12190b",
   "metadata": {},
   "outputs": [
    {
     "data": {
      "text/plain": [
       "0.7656000000000001"
      ]
     },
     "execution_count": 48,
     "metadata": {},
     "output_type": "execute_result"
    }
   ],
   "source": [
    "1 - 0.2344"
   ]
  },
  {
   "cell_type": "code",
   "execution_count": null,
   "id": "5a3331c1-107a-4f29-bab0-88cc6fd4675c",
   "metadata": {},
   "outputs": [],
   "source": []
  }
 ],
 "metadata": {
  "kernelspec": {
   "display_name": "Python 3 (ipykernel)",
   "language": "python",
   "name": "python3"
  },
  "language_info": {
   "codemirror_mode": {
    "name": "ipython",
    "version": 3
   },
   "file_extension": ".py",
   "mimetype": "text/x-python",
   "name": "python",
   "nbconvert_exporter": "python",
   "pygments_lexer": "ipython3",
   "version": "3.10.12"
  }
 },
 "nbformat": 4,
 "nbformat_minor": 5
}
