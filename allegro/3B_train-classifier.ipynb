{
 "cells": [
  {
   "cell_type": "code",
   "execution_count": 84,
   "id": "78f26d71-b246-411a-9305-73f835eb7ff0",
   "metadata": {},
   "outputs": [],
   "source": [
    "import torch \n",
    "from torch import nn\n",
    "import numpy as np\n",
    "TWOJ_KOD = None \n",
    "# TODO: Zaprojektuj sieć neuronową która konsumuje wektory o długości 384 (embeddingi) i zwraca binarną odpowiedź (sigmoid) \n",
    "# Pośrednie warstwy niech mają kolejno 150 i 15 neuronów a funkcjami aktywacji niech będzie nn.ReLU \n",
    "class ReviewClassifier(nn.Module):\n",
    "    def __init__(self):\n",
    "        super().__init__()        \n",
    "        self.mlp = nn.Sequential(\n",
    "            nn.Linear(384, 150),\n",
    "            nn.ReLU(),\n",
    "            nn.Linear(150, 15),\n",
    "            nn.ReLU(),\n",
    "            nn.Linear(15, 1),\n",
    "            nn.Sigmoid()\n",
    "        )\n",
    "    \n",
    "    def forward(self, x):        \n",
    "        return self.mlp(x)"
   ]
  },
  {
   "cell_type": "code",
   "execution_count": 85,
   "id": "d1a43a10-7b58-4e69-a20c-4e0f91442279",
   "metadata": {},
   "outputs": [],
   "source": [
    "import pandas as pd \n",
    "#TODO: wczytaj zapisane dane z embeddingami \n",
    "df = pd.read_feather(\"allegro_with_embeddings_B.bin\")"
   ]
  },
  {
   "cell_type": "code",
   "execution_count": 86,
   "id": "ccff75c1-29ad-44f8-9c22-20c8fc113978",
   "metadata": {},
   "outputs": [],
   "source": [
    "df = df.sample(frac=1.0) #shuffle\n",
    "# TODO: Podziel dane na train, val, test (25k, 5k, reszta) \n",
    "train_df = df[:6624]\n",
    "val_df = df[6624:7912]\n",
    "test_df = df[7912:]"
   ]
  },
  {
   "cell_type": "code",
   "execution_count": 87,
   "id": "57a37fcc-312e-444c-bf9a-886f0cde45db",
   "metadata": {},
   "outputs": [
    {
     "data": {
      "application/vnd.jupyter.widget-view+json": {
       "model_id": "a74862813ca1458398ef38cfc5af3a3a",
       "version_major": 2,
       "version_minor": 0
      },
      "text/plain": [
       "  0%|          | 0/450 [00:00<?, ?it/s]"
      ]
     },
     "metadata": {},
     "output_type": "display_data"
    },
    {
     "name": "stdout",
     "output_type": "stream",
     "text": [
      "6624\n"
     ]
    },
    {
     "data": {
      "application/vnd.jupyter.widget-view+json": {
       "model_id": "8993ea2f1ebf474d9ecf72bf44d42c05",
       "version_major": 2,
       "version_minor": 0
      },
      "text/plain": [
       "evaluating: 0it [00:00, ?it/s]"
      ]
     },
     "metadata": {},
     "output_type": "display_data"
    },
    {
     "name": "stdout",
     "output_type": "stream",
     "text": [
      "6624\n"
     ]
    },
    {
     "data": {
      "application/vnd.jupyter.widget-view+json": {
       "model_id": "a424bfc6e8fa420ea964c589ad3988ba",
       "version_major": 2,
       "version_minor": 0
      },
      "text/plain": [
       "evaluating: 0it [00:00, ?it/s]"
      ]
     },
     "metadata": {},
     "output_type": "display_data"
    },
    {
     "name": "stdout",
     "output_type": "stream",
     "text": [
      "6624\n"
     ]
    },
    {
     "data": {
      "application/vnd.jupyter.widget-view+json": {
       "model_id": "9e95eb781aee4b97a4f0c9b466272fc2",
       "version_major": 2,
       "version_minor": 0
      },
      "text/plain": [
       "evaluating: 0it [00:00, ?it/s]"
      ]
     },
     "metadata": {},
     "output_type": "display_data"
    },
    {
     "name": "stdout",
     "output_type": "stream",
     "text": [
      "6624\n"
     ]
    },
    {
     "data": {
      "application/vnd.jupyter.widget-view+json": {
       "model_id": "6dbc397d4b324c6cae9660130ae8ad01",
       "version_major": 2,
       "version_minor": 0
      },
      "text/plain": [
       "evaluating: 0it [00:00, ?it/s]"
      ]
     },
     "metadata": {},
     "output_type": "display_data"
    },
    {
     "name": "stdout",
     "output_type": "stream",
     "text": [
      "6624\n"
     ]
    },
    {
     "data": {
      "application/vnd.jupyter.widget-view+json": {
       "model_id": "6d475ae1501c4104aee0cff380a4fce7",
       "version_major": 2,
       "version_minor": 0
      },
      "text/plain": [
       "evaluating: 0it [00:00, ?it/s]"
      ]
     },
     "metadata": {},
     "output_type": "display_data"
    },
    {
     "name": "stdout",
     "output_type": "stream",
     "text": [
      "6624\n"
     ]
    },
    {
     "data": {
      "application/vnd.jupyter.widget-view+json": {
       "model_id": "16709bad4d2e4f97ba93355a01ae91de",
       "version_major": 2,
       "version_minor": 0
      },
      "text/plain": [
       "evaluating: 0it [00:00, ?it/s]"
      ]
     },
     "metadata": {},
     "output_type": "display_data"
    },
    {
     "name": "stdout",
     "output_type": "stream",
     "text": [
      "6624\n"
     ]
    },
    {
     "data": {
      "application/vnd.jupyter.widget-view+json": {
       "model_id": "9fd7e50f5aeb4c21be23925709f30bec",
       "version_major": 2,
       "version_minor": 0
      },
      "text/plain": [
       "evaluating: 0it [00:00, ?it/s]"
      ]
     },
     "metadata": {},
     "output_type": "display_data"
    },
    {
     "name": "stdout",
     "output_type": "stream",
     "text": [
      "6624\n"
     ]
    },
    {
     "data": {
      "application/vnd.jupyter.widget-view+json": {
       "model_id": "f663a16de56e4b8aa878447ea5e97f6e",
       "version_major": 2,
       "version_minor": 0
      },
      "text/plain": [
       "evaluating: 0it [00:00, ?it/s]"
      ]
     },
     "metadata": {},
     "output_type": "display_data"
    },
    {
     "name": "stdout",
     "output_type": "stream",
     "text": [
      "6624\n"
     ]
    },
    {
     "data": {
      "application/vnd.jupyter.widget-view+json": {
       "model_id": "82a50ceba6314559908bb49b5ac2f333",
       "version_major": 2,
       "version_minor": 0
      },
      "text/plain": [
       "evaluating: 0it [00:00, ?it/s]"
      ]
     },
     "metadata": {},
     "output_type": "display_data"
    },
    {
     "name": "stdout",
     "output_type": "stream",
     "text": [
      "6624\n"
     ]
    },
    {
     "data": {
      "application/vnd.jupyter.widget-view+json": {
       "model_id": "d98c6125962f4b80981ae773cee0b854",
       "version_major": 2,
       "version_minor": 0
      },
      "text/plain": [
       "evaluating: 0it [00:00, ?it/s]"
      ]
     },
     "metadata": {},
     "output_type": "display_data"
    },
    {
     "name": "stdout",
     "output_type": "stream",
     "text": [
      "6624\n"
     ]
    },
    {
     "data": {
      "application/vnd.jupyter.widget-view+json": {
       "model_id": "8d02f194564d4757ab603b155844e2f2",
       "version_major": 2,
       "version_minor": 0
      },
      "text/plain": [
       "evaluating: 0it [00:00, ?it/s]"
      ]
     },
     "metadata": {},
     "output_type": "display_data"
    },
    {
     "name": "stdout",
     "output_type": "stream",
     "text": [
      "6624\n"
     ]
    },
    {
     "data": {
      "application/vnd.jupyter.widget-view+json": {
       "model_id": "582f395e9bed41ceb229d4f1b3eaeeda",
       "version_major": 2,
       "version_minor": 0
      },
      "text/plain": [
       "evaluating: 0it [00:00, ?it/s]"
      ]
     },
     "metadata": {},
     "output_type": "display_data"
    },
    {
     "name": "stdout",
     "output_type": "stream",
     "text": [
      "6624\n"
     ]
    },
    {
     "data": {
      "application/vnd.jupyter.widget-view+json": {
       "model_id": "2dc664588a534c91af7a8bc67084c8d5",
       "version_major": 2,
       "version_minor": 0
      },
      "text/plain": [
       "evaluating: 0it [00:00, ?it/s]"
      ]
     },
     "metadata": {},
     "output_type": "display_data"
    },
    {
     "name": "stdout",
     "output_type": "stream",
     "text": [
      "6624\n"
     ]
    },
    {
     "data": {
      "application/vnd.jupyter.widget-view+json": {
       "model_id": "261f0289ef7e42e3a0b61b32b15ca2f1",
       "version_major": 2,
       "version_minor": 0
      },
      "text/plain": [
       "evaluating: 0it [00:00, ?it/s]"
      ]
     },
     "metadata": {},
     "output_type": "display_data"
    },
    {
     "name": "stdout",
     "output_type": "stream",
     "text": [
      "6624\n"
     ]
    },
    {
     "data": {
      "application/vnd.jupyter.widget-view+json": {
       "model_id": "0e40f496698b42fcbe704c415de7123f",
       "version_major": 2,
       "version_minor": 0
      },
      "text/plain": [
       "evaluating: 0it [00:00, ?it/s]"
      ]
     },
     "metadata": {},
     "output_type": "display_data"
    },
    {
     "name": "stdout",
     "output_type": "stream",
     "text": [
      "6624\n"
     ]
    },
    {
     "data": {
      "application/vnd.jupyter.widget-view+json": {
       "model_id": "ea0ac573c0894b04b27095f0efb9b33b",
       "version_major": 2,
       "version_minor": 0
      },
      "text/plain": [
       "evaluating: 0it [00:00, ?it/s]"
      ]
     },
     "metadata": {},
     "output_type": "display_data"
    },
    {
     "name": "stdout",
     "output_type": "stream",
     "text": [
      "6624\n"
     ]
    },
    {
     "data": {
      "application/vnd.jupyter.widget-view+json": {
       "model_id": "3e90f687a47b4317b9888714e62f5c1f",
       "version_major": 2,
       "version_minor": 0
      },
      "text/plain": [
       "evaluating: 0it [00:00, ?it/s]"
      ]
     },
     "metadata": {},
     "output_type": "display_data"
    },
    {
     "name": "stdout",
     "output_type": "stream",
     "text": [
      "6624\n"
     ]
    },
    {
     "data": {
      "application/vnd.jupyter.widget-view+json": {
       "model_id": "0ccb53235b43491b9a9eba99892b0e08",
       "version_major": 2,
       "version_minor": 0
      },
      "text/plain": [
       "evaluating: 0it [00:00, ?it/s]"
      ]
     },
     "metadata": {},
     "output_type": "display_data"
    },
    {
     "name": "stdout",
     "output_type": "stream",
     "text": [
      "6624\n"
     ]
    },
    {
     "data": {
      "application/vnd.jupyter.widget-view+json": {
       "model_id": "6b1f599047664cc5a07448b0abebf9e0",
       "version_major": 2,
       "version_minor": 0
      },
      "text/plain": [
       "evaluating: 0it [00:00, ?it/s]"
      ]
     },
     "metadata": {},
     "output_type": "display_data"
    },
    {
     "name": "stdout",
     "output_type": "stream",
     "text": [
      "6624\n"
     ]
    },
    {
     "data": {
      "application/vnd.jupyter.widget-view+json": {
       "model_id": "7e60ae96c96844a8aeb4d94dac027575",
       "version_major": 2,
       "version_minor": 0
      },
      "text/plain": [
       "evaluating: 0it [00:00, ?it/s]"
      ]
     },
     "metadata": {},
     "output_type": "display_data"
    },
    {
     "name": "stdout",
     "output_type": "stream",
     "text": [
      "6624\n"
     ]
    },
    {
     "data": {
      "application/vnd.jupyter.widget-view+json": {
       "model_id": "7ffa4509b084456d834e02f90c808040",
       "version_major": 2,
       "version_minor": 0
      },
      "text/plain": [
       "evaluating: 0it [00:00, ?it/s]"
      ]
     },
     "metadata": {},
     "output_type": "display_data"
    },
    {
     "name": "stdout",
     "output_type": "stream",
     "text": [
      "6624\n"
     ]
    },
    {
     "data": {
      "application/vnd.jupyter.widget-view+json": {
       "model_id": "a78f6cb678a04d30a07717f3ac0f4499",
       "version_major": 2,
       "version_minor": 0
      },
      "text/plain": [
       "evaluating: 0it [00:00, ?it/s]"
      ]
     },
     "metadata": {},
     "output_type": "display_data"
    },
    {
     "name": "stdout",
     "output_type": "stream",
     "text": [
      "6624\n"
     ]
    },
    {
     "data": {
      "application/vnd.jupyter.widget-view+json": {
       "model_id": "e23d57e4358148bf9b910340654fe7ee",
       "version_major": 2,
       "version_minor": 0
      },
      "text/plain": [
       "evaluating: 0it [00:00, ?it/s]"
      ]
     },
     "metadata": {},
     "output_type": "display_data"
    },
    {
     "name": "stdout",
     "output_type": "stream",
     "text": [
      "6624\n"
     ]
    },
    {
     "data": {
      "application/vnd.jupyter.widget-view+json": {
       "model_id": "44ad7c0ebd254460b5394f05d5ae48f0",
       "version_major": 2,
       "version_minor": 0
      },
      "text/plain": [
       "evaluating: 0it [00:00, ?it/s]"
      ]
     },
     "metadata": {},
     "output_type": "display_data"
    },
    {
     "name": "stdout",
     "output_type": "stream",
     "text": [
      "6624\n"
     ]
    },
    {
     "data": {
      "application/vnd.jupyter.widget-view+json": {
       "model_id": "d13132d309ee4af79a9dbcd9c0bc151a",
       "version_major": 2,
       "version_minor": 0
      },
      "text/plain": [
       "evaluating: 0it [00:00, ?it/s]"
      ]
     },
     "metadata": {},
     "output_type": "display_data"
    },
    {
     "name": "stdout",
     "output_type": "stream",
     "text": [
      "6624\n"
     ]
    },
    {
     "data": {
      "application/vnd.jupyter.widget-view+json": {
       "model_id": "c13587e64c1c4f99b656dd01c768ce60",
       "version_major": 2,
       "version_minor": 0
      },
      "text/plain": [
       "evaluating: 0it [00:00, ?it/s]"
      ]
     },
     "metadata": {},
     "output_type": "display_data"
    },
    {
     "name": "stdout",
     "output_type": "stream",
     "text": [
      "6624\n"
     ]
    },
    {
     "data": {
      "application/vnd.jupyter.widget-view+json": {
       "model_id": "8ef356165d114d10ba4fbd96b1581be3",
       "version_major": 2,
       "version_minor": 0
      },
      "text/plain": [
       "evaluating: 0it [00:00, ?it/s]"
      ]
     },
     "metadata": {},
     "output_type": "display_data"
    },
    {
     "name": "stdout",
     "output_type": "stream",
     "text": [
      "6624\n"
     ]
    },
    {
     "data": {
      "application/vnd.jupyter.widget-view+json": {
       "model_id": "19545fd8d19e44c18caa3e282c6ea4cb",
       "version_major": 2,
       "version_minor": 0
      },
      "text/plain": [
       "evaluating: 0it [00:00, ?it/s]"
      ]
     },
     "metadata": {},
     "output_type": "display_data"
    },
    {
     "name": "stdout",
     "output_type": "stream",
     "text": [
      "6624\n"
     ]
    },
    {
     "data": {
      "application/vnd.jupyter.widget-view+json": {
       "model_id": "727d7c138ce14828ab297e873cd88f6a",
       "version_major": 2,
       "version_minor": 0
      },
      "text/plain": [
       "evaluating: 0it [00:00, ?it/s]"
      ]
     },
     "metadata": {},
     "output_type": "display_data"
    },
    {
     "name": "stdout",
     "output_type": "stream",
     "text": [
      "6624\n"
     ]
    },
    {
     "data": {
      "application/vnd.jupyter.widget-view+json": {
       "model_id": "75c61d9301cb4038bb7a2797c916ec60",
       "version_major": 2,
       "version_minor": 0
      },
      "text/plain": [
       "evaluating: 0it [00:00, ?it/s]"
      ]
     },
     "metadata": {},
     "output_type": "display_data"
    },
    {
     "name": "stdout",
     "output_type": "stream",
     "text": [
      "6624\n"
     ]
    },
    {
     "data": {
      "application/vnd.jupyter.widget-view+json": {
       "model_id": "69f1789b85c04923830c0afcd501523f",
       "version_major": 2,
       "version_minor": 0
      },
      "text/plain": [
       "evaluating: 0it [00:00, ?it/s]"
      ]
     },
     "metadata": {},
     "output_type": "display_data"
    },
    {
     "name": "stdout",
     "output_type": "stream",
     "text": [
      "6624\n"
     ]
    },
    {
     "data": {
      "application/vnd.jupyter.widget-view+json": {
       "model_id": "3d320bdc15e5448ba7536c5d8a2ad38c",
       "version_major": 2,
       "version_minor": 0
      },
      "text/plain": [
       "evaluating: 0it [00:00, ?it/s]"
      ]
     },
     "metadata": {},
     "output_type": "display_data"
    },
    {
     "name": "stdout",
     "output_type": "stream",
     "text": [
      "6624\n"
     ]
    },
    {
     "data": {
      "application/vnd.jupyter.widget-view+json": {
       "model_id": "6a935fd31844458baa97b0f5ed655549",
       "version_major": 2,
       "version_minor": 0
      },
      "text/plain": [
       "evaluating: 0it [00:00, ?it/s]"
      ]
     },
     "metadata": {},
     "output_type": "display_data"
    },
    {
     "name": "stdout",
     "output_type": "stream",
     "text": [
      "6624\n"
     ]
    },
    {
     "data": {
      "application/vnd.jupyter.widget-view+json": {
       "model_id": "cff037602f64470aa510b3f7d03b9f95",
       "version_major": 2,
       "version_minor": 0
      },
      "text/plain": [
       "evaluating: 0it [00:00, ?it/s]"
      ]
     },
     "metadata": {},
     "output_type": "display_data"
    },
    {
     "name": "stdout",
     "output_type": "stream",
     "text": [
      "6624\n"
     ]
    },
    {
     "data": {
      "application/vnd.jupyter.widget-view+json": {
       "model_id": "c8e42bd93a22455ab44b72dbb4cdfc89",
       "version_major": 2,
       "version_minor": 0
      },
      "text/plain": [
       "evaluating: 0it [00:00, ?it/s]"
      ]
     },
     "metadata": {},
     "output_type": "display_data"
    },
    {
     "name": "stdout",
     "output_type": "stream",
     "text": [
      "6624\n"
     ]
    },
    {
     "data": {
      "application/vnd.jupyter.widget-view+json": {
       "model_id": "c162a64b79284db896aeedff0ddfeba7",
       "version_major": 2,
       "version_minor": 0
      },
      "text/plain": [
       "evaluating: 0it [00:00, ?it/s]"
      ]
     },
     "metadata": {},
     "output_type": "display_data"
    },
    {
     "name": "stdout",
     "output_type": "stream",
     "text": [
      "6624\n"
     ]
    },
    {
     "data": {
      "application/vnd.jupyter.widget-view+json": {
       "model_id": "973dd1a611424f9186b7394b96473d07",
       "version_major": 2,
       "version_minor": 0
      },
      "text/plain": [
       "evaluating: 0it [00:00, ?it/s]"
      ]
     },
     "metadata": {},
     "output_type": "display_data"
    },
    {
     "name": "stdout",
     "output_type": "stream",
     "text": [
      "6624\n"
     ]
    },
    {
     "data": {
      "application/vnd.jupyter.widget-view+json": {
       "model_id": "5a2e7d179cd247f989ed29092bc2f333",
       "version_major": 2,
       "version_minor": 0
      },
      "text/plain": [
       "evaluating: 0it [00:00, ?it/s]"
      ]
     },
     "metadata": {},
     "output_type": "display_data"
    },
    {
     "name": "stdout",
     "output_type": "stream",
     "text": [
      "6624\n"
     ]
    },
    {
     "data": {
      "application/vnd.jupyter.widget-view+json": {
       "model_id": "1ca7a32f886e46bdbf60b39db45129a7",
       "version_major": 2,
       "version_minor": 0
      },
      "text/plain": [
       "evaluating: 0it [00:00, ?it/s]"
      ]
     },
     "metadata": {},
     "output_type": "display_data"
    },
    {
     "name": "stdout",
     "output_type": "stream",
     "text": [
      "6624\n"
     ]
    },
    {
     "data": {
      "application/vnd.jupyter.widget-view+json": {
       "model_id": "968f4d82281e41ee94805ba499c09ea7",
       "version_major": 2,
       "version_minor": 0
      },
      "text/plain": [
       "evaluating: 0it [00:00, ?it/s]"
      ]
     },
     "metadata": {},
     "output_type": "display_data"
    },
    {
     "name": "stdout",
     "output_type": "stream",
     "text": [
      "6624\n"
     ]
    },
    {
     "data": {
      "application/vnd.jupyter.widget-view+json": {
       "model_id": "7da4e28c92a6401fa9dec4f51422c924",
       "version_major": 2,
       "version_minor": 0
      },
      "text/plain": [
       "evaluating: 0it [00:00, ?it/s]"
      ]
     },
     "metadata": {},
     "output_type": "display_data"
    },
    {
     "name": "stdout",
     "output_type": "stream",
     "text": [
      "6624\n"
     ]
    },
    {
     "data": {
      "application/vnd.jupyter.widget-view+json": {
       "model_id": "37a95217a8404a448b20c5dfa8162796",
       "version_major": 2,
       "version_minor": 0
      },
      "text/plain": [
       "evaluating: 0it [00:00, ?it/s]"
      ]
     },
     "metadata": {},
     "output_type": "display_data"
    },
    {
     "name": "stdout",
     "output_type": "stream",
     "text": [
      "6624\n"
     ]
    },
    {
     "data": {
      "application/vnd.jupyter.widget-view+json": {
       "model_id": "42c01fe39fa243518d0b47f2dc13744d",
       "version_major": 2,
       "version_minor": 0
      },
      "text/plain": [
       "evaluating: 0it [00:00, ?it/s]"
      ]
     },
     "metadata": {},
     "output_type": "display_data"
    },
    {
     "name": "stdout",
     "output_type": "stream",
     "text": [
      "6624\n"
     ]
    },
    {
     "data": {
      "application/vnd.jupyter.widget-view+json": {
       "model_id": "fd9ba2efb912424898337bacd1f1c105",
       "version_major": 2,
       "version_minor": 0
      },
      "text/plain": [
       "evaluating: 0it [00:00, ?it/s]"
      ]
     },
     "metadata": {},
     "output_type": "display_data"
    },
    {
     "name": "stdout",
     "output_type": "stream",
     "text": [
      "6624\n"
     ]
    },
    {
     "data": {
      "application/vnd.jupyter.widget-view+json": {
       "model_id": "66cb2e64c8e94cf29a97e6cf9e17086b",
       "version_major": 2,
       "version_minor": 0
      },
      "text/plain": [
       "evaluating: 0it [00:00, ?it/s]"
      ]
     },
     "metadata": {},
     "output_type": "display_data"
    },
    {
     "name": "stdout",
     "output_type": "stream",
     "text": [
      "6624\n"
     ]
    },
    {
     "data": {
      "application/vnd.jupyter.widget-view+json": {
       "model_id": "5b7442291651440ca6a92473a4c501d7",
       "version_major": 2,
       "version_minor": 0
      },
      "text/plain": [
       "evaluating: 0it [00:00, ?it/s]"
      ]
     },
     "metadata": {},
     "output_type": "display_data"
    },
    {
     "name": "stdout",
     "output_type": "stream",
     "text": [
      "6624\n"
     ]
    },
    {
     "data": {
      "application/vnd.jupyter.widget-view+json": {
       "model_id": "303c2c5d21ad4d33b6bd86743e502e60",
       "version_major": 2,
       "version_minor": 0
      },
      "text/plain": [
       "evaluating: 0it [00:00, ?it/s]"
      ]
     },
     "metadata": {},
     "output_type": "display_data"
    },
    {
     "name": "stdout",
     "output_type": "stream",
     "text": [
      "6624\n"
     ]
    },
    {
     "data": {
      "application/vnd.jupyter.widget-view+json": {
       "model_id": "017cb77592f54c03945881346ad6b650",
       "version_major": 2,
       "version_minor": 0
      },
      "text/plain": [
       "evaluating: 0it [00:00, ?it/s]"
      ]
     },
     "metadata": {},
     "output_type": "display_data"
    },
    {
     "name": "stdout",
     "output_type": "stream",
     "text": [
      "6624\n"
     ]
    },
    {
     "data": {
      "application/vnd.jupyter.widget-view+json": {
       "model_id": "c9b296710f11499ba592396a421cba80",
       "version_major": 2,
       "version_minor": 0
      },
      "text/plain": [
       "evaluating: 0it [00:00, ?it/s]"
      ]
     },
     "metadata": {},
     "output_type": "display_data"
    },
    {
     "name": "stdout",
     "output_type": "stream",
     "text": [
      "6624\n"
     ]
    },
    {
     "data": {
      "application/vnd.jupyter.widget-view+json": {
       "model_id": "1ded649650ad4357ae40b818fba91a09",
       "version_major": 2,
       "version_minor": 0
      },
      "text/plain": [
       "evaluating: 0it [00:00, ?it/s]"
      ]
     },
     "metadata": {},
     "output_type": "display_data"
    },
    {
     "name": "stdout",
     "output_type": "stream",
     "text": [
      "6624\n"
     ]
    },
    {
     "data": {
      "application/vnd.jupyter.widget-view+json": {
       "model_id": "a738a98a7c5542e3b904e71654f8b560",
       "version_major": 2,
       "version_minor": 0
      },
      "text/plain": [
       "evaluating: 0it [00:00, ?it/s]"
      ]
     },
     "metadata": {},
     "output_type": "display_data"
    },
    {
     "name": "stdout",
     "output_type": "stream",
     "text": [
      "6624\n"
     ]
    },
    {
     "data": {
      "application/vnd.jupyter.widget-view+json": {
       "model_id": "2d5dd7e1f13349b7bbfad4be87aa7b44",
       "version_major": 2,
       "version_minor": 0
      },
      "text/plain": [
       "evaluating: 0it [00:00, ?it/s]"
      ]
     },
     "metadata": {},
     "output_type": "display_data"
    },
    {
     "name": "stdout",
     "output_type": "stream",
     "text": [
      "6624\n"
     ]
    },
    {
     "data": {
      "application/vnd.jupyter.widget-view+json": {
       "model_id": "0226116caf1b4de4b4189c745c746786",
       "version_major": 2,
       "version_minor": 0
      },
      "text/plain": [
       "evaluating: 0it [00:00, ?it/s]"
      ]
     },
     "metadata": {},
     "output_type": "display_data"
    },
    {
     "name": "stdout",
     "output_type": "stream",
     "text": [
      "6624\n"
     ]
    },
    {
     "data": {
      "application/vnd.jupyter.widget-view+json": {
       "model_id": "2a0814d76b1c4f94ab6b9bb47bbce384",
       "version_major": 2,
       "version_minor": 0
      },
      "text/plain": [
       "evaluating: 0it [00:00, ?it/s]"
      ]
     },
     "metadata": {},
     "output_type": "display_data"
    },
    {
     "name": "stdout",
     "output_type": "stream",
     "text": [
      "6624\n"
     ]
    },
    {
     "data": {
      "application/vnd.jupyter.widget-view+json": {
       "model_id": "17a808a3f93045598ae8938d4c51f4db",
       "version_major": 2,
       "version_minor": 0
      },
      "text/plain": [
       "evaluating: 0it [00:00, ?it/s]"
      ]
     },
     "metadata": {},
     "output_type": "display_data"
    },
    {
     "name": "stdout",
     "output_type": "stream",
     "text": [
      "6624\n"
     ]
    },
    {
     "data": {
      "application/vnd.jupyter.widget-view+json": {
       "model_id": "f8f56ec828f14ffca05a420047471db2",
       "version_major": 2,
       "version_minor": 0
      },
      "text/plain": [
       "evaluating: 0it [00:00, ?it/s]"
      ]
     },
     "metadata": {},
     "output_type": "display_data"
    },
    {
     "name": "stdout",
     "output_type": "stream",
     "text": [
      "6624\n"
     ]
    },
    {
     "data": {
      "application/vnd.jupyter.widget-view+json": {
       "model_id": "0f037ebe4ff143eaad1319b930fdae2b",
       "version_major": 2,
       "version_minor": 0
      },
      "text/plain": [
       "evaluating: 0it [00:00, ?it/s]"
      ]
     },
     "metadata": {},
     "output_type": "display_data"
    },
    {
     "name": "stdout",
     "output_type": "stream",
     "text": [
      "6624\n"
     ]
    },
    {
     "data": {
      "application/vnd.jupyter.widget-view+json": {
       "model_id": "df7407d957ab4c7cb076d01bcdad9a57",
       "version_major": 2,
       "version_minor": 0
      },
      "text/plain": [
       "evaluating: 0it [00:00, ?it/s]"
      ]
     },
     "metadata": {},
     "output_type": "display_data"
    },
    {
     "name": "stdout",
     "output_type": "stream",
     "text": [
      "6624\n"
     ]
    },
    {
     "data": {
      "application/vnd.jupyter.widget-view+json": {
       "model_id": "40fb0e768c4b46ffb3f8120fb2952d61",
       "version_major": 2,
       "version_minor": 0
      },
      "text/plain": [
       "evaluating: 0it [00:00, ?it/s]"
      ]
     },
     "metadata": {},
     "output_type": "display_data"
    },
    {
     "name": "stdout",
     "output_type": "stream",
     "text": [
      "6624\n"
     ]
    },
    {
     "data": {
      "application/vnd.jupyter.widget-view+json": {
       "model_id": "de3062a5f9054865bd8b2909d0802b14",
       "version_major": 2,
       "version_minor": 0
      },
      "text/plain": [
       "evaluating: 0it [00:00, ?it/s]"
      ]
     },
     "metadata": {},
     "output_type": "display_data"
    },
    {
     "name": "stdout",
     "output_type": "stream",
     "text": [
      "6624\n"
     ]
    },
    {
     "data": {
      "application/vnd.jupyter.widget-view+json": {
       "model_id": "767ad9837dba4756b987a5a814ae0743",
       "version_major": 2,
       "version_minor": 0
      },
      "text/plain": [
       "evaluating: 0it [00:00, ?it/s]"
      ]
     },
     "metadata": {},
     "output_type": "display_data"
    },
    {
     "name": "stdout",
     "output_type": "stream",
     "text": [
      "6624\n"
     ]
    },
    {
     "data": {
      "application/vnd.jupyter.widget-view+json": {
       "model_id": "adcdac97d8e84bdc92d99910ee5e0916",
       "version_major": 2,
       "version_minor": 0
      },
      "text/plain": [
       "evaluating: 0it [00:00, ?it/s]"
      ]
     },
     "metadata": {},
     "output_type": "display_data"
    },
    {
     "name": "stdout",
     "output_type": "stream",
     "text": [
      "6624\n"
     ]
    },
    {
     "data": {
      "application/vnd.jupyter.widget-view+json": {
       "model_id": "2568c382722e4da28e1af2508d4ff9e5",
       "version_major": 2,
       "version_minor": 0
      },
      "text/plain": [
       "evaluating: 0it [00:00, ?it/s]"
      ]
     },
     "metadata": {},
     "output_type": "display_data"
    },
    {
     "name": "stdout",
     "output_type": "stream",
     "text": [
      "6624\n"
     ]
    },
    {
     "data": {
      "application/vnd.jupyter.widget-view+json": {
       "model_id": "ecd7e762128143048c55a59a8aadaba1",
       "version_major": 2,
       "version_minor": 0
      },
      "text/plain": [
       "evaluating: 0it [00:00, ?it/s]"
      ]
     },
     "metadata": {},
     "output_type": "display_data"
    },
    {
     "name": "stdout",
     "output_type": "stream",
     "text": [
      "6624\n"
     ]
    },
    {
     "data": {
      "application/vnd.jupyter.widget-view+json": {
       "model_id": "1b0498161f79451d8dccee503bad9c5b",
       "version_major": 2,
       "version_minor": 0
      },
      "text/plain": [
       "evaluating: 0it [00:00, ?it/s]"
      ]
     },
     "metadata": {},
     "output_type": "display_data"
    },
    {
     "name": "stdout",
     "output_type": "stream",
     "text": [
      "6624\n"
     ]
    },
    {
     "data": {
      "application/vnd.jupyter.widget-view+json": {
       "model_id": "528ba1584888464280b08ad5f07f5d8e",
       "version_major": 2,
       "version_minor": 0
      },
      "text/plain": [
       "evaluating: 0it [00:00, ?it/s]"
      ]
     },
     "metadata": {},
     "output_type": "display_data"
    },
    {
     "name": "stdout",
     "output_type": "stream",
     "text": [
      "6624\n"
     ]
    },
    {
     "data": {
      "application/vnd.jupyter.widget-view+json": {
       "model_id": "8e73a941446b47c9816599438a9a0845",
       "version_major": 2,
       "version_minor": 0
      },
      "text/plain": [
       "evaluating: 0it [00:00, ?it/s]"
      ]
     },
     "metadata": {},
     "output_type": "display_data"
    },
    {
     "name": "stdout",
     "output_type": "stream",
     "text": [
      "6624\n"
     ]
    },
    {
     "data": {
      "application/vnd.jupyter.widget-view+json": {
       "model_id": "ee51c24ceeab461a80880344197d03cf",
       "version_major": 2,
       "version_minor": 0
      },
      "text/plain": [
       "evaluating: 0it [00:00, ?it/s]"
      ]
     },
     "metadata": {},
     "output_type": "display_data"
    },
    {
     "name": "stdout",
     "output_type": "stream",
     "text": [
      "6624\n"
     ]
    },
    {
     "data": {
      "application/vnd.jupyter.widget-view+json": {
       "model_id": "e9defc3f73c1463ea2c236a5baba6074",
       "version_major": 2,
       "version_minor": 0
      },
      "text/plain": [
       "evaluating: 0it [00:00, ?it/s]"
      ]
     },
     "metadata": {},
     "output_type": "display_data"
    },
    {
     "name": "stdout",
     "output_type": "stream",
     "text": [
      "6624\n"
     ]
    },
    {
     "data": {
      "application/vnd.jupyter.widget-view+json": {
       "model_id": "ce09c73a470347bcb97302ca5950e163",
       "version_major": 2,
       "version_minor": 0
      },
      "text/plain": [
       "evaluating: 0it [00:00, ?it/s]"
      ]
     },
     "metadata": {},
     "output_type": "display_data"
    },
    {
     "name": "stdout",
     "output_type": "stream",
     "text": [
      "6624\n"
     ]
    },
    {
     "data": {
      "application/vnd.jupyter.widget-view+json": {
       "model_id": "ec682c6321fa4619ada755bd15ca8119",
       "version_major": 2,
       "version_minor": 0
      },
      "text/plain": [
       "evaluating: 0it [00:00, ?it/s]"
      ]
     },
     "metadata": {},
     "output_type": "display_data"
    },
    {
     "name": "stdout",
     "output_type": "stream",
     "text": [
      "6624\n"
     ]
    },
    {
     "data": {
      "application/vnd.jupyter.widget-view+json": {
       "model_id": "fec31782b82642ef95eaf03cfc3f661e",
       "version_major": 2,
       "version_minor": 0
      },
      "text/plain": [
       "evaluating: 0it [00:00, ?it/s]"
      ]
     },
     "metadata": {},
     "output_type": "display_data"
    },
    {
     "name": "stdout",
     "output_type": "stream",
     "text": [
      "6624\n"
     ]
    },
    {
     "data": {
      "application/vnd.jupyter.widget-view+json": {
       "model_id": "e78bf833c7b14688b9d33a05603fc4d0",
       "version_major": 2,
       "version_minor": 0
      },
      "text/plain": [
       "evaluating: 0it [00:00, ?it/s]"
      ]
     },
     "metadata": {},
     "output_type": "display_data"
    },
    {
     "name": "stdout",
     "output_type": "stream",
     "text": [
      "6624\n"
     ]
    },
    {
     "data": {
      "application/vnd.jupyter.widget-view+json": {
       "model_id": "6f6533790ece4a939eed7ab598fadcb9",
       "version_major": 2,
       "version_minor": 0
      },
      "text/plain": [
       "evaluating: 0it [00:00, ?it/s]"
      ]
     },
     "metadata": {},
     "output_type": "display_data"
    },
    {
     "name": "stdout",
     "output_type": "stream",
     "text": [
      "6624\n"
     ]
    },
    {
     "data": {
      "application/vnd.jupyter.widget-view+json": {
       "model_id": "cf298865f19843ce852ab1498ff77815",
       "version_major": 2,
       "version_minor": 0
      },
      "text/plain": [
       "evaluating: 0it [00:00, ?it/s]"
      ]
     },
     "metadata": {},
     "output_type": "display_data"
    },
    {
     "name": "stdout",
     "output_type": "stream",
     "text": [
      "6624\n"
     ]
    },
    {
     "data": {
      "application/vnd.jupyter.widget-view+json": {
       "model_id": "fcadd65f1bc94615baa01b11cfee14e5",
       "version_major": 2,
       "version_minor": 0
      },
      "text/plain": [
       "evaluating: 0it [00:00, ?it/s]"
      ]
     },
     "metadata": {},
     "output_type": "display_data"
    },
    {
     "name": "stdout",
     "output_type": "stream",
     "text": [
      "6624\n"
     ]
    },
    {
     "data": {
      "application/vnd.jupyter.widget-view+json": {
       "model_id": "6b6d3c3218e747f09d302e27c59fd7bd",
       "version_major": 2,
       "version_minor": 0
      },
      "text/plain": [
       "evaluating: 0it [00:00, ?it/s]"
      ]
     },
     "metadata": {},
     "output_type": "display_data"
    },
    {
     "name": "stdout",
     "output_type": "stream",
     "text": [
      "6624\n"
     ]
    },
    {
     "data": {
      "application/vnd.jupyter.widget-view+json": {
       "model_id": "712a87b2fb70444084bb48c885cb936a",
       "version_major": 2,
       "version_minor": 0
      },
      "text/plain": [
       "evaluating: 0it [00:00, ?it/s]"
      ]
     },
     "metadata": {},
     "output_type": "display_data"
    },
    {
     "name": "stdout",
     "output_type": "stream",
     "text": [
      "6624\n"
     ]
    },
    {
     "data": {
      "application/vnd.jupyter.widget-view+json": {
       "model_id": "75162ff830e84af6a84c940f6fc1cf6b",
       "version_major": 2,
       "version_minor": 0
      },
      "text/plain": [
       "evaluating: 0it [00:00, ?it/s]"
      ]
     },
     "metadata": {},
     "output_type": "display_data"
    },
    {
     "name": "stdout",
     "output_type": "stream",
     "text": [
      "6624\n"
     ]
    },
    {
     "data": {
      "application/vnd.jupyter.widget-view+json": {
       "model_id": "9fd4cf6467ed4e56a8ba6be7043ec307",
       "version_major": 2,
       "version_minor": 0
      },
      "text/plain": [
       "evaluating: 0it [00:00, ?it/s]"
      ]
     },
     "metadata": {},
     "output_type": "display_data"
    },
    {
     "name": "stdout",
     "output_type": "stream",
     "text": [
      "6624\n"
     ]
    },
    {
     "data": {
      "application/vnd.jupyter.widget-view+json": {
       "model_id": "bd3b3114c837408599f38e5f4562e354",
       "version_major": 2,
       "version_minor": 0
      },
      "text/plain": [
       "evaluating: 0it [00:00, ?it/s]"
      ]
     },
     "metadata": {},
     "output_type": "display_data"
    },
    {
     "name": "stdout",
     "output_type": "stream",
     "text": [
      "6624\n"
     ]
    },
    {
     "data": {
      "application/vnd.jupyter.widget-view+json": {
       "model_id": "fc44ca16864340a18cf305bc9e983432",
       "version_major": 2,
       "version_minor": 0
      },
      "text/plain": [
       "evaluating: 0it [00:00, ?it/s]"
      ]
     },
     "metadata": {},
     "output_type": "display_data"
    },
    {
     "name": "stdout",
     "output_type": "stream",
     "text": [
      "6624\n"
     ]
    },
    {
     "data": {
      "application/vnd.jupyter.widget-view+json": {
       "model_id": "f334564ef7a647e59b374be3064cbfa3",
       "version_major": 2,
       "version_minor": 0
      },
      "text/plain": [
       "evaluating: 0it [00:00, ?it/s]"
      ]
     },
     "metadata": {},
     "output_type": "display_data"
    },
    {
     "name": "stdout",
     "output_type": "stream",
     "text": [
      "6624\n"
     ]
    },
    {
     "data": {
      "application/vnd.jupyter.widget-view+json": {
       "model_id": "e28a020a84e641cba219c569d759576e",
       "version_major": 2,
       "version_minor": 0
      },
      "text/plain": [
       "evaluating: 0it [00:00, ?it/s]"
      ]
     },
     "metadata": {},
     "output_type": "display_data"
    },
    {
     "name": "stdout",
     "output_type": "stream",
     "text": [
      "6624\n"
     ]
    },
    {
     "data": {
      "application/vnd.jupyter.widget-view+json": {
       "model_id": "cfcc21acf4cb43dfbd9d671141e38268",
       "version_major": 2,
       "version_minor": 0
      },
      "text/plain": [
       "evaluating: 0it [00:00, ?it/s]"
      ]
     },
     "metadata": {},
     "output_type": "display_data"
    },
    {
     "name": "stdout",
     "output_type": "stream",
     "text": [
      "6624\n"
     ]
    },
    {
     "data": {
      "application/vnd.jupyter.widget-view+json": {
       "model_id": "1a57c35b82a840628c405a37b748b315",
       "version_major": 2,
       "version_minor": 0
      },
      "text/plain": [
       "evaluating: 0it [00:00, ?it/s]"
      ]
     },
     "metadata": {},
     "output_type": "display_data"
    },
    {
     "name": "stdout",
     "output_type": "stream",
     "text": [
      "6624\n"
     ]
    },
    {
     "data": {
      "application/vnd.jupyter.widget-view+json": {
       "model_id": "f6efde69e13f45b5ae8299f9543baf6c",
       "version_major": 2,
       "version_minor": 0
      },
      "text/plain": [
       "evaluating: 0it [00:00, ?it/s]"
      ]
     },
     "metadata": {},
     "output_type": "display_data"
    },
    {
     "name": "stdout",
     "output_type": "stream",
     "text": [
      "6624\n"
     ]
    },
    {
     "data": {
      "application/vnd.jupyter.widget-view+json": {
       "model_id": "12e5c2d4cd804379ad7fb46d66377cbc",
       "version_major": 2,
       "version_minor": 0
      },
      "text/plain": [
       "evaluating: 0it [00:00, ?it/s]"
      ]
     },
     "metadata": {},
     "output_type": "display_data"
    },
    {
     "name": "stdout",
     "output_type": "stream",
     "text": [
      "6624\n"
     ]
    },
    {
     "data": {
      "application/vnd.jupyter.widget-view+json": {
       "model_id": "b6a71500bd6f43798aa9274c63596133",
       "version_major": 2,
       "version_minor": 0
      },
      "text/plain": [
       "evaluating: 0it [00:00, ?it/s]"
      ]
     },
     "metadata": {},
     "output_type": "display_data"
    },
    {
     "name": "stdout",
     "output_type": "stream",
     "text": [
      "6624\n"
     ]
    },
    {
     "data": {
      "application/vnd.jupyter.widget-view+json": {
       "model_id": "aba596b3643142979e61aa41ded5ced3",
       "version_major": 2,
       "version_minor": 0
      },
      "text/plain": [
       "evaluating: 0it [00:00, ?it/s]"
      ]
     },
     "metadata": {},
     "output_type": "display_data"
    },
    {
     "name": "stdout",
     "output_type": "stream",
     "text": [
      "6624\n"
     ]
    },
    {
     "data": {
      "application/vnd.jupyter.widget-view+json": {
       "model_id": "667b892e403748f7846c5db001667839",
       "version_major": 2,
       "version_minor": 0
      },
      "text/plain": [
       "evaluating: 0it [00:00, ?it/s]"
      ]
     },
     "metadata": {},
     "output_type": "display_data"
    },
    {
     "name": "stdout",
     "output_type": "stream",
     "text": [
      "6624\n"
     ]
    },
    {
     "data": {
      "application/vnd.jupyter.widget-view+json": {
       "model_id": "e6f76f53ff14491bac97cfefc4605767",
       "version_major": 2,
       "version_minor": 0
      },
      "text/plain": [
       "evaluating: 0it [00:00, ?it/s]"
      ]
     },
     "metadata": {},
     "output_type": "display_data"
    },
    {
     "name": "stdout",
     "output_type": "stream",
     "text": [
      "6624\n"
     ]
    },
    {
     "data": {
      "application/vnd.jupyter.widget-view+json": {
       "model_id": "8481467b8ffc46068cb12c382677e78b",
       "version_major": 2,
       "version_minor": 0
      },
      "text/plain": [
       "evaluating: 0it [00:00, ?it/s]"
      ]
     },
     "metadata": {},
     "output_type": "display_data"
    },
    {
     "name": "stdout",
     "output_type": "stream",
     "text": [
      "6624\n"
     ]
    },
    {
     "data": {
      "application/vnd.jupyter.widget-view+json": {
       "model_id": "1acf932127234568a7cbeb7e8e923047",
       "version_major": 2,
       "version_minor": 0
      },
      "text/plain": [
       "evaluating: 0it [00:00, ?it/s]"
      ]
     },
     "metadata": {},
     "output_type": "display_data"
    },
    {
     "name": "stdout",
     "output_type": "stream",
     "text": [
      "6624\n"
     ]
    },
    {
     "data": {
      "application/vnd.jupyter.widget-view+json": {
       "model_id": "502790d366cf484db566f98bfffb8430",
       "version_major": 2,
       "version_minor": 0
      },
      "text/plain": [
       "evaluating: 0it [00:00, ?it/s]"
      ]
     },
     "metadata": {},
     "output_type": "display_data"
    },
    {
     "name": "stdout",
     "output_type": "stream",
     "text": [
      "6624\n"
     ]
    },
    {
     "data": {
      "application/vnd.jupyter.widget-view+json": {
       "model_id": "c5205e7d0f204c5d92172694a9492a82",
       "version_major": 2,
       "version_minor": 0
      },
      "text/plain": [
       "evaluating: 0it [00:00, ?it/s]"
      ]
     },
     "metadata": {},
     "output_type": "display_data"
    },
    {
     "name": "stdout",
     "output_type": "stream",
     "text": [
      "6624\n"
     ]
    },
    {
     "data": {
      "application/vnd.jupyter.widget-view+json": {
       "model_id": "5c6a56ef469e4b339678360ffd75f614",
       "version_major": 2,
       "version_minor": 0
      },
      "text/plain": [
       "evaluating: 0it [00:00, ?it/s]"
      ]
     },
     "metadata": {},
     "output_type": "display_data"
    },
    {
     "name": "stdout",
     "output_type": "stream",
     "text": [
      "6624\n"
     ]
    },
    {
     "data": {
      "application/vnd.jupyter.widget-view+json": {
       "model_id": "785de0c481f24fe3aa527e8a7c01e00b",
       "version_major": 2,
       "version_minor": 0
      },
      "text/plain": [
       "evaluating: 0it [00:00, ?it/s]"
      ]
     },
     "metadata": {},
     "output_type": "display_data"
    },
    {
     "name": "stdout",
     "output_type": "stream",
     "text": [
      "6624\n"
     ]
    },
    {
     "data": {
      "application/vnd.jupyter.widget-view+json": {
       "model_id": "00176b18c12c49a093fa7eaa1b3ccfa6",
       "version_major": 2,
       "version_minor": 0
      },
      "text/plain": [
       "evaluating: 0it [00:00, ?it/s]"
      ]
     },
     "metadata": {},
     "output_type": "display_data"
    },
    {
     "name": "stdout",
     "output_type": "stream",
     "text": [
      "6624\n"
     ]
    },
    {
     "data": {
      "application/vnd.jupyter.widget-view+json": {
       "model_id": "c4079309bea443348b5b74d866afdc14",
       "version_major": 2,
       "version_minor": 0
      },
      "text/plain": [
       "evaluating: 0it [00:00, ?it/s]"
      ]
     },
     "metadata": {},
     "output_type": "display_data"
    },
    {
     "name": "stdout",
     "output_type": "stream",
     "text": [
      "6624\n"
     ]
    },
    {
     "data": {
      "application/vnd.jupyter.widget-view+json": {
       "model_id": "8a6dd5beed584673847d30b394b83739",
       "version_major": 2,
       "version_minor": 0
      },
      "text/plain": [
       "evaluating: 0it [00:00, ?it/s]"
      ]
     },
     "metadata": {},
     "output_type": "display_data"
    },
    {
     "name": "stdout",
     "output_type": "stream",
     "text": [
      "6624\n"
     ]
    },
    {
     "data": {
      "application/vnd.jupyter.widget-view+json": {
       "model_id": "b36c0ccb883e4d618eb62b97a54eef53",
       "version_major": 2,
       "version_minor": 0
      },
      "text/plain": [
       "evaluating: 0it [00:00, ?it/s]"
      ]
     },
     "metadata": {},
     "output_type": "display_data"
    },
    {
     "name": "stdout",
     "output_type": "stream",
     "text": [
      "6624\n"
     ]
    },
    {
     "data": {
      "application/vnd.jupyter.widget-view+json": {
       "model_id": "b8235376687a441199b161d0d8dc5cad",
       "version_major": 2,
       "version_minor": 0
      },
      "text/plain": [
       "evaluating: 0it [00:00, ?it/s]"
      ]
     },
     "metadata": {},
     "output_type": "display_data"
    },
    {
     "name": "stdout",
     "output_type": "stream",
     "text": [
      "6624\n"
     ]
    },
    {
     "data": {
      "application/vnd.jupyter.widget-view+json": {
       "model_id": "f55baeffc46d45f999b36548496560cb",
       "version_major": 2,
       "version_minor": 0
      },
      "text/plain": [
       "evaluating: 0it [00:00, ?it/s]"
      ]
     },
     "metadata": {},
     "output_type": "display_data"
    },
    {
     "name": "stdout",
     "output_type": "stream",
     "text": [
      "6624\n"
     ]
    },
    {
     "data": {
      "application/vnd.jupyter.widget-view+json": {
       "model_id": "271972b2e8544408adec9bcaa28dcedd",
       "version_major": 2,
       "version_minor": 0
      },
      "text/plain": [
       "evaluating: 0it [00:00, ?it/s]"
      ]
     },
     "metadata": {},
     "output_type": "display_data"
    },
    {
     "name": "stdout",
     "output_type": "stream",
     "text": [
      "6624\n"
     ]
    },
    {
     "data": {
      "application/vnd.jupyter.widget-view+json": {
       "model_id": "b3362c73c78d428dab2f9b5051358706",
       "version_major": 2,
       "version_minor": 0
      },
      "text/plain": [
       "evaluating: 0it [00:00, ?it/s]"
      ]
     },
     "metadata": {},
     "output_type": "display_data"
    },
    {
     "name": "stdout",
     "output_type": "stream",
     "text": [
      "6624\n"
     ]
    },
    {
     "data": {
      "application/vnd.jupyter.widget-view+json": {
       "model_id": "2cbb0ea3fae240f5bf40f8d5594c406b",
       "version_major": 2,
       "version_minor": 0
      },
      "text/plain": [
       "evaluating: 0it [00:00, ?it/s]"
      ]
     },
     "metadata": {},
     "output_type": "display_data"
    },
    {
     "name": "stdout",
     "output_type": "stream",
     "text": [
      "6624\n"
     ]
    },
    {
     "data": {
      "application/vnd.jupyter.widget-view+json": {
       "model_id": "0ce067fb89da44df8927c1094d3e20e0",
       "version_major": 2,
       "version_minor": 0
      },
      "text/plain": [
       "evaluating: 0it [00:00, ?it/s]"
      ]
     },
     "metadata": {},
     "output_type": "display_data"
    },
    {
     "name": "stdout",
     "output_type": "stream",
     "text": [
      "6624\n"
     ]
    },
    {
     "data": {
      "application/vnd.jupyter.widget-view+json": {
       "model_id": "b948f429346a4713b6c546ae71cf43b1",
       "version_major": 2,
       "version_minor": 0
      },
      "text/plain": [
       "evaluating: 0it [00:00, ?it/s]"
      ]
     },
     "metadata": {},
     "output_type": "display_data"
    },
    {
     "name": "stdout",
     "output_type": "stream",
     "text": [
      "6624\n"
     ]
    },
    {
     "data": {
      "application/vnd.jupyter.widget-view+json": {
       "model_id": "311338d943274cf6b41caccac5b43919",
       "version_major": 2,
       "version_minor": 0
      },
      "text/plain": [
       "evaluating: 0it [00:00, ?it/s]"
      ]
     },
     "metadata": {},
     "output_type": "display_data"
    },
    {
     "name": "stdout",
     "output_type": "stream",
     "text": [
      "6624\n"
     ]
    },
    {
     "data": {
      "application/vnd.jupyter.widget-view+json": {
       "model_id": "019a9be9137a46f78e011a454b2daff9",
       "version_major": 2,
       "version_minor": 0
      },
      "text/plain": [
       "evaluating: 0it [00:00, ?it/s]"
      ]
     },
     "metadata": {},
     "output_type": "display_data"
    },
    {
     "name": "stdout",
     "output_type": "stream",
     "text": [
      "6624\n"
     ]
    },
    {
     "data": {
      "application/vnd.jupyter.widget-view+json": {
       "model_id": "311a6cd46fe941a4b14c7e38b69ae4f7",
       "version_major": 2,
       "version_minor": 0
      },
      "text/plain": [
       "evaluating: 0it [00:00, ?it/s]"
      ]
     },
     "metadata": {},
     "output_type": "display_data"
    },
    {
     "name": "stdout",
     "output_type": "stream",
     "text": [
      "6624\n"
     ]
    },
    {
     "data": {
      "application/vnd.jupyter.widget-view+json": {
       "model_id": "50a6be7c50824b4b82c9a7de39b95fec",
       "version_major": 2,
       "version_minor": 0
      },
      "text/plain": [
       "evaluating: 0it [00:00, ?it/s]"
      ]
     },
     "metadata": {},
     "output_type": "display_data"
    },
    {
     "name": "stdout",
     "output_type": "stream",
     "text": [
      "6624\n"
     ]
    },
    {
     "data": {
      "application/vnd.jupyter.widget-view+json": {
       "model_id": "3ee06ec7d1564138bda5c05edc021174",
       "version_major": 2,
       "version_minor": 0
      },
      "text/plain": [
       "evaluating: 0it [00:00, ?it/s]"
      ]
     },
     "metadata": {},
     "output_type": "display_data"
    },
    {
     "name": "stdout",
     "output_type": "stream",
     "text": [
      "6624\n"
     ]
    },
    {
     "data": {
      "application/vnd.jupyter.widget-view+json": {
       "model_id": "3bb411d609e94edaabe68dda87c402ff",
       "version_major": 2,
       "version_minor": 0
      },
      "text/plain": [
       "evaluating: 0it [00:00, ?it/s]"
      ]
     },
     "metadata": {},
     "output_type": "display_data"
    },
    {
     "name": "stdout",
     "output_type": "stream",
     "text": [
      "6624\n"
     ]
    },
    {
     "data": {
      "application/vnd.jupyter.widget-view+json": {
       "model_id": "6d6ff4c1043d4927bd1ecc06cb4ef31c",
       "version_major": 2,
       "version_minor": 0
      },
      "text/plain": [
       "evaluating: 0it [00:00, ?it/s]"
      ]
     },
     "metadata": {},
     "output_type": "display_data"
    },
    {
     "name": "stdout",
     "output_type": "stream",
     "text": [
      "6624\n"
     ]
    },
    {
     "data": {
      "application/vnd.jupyter.widget-view+json": {
       "model_id": "51d67600d7aa44e58613ddd2575bc201",
       "version_major": 2,
       "version_minor": 0
      },
      "text/plain": [
       "evaluating: 0it [00:00, ?it/s]"
      ]
     },
     "metadata": {},
     "output_type": "display_data"
    },
    {
     "name": "stdout",
     "output_type": "stream",
     "text": [
      "6624\n"
     ]
    },
    {
     "data": {
      "application/vnd.jupyter.widget-view+json": {
       "model_id": "27e09426c15a49d1a83a51327968a5bf",
       "version_major": 2,
       "version_minor": 0
      },
      "text/plain": [
       "evaluating: 0it [00:00, ?it/s]"
      ]
     },
     "metadata": {},
     "output_type": "display_data"
    },
    {
     "name": "stdout",
     "output_type": "stream",
     "text": [
      "6624\n"
     ]
    },
    {
     "data": {
      "application/vnd.jupyter.widget-view+json": {
       "model_id": "ab9c1d7bbc0843e78cef41c81a471478",
       "version_major": 2,
       "version_minor": 0
      },
      "text/plain": [
       "evaluating: 0it [00:00, ?it/s]"
      ]
     },
     "metadata": {},
     "output_type": "display_data"
    },
    {
     "name": "stdout",
     "output_type": "stream",
     "text": [
      "6624\n"
     ]
    },
    {
     "data": {
      "application/vnd.jupyter.widget-view+json": {
       "model_id": "3057da80d44a4725a32fd36940b040e5",
       "version_major": 2,
       "version_minor": 0
      },
      "text/plain": [
       "evaluating: 0it [00:00, ?it/s]"
      ]
     },
     "metadata": {},
     "output_type": "display_data"
    },
    {
     "name": "stdout",
     "output_type": "stream",
     "text": [
      "6624\n"
     ]
    },
    {
     "data": {
      "application/vnd.jupyter.widget-view+json": {
       "model_id": "3cd8796729fc4113aa8ffd47c282f4e0",
       "version_major": 2,
       "version_minor": 0
      },
      "text/plain": [
       "evaluating: 0it [00:00, ?it/s]"
      ]
     },
     "metadata": {},
     "output_type": "display_data"
    },
    {
     "name": "stdout",
     "output_type": "stream",
     "text": [
      "6624\n"
     ]
    },
    {
     "data": {
      "application/vnd.jupyter.widget-view+json": {
       "model_id": "32e988afecad4b71a2417f500fa49de1",
       "version_major": 2,
       "version_minor": 0
      },
      "text/plain": [
       "evaluating: 0it [00:00, ?it/s]"
      ]
     },
     "metadata": {},
     "output_type": "display_data"
    },
    {
     "name": "stdout",
     "output_type": "stream",
     "text": [
      "6624\n"
     ]
    },
    {
     "data": {
      "application/vnd.jupyter.widget-view+json": {
       "model_id": "32eea29d23a246619ed79e10d2adfcc1",
       "version_major": 2,
       "version_minor": 0
      },
      "text/plain": [
       "evaluating: 0it [00:00, ?it/s]"
      ]
     },
     "metadata": {},
     "output_type": "display_data"
    },
    {
     "name": "stdout",
     "output_type": "stream",
     "text": [
      "6624\n"
     ]
    },
    {
     "data": {
      "application/vnd.jupyter.widget-view+json": {
       "model_id": "51f264e32bd64572bbfc42e025a23f44",
       "version_major": 2,
       "version_minor": 0
      },
      "text/plain": [
       "evaluating: 0it [00:00, ?it/s]"
      ]
     },
     "metadata": {},
     "output_type": "display_data"
    },
    {
     "name": "stdout",
     "output_type": "stream",
     "text": [
      "6624\n"
     ]
    },
    {
     "data": {
      "application/vnd.jupyter.widget-view+json": {
       "model_id": "c5e120ec7abb43e7b2d1cda5cff417e0",
       "version_major": 2,
       "version_minor": 0
      },
      "text/plain": [
       "evaluating: 0it [00:00, ?it/s]"
      ]
     },
     "metadata": {},
     "output_type": "display_data"
    },
    {
     "name": "stdout",
     "output_type": "stream",
     "text": [
      "6624\n"
     ]
    },
    {
     "data": {
      "application/vnd.jupyter.widget-view+json": {
       "model_id": "06000d66218641ab93ce82d50ee7eb76",
       "version_major": 2,
       "version_minor": 0
      },
      "text/plain": [
       "evaluating: 0it [00:00, ?it/s]"
      ]
     },
     "metadata": {},
     "output_type": "display_data"
    },
    {
     "name": "stdout",
     "output_type": "stream",
     "text": [
      "6624\n"
     ]
    },
    {
     "data": {
      "application/vnd.jupyter.widget-view+json": {
       "model_id": "006a63ad510e44f5bfcf7e89b2a3ee16",
       "version_major": 2,
       "version_minor": 0
      },
      "text/plain": [
       "evaluating: 0it [00:00, ?it/s]"
      ]
     },
     "metadata": {},
     "output_type": "display_data"
    },
    {
     "name": "stdout",
     "output_type": "stream",
     "text": [
      "6624\n"
     ]
    },
    {
     "data": {
      "application/vnd.jupyter.widget-view+json": {
       "model_id": "dab1280c813d464686acb4cabefc984e",
       "version_major": 2,
       "version_minor": 0
      },
      "text/plain": [
       "evaluating: 0it [00:00, ?it/s]"
      ]
     },
     "metadata": {},
     "output_type": "display_data"
    },
    {
     "name": "stdout",
     "output_type": "stream",
     "text": [
      "6624\n"
     ]
    },
    {
     "data": {
      "application/vnd.jupyter.widget-view+json": {
       "model_id": "fe6be0e5839f4dfe8b4392b824d0dd50",
       "version_major": 2,
       "version_minor": 0
      },
      "text/plain": [
       "evaluating: 0it [00:00, ?it/s]"
      ]
     },
     "metadata": {},
     "output_type": "display_data"
    },
    {
     "name": "stdout",
     "output_type": "stream",
     "text": [
      "6624\n"
     ]
    },
    {
     "data": {
      "application/vnd.jupyter.widget-view+json": {
       "model_id": "db72c62390d44ea98c4c1a86aafba61c",
       "version_major": 2,
       "version_minor": 0
      },
      "text/plain": [
       "evaluating: 0it [00:00, ?it/s]"
      ]
     },
     "metadata": {},
     "output_type": "display_data"
    },
    {
     "name": "stdout",
     "output_type": "stream",
     "text": [
      "6624\n"
     ]
    },
    {
     "data": {
      "application/vnd.jupyter.widget-view+json": {
       "model_id": "8b8c01c30a23459182b7efff7ee413f4",
       "version_major": 2,
       "version_minor": 0
      },
      "text/plain": [
       "evaluating: 0it [00:00, ?it/s]"
      ]
     },
     "metadata": {},
     "output_type": "display_data"
    },
    {
     "name": "stdout",
     "output_type": "stream",
     "text": [
      "6624\n"
     ]
    },
    {
     "data": {
      "application/vnd.jupyter.widget-view+json": {
       "model_id": "55254996320a40a49e39e53a6195b7bd",
       "version_major": 2,
       "version_minor": 0
      },
      "text/plain": [
       "evaluating: 0it [00:00, ?it/s]"
      ]
     },
     "metadata": {},
     "output_type": "display_data"
    },
    {
     "name": "stdout",
     "output_type": "stream",
     "text": [
      "6624\n"
     ]
    },
    {
     "data": {
      "application/vnd.jupyter.widget-view+json": {
       "model_id": "9f339202314f414b8af56665b179366a",
       "version_major": 2,
       "version_minor": 0
      },
      "text/plain": [
       "evaluating: 0it [00:00, ?it/s]"
      ]
     },
     "metadata": {},
     "output_type": "display_data"
    },
    {
     "name": "stdout",
     "output_type": "stream",
     "text": [
      "6624\n"
     ]
    },
    {
     "data": {
      "application/vnd.jupyter.widget-view+json": {
       "model_id": "fede9f70d52847feb30623bb990eaed5",
       "version_major": 2,
       "version_minor": 0
      },
      "text/plain": [
       "evaluating: 0it [00:00, ?it/s]"
      ]
     },
     "metadata": {},
     "output_type": "display_data"
    },
    {
     "name": "stdout",
     "output_type": "stream",
     "text": [
      "6624\n"
     ]
    },
    {
     "data": {
      "application/vnd.jupyter.widget-view+json": {
       "model_id": "8a87f96fe2d748a6b77d3ad877d32a5f",
       "version_major": 2,
       "version_minor": 0
      },
      "text/plain": [
       "evaluating: 0it [00:00, ?it/s]"
      ]
     },
     "metadata": {},
     "output_type": "display_data"
    },
    {
     "name": "stdout",
     "output_type": "stream",
     "text": [
      "6624\n"
     ]
    },
    {
     "data": {
      "application/vnd.jupyter.widget-view+json": {
       "model_id": "74e12f15c920421981e077ebcf9926b5",
       "version_major": 2,
       "version_minor": 0
      },
      "text/plain": [
       "evaluating: 0it [00:00, ?it/s]"
      ]
     },
     "metadata": {},
     "output_type": "display_data"
    },
    {
     "name": "stdout",
     "output_type": "stream",
     "text": [
      "6624\n"
     ]
    },
    {
     "data": {
      "application/vnd.jupyter.widget-view+json": {
       "model_id": "6af885ee42f74b21a38c7c1fd9336e2f",
       "version_major": 2,
       "version_minor": 0
      },
      "text/plain": [
       "evaluating: 0it [00:00, ?it/s]"
      ]
     },
     "metadata": {},
     "output_type": "display_data"
    },
    {
     "name": "stdout",
     "output_type": "stream",
     "text": [
      "6624\n"
     ]
    },
    {
     "data": {
      "application/vnd.jupyter.widget-view+json": {
       "model_id": "846410f2209a4d64a7605e3a5a84fde4",
       "version_major": 2,
       "version_minor": 0
      },
      "text/plain": [
       "evaluating: 0it [00:00, ?it/s]"
      ]
     },
     "metadata": {},
     "output_type": "display_data"
    },
    {
     "name": "stdout",
     "output_type": "stream",
     "text": [
      "6624\n"
     ]
    },
    {
     "data": {
      "application/vnd.jupyter.widget-view+json": {
       "model_id": "aedb6f03ea0e42d6bc96f0da8f39537f",
       "version_major": 2,
       "version_minor": 0
      },
      "text/plain": [
       "evaluating: 0it [00:00, ?it/s]"
      ]
     },
     "metadata": {},
     "output_type": "display_data"
    },
    {
     "name": "stdout",
     "output_type": "stream",
     "text": [
      "6624\n"
     ]
    },
    {
     "data": {
      "application/vnd.jupyter.widget-view+json": {
       "model_id": "0cd111045461494891401ab6c930075e",
       "version_major": 2,
       "version_minor": 0
      },
      "text/plain": [
       "evaluating: 0it [00:00, ?it/s]"
      ]
     },
     "metadata": {},
     "output_type": "display_data"
    },
    {
     "name": "stdout",
     "output_type": "stream",
     "text": [
      "6624\n"
     ]
    },
    {
     "data": {
      "application/vnd.jupyter.widget-view+json": {
       "model_id": "c9ad8b60e6ed46a98fcf9b9f7a93d3c8",
       "version_major": 2,
       "version_minor": 0
      },
      "text/plain": [
       "evaluating: 0it [00:00, ?it/s]"
      ]
     },
     "metadata": {},
     "output_type": "display_data"
    },
    {
     "name": "stdout",
     "output_type": "stream",
     "text": [
      "6624\n"
     ]
    },
    {
     "data": {
      "application/vnd.jupyter.widget-view+json": {
       "model_id": "db9387e4e7a1439988dba16dac5018c4",
       "version_major": 2,
       "version_minor": 0
      },
      "text/plain": [
       "evaluating: 0it [00:00, ?it/s]"
      ]
     },
     "metadata": {},
     "output_type": "display_data"
    },
    {
     "name": "stdout",
     "output_type": "stream",
     "text": [
      "6624\n"
     ]
    },
    {
     "data": {
      "application/vnd.jupyter.widget-view+json": {
       "model_id": "7c5ad2ff04d3442ab421944a0be9af17",
       "version_major": 2,
       "version_minor": 0
      },
      "text/plain": [
       "evaluating: 0it [00:00, ?it/s]"
      ]
     },
     "metadata": {},
     "output_type": "display_data"
    },
    {
     "name": "stdout",
     "output_type": "stream",
     "text": [
      "6624\n"
     ]
    },
    {
     "data": {
      "application/vnd.jupyter.widget-view+json": {
       "model_id": "480e93e415024771a9b59d8c39656135",
       "version_major": 2,
       "version_minor": 0
      },
      "text/plain": [
       "evaluating: 0it [00:00, ?it/s]"
      ]
     },
     "metadata": {},
     "output_type": "display_data"
    },
    {
     "name": "stdout",
     "output_type": "stream",
     "text": [
      "6624\n"
     ]
    },
    {
     "data": {
      "application/vnd.jupyter.widget-view+json": {
       "model_id": "e2e24c0bab704bf090cc35fd91c41e9d",
       "version_major": 2,
       "version_minor": 0
      },
      "text/plain": [
       "evaluating: 0it [00:00, ?it/s]"
      ]
     },
     "metadata": {},
     "output_type": "display_data"
    },
    {
     "name": "stdout",
     "output_type": "stream",
     "text": [
      "6624\n"
     ]
    },
    {
     "data": {
      "application/vnd.jupyter.widget-view+json": {
       "model_id": "a457afa936e04f01b6dc20a23fcfc3d2",
       "version_major": 2,
       "version_minor": 0
      },
      "text/plain": [
       "evaluating: 0it [00:00, ?it/s]"
      ]
     },
     "metadata": {},
     "output_type": "display_data"
    },
    {
     "name": "stdout",
     "output_type": "stream",
     "text": [
      "6624\n"
     ]
    },
    {
     "data": {
      "application/vnd.jupyter.widget-view+json": {
       "model_id": "c9a67aa46445431d860d925211aceb77",
       "version_major": 2,
       "version_minor": 0
      },
      "text/plain": [
       "evaluating: 0it [00:00, ?it/s]"
      ]
     },
     "metadata": {},
     "output_type": "display_data"
    },
    {
     "name": "stdout",
     "output_type": "stream",
     "text": [
      "6624\n"
     ]
    },
    {
     "data": {
      "application/vnd.jupyter.widget-view+json": {
       "model_id": "5117fc0e08b842aaa8630a742c7c1bed",
       "version_major": 2,
       "version_minor": 0
      },
      "text/plain": [
       "evaluating: 0it [00:00, ?it/s]"
      ]
     },
     "metadata": {},
     "output_type": "display_data"
    },
    {
     "name": "stdout",
     "output_type": "stream",
     "text": [
      "6624\n"
     ]
    },
    {
     "data": {
      "application/vnd.jupyter.widget-view+json": {
       "model_id": "56d07ab2c0e74d10ae7d1d7d0022a0da",
       "version_major": 2,
       "version_minor": 0
      },
      "text/plain": [
       "evaluating: 0it [00:00, ?it/s]"
      ]
     },
     "metadata": {},
     "output_type": "display_data"
    },
    {
     "name": "stdout",
     "output_type": "stream",
     "text": [
      "6624\n"
     ]
    },
    {
     "data": {
      "application/vnd.jupyter.widget-view+json": {
       "model_id": "3f064bb80a304300a9018b621a9e65cb",
       "version_major": 2,
       "version_minor": 0
      },
      "text/plain": [
       "evaluating: 0it [00:00, ?it/s]"
      ]
     },
     "metadata": {},
     "output_type": "display_data"
    },
    {
     "name": "stdout",
     "output_type": "stream",
     "text": [
      "6624\n"
     ]
    },
    {
     "data": {
      "application/vnd.jupyter.widget-view+json": {
       "model_id": "ee7a3e4d0d3441d3bc02350dcb4ade1d",
       "version_major": 2,
       "version_minor": 0
      },
      "text/plain": [
       "evaluating: 0it [00:00, ?it/s]"
      ]
     },
     "metadata": {},
     "output_type": "display_data"
    },
    {
     "name": "stdout",
     "output_type": "stream",
     "text": [
      "6624\n"
     ]
    },
    {
     "data": {
      "application/vnd.jupyter.widget-view+json": {
       "model_id": "5275799bce0c4048a0cb3f7cd9377f97",
       "version_major": 2,
       "version_minor": 0
      },
      "text/plain": [
       "evaluating: 0it [00:00, ?it/s]"
      ]
     },
     "metadata": {},
     "output_type": "display_data"
    },
    {
     "name": "stdout",
     "output_type": "stream",
     "text": [
      "6624\n"
     ]
    },
    {
     "data": {
      "application/vnd.jupyter.widget-view+json": {
       "model_id": "5627849751e14a06978aa90f5cb0ebea",
       "version_major": 2,
       "version_minor": 0
      },
      "text/plain": [
       "evaluating: 0it [00:00, ?it/s]"
      ]
     },
     "metadata": {},
     "output_type": "display_data"
    },
    {
     "name": "stdout",
     "output_type": "stream",
     "text": [
      "6624\n"
     ]
    },
    {
     "data": {
      "application/vnd.jupyter.widget-view+json": {
       "model_id": "99dc9a1961c04d448a8ec69059180a5c",
       "version_major": 2,
       "version_minor": 0
      },
      "text/plain": [
       "evaluating: 0it [00:00, ?it/s]"
      ]
     },
     "metadata": {},
     "output_type": "display_data"
    },
    {
     "name": "stdout",
     "output_type": "stream",
     "text": [
      "6624\n"
     ]
    },
    {
     "data": {
      "application/vnd.jupyter.widget-view+json": {
       "model_id": "bcaad0a3061d4cbe98cac14e38f80d93",
       "version_major": 2,
       "version_minor": 0
      },
      "text/plain": [
       "evaluating: 0it [00:00, ?it/s]"
      ]
     },
     "metadata": {},
     "output_type": "display_data"
    },
    {
     "name": "stdout",
     "output_type": "stream",
     "text": [
      "6624\n"
     ]
    },
    {
     "data": {
      "application/vnd.jupyter.widget-view+json": {
       "model_id": "bb502e0db38f44618b211086d0fe7acb",
       "version_major": 2,
       "version_minor": 0
      },
      "text/plain": [
       "evaluating: 0it [00:00, ?it/s]"
      ]
     },
     "metadata": {},
     "output_type": "display_data"
    },
    {
     "name": "stdout",
     "output_type": "stream",
     "text": [
      "6624\n"
     ]
    },
    {
     "data": {
      "application/vnd.jupyter.widget-view+json": {
       "model_id": "76d7d4e8428c48debf1dfa235fbec905",
       "version_major": 2,
       "version_minor": 0
      },
      "text/plain": [
       "evaluating: 0it [00:00, ?it/s]"
      ]
     },
     "metadata": {},
     "output_type": "display_data"
    },
    {
     "name": "stdout",
     "output_type": "stream",
     "text": [
      "6624\n"
     ]
    },
    {
     "data": {
      "application/vnd.jupyter.widget-view+json": {
       "model_id": "8040d21a227e4cf282e5283c90b1f5c8",
       "version_major": 2,
       "version_minor": 0
      },
      "text/plain": [
       "evaluating: 0it [00:00, ?it/s]"
      ]
     },
     "metadata": {},
     "output_type": "display_data"
    },
    {
     "name": "stdout",
     "output_type": "stream",
     "text": [
      "6624\n"
     ]
    },
    {
     "data": {
      "application/vnd.jupyter.widget-view+json": {
       "model_id": "0e4085276b0f4b8f83849561a1493048",
       "version_major": 2,
       "version_minor": 0
      },
      "text/plain": [
       "evaluating: 0it [00:00, ?it/s]"
      ]
     },
     "metadata": {},
     "output_type": "display_data"
    },
    {
     "name": "stdout",
     "output_type": "stream",
     "text": [
      "6624\n"
     ]
    },
    {
     "data": {
      "application/vnd.jupyter.widget-view+json": {
       "model_id": "1bc4d4284f304ccdb499bf4a9c14b688",
       "version_major": 2,
       "version_minor": 0
      },
      "text/plain": [
       "evaluating: 0it [00:00, ?it/s]"
      ]
     },
     "metadata": {},
     "output_type": "display_data"
    },
    {
     "name": "stdout",
     "output_type": "stream",
     "text": [
      "6624\n"
     ]
    },
    {
     "data": {
      "application/vnd.jupyter.widget-view+json": {
       "model_id": "5a6891796c9243aa8d132cabd4e5fb8e",
       "version_major": 2,
       "version_minor": 0
      },
      "text/plain": [
       "evaluating: 0it [00:00, ?it/s]"
      ]
     },
     "metadata": {},
     "output_type": "display_data"
    },
    {
     "name": "stdout",
     "output_type": "stream",
     "text": [
      "6624\n"
     ]
    },
    {
     "data": {
      "application/vnd.jupyter.widget-view+json": {
       "model_id": "4ef6fb4081834640a8fda737aaef9839",
       "version_major": 2,
       "version_minor": 0
      },
      "text/plain": [
       "evaluating: 0it [00:00, ?it/s]"
      ]
     },
     "metadata": {},
     "output_type": "display_data"
    },
    {
     "name": "stdout",
     "output_type": "stream",
     "text": [
      "6624\n"
     ]
    },
    {
     "data": {
      "application/vnd.jupyter.widget-view+json": {
       "model_id": "c7fcaa39c6564d94a0fa51b265125fea",
       "version_major": 2,
       "version_minor": 0
      },
      "text/plain": [
       "evaluating: 0it [00:00, ?it/s]"
      ]
     },
     "metadata": {},
     "output_type": "display_data"
    },
    {
     "name": "stdout",
     "output_type": "stream",
     "text": [
      "6624\n"
     ]
    },
    {
     "data": {
      "application/vnd.jupyter.widget-view+json": {
       "model_id": "0ffa9eb39c2f4e6faa1b8ef59ddc930e",
       "version_major": 2,
       "version_minor": 0
      },
      "text/plain": [
       "evaluating: 0it [00:00, ?it/s]"
      ]
     },
     "metadata": {},
     "output_type": "display_data"
    },
    {
     "name": "stdout",
     "output_type": "stream",
     "text": [
      "6624\n"
     ]
    },
    {
     "data": {
      "application/vnd.jupyter.widget-view+json": {
       "model_id": "bf77af87e2f344ac94eadea5365979d1",
       "version_major": 2,
       "version_minor": 0
      },
      "text/plain": [
       "evaluating: 0it [00:00, ?it/s]"
      ]
     },
     "metadata": {},
     "output_type": "display_data"
    },
    {
     "name": "stdout",
     "output_type": "stream",
     "text": [
      "6624\n"
     ]
    },
    {
     "data": {
      "application/vnd.jupyter.widget-view+json": {
       "model_id": "5e692fab98614643bf5807f34e15a61c",
       "version_major": 2,
       "version_minor": 0
      },
      "text/plain": [
       "evaluating: 0it [00:00, ?it/s]"
      ]
     },
     "metadata": {},
     "output_type": "display_data"
    },
    {
     "name": "stdout",
     "output_type": "stream",
     "text": [
      "6624\n"
     ]
    },
    {
     "data": {
      "application/vnd.jupyter.widget-view+json": {
       "model_id": "aa9b0553a4f04748bda5da7628eebf4a",
       "version_major": 2,
       "version_minor": 0
      },
      "text/plain": [
       "evaluating: 0it [00:00, ?it/s]"
      ]
     },
     "metadata": {},
     "output_type": "display_data"
    },
    {
     "name": "stdout",
     "output_type": "stream",
     "text": [
      "6624\n"
     ]
    },
    {
     "data": {
      "application/vnd.jupyter.widget-view+json": {
       "model_id": "ab89523a50b74bae965dd02e50ffe810",
       "version_major": 2,
       "version_minor": 0
      },
      "text/plain": [
       "evaluating: 0it [00:00, ?it/s]"
      ]
     },
     "metadata": {},
     "output_type": "display_data"
    },
    {
     "name": "stdout",
     "output_type": "stream",
     "text": [
      "6624\n"
     ]
    },
    {
     "data": {
      "application/vnd.jupyter.widget-view+json": {
       "model_id": "06d5d4c882ce4c02a72bf9e7db763165",
       "version_major": 2,
       "version_minor": 0
      },
      "text/plain": [
       "evaluating: 0it [00:00, ?it/s]"
      ]
     },
     "metadata": {},
     "output_type": "display_data"
    },
    {
     "name": "stdout",
     "output_type": "stream",
     "text": [
      "6624\n"
     ]
    },
    {
     "data": {
      "application/vnd.jupyter.widget-view+json": {
       "model_id": "03a5641521744422bdf43b284c279662",
       "version_major": 2,
       "version_minor": 0
      },
      "text/plain": [
       "evaluating: 0it [00:00, ?it/s]"
      ]
     },
     "metadata": {},
     "output_type": "display_data"
    },
    {
     "name": "stdout",
     "output_type": "stream",
     "text": [
      "6624\n"
     ]
    },
    {
     "data": {
      "application/vnd.jupyter.widget-view+json": {
       "model_id": "001056c40dbd46f9a2cba6337f01d54b",
       "version_major": 2,
       "version_minor": 0
      },
      "text/plain": [
       "evaluating: 0it [00:00, ?it/s]"
      ]
     },
     "metadata": {},
     "output_type": "display_data"
    },
    {
     "name": "stdout",
     "output_type": "stream",
     "text": [
      "6624\n"
     ]
    },
    {
     "data": {
      "application/vnd.jupyter.widget-view+json": {
       "model_id": "068e59d77d064925a59b87b459797345",
       "version_major": 2,
       "version_minor": 0
      },
      "text/plain": [
       "evaluating: 0it [00:00, ?it/s]"
      ]
     },
     "metadata": {},
     "output_type": "display_data"
    },
    {
     "name": "stdout",
     "output_type": "stream",
     "text": [
      "6624\n"
     ]
    },
    {
     "data": {
      "application/vnd.jupyter.widget-view+json": {
       "model_id": "b5b65f23f3dd4e3388f324387208c48e",
       "version_major": 2,
       "version_minor": 0
      },
      "text/plain": [
       "evaluating: 0it [00:00, ?it/s]"
      ]
     },
     "metadata": {},
     "output_type": "display_data"
    },
    {
     "name": "stdout",
     "output_type": "stream",
     "text": [
      "6624\n"
     ]
    },
    {
     "data": {
      "application/vnd.jupyter.widget-view+json": {
       "model_id": "e65ccb6031e1450dadea7cfe73eb4845",
       "version_major": 2,
       "version_minor": 0
      },
      "text/plain": [
       "evaluating: 0it [00:00, ?it/s]"
      ]
     },
     "metadata": {},
     "output_type": "display_data"
    },
    {
     "name": "stdout",
     "output_type": "stream",
     "text": [
      "6624\n"
     ]
    },
    {
     "data": {
      "application/vnd.jupyter.widget-view+json": {
       "model_id": "1f2b5d80527042ebaf0c65f14019ad6a",
       "version_major": 2,
       "version_minor": 0
      },
      "text/plain": [
       "evaluating: 0it [00:00, ?it/s]"
      ]
     },
     "metadata": {},
     "output_type": "display_data"
    },
    {
     "name": "stdout",
     "output_type": "stream",
     "text": [
      "6624\n"
     ]
    },
    {
     "data": {
      "application/vnd.jupyter.widget-view+json": {
       "model_id": "0decb2747d1248a7bbb0df459d523325",
       "version_major": 2,
       "version_minor": 0
      },
      "text/plain": [
       "evaluating: 0it [00:00, ?it/s]"
      ]
     },
     "metadata": {},
     "output_type": "display_data"
    },
    {
     "name": "stdout",
     "output_type": "stream",
     "text": [
      "6624\n"
     ]
    },
    {
     "data": {
      "application/vnd.jupyter.widget-view+json": {
       "model_id": "1e49e99b1cb24936a6e873ee2ef3aaaf",
       "version_major": 2,
       "version_minor": 0
      },
      "text/plain": [
       "evaluating: 0it [00:00, ?it/s]"
      ]
     },
     "metadata": {},
     "output_type": "display_data"
    },
    {
     "name": "stdout",
     "output_type": "stream",
     "text": [
      "6624\n"
     ]
    },
    {
     "data": {
      "application/vnd.jupyter.widget-view+json": {
       "model_id": "f55928820a6c4803a4a3caafef40a81f",
       "version_major": 2,
       "version_minor": 0
      },
      "text/plain": [
       "evaluating: 0it [00:00, ?it/s]"
      ]
     },
     "metadata": {},
     "output_type": "display_data"
    },
    {
     "name": "stdout",
     "output_type": "stream",
     "text": [
      "6624\n"
     ]
    },
    {
     "data": {
      "application/vnd.jupyter.widget-view+json": {
       "model_id": "daf6426d4aed4efaa26bd1261477021d",
       "version_major": 2,
       "version_minor": 0
      },
      "text/plain": [
       "evaluating: 0it [00:00, ?it/s]"
      ]
     },
     "metadata": {},
     "output_type": "display_data"
    },
    {
     "name": "stdout",
     "output_type": "stream",
     "text": [
      "6624\n"
     ]
    },
    {
     "data": {
      "application/vnd.jupyter.widget-view+json": {
       "model_id": "5a635fe2b6734b92a1dbbae140e7752f",
       "version_major": 2,
       "version_minor": 0
      },
      "text/plain": [
       "evaluating: 0it [00:00, ?it/s]"
      ]
     },
     "metadata": {},
     "output_type": "display_data"
    },
    {
     "name": "stdout",
     "output_type": "stream",
     "text": [
      "6624\n"
     ]
    },
    {
     "data": {
      "application/vnd.jupyter.widget-view+json": {
       "model_id": "ea032409d2fb4ce49c5239b5f794c0d7",
       "version_major": 2,
       "version_minor": 0
      },
      "text/plain": [
       "evaluating: 0it [00:00, ?it/s]"
      ]
     },
     "metadata": {},
     "output_type": "display_data"
    },
    {
     "name": "stdout",
     "output_type": "stream",
     "text": [
      "6624\n"
     ]
    },
    {
     "data": {
      "application/vnd.jupyter.widget-view+json": {
       "model_id": "4fdab811ffd7430cb97857e99c611b3a",
       "version_major": 2,
       "version_minor": 0
      },
      "text/plain": [
       "evaluating: 0it [00:00, ?it/s]"
      ]
     },
     "metadata": {},
     "output_type": "display_data"
    },
    {
     "name": "stdout",
     "output_type": "stream",
     "text": [
      "6624\n"
     ]
    },
    {
     "data": {
      "application/vnd.jupyter.widget-view+json": {
       "model_id": "a3dc6239f8dd457983f080144a364cc4",
       "version_major": 2,
       "version_minor": 0
      },
      "text/plain": [
       "evaluating: 0it [00:00, ?it/s]"
      ]
     },
     "metadata": {},
     "output_type": "display_data"
    },
    {
     "name": "stdout",
     "output_type": "stream",
     "text": [
      "6624\n"
     ]
    },
    {
     "data": {
      "application/vnd.jupyter.widget-view+json": {
       "model_id": "7eff2a7fc4ae4a0c9abbaa85be08e503",
       "version_major": 2,
       "version_minor": 0
      },
      "text/plain": [
       "evaluating: 0it [00:00, ?it/s]"
      ]
     },
     "metadata": {},
     "output_type": "display_data"
    },
    {
     "name": "stdout",
     "output_type": "stream",
     "text": [
      "6624\n"
     ]
    },
    {
     "data": {
      "application/vnd.jupyter.widget-view+json": {
       "model_id": "4705cdc9b3ce4e939acb9122163c2433",
       "version_major": 2,
       "version_minor": 0
      },
      "text/plain": [
       "evaluating: 0it [00:00, ?it/s]"
      ]
     },
     "metadata": {},
     "output_type": "display_data"
    },
    {
     "name": "stdout",
     "output_type": "stream",
     "text": [
      "6624\n"
     ]
    },
    {
     "data": {
      "application/vnd.jupyter.widget-view+json": {
       "model_id": "33068d1ef48946828fa06fc0880d2529",
       "version_major": 2,
       "version_minor": 0
      },
      "text/plain": [
       "evaluating: 0it [00:00, ?it/s]"
      ]
     },
     "metadata": {},
     "output_type": "display_data"
    },
    {
     "name": "stdout",
     "output_type": "stream",
     "text": [
      "6624\n"
     ]
    },
    {
     "data": {
      "application/vnd.jupyter.widget-view+json": {
       "model_id": "ec76a6a2e6e040d6af29131fb12166cc",
       "version_major": 2,
       "version_minor": 0
      },
      "text/plain": [
       "evaluating: 0it [00:00, ?it/s]"
      ]
     },
     "metadata": {},
     "output_type": "display_data"
    },
    {
     "name": "stdout",
     "output_type": "stream",
     "text": [
      "6624\n"
     ]
    },
    {
     "data": {
      "application/vnd.jupyter.widget-view+json": {
       "model_id": "abf5015832ea41c99ef1e3bc149373a6",
       "version_major": 2,
       "version_minor": 0
      },
      "text/plain": [
       "evaluating: 0it [00:00, ?it/s]"
      ]
     },
     "metadata": {},
     "output_type": "display_data"
    },
    {
     "name": "stdout",
     "output_type": "stream",
     "text": [
      "6624\n"
     ]
    },
    {
     "data": {
      "application/vnd.jupyter.widget-view+json": {
       "model_id": "0376c829b1854812b579db50984059cf",
       "version_major": 2,
       "version_minor": 0
      },
      "text/plain": [
       "evaluating: 0it [00:00, ?it/s]"
      ]
     },
     "metadata": {},
     "output_type": "display_data"
    },
    {
     "name": "stdout",
     "output_type": "stream",
     "text": [
      "6624\n"
     ]
    },
    {
     "data": {
      "application/vnd.jupyter.widget-view+json": {
       "model_id": "725e16f72dca4679b174ca8d51b42a60",
       "version_major": 2,
       "version_minor": 0
      },
      "text/plain": [
       "evaluating: 0it [00:00, ?it/s]"
      ]
     },
     "metadata": {},
     "output_type": "display_data"
    },
    {
     "name": "stdout",
     "output_type": "stream",
     "text": [
      "6624\n"
     ]
    },
    {
     "data": {
      "application/vnd.jupyter.widget-view+json": {
       "model_id": "20561e4940884394a44ce2e0f50fd0f1",
       "version_major": 2,
       "version_minor": 0
      },
      "text/plain": [
       "evaluating: 0it [00:00, ?it/s]"
      ]
     },
     "metadata": {},
     "output_type": "display_data"
    },
    {
     "name": "stdout",
     "output_type": "stream",
     "text": [
      "6624\n"
     ]
    },
    {
     "data": {
      "application/vnd.jupyter.widget-view+json": {
       "model_id": "b30c4b2f83cf4d538c7b0791d4c51f82",
       "version_major": 2,
       "version_minor": 0
      },
      "text/plain": [
       "evaluating: 0it [00:00, ?it/s]"
      ]
     },
     "metadata": {},
     "output_type": "display_data"
    },
    {
     "name": "stdout",
     "output_type": "stream",
     "text": [
      "6624\n"
     ]
    },
    {
     "data": {
      "application/vnd.jupyter.widget-view+json": {
       "model_id": "7691e670193d4b47b3d3ffc48be84f84",
       "version_major": 2,
       "version_minor": 0
      },
      "text/plain": [
       "evaluating: 0it [00:00, ?it/s]"
      ]
     },
     "metadata": {},
     "output_type": "display_data"
    },
    {
     "name": "stdout",
     "output_type": "stream",
     "text": [
      "6624\n"
     ]
    },
    {
     "data": {
      "application/vnd.jupyter.widget-view+json": {
       "model_id": "8275df1b0a304c788b44ab27d6c8d792",
       "version_major": 2,
       "version_minor": 0
      },
      "text/plain": [
       "evaluating: 0it [00:00, ?it/s]"
      ]
     },
     "metadata": {},
     "output_type": "display_data"
    },
    {
     "name": "stdout",
     "output_type": "stream",
     "text": [
      "6624\n"
     ]
    },
    {
     "data": {
      "application/vnd.jupyter.widget-view+json": {
       "model_id": "8129fa8f020b432aa2b25ed3ec7d445d",
       "version_major": 2,
       "version_minor": 0
      },
      "text/plain": [
       "evaluating: 0it [00:00, ?it/s]"
      ]
     },
     "metadata": {},
     "output_type": "display_data"
    },
    {
     "name": "stdout",
     "output_type": "stream",
     "text": [
      "6624\n"
     ]
    },
    {
     "data": {
      "application/vnd.jupyter.widget-view+json": {
       "model_id": "564fad53b92640c0bc9b181f21fdd85e",
       "version_major": 2,
       "version_minor": 0
      },
      "text/plain": [
       "evaluating: 0it [00:00, ?it/s]"
      ]
     },
     "metadata": {},
     "output_type": "display_data"
    },
    {
     "name": "stdout",
     "output_type": "stream",
     "text": [
      "6624\n"
     ]
    },
    {
     "data": {
      "application/vnd.jupyter.widget-view+json": {
       "model_id": "6fe9e9d17ca64e299212b5361c7c59c1",
       "version_major": 2,
       "version_minor": 0
      },
      "text/plain": [
       "evaluating: 0it [00:00, ?it/s]"
      ]
     },
     "metadata": {},
     "output_type": "display_data"
    },
    {
     "name": "stdout",
     "output_type": "stream",
     "text": [
      "6624\n"
     ]
    },
    {
     "data": {
      "application/vnd.jupyter.widget-view+json": {
       "model_id": "898eb37f6bef4f4dbf45200f731da9c7",
       "version_major": 2,
       "version_minor": 0
      },
      "text/plain": [
       "evaluating: 0it [00:00, ?it/s]"
      ]
     },
     "metadata": {},
     "output_type": "display_data"
    },
    {
     "name": "stdout",
     "output_type": "stream",
     "text": [
      "6624\n"
     ]
    },
    {
     "data": {
      "application/vnd.jupyter.widget-view+json": {
       "model_id": "75f5220eb23f4059816d84ed32146884",
       "version_major": 2,
       "version_minor": 0
      },
      "text/plain": [
       "evaluating: 0it [00:00, ?it/s]"
      ]
     },
     "metadata": {},
     "output_type": "display_data"
    },
    {
     "name": "stdout",
     "output_type": "stream",
     "text": [
      "6624\n"
     ]
    },
    {
     "data": {
      "application/vnd.jupyter.widget-view+json": {
       "model_id": "8ad121cde9b5458890a41dfc46f77b12",
       "version_major": 2,
       "version_minor": 0
      },
      "text/plain": [
       "evaluating: 0it [00:00, ?it/s]"
      ]
     },
     "metadata": {},
     "output_type": "display_data"
    },
    {
     "name": "stdout",
     "output_type": "stream",
     "text": [
      "6624\n"
     ]
    },
    {
     "data": {
      "application/vnd.jupyter.widget-view+json": {
       "model_id": "da9b3c7a25a6438e8ba6f4a06bcfbd20",
       "version_major": 2,
       "version_minor": 0
      },
      "text/plain": [
       "evaluating: 0it [00:00, ?it/s]"
      ]
     },
     "metadata": {},
     "output_type": "display_data"
    },
    {
     "name": "stdout",
     "output_type": "stream",
     "text": [
      "6624\n"
     ]
    },
    {
     "data": {
      "application/vnd.jupyter.widget-view+json": {
       "model_id": "582797e6e22a476b859336e408652583",
       "version_major": 2,
       "version_minor": 0
      },
      "text/plain": [
       "evaluating: 0it [00:00, ?it/s]"
      ]
     },
     "metadata": {},
     "output_type": "display_data"
    },
    {
     "name": "stdout",
     "output_type": "stream",
     "text": [
      "6624\n"
     ]
    },
    {
     "data": {
      "application/vnd.jupyter.widget-view+json": {
       "model_id": "8d9288b6575546ea81ecea920eb23bbb",
       "version_major": 2,
       "version_minor": 0
      },
      "text/plain": [
       "evaluating: 0it [00:00, ?it/s]"
      ]
     },
     "metadata": {},
     "output_type": "display_data"
    },
    {
     "name": "stdout",
     "output_type": "stream",
     "text": [
      "6624\n"
     ]
    },
    {
     "data": {
      "application/vnd.jupyter.widget-view+json": {
       "model_id": "783929a7a5e0438db085dcf40f14046e",
       "version_major": 2,
       "version_minor": 0
      },
      "text/plain": [
       "evaluating: 0it [00:00, ?it/s]"
      ]
     },
     "metadata": {},
     "output_type": "display_data"
    },
    {
     "name": "stdout",
     "output_type": "stream",
     "text": [
      "6624\n"
     ]
    },
    {
     "data": {
      "application/vnd.jupyter.widget-view+json": {
       "model_id": "b44b0c44d1be4598b54129f0f9267d76",
       "version_major": 2,
       "version_minor": 0
      },
      "text/plain": [
       "evaluating: 0it [00:00, ?it/s]"
      ]
     },
     "metadata": {},
     "output_type": "display_data"
    },
    {
     "name": "stdout",
     "output_type": "stream",
     "text": [
      "6624\n"
     ]
    },
    {
     "data": {
      "application/vnd.jupyter.widget-view+json": {
       "model_id": "39121bad9acf40999b2607dd4d4998cf",
       "version_major": 2,
       "version_minor": 0
      },
      "text/plain": [
       "evaluating: 0it [00:00, ?it/s]"
      ]
     },
     "metadata": {},
     "output_type": "display_data"
    },
    {
     "name": "stdout",
     "output_type": "stream",
     "text": [
      "6624\n"
     ]
    },
    {
     "data": {
      "application/vnd.jupyter.widget-view+json": {
       "model_id": "8145008051374601ae1ec7cbc1676b8c",
       "version_major": 2,
       "version_minor": 0
      },
      "text/plain": [
       "evaluating: 0it [00:00, ?it/s]"
      ]
     },
     "metadata": {},
     "output_type": "display_data"
    },
    {
     "name": "stdout",
     "output_type": "stream",
     "text": [
      "6624\n"
     ]
    },
    {
     "data": {
      "application/vnd.jupyter.widget-view+json": {
       "model_id": "f0a72e4037ca4070b0e89ec58cefe17e",
       "version_major": 2,
       "version_minor": 0
      },
      "text/plain": [
       "evaluating: 0it [00:00, ?it/s]"
      ]
     },
     "metadata": {},
     "output_type": "display_data"
    },
    {
     "name": "stdout",
     "output_type": "stream",
     "text": [
      "6624\n"
     ]
    },
    {
     "data": {
      "application/vnd.jupyter.widget-view+json": {
       "model_id": "ebe44c5deb0840ee836a28e36ce519de",
       "version_major": 2,
       "version_minor": 0
      },
      "text/plain": [
       "evaluating: 0it [00:00, ?it/s]"
      ]
     },
     "metadata": {},
     "output_type": "display_data"
    },
    {
     "name": "stdout",
     "output_type": "stream",
     "text": [
      "6624\n"
     ]
    },
    {
     "data": {
      "application/vnd.jupyter.widget-view+json": {
       "model_id": "a032595d3df243359e61b557eafb1896",
       "version_major": 2,
       "version_minor": 0
      },
      "text/plain": [
       "evaluating: 0it [00:00, ?it/s]"
      ]
     },
     "metadata": {},
     "output_type": "display_data"
    },
    {
     "name": "stdout",
     "output_type": "stream",
     "text": [
      "6624\n"
     ]
    },
    {
     "data": {
      "application/vnd.jupyter.widget-view+json": {
       "model_id": "3e83ff066653424e9fd2c58c237d37fd",
       "version_major": 2,
       "version_minor": 0
      },
      "text/plain": [
       "evaluating: 0it [00:00, ?it/s]"
      ]
     },
     "metadata": {},
     "output_type": "display_data"
    },
    {
     "name": "stdout",
     "output_type": "stream",
     "text": [
      "6624\n"
     ]
    },
    {
     "data": {
      "application/vnd.jupyter.widget-view+json": {
       "model_id": "26397e85574849bd8d58f7a649c96859",
       "version_major": 2,
       "version_minor": 0
      },
      "text/plain": [
       "evaluating: 0it [00:00, ?it/s]"
      ]
     },
     "metadata": {},
     "output_type": "display_data"
    },
    {
     "name": "stdout",
     "output_type": "stream",
     "text": [
      "6624\n"
     ]
    },
    {
     "data": {
      "application/vnd.jupyter.widget-view+json": {
       "model_id": "14666bbfbfc94bd396c823cd56233fe3",
       "version_major": 2,
       "version_minor": 0
      },
      "text/plain": [
       "evaluating: 0it [00:00, ?it/s]"
      ]
     },
     "metadata": {},
     "output_type": "display_data"
    },
    {
     "name": "stdout",
     "output_type": "stream",
     "text": [
      "6624\n"
     ]
    },
    {
     "data": {
      "application/vnd.jupyter.widget-view+json": {
       "model_id": "ec95b4724707450896329389a4abf5ad",
       "version_major": 2,
       "version_minor": 0
      },
      "text/plain": [
       "evaluating: 0it [00:00, ?it/s]"
      ]
     },
     "metadata": {},
     "output_type": "display_data"
    },
    {
     "name": "stdout",
     "output_type": "stream",
     "text": [
      "6624\n"
     ]
    },
    {
     "data": {
      "application/vnd.jupyter.widget-view+json": {
       "model_id": "7d17e81eae3c4297bc259d0dd0846409",
       "version_major": 2,
       "version_minor": 0
      },
      "text/plain": [
       "evaluating: 0it [00:00, ?it/s]"
      ]
     },
     "metadata": {},
     "output_type": "display_data"
    },
    {
     "name": "stdout",
     "output_type": "stream",
     "text": [
      "6624\n"
     ]
    },
    {
     "data": {
      "application/vnd.jupyter.widget-view+json": {
       "model_id": "317df9b6d1c14788bee18d4e45574db7",
       "version_major": 2,
       "version_minor": 0
      },
      "text/plain": [
       "evaluating: 0it [00:00, ?it/s]"
      ]
     },
     "metadata": {},
     "output_type": "display_data"
    },
    {
     "name": "stdout",
     "output_type": "stream",
     "text": [
      "6624\n"
     ]
    },
    {
     "data": {
      "application/vnd.jupyter.widget-view+json": {
       "model_id": "5d0a8cde3e6348dda470098058f94ee2",
       "version_major": 2,
       "version_minor": 0
      },
      "text/plain": [
       "evaluating: 0it [00:00, ?it/s]"
      ]
     },
     "metadata": {},
     "output_type": "display_data"
    },
    {
     "name": "stdout",
     "output_type": "stream",
     "text": [
      "6624\n"
     ]
    },
    {
     "data": {
      "application/vnd.jupyter.widget-view+json": {
       "model_id": "fdb7ed1fca504b5791def6ddcd918a22",
       "version_major": 2,
       "version_minor": 0
      },
      "text/plain": [
       "evaluating: 0it [00:00, ?it/s]"
      ]
     },
     "metadata": {},
     "output_type": "display_data"
    },
    {
     "name": "stdout",
     "output_type": "stream",
     "text": [
      "6624\n"
     ]
    },
    {
     "data": {
      "application/vnd.jupyter.widget-view+json": {
       "model_id": "c4784de27f5d42ac90c049fc0630ff4d",
       "version_major": 2,
       "version_minor": 0
      },
      "text/plain": [
       "evaluating: 0it [00:00, ?it/s]"
      ]
     },
     "metadata": {},
     "output_type": "display_data"
    },
    {
     "name": "stdout",
     "output_type": "stream",
     "text": [
      "6624\n"
     ]
    },
    {
     "data": {
      "application/vnd.jupyter.widget-view+json": {
       "model_id": "79fb7e1bf11d4a778c9dc5a4d9b2d1af",
       "version_major": 2,
       "version_minor": 0
      },
      "text/plain": [
       "evaluating: 0it [00:00, ?it/s]"
      ]
     },
     "metadata": {},
     "output_type": "display_data"
    },
    {
     "name": "stdout",
     "output_type": "stream",
     "text": [
      "6624\n"
     ]
    },
    {
     "data": {
      "application/vnd.jupyter.widget-view+json": {
       "model_id": "fdf13add9cef417ab0e1f7562544919c",
       "version_major": 2,
       "version_minor": 0
      },
      "text/plain": [
       "evaluating: 0it [00:00, ?it/s]"
      ]
     },
     "metadata": {},
     "output_type": "display_data"
    },
    {
     "name": "stdout",
     "output_type": "stream",
     "text": [
      "6624\n"
     ]
    },
    {
     "data": {
      "application/vnd.jupyter.widget-view+json": {
       "model_id": "9de8499473d442578dba57d9a61cc54e",
       "version_major": 2,
       "version_minor": 0
      },
      "text/plain": [
       "evaluating: 0it [00:00, ?it/s]"
      ]
     },
     "metadata": {},
     "output_type": "display_data"
    },
    {
     "name": "stdout",
     "output_type": "stream",
     "text": [
      "6624\n"
     ]
    },
    {
     "data": {
      "application/vnd.jupyter.widget-view+json": {
       "model_id": "61cd3f77c69e41489e6cdc0f2be309bc",
       "version_major": 2,
       "version_minor": 0
      },
      "text/plain": [
       "evaluating: 0it [00:00, ?it/s]"
      ]
     },
     "metadata": {},
     "output_type": "display_data"
    },
    {
     "name": "stdout",
     "output_type": "stream",
     "text": [
      "6624\n"
     ]
    },
    {
     "data": {
      "application/vnd.jupyter.widget-view+json": {
       "model_id": "da413f5765224689b755ce8dc66cfe9a",
       "version_major": 2,
       "version_minor": 0
      },
      "text/plain": [
       "evaluating: 0it [00:00, ?it/s]"
      ]
     },
     "metadata": {},
     "output_type": "display_data"
    },
    {
     "name": "stdout",
     "output_type": "stream",
     "text": [
      "6624\n"
     ]
    },
    {
     "data": {
      "application/vnd.jupyter.widget-view+json": {
       "model_id": "e05e36fa7bac42c7b0a2c6609c938c7c",
       "version_major": 2,
       "version_minor": 0
      },
      "text/plain": [
       "evaluating: 0it [00:00, ?it/s]"
      ]
     },
     "metadata": {},
     "output_type": "display_data"
    },
    {
     "name": "stdout",
     "output_type": "stream",
     "text": [
      "6624\n"
     ]
    },
    {
     "data": {
      "application/vnd.jupyter.widget-view+json": {
       "model_id": "7fba503cc5714fc9af7dc017d83bcd7a",
       "version_major": 2,
       "version_minor": 0
      },
      "text/plain": [
       "evaluating: 0it [00:00, ?it/s]"
      ]
     },
     "metadata": {},
     "output_type": "display_data"
    },
    {
     "name": "stdout",
     "output_type": "stream",
     "text": [
      "6624\n"
     ]
    },
    {
     "data": {
      "application/vnd.jupyter.widget-view+json": {
       "model_id": "b0d946f1ca894f80ab895d2a4622cd1a",
       "version_major": 2,
       "version_minor": 0
      },
      "text/plain": [
       "evaluating: 0it [00:00, ?it/s]"
      ]
     },
     "metadata": {},
     "output_type": "display_data"
    },
    {
     "name": "stdout",
     "output_type": "stream",
     "text": [
      "6624\n"
     ]
    },
    {
     "data": {
      "application/vnd.jupyter.widget-view+json": {
       "model_id": "3ee9fbffca084da18fd80cd2eed60112",
       "version_major": 2,
       "version_minor": 0
      },
      "text/plain": [
       "evaluating: 0it [00:00, ?it/s]"
      ]
     },
     "metadata": {},
     "output_type": "display_data"
    },
    {
     "name": "stdout",
     "output_type": "stream",
     "text": [
      "6624\n"
     ]
    },
    {
     "data": {
      "application/vnd.jupyter.widget-view+json": {
       "model_id": "5c439755bbc44d53a347193f38a4663b",
       "version_major": 2,
       "version_minor": 0
      },
      "text/plain": [
       "evaluating: 0it [00:00, ?it/s]"
      ]
     },
     "metadata": {},
     "output_type": "display_data"
    },
    {
     "name": "stdout",
     "output_type": "stream",
     "text": [
      "6624\n"
     ]
    },
    {
     "data": {
      "application/vnd.jupyter.widget-view+json": {
       "model_id": "be95d74a8d4a4cc9a2e4fccfd25b0cfa",
       "version_major": 2,
       "version_minor": 0
      },
      "text/plain": [
       "evaluating: 0it [00:00, ?it/s]"
      ]
     },
     "metadata": {},
     "output_type": "display_data"
    },
    {
     "name": "stdout",
     "output_type": "stream",
     "text": [
      "6624\n"
     ]
    },
    {
     "data": {
      "application/vnd.jupyter.widget-view+json": {
       "model_id": "6640df2b534b4b5896cf3edf8ce60d1b",
       "version_major": 2,
       "version_minor": 0
      },
      "text/plain": [
       "evaluating: 0it [00:00, ?it/s]"
      ]
     },
     "metadata": {},
     "output_type": "display_data"
    },
    {
     "name": "stdout",
     "output_type": "stream",
     "text": [
      "6624\n"
     ]
    },
    {
     "data": {
      "application/vnd.jupyter.widget-view+json": {
       "model_id": "3dcf38d54e9343cfaef36d9beeb7e6b5",
       "version_major": 2,
       "version_minor": 0
      },
      "text/plain": [
       "evaluating: 0it [00:00, ?it/s]"
      ]
     },
     "metadata": {},
     "output_type": "display_data"
    },
    {
     "name": "stdout",
     "output_type": "stream",
     "text": [
      "6624\n"
     ]
    },
    {
     "data": {
      "application/vnd.jupyter.widget-view+json": {
       "model_id": "0823e757b7664db890428b69f0c51fae",
       "version_major": 2,
       "version_minor": 0
      },
      "text/plain": [
       "evaluating: 0it [00:00, ?it/s]"
      ]
     },
     "metadata": {},
     "output_type": "display_data"
    },
    {
     "name": "stdout",
     "output_type": "stream",
     "text": [
      "6624\n"
     ]
    },
    {
     "data": {
      "application/vnd.jupyter.widget-view+json": {
       "model_id": "f7d908cf339c47c8ae2dd31c8ad96f41",
       "version_major": 2,
       "version_minor": 0
      },
      "text/plain": [
       "evaluating: 0it [00:00, ?it/s]"
      ]
     },
     "metadata": {},
     "output_type": "display_data"
    },
    {
     "name": "stdout",
     "output_type": "stream",
     "text": [
      "6624\n"
     ]
    },
    {
     "data": {
      "application/vnd.jupyter.widget-view+json": {
       "model_id": "66523b3d55c04764904730d7eda6502d",
       "version_major": 2,
       "version_minor": 0
      },
      "text/plain": [
       "evaluating: 0it [00:00, ?it/s]"
      ]
     },
     "metadata": {},
     "output_type": "display_data"
    },
    {
     "name": "stdout",
     "output_type": "stream",
     "text": [
      "6624\n"
     ]
    },
    {
     "data": {
      "application/vnd.jupyter.widget-view+json": {
       "model_id": "f071a27961dc4dbfb155b66abe4d5235",
       "version_major": 2,
       "version_minor": 0
      },
      "text/plain": [
       "evaluating: 0it [00:00, ?it/s]"
      ]
     },
     "metadata": {},
     "output_type": "display_data"
    },
    {
     "name": "stdout",
     "output_type": "stream",
     "text": [
      "6624\n"
     ]
    },
    {
     "data": {
      "application/vnd.jupyter.widget-view+json": {
       "model_id": "59149242c48344f5b91a7e1a6631db61",
       "version_major": 2,
       "version_minor": 0
      },
      "text/plain": [
       "evaluating: 0it [00:00, ?it/s]"
      ]
     },
     "metadata": {},
     "output_type": "display_data"
    },
    {
     "name": "stdout",
     "output_type": "stream",
     "text": [
      "6624\n"
     ]
    },
    {
     "data": {
      "application/vnd.jupyter.widget-view+json": {
       "model_id": "38fbc380cd8c406f821e3aee70089edf",
       "version_major": 2,
       "version_minor": 0
      },
      "text/plain": [
       "evaluating: 0it [00:00, ?it/s]"
      ]
     },
     "metadata": {},
     "output_type": "display_data"
    },
    {
     "name": "stdout",
     "output_type": "stream",
     "text": [
      "6624\n"
     ]
    },
    {
     "data": {
      "application/vnd.jupyter.widget-view+json": {
       "model_id": "ce09e3c6881b45f1a753339b6220b45a",
       "version_major": 2,
       "version_minor": 0
      },
      "text/plain": [
       "evaluating: 0it [00:00, ?it/s]"
      ]
     },
     "metadata": {},
     "output_type": "display_data"
    },
    {
     "name": "stdout",
     "output_type": "stream",
     "text": [
      "6624\n"
     ]
    },
    {
     "data": {
      "application/vnd.jupyter.widget-view+json": {
       "model_id": "8e0955857d0d4c27b19a279bedacc652",
       "version_major": 2,
       "version_minor": 0
      },
      "text/plain": [
       "evaluating: 0it [00:00, ?it/s]"
      ]
     },
     "metadata": {},
     "output_type": "display_data"
    },
    {
     "name": "stdout",
     "output_type": "stream",
     "text": [
      "6624\n"
     ]
    },
    {
     "data": {
      "application/vnd.jupyter.widget-view+json": {
       "model_id": "fbab2476fe3c4ad0a6b17bc461fe868b",
       "version_major": 2,
       "version_minor": 0
      },
      "text/plain": [
       "evaluating: 0it [00:00, ?it/s]"
      ]
     },
     "metadata": {},
     "output_type": "display_data"
    },
    {
     "name": "stdout",
     "output_type": "stream",
     "text": [
      "6624\n"
     ]
    },
    {
     "data": {
      "application/vnd.jupyter.widget-view+json": {
       "model_id": "bca8b71e95ac4ed297e1a32f56f1973f",
       "version_major": 2,
       "version_minor": 0
      },
      "text/plain": [
       "evaluating: 0it [00:00, ?it/s]"
      ]
     },
     "metadata": {},
     "output_type": "display_data"
    },
    {
     "name": "stdout",
     "output_type": "stream",
     "text": [
      "6624\n"
     ]
    },
    {
     "data": {
      "application/vnd.jupyter.widget-view+json": {
       "model_id": "b5aa6cc67af8476eb2beec8b73d48965",
       "version_major": 2,
       "version_minor": 0
      },
      "text/plain": [
       "evaluating: 0it [00:00, ?it/s]"
      ]
     },
     "metadata": {},
     "output_type": "display_data"
    },
    {
     "name": "stdout",
     "output_type": "stream",
     "text": [
      "6624\n"
     ]
    },
    {
     "data": {
      "application/vnd.jupyter.widget-view+json": {
       "model_id": "950aaf8e9776411082b173979556c52a",
       "version_major": 2,
       "version_minor": 0
      },
      "text/plain": [
       "evaluating: 0it [00:00, ?it/s]"
      ]
     },
     "metadata": {},
     "output_type": "display_data"
    },
    {
     "name": "stdout",
     "output_type": "stream",
     "text": [
      "6624\n"
     ]
    },
    {
     "data": {
      "application/vnd.jupyter.widget-view+json": {
       "model_id": "4ede0c1b403b4f869450d82768e2c984",
       "version_major": 2,
       "version_minor": 0
      },
      "text/plain": [
       "evaluating: 0it [00:00, ?it/s]"
      ]
     },
     "metadata": {},
     "output_type": "display_data"
    },
    {
     "name": "stdout",
     "output_type": "stream",
     "text": [
      "6624\n"
     ]
    },
    {
     "data": {
      "application/vnd.jupyter.widget-view+json": {
       "model_id": "99ddfe84c1dc4461adf7983e5671437a",
       "version_major": 2,
       "version_minor": 0
      },
      "text/plain": [
       "evaluating: 0it [00:00, ?it/s]"
      ]
     },
     "metadata": {},
     "output_type": "display_data"
    },
    {
     "name": "stdout",
     "output_type": "stream",
     "text": [
      "6624\n"
     ]
    },
    {
     "data": {
      "application/vnd.jupyter.widget-view+json": {
       "model_id": "cb5e569cdcc443dd850df36cc9821649",
       "version_major": 2,
       "version_minor": 0
      },
      "text/plain": [
       "evaluating: 0it [00:00, ?it/s]"
      ]
     },
     "metadata": {},
     "output_type": "display_data"
    },
    {
     "name": "stdout",
     "output_type": "stream",
     "text": [
      "6624\n"
     ]
    },
    {
     "data": {
      "application/vnd.jupyter.widget-view+json": {
       "model_id": "0a397b496cef4ceb8d790b641f6a0bf7",
       "version_major": 2,
       "version_minor": 0
      },
      "text/plain": [
       "evaluating: 0it [00:00, ?it/s]"
      ]
     },
     "metadata": {},
     "output_type": "display_data"
    },
    {
     "name": "stdout",
     "output_type": "stream",
     "text": [
      "6624\n"
     ]
    },
    {
     "data": {
      "application/vnd.jupyter.widget-view+json": {
       "model_id": "8e74191137524e8caa2a4eb931f3eebc",
       "version_major": 2,
       "version_minor": 0
      },
      "text/plain": [
       "evaluating: 0it [00:00, ?it/s]"
      ]
     },
     "metadata": {},
     "output_type": "display_data"
    },
    {
     "name": "stdout",
     "output_type": "stream",
     "text": [
      "6624\n"
     ]
    },
    {
     "data": {
      "application/vnd.jupyter.widget-view+json": {
       "model_id": "afccd5c7ee7a470d87998b80a4df97a5",
       "version_major": 2,
       "version_minor": 0
      },
      "text/plain": [
       "evaluating: 0it [00:00, ?it/s]"
      ]
     },
     "metadata": {},
     "output_type": "display_data"
    },
    {
     "name": "stdout",
     "output_type": "stream",
     "text": [
      "6624\n"
     ]
    },
    {
     "data": {
      "application/vnd.jupyter.widget-view+json": {
       "model_id": "09e841048d0d43008318ea126fc07f84",
       "version_major": 2,
       "version_minor": 0
      },
      "text/plain": [
       "evaluating: 0it [00:00, ?it/s]"
      ]
     },
     "metadata": {},
     "output_type": "display_data"
    },
    {
     "name": "stdout",
     "output_type": "stream",
     "text": [
      "6624\n"
     ]
    },
    {
     "data": {
      "application/vnd.jupyter.widget-view+json": {
       "model_id": "e26cc2b833174623aa6b94d6b626f0e8",
       "version_major": 2,
       "version_minor": 0
      },
      "text/plain": [
       "evaluating: 0it [00:00, ?it/s]"
      ]
     },
     "metadata": {},
     "output_type": "display_data"
    },
    {
     "name": "stdout",
     "output_type": "stream",
     "text": [
      "6624\n"
     ]
    },
    {
     "data": {
      "application/vnd.jupyter.widget-view+json": {
       "model_id": "bbffeede69ba4d66b016799036004be4",
       "version_major": 2,
       "version_minor": 0
      },
      "text/plain": [
       "evaluating: 0it [00:00, ?it/s]"
      ]
     },
     "metadata": {},
     "output_type": "display_data"
    },
    {
     "name": "stdout",
     "output_type": "stream",
     "text": [
      "6624\n"
     ]
    },
    {
     "data": {
      "application/vnd.jupyter.widget-view+json": {
       "model_id": "a70e165d2e3948dba7e75f486c70f409",
       "version_major": 2,
       "version_minor": 0
      },
      "text/plain": [
       "evaluating: 0it [00:00, ?it/s]"
      ]
     },
     "metadata": {},
     "output_type": "display_data"
    },
    {
     "name": "stdout",
     "output_type": "stream",
     "text": [
      "6624\n"
     ]
    },
    {
     "data": {
      "application/vnd.jupyter.widget-view+json": {
       "model_id": "7d6fcb7e09304bb6a6dcf849e66b9321",
       "version_major": 2,
       "version_minor": 0
      },
      "text/plain": [
       "evaluating: 0it [00:00, ?it/s]"
      ]
     },
     "metadata": {},
     "output_type": "display_data"
    },
    {
     "name": "stdout",
     "output_type": "stream",
     "text": [
      "6624\n"
     ]
    },
    {
     "data": {
      "application/vnd.jupyter.widget-view+json": {
       "model_id": "c0f8b3630ce54b85a4a1f0371b27cc77",
       "version_major": 2,
       "version_minor": 0
      },
      "text/plain": [
       "evaluating: 0it [00:00, ?it/s]"
      ]
     },
     "metadata": {},
     "output_type": "display_data"
    },
    {
     "name": "stdout",
     "output_type": "stream",
     "text": [
      "6624\n"
     ]
    },
    {
     "data": {
      "application/vnd.jupyter.widget-view+json": {
       "model_id": "e447f9798e314e1a9491dcd3f655b27a",
       "version_major": 2,
       "version_minor": 0
      },
      "text/plain": [
       "evaluating: 0it [00:00, ?it/s]"
      ]
     },
     "metadata": {},
     "output_type": "display_data"
    },
    {
     "name": "stdout",
     "output_type": "stream",
     "text": [
      "6624\n"
     ]
    },
    {
     "data": {
      "application/vnd.jupyter.widget-view+json": {
       "model_id": "f4ad96c2d0d94fe7a8bade8a9237fa02",
       "version_major": 2,
       "version_minor": 0
      },
      "text/plain": [
       "evaluating: 0it [00:00, ?it/s]"
      ]
     },
     "metadata": {},
     "output_type": "display_data"
    },
    {
     "name": "stdout",
     "output_type": "stream",
     "text": [
      "6624\n"
     ]
    },
    {
     "data": {
      "application/vnd.jupyter.widget-view+json": {
       "model_id": "0e17e4814dc04550a8512c8b967696f6",
       "version_major": 2,
       "version_minor": 0
      },
      "text/plain": [
       "evaluating: 0it [00:00, ?it/s]"
      ]
     },
     "metadata": {},
     "output_type": "display_data"
    },
    {
     "name": "stdout",
     "output_type": "stream",
     "text": [
      "6624\n"
     ]
    },
    {
     "data": {
      "application/vnd.jupyter.widget-view+json": {
       "model_id": "248dda1acd304a98b8fb5449c1f477cc",
       "version_major": 2,
       "version_minor": 0
      },
      "text/plain": [
       "evaluating: 0it [00:00, ?it/s]"
      ]
     },
     "metadata": {},
     "output_type": "display_data"
    },
    {
     "name": "stdout",
     "output_type": "stream",
     "text": [
      "6624\n"
     ]
    },
    {
     "data": {
      "application/vnd.jupyter.widget-view+json": {
       "model_id": "7b3cc1257ecd4d16991f2d1adc07c229",
       "version_major": 2,
       "version_minor": 0
      },
      "text/plain": [
       "evaluating: 0it [00:00, ?it/s]"
      ]
     },
     "metadata": {},
     "output_type": "display_data"
    },
    {
     "name": "stdout",
     "output_type": "stream",
     "text": [
      "6624\n"
     ]
    },
    {
     "data": {
      "application/vnd.jupyter.widget-view+json": {
       "model_id": "ced949e3beb24edcba058da5c0fdf4af",
       "version_major": 2,
       "version_minor": 0
      },
      "text/plain": [
       "evaluating: 0it [00:00, ?it/s]"
      ]
     },
     "metadata": {},
     "output_type": "display_data"
    },
    {
     "name": "stdout",
     "output_type": "stream",
     "text": [
      "6624\n"
     ]
    },
    {
     "data": {
      "application/vnd.jupyter.widget-view+json": {
       "model_id": "d882771858824393833aac30426bdf3c",
       "version_major": 2,
       "version_minor": 0
      },
      "text/plain": [
       "evaluating: 0it [00:00, ?it/s]"
      ]
     },
     "metadata": {},
     "output_type": "display_data"
    },
    {
     "name": "stdout",
     "output_type": "stream",
     "text": [
      "6624\n"
     ]
    },
    {
     "data": {
      "application/vnd.jupyter.widget-view+json": {
       "model_id": "c44d591c9c7a46dda2a29586c0661036",
       "version_major": 2,
       "version_minor": 0
      },
      "text/plain": [
       "evaluating: 0it [00:00, ?it/s]"
      ]
     },
     "metadata": {},
     "output_type": "display_data"
    },
    {
     "name": "stdout",
     "output_type": "stream",
     "text": [
      "6624\n"
     ]
    },
    {
     "data": {
      "application/vnd.jupyter.widget-view+json": {
       "model_id": "bc5f51e79c654c21b37435c0742859dd",
       "version_major": 2,
       "version_minor": 0
      },
      "text/plain": [
       "evaluating: 0it [00:00, ?it/s]"
      ]
     },
     "metadata": {},
     "output_type": "display_data"
    },
    {
     "name": "stdout",
     "output_type": "stream",
     "text": [
      "6624\n"
     ]
    },
    {
     "data": {
      "application/vnd.jupyter.widget-view+json": {
       "model_id": "b2c7ce1cecb54989b9b223f182d2e835",
       "version_major": 2,
       "version_minor": 0
      },
      "text/plain": [
       "evaluating: 0it [00:00, ?it/s]"
      ]
     },
     "metadata": {},
     "output_type": "display_data"
    },
    {
     "name": "stdout",
     "output_type": "stream",
     "text": [
      "6624\n"
     ]
    },
    {
     "data": {
      "application/vnd.jupyter.widget-view+json": {
       "model_id": "a1308c04aff74949a6c7fc89e2896d6b",
       "version_major": 2,
       "version_minor": 0
      },
      "text/plain": [
       "evaluating: 0it [00:00, ?it/s]"
      ]
     },
     "metadata": {},
     "output_type": "display_data"
    },
    {
     "name": "stdout",
     "output_type": "stream",
     "text": [
      "6624\n"
     ]
    },
    {
     "data": {
      "application/vnd.jupyter.widget-view+json": {
       "model_id": "0483efb2bccf4d78b6dbab597c7f91b5",
       "version_major": 2,
       "version_minor": 0
      },
      "text/plain": [
       "evaluating: 0it [00:00, ?it/s]"
      ]
     },
     "metadata": {},
     "output_type": "display_data"
    },
    {
     "name": "stdout",
     "output_type": "stream",
     "text": [
      "6624\n"
     ]
    },
    {
     "data": {
      "application/vnd.jupyter.widget-view+json": {
       "model_id": "bc6324e295bd4e41a443d7539610bf34",
       "version_major": 2,
       "version_minor": 0
      },
      "text/plain": [
       "evaluating: 0it [00:00, ?it/s]"
      ]
     },
     "metadata": {},
     "output_type": "display_data"
    },
    {
     "name": "stdout",
     "output_type": "stream",
     "text": [
      "6624\n"
     ]
    },
    {
     "data": {
      "application/vnd.jupyter.widget-view+json": {
       "model_id": "81d369924020460c802b8c425556d412",
       "version_major": 2,
       "version_minor": 0
      },
      "text/plain": [
       "evaluating: 0it [00:00, ?it/s]"
      ]
     },
     "metadata": {},
     "output_type": "display_data"
    },
    {
     "name": "stdout",
     "output_type": "stream",
     "text": [
      "6624\n"
     ]
    },
    {
     "data": {
      "application/vnd.jupyter.widget-view+json": {
       "model_id": "2806606954fc458f936b98f345cd57a6",
       "version_major": 2,
       "version_minor": 0
      },
      "text/plain": [
       "evaluating: 0it [00:00, ?it/s]"
      ]
     },
     "metadata": {},
     "output_type": "display_data"
    },
    {
     "name": "stdout",
     "output_type": "stream",
     "text": [
      "6624\n"
     ]
    },
    {
     "data": {
      "application/vnd.jupyter.widget-view+json": {
       "model_id": "6b6e283c297d472bbf987b1fe9e89a8e",
       "version_major": 2,
       "version_minor": 0
      },
      "text/plain": [
       "evaluating: 0it [00:00, ?it/s]"
      ]
     },
     "metadata": {},
     "output_type": "display_data"
    },
    {
     "name": "stdout",
     "output_type": "stream",
     "text": [
      "6624\n"
     ]
    },
    {
     "data": {
      "application/vnd.jupyter.widget-view+json": {
       "model_id": "d046a1743c714ffb80cfe1be62e93968",
       "version_major": 2,
       "version_minor": 0
      },
      "text/plain": [
       "evaluating: 0it [00:00, ?it/s]"
      ]
     },
     "metadata": {},
     "output_type": "display_data"
    },
    {
     "name": "stdout",
     "output_type": "stream",
     "text": [
      "6624\n"
     ]
    },
    {
     "data": {
      "application/vnd.jupyter.widget-view+json": {
       "model_id": "84502cf94bca4aea8d966dd73a6cb1fb",
       "version_major": 2,
       "version_minor": 0
      },
      "text/plain": [
       "evaluating: 0it [00:00, ?it/s]"
      ]
     },
     "metadata": {},
     "output_type": "display_data"
    },
    {
     "name": "stdout",
     "output_type": "stream",
     "text": [
      "6624\n"
     ]
    },
    {
     "data": {
      "application/vnd.jupyter.widget-view+json": {
       "model_id": "08586fa292714b55b999103535d7d14f",
       "version_major": 2,
       "version_minor": 0
      },
      "text/plain": [
       "evaluating: 0it [00:00, ?it/s]"
      ]
     },
     "metadata": {},
     "output_type": "display_data"
    },
    {
     "name": "stdout",
     "output_type": "stream",
     "text": [
      "6624\n"
     ]
    },
    {
     "data": {
      "application/vnd.jupyter.widget-view+json": {
       "model_id": "7875a7e2b9324f4b9da595a3e0f16a1e",
       "version_major": 2,
       "version_minor": 0
      },
      "text/plain": [
       "evaluating: 0it [00:00, ?it/s]"
      ]
     },
     "metadata": {},
     "output_type": "display_data"
    },
    {
     "name": "stdout",
     "output_type": "stream",
     "text": [
      "6624\n"
     ]
    },
    {
     "data": {
      "application/vnd.jupyter.widget-view+json": {
       "model_id": "afb9b48d5c7a4848a7c25f1b1d9ed1ed",
       "version_major": 2,
       "version_minor": 0
      },
      "text/plain": [
       "evaluating: 0it [00:00, ?it/s]"
      ]
     },
     "metadata": {},
     "output_type": "display_data"
    },
    {
     "name": "stdout",
     "output_type": "stream",
     "text": [
      "6624\n"
     ]
    },
    {
     "data": {
      "application/vnd.jupyter.widget-view+json": {
       "model_id": "c21d7b83a4cd46499d552f7995e4a4c2",
       "version_major": 2,
       "version_minor": 0
      },
      "text/plain": [
       "evaluating: 0it [00:00, ?it/s]"
      ]
     },
     "metadata": {},
     "output_type": "display_data"
    },
    {
     "name": "stdout",
     "output_type": "stream",
     "text": [
      "6624\n"
     ]
    },
    {
     "data": {
      "application/vnd.jupyter.widget-view+json": {
       "model_id": "2b2e9afb45b147b894430b4df3fe47f7",
       "version_major": 2,
       "version_minor": 0
      },
      "text/plain": [
       "evaluating: 0it [00:00, ?it/s]"
      ]
     },
     "metadata": {},
     "output_type": "display_data"
    },
    {
     "name": "stdout",
     "output_type": "stream",
     "text": [
      "6624\n"
     ]
    },
    {
     "data": {
      "application/vnd.jupyter.widget-view+json": {
       "model_id": "9a6ec21338f9417aaab576d4f8661ca6",
       "version_major": 2,
       "version_minor": 0
      },
      "text/plain": [
       "evaluating: 0it [00:00, ?it/s]"
      ]
     },
     "metadata": {},
     "output_type": "display_data"
    },
    {
     "name": "stdout",
     "output_type": "stream",
     "text": [
      "6624\n"
     ]
    },
    {
     "data": {
      "application/vnd.jupyter.widget-view+json": {
       "model_id": "b3b0e10ec9324beb81823ed9a60b87bb",
       "version_major": 2,
       "version_minor": 0
      },
      "text/plain": [
       "evaluating: 0it [00:00, ?it/s]"
      ]
     },
     "metadata": {},
     "output_type": "display_data"
    },
    {
     "name": "stdout",
     "output_type": "stream",
     "text": [
      "6624\n"
     ]
    },
    {
     "data": {
      "application/vnd.jupyter.widget-view+json": {
       "model_id": "5cd3788c5c6048a498cbc7f1ce1482e9",
       "version_major": 2,
       "version_minor": 0
      },
      "text/plain": [
       "evaluating: 0it [00:00, ?it/s]"
      ]
     },
     "metadata": {},
     "output_type": "display_data"
    },
    {
     "name": "stdout",
     "output_type": "stream",
     "text": [
      "6624\n"
     ]
    },
    {
     "data": {
      "application/vnd.jupyter.widget-view+json": {
       "model_id": "84490564243a43f58ae15b9f13abb415",
       "version_major": 2,
       "version_minor": 0
      },
      "text/plain": [
       "evaluating: 0it [00:00, ?it/s]"
      ]
     },
     "metadata": {},
     "output_type": "display_data"
    },
    {
     "name": "stdout",
     "output_type": "stream",
     "text": [
      "6624\n"
     ]
    },
    {
     "data": {
      "application/vnd.jupyter.widget-view+json": {
       "model_id": "20136c43eb544b058f289326100a3413",
       "version_major": 2,
       "version_minor": 0
      },
      "text/plain": [
       "evaluating: 0it [00:00, ?it/s]"
      ]
     },
     "metadata": {},
     "output_type": "display_data"
    },
    {
     "name": "stdout",
     "output_type": "stream",
     "text": [
      "6624\n"
     ]
    },
    {
     "data": {
      "application/vnd.jupyter.widget-view+json": {
       "model_id": "0cdeff9f260c48f392057cab57c2dd7c",
       "version_major": 2,
       "version_minor": 0
      },
      "text/plain": [
       "evaluating: 0it [00:00, ?it/s]"
      ]
     },
     "metadata": {},
     "output_type": "display_data"
    },
    {
     "name": "stdout",
     "output_type": "stream",
     "text": [
      "6624\n"
     ]
    },
    {
     "data": {
      "application/vnd.jupyter.widget-view+json": {
       "model_id": "fb8f8797731d4083a550f9a299809e68",
       "version_major": 2,
       "version_minor": 0
      },
      "text/plain": [
       "evaluating: 0it [00:00, ?it/s]"
      ]
     },
     "metadata": {},
     "output_type": "display_data"
    },
    {
     "name": "stdout",
     "output_type": "stream",
     "text": [
      "6624\n"
     ]
    },
    {
     "data": {
      "application/vnd.jupyter.widget-view+json": {
       "model_id": "2c1715d35fa24c058a9ea6c1ac858d1d",
       "version_major": 2,
       "version_minor": 0
      },
      "text/plain": [
       "evaluating: 0it [00:00, ?it/s]"
      ]
     },
     "metadata": {},
     "output_type": "display_data"
    },
    {
     "name": "stdout",
     "output_type": "stream",
     "text": [
      "6624\n"
     ]
    },
    {
     "data": {
      "application/vnd.jupyter.widget-view+json": {
       "model_id": "d449287266414f14824ab854ddb2dd5c",
       "version_major": 2,
       "version_minor": 0
      },
      "text/plain": [
       "evaluating: 0it [00:00, ?it/s]"
      ]
     },
     "metadata": {},
     "output_type": "display_data"
    },
    {
     "name": "stdout",
     "output_type": "stream",
     "text": [
      "6624\n"
     ]
    },
    {
     "data": {
      "application/vnd.jupyter.widget-view+json": {
       "model_id": "1a9e3a246fbd4c7e920129249ac5bfa0",
       "version_major": 2,
       "version_minor": 0
      },
      "text/plain": [
       "evaluating: 0it [00:00, ?it/s]"
      ]
     },
     "metadata": {},
     "output_type": "display_data"
    },
    {
     "name": "stdout",
     "output_type": "stream",
     "text": [
      "6624\n"
     ]
    },
    {
     "data": {
      "application/vnd.jupyter.widget-view+json": {
       "model_id": "16494cf0727845638a92839ae33e70a4",
       "version_major": 2,
       "version_minor": 0
      },
      "text/plain": [
       "evaluating: 0it [00:00, ?it/s]"
      ]
     },
     "metadata": {},
     "output_type": "display_data"
    },
    {
     "name": "stdout",
     "output_type": "stream",
     "text": [
      "6624\n"
     ]
    },
    {
     "data": {
      "application/vnd.jupyter.widget-view+json": {
       "model_id": "9adbe38cc31543938731ad66bcf87636",
       "version_major": 2,
       "version_minor": 0
      },
      "text/plain": [
       "evaluating: 0it [00:00, ?it/s]"
      ]
     },
     "metadata": {},
     "output_type": "display_data"
    },
    {
     "name": "stdout",
     "output_type": "stream",
     "text": [
      "6624\n"
     ]
    },
    {
     "data": {
      "application/vnd.jupyter.widget-view+json": {
       "model_id": "93a09e783f5b4e07b2dece628302037a",
       "version_major": 2,
       "version_minor": 0
      },
      "text/plain": [
       "evaluating: 0it [00:00, ?it/s]"
      ]
     },
     "metadata": {},
     "output_type": "display_data"
    },
    {
     "name": "stdout",
     "output_type": "stream",
     "text": [
      "6624\n"
     ]
    },
    {
     "data": {
      "application/vnd.jupyter.widget-view+json": {
       "model_id": "8989e844442f4f45a966a01c702b2b0f",
       "version_major": 2,
       "version_minor": 0
      },
      "text/plain": [
       "evaluating: 0it [00:00, ?it/s]"
      ]
     },
     "metadata": {},
     "output_type": "display_data"
    },
    {
     "name": "stdout",
     "output_type": "stream",
     "text": [
      "6624\n"
     ]
    },
    {
     "data": {
      "application/vnd.jupyter.widget-view+json": {
       "model_id": "008c1d3f43d140138de1c940fe117081",
       "version_major": 2,
       "version_minor": 0
      },
      "text/plain": [
       "evaluating: 0it [00:00, ?it/s]"
      ]
     },
     "metadata": {},
     "output_type": "display_data"
    },
    {
     "name": "stdout",
     "output_type": "stream",
     "text": [
      "6624\n"
     ]
    },
    {
     "data": {
      "application/vnd.jupyter.widget-view+json": {
       "model_id": "4bb36cd9d98b4952a88e1ae94dd4a046",
       "version_major": 2,
       "version_minor": 0
      },
      "text/plain": [
       "evaluating: 0it [00:00, ?it/s]"
      ]
     },
     "metadata": {},
     "output_type": "display_data"
    },
    {
     "name": "stdout",
     "output_type": "stream",
     "text": [
      "6624\n"
     ]
    },
    {
     "data": {
      "application/vnd.jupyter.widget-view+json": {
       "model_id": "12d2c3613c374b6c9c0f0a7c10642b87",
       "version_major": 2,
       "version_minor": 0
      },
      "text/plain": [
       "evaluating: 0it [00:00, ?it/s]"
      ]
     },
     "metadata": {},
     "output_type": "display_data"
    },
    {
     "name": "stdout",
     "output_type": "stream",
     "text": [
      "6624\n"
     ]
    },
    {
     "data": {
      "application/vnd.jupyter.widget-view+json": {
       "model_id": "0351ba7c645348869774818b7cc6547d",
       "version_major": 2,
       "version_minor": 0
      },
      "text/plain": [
       "evaluating: 0it [00:00, ?it/s]"
      ]
     },
     "metadata": {},
     "output_type": "display_data"
    },
    {
     "name": "stdout",
     "output_type": "stream",
     "text": [
      "6624\n"
     ]
    },
    {
     "data": {
      "application/vnd.jupyter.widget-view+json": {
       "model_id": "f8517534dae64a29851ca82b3b20a697",
       "version_major": 2,
       "version_minor": 0
      },
      "text/plain": [
       "evaluating: 0it [00:00, ?it/s]"
      ]
     },
     "metadata": {},
     "output_type": "display_data"
    },
    {
     "name": "stdout",
     "output_type": "stream",
     "text": [
      "6624\n"
     ]
    },
    {
     "data": {
      "application/vnd.jupyter.widget-view+json": {
       "model_id": "7d83510ecab2495fb1d6bd4873b6e7e5",
       "version_major": 2,
       "version_minor": 0
      },
      "text/plain": [
       "evaluating: 0it [00:00, ?it/s]"
      ]
     },
     "metadata": {},
     "output_type": "display_data"
    },
    {
     "name": "stdout",
     "output_type": "stream",
     "text": [
      "6624\n"
     ]
    },
    {
     "data": {
      "application/vnd.jupyter.widget-view+json": {
       "model_id": "531e945afbaf4f19874a6118b3fda035",
       "version_major": 2,
       "version_minor": 0
      },
      "text/plain": [
       "evaluating: 0it [00:00, ?it/s]"
      ]
     },
     "metadata": {},
     "output_type": "display_data"
    },
    {
     "name": "stdout",
     "output_type": "stream",
     "text": [
      "6624\n"
     ]
    },
    {
     "data": {
      "application/vnd.jupyter.widget-view+json": {
       "model_id": "54190817cc1241e0a3768795140217d1",
       "version_major": 2,
       "version_minor": 0
      },
      "text/plain": [
       "evaluating: 0it [00:00, ?it/s]"
      ]
     },
     "metadata": {},
     "output_type": "display_data"
    },
    {
     "name": "stdout",
     "output_type": "stream",
     "text": [
      "6624\n"
     ]
    },
    {
     "data": {
      "application/vnd.jupyter.widget-view+json": {
       "model_id": "cd1538834f7344019af186f2be87ee90",
       "version_major": 2,
       "version_minor": 0
      },
      "text/plain": [
       "evaluating: 0it [00:00, ?it/s]"
      ]
     },
     "metadata": {},
     "output_type": "display_data"
    },
    {
     "name": "stdout",
     "output_type": "stream",
     "text": [
      "6624\n"
     ]
    },
    {
     "data": {
      "application/vnd.jupyter.widget-view+json": {
       "model_id": "c7cb7d9bda3046a3a182d240023b80f5",
       "version_major": 2,
       "version_minor": 0
      },
      "text/plain": [
       "evaluating: 0it [00:00, ?it/s]"
      ]
     },
     "metadata": {},
     "output_type": "display_data"
    },
    {
     "name": "stdout",
     "output_type": "stream",
     "text": [
      "6624\n"
     ]
    },
    {
     "data": {
      "application/vnd.jupyter.widget-view+json": {
       "model_id": "5997d404715f4b51a4ee593bf0345cbb",
       "version_major": 2,
       "version_minor": 0
      },
      "text/plain": [
       "evaluating: 0it [00:00, ?it/s]"
      ]
     },
     "metadata": {},
     "output_type": "display_data"
    },
    {
     "name": "stdout",
     "output_type": "stream",
     "text": [
      "6624\n"
     ]
    },
    {
     "data": {
      "application/vnd.jupyter.widget-view+json": {
       "model_id": "7d522fe2522948d2ab920ba74b633d24",
       "version_major": 2,
       "version_minor": 0
      },
      "text/plain": [
       "evaluating: 0it [00:00, ?it/s]"
      ]
     },
     "metadata": {},
     "output_type": "display_data"
    },
    {
     "name": "stdout",
     "output_type": "stream",
     "text": [
      "6624\n"
     ]
    },
    {
     "data": {
      "application/vnd.jupyter.widget-view+json": {
       "model_id": "b0a72237dcf949329237b9d7be4a105f",
       "version_major": 2,
       "version_minor": 0
      },
      "text/plain": [
       "evaluating: 0it [00:00, ?it/s]"
      ]
     },
     "metadata": {},
     "output_type": "display_data"
    },
    {
     "name": "stdout",
     "output_type": "stream",
     "text": [
      "6624\n"
     ]
    },
    {
     "data": {
      "application/vnd.jupyter.widget-view+json": {
       "model_id": "f9f05cea39414534be7bcccc7554d6fe",
       "version_major": 2,
       "version_minor": 0
      },
      "text/plain": [
       "evaluating: 0it [00:00, ?it/s]"
      ]
     },
     "metadata": {},
     "output_type": "display_data"
    },
    {
     "name": "stdout",
     "output_type": "stream",
     "text": [
      "6624\n"
     ]
    },
    {
     "data": {
      "application/vnd.jupyter.widget-view+json": {
       "model_id": "019b53251df041a08d14bc809f407944",
       "version_major": 2,
       "version_minor": 0
      },
      "text/plain": [
       "evaluating: 0it [00:00, ?it/s]"
      ]
     },
     "metadata": {},
     "output_type": "display_data"
    },
    {
     "name": "stdout",
     "output_type": "stream",
     "text": [
      "6624\n"
     ]
    },
    {
     "data": {
      "application/vnd.jupyter.widget-view+json": {
       "model_id": "9377765fa32a40199fb1438aa4ea2557",
       "version_major": 2,
       "version_minor": 0
      },
      "text/plain": [
       "evaluating: 0it [00:00, ?it/s]"
      ]
     },
     "metadata": {},
     "output_type": "display_data"
    },
    {
     "name": "stdout",
     "output_type": "stream",
     "text": [
      "6624\n"
     ]
    },
    {
     "data": {
      "application/vnd.jupyter.widget-view+json": {
       "model_id": "da0776cd2f40423f8d9b529836bb4231",
       "version_major": 2,
       "version_minor": 0
      },
      "text/plain": [
       "evaluating: 0it [00:00, ?it/s]"
      ]
     },
     "metadata": {},
     "output_type": "display_data"
    },
    {
     "name": "stdout",
     "output_type": "stream",
     "text": [
      "6624\n"
     ]
    },
    {
     "data": {
      "application/vnd.jupyter.widget-view+json": {
       "model_id": "b4030ecc3226466a9653a54a16f55687",
       "version_major": 2,
       "version_minor": 0
      },
      "text/plain": [
       "evaluating: 0it [00:00, ?it/s]"
      ]
     },
     "metadata": {},
     "output_type": "display_data"
    },
    {
     "name": "stdout",
     "output_type": "stream",
     "text": [
      "6624\n"
     ]
    },
    {
     "data": {
      "application/vnd.jupyter.widget-view+json": {
       "model_id": "768cc92c5ad14ec1a0485ca3e698dd43",
       "version_major": 2,
       "version_minor": 0
      },
      "text/plain": [
       "evaluating: 0it [00:00, ?it/s]"
      ]
     },
     "metadata": {},
     "output_type": "display_data"
    },
    {
     "name": "stdout",
     "output_type": "stream",
     "text": [
      "6624\n"
     ]
    },
    {
     "data": {
      "application/vnd.jupyter.widget-view+json": {
       "model_id": "2af6c6dd9915458eba6298ee1f5b5bff",
       "version_major": 2,
       "version_minor": 0
      },
      "text/plain": [
       "evaluating: 0it [00:00, ?it/s]"
      ]
     },
     "metadata": {},
     "output_type": "display_data"
    },
    {
     "name": "stdout",
     "output_type": "stream",
     "text": [
      "6624\n"
     ]
    },
    {
     "data": {
      "application/vnd.jupyter.widget-view+json": {
       "model_id": "859891235eff4776bae4d28f52cc7d73",
       "version_major": 2,
       "version_minor": 0
      },
      "text/plain": [
       "evaluating: 0it [00:00, ?it/s]"
      ]
     },
     "metadata": {},
     "output_type": "display_data"
    },
    {
     "name": "stdout",
     "output_type": "stream",
     "text": [
      "6624\n"
     ]
    },
    {
     "data": {
      "application/vnd.jupyter.widget-view+json": {
       "model_id": "5f7bba6baa8f4a03879e27fbcf6932f6",
       "version_major": 2,
       "version_minor": 0
      },
      "text/plain": [
       "evaluating: 0it [00:00, ?it/s]"
      ]
     },
     "metadata": {},
     "output_type": "display_data"
    },
    {
     "name": "stdout",
     "output_type": "stream",
     "text": [
      "6624\n"
     ]
    },
    {
     "data": {
      "application/vnd.jupyter.widget-view+json": {
       "model_id": "1b2041fd1c4b4c7c9135bbb7141dc79d",
       "version_major": 2,
       "version_minor": 0
      },
      "text/plain": [
       "evaluating: 0it [00:00, ?it/s]"
      ]
     },
     "metadata": {},
     "output_type": "display_data"
    },
    {
     "name": "stdout",
     "output_type": "stream",
     "text": [
      "6624\n"
     ]
    },
    {
     "data": {
      "application/vnd.jupyter.widget-view+json": {
       "model_id": "e06a4924e47244958936ca24f40466ba",
       "version_major": 2,
       "version_minor": 0
      },
      "text/plain": [
       "evaluating: 0it [00:00, ?it/s]"
      ]
     },
     "metadata": {},
     "output_type": "display_data"
    },
    {
     "name": "stdout",
     "output_type": "stream",
     "text": [
      "6624\n"
     ]
    },
    {
     "data": {
      "application/vnd.jupyter.widget-view+json": {
       "model_id": "5e4863b961184d2398e5d58bfb4a2a78",
       "version_major": 2,
       "version_minor": 0
      },
      "text/plain": [
       "evaluating: 0it [00:00, ?it/s]"
      ]
     },
     "metadata": {},
     "output_type": "display_data"
    },
    {
     "name": "stdout",
     "output_type": "stream",
     "text": [
      "6624\n"
     ]
    },
    {
     "data": {
      "application/vnd.jupyter.widget-view+json": {
       "model_id": "473a51e9faaf40c686c6a0cb240e2022",
       "version_major": 2,
       "version_minor": 0
      },
      "text/plain": [
       "evaluating: 0it [00:00, ?it/s]"
      ]
     },
     "metadata": {},
     "output_type": "display_data"
    },
    {
     "name": "stdout",
     "output_type": "stream",
     "text": [
      "6624\n"
     ]
    },
    {
     "data": {
      "application/vnd.jupyter.widget-view+json": {
       "model_id": "598ec41dfabb41de92a5ab41bb0835a8",
       "version_major": 2,
       "version_minor": 0
      },
      "text/plain": [
       "evaluating: 0it [00:00, ?it/s]"
      ]
     },
     "metadata": {},
     "output_type": "display_data"
    },
    {
     "name": "stdout",
     "output_type": "stream",
     "text": [
      "6624\n"
     ]
    },
    {
     "data": {
      "application/vnd.jupyter.widget-view+json": {
       "model_id": "ea9f3565665740e48011421d25b63109",
       "version_major": 2,
       "version_minor": 0
      },
      "text/plain": [
       "evaluating: 0it [00:00, ?it/s]"
      ]
     },
     "metadata": {},
     "output_type": "display_data"
    },
    {
     "name": "stdout",
     "output_type": "stream",
     "text": [
      "6624\n"
     ]
    },
    {
     "data": {
      "application/vnd.jupyter.widget-view+json": {
       "model_id": "1d364b1bcfb3424fade67db09a4a3673",
       "version_major": 2,
       "version_minor": 0
      },
      "text/plain": [
       "evaluating: 0it [00:00, ?it/s]"
      ]
     },
     "metadata": {},
     "output_type": "display_data"
    },
    {
     "name": "stdout",
     "output_type": "stream",
     "text": [
      "6624\n"
     ]
    },
    {
     "data": {
      "application/vnd.jupyter.widget-view+json": {
       "model_id": "1d02da64bc8d406ba96eda7cb88899c9",
       "version_major": 2,
       "version_minor": 0
      },
      "text/plain": [
       "evaluating: 0it [00:00, ?it/s]"
      ]
     },
     "metadata": {},
     "output_type": "display_data"
    },
    {
     "name": "stdout",
     "output_type": "stream",
     "text": [
      "6624\n"
     ]
    },
    {
     "data": {
      "application/vnd.jupyter.widget-view+json": {
       "model_id": "1030d642f4fc4610953b1bf56ef15955",
       "version_major": 2,
       "version_minor": 0
      },
      "text/plain": [
       "evaluating: 0it [00:00, ?it/s]"
      ]
     },
     "metadata": {},
     "output_type": "display_data"
    },
    {
     "name": "stdout",
     "output_type": "stream",
     "text": [
      "6624\n"
     ]
    },
    {
     "data": {
      "application/vnd.jupyter.widget-view+json": {
       "model_id": "e89f15deb76441248844f8880591ba36",
       "version_major": 2,
       "version_minor": 0
      },
      "text/plain": [
       "evaluating: 0it [00:00, ?it/s]"
      ]
     },
     "metadata": {},
     "output_type": "display_data"
    },
    {
     "name": "stdout",
     "output_type": "stream",
     "text": [
      "6624\n"
     ]
    },
    {
     "data": {
      "application/vnd.jupyter.widget-view+json": {
       "model_id": "ac8487f651994a87a365fb69bf708bd5",
       "version_major": 2,
       "version_minor": 0
      },
      "text/plain": [
       "evaluating: 0it [00:00, ?it/s]"
      ]
     },
     "metadata": {},
     "output_type": "display_data"
    },
    {
     "name": "stdout",
     "output_type": "stream",
     "text": [
      "6624\n"
     ]
    },
    {
     "data": {
      "application/vnd.jupyter.widget-view+json": {
       "model_id": "60c3636bb69b4b13a121d2e3b6c8c1bc",
       "version_major": 2,
       "version_minor": 0
      },
      "text/plain": [
       "evaluating: 0it [00:00, ?it/s]"
      ]
     },
     "metadata": {},
     "output_type": "display_data"
    },
    {
     "name": "stdout",
     "output_type": "stream",
     "text": [
      "6624\n"
     ]
    },
    {
     "data": {
      "application/vnd.jupyter.widget-view+json": {
       "model_id": "985e5665147746e4a99a61a454f94a9a",
       "version_major": 2,
       "version_minor": 0
      },
      "text/plain": [
       "evaluating: 0it [00:00, ?it/s]"
      ]
     },
     "metadata": {},
     "output_type": "display_data"
    },
    {
     "name": "stdout",
     "output_type": "stream",
     "text": [
      "6624\n"
     ]
    },
    {
     "data": {
      "application/vnd.jupyter.widget-view+json": {
       "model_id": "cb4da61a4d6a4e56a825ce7f84b08228",
       "version_major": 2,
       "version_minor": 0
      },
      "text/plain": [
       "evaluating: 0it [00:00, ?it/s]"
      ]
     },
     "metadata": {},
     "output_type": "display_data"
    },
    {
     "name": "stdout",
     "output_type": "stream",
     "text": [
      "6624\n"
     ]
    },
    {
     "data": {
      "application/vnd.jupyter.widget-view+json": {
       "model_id": "51d6ade15fc7404193fbf679e9fb7069",
       "version_major": 2,
       "version_minor": 0
      },
      "text/plain": [
       "evaluating: 0it [00:00, ?it/s]"
      ]
     },
     "metadata": {},
     "output_type": "display_data"
    },
    {
     "name": "stdout",
     "output_type": "stream",
     "text": [
      "6624\n"
     ]
    },
    {
     "data": {
      "application/vnd.jupyter.widget-view+json": {
       "model_id": "a6dc1b3540a141379e4b3bf2977bbc68",
       "version_major": 2,
       "version_minor": 0
      },
      "text/plain": [
       "evaluating: 0it [00:00, ?it/s]"
      ]
     },
     "metadata": {},
     "output_type": "display_data"
    },
    {
     "name": "stdout",
     "output_type": "stream",
     "text": [
      "6624\n"
     ]
    },
    {
     "data": {
      "application/vnd.jupyter.widget-view+json": {
       "model_id": "92ce3c392b0b444db1b6c3d7892fc92a",
       "version_major": 2,
       "version_minor": 0
      },
      "text/plain": [
       "evaluating: 0it [00:00, ?it/s]"
      ]
     },
     "metadata": {},
     "output_type": "display_data"
    },
    {
     "name": "stdout",
     "output_type": "stream",
     "text": [
      "6624\n"
     ]
    },
    {
     "data": {
      "application/vnd.jupyter.widget-view+json": {
       "model_id": "c0ccb67b9a66422793d95bbe9c540ac2",
       "version_major": 2,
       "version_minor": 0
      },
      "text/plain": [
       "evaluating: 0it [00:00, ?it/s]"
      ]
     },
     "metadata": {},
     "output_type": "display_data"
    },
    {
     "name": "stdout",
     "output_type": "stream",
     "text": [
      "6624\n"
     ]
    },
    {
     "data": {
      "application/vnd.jupyter.widget-view+json": {
       "model_id": "c456da4a99f540618e798738e6923bd4",
       "version_major": 2,
       "version_minor": 0
      },
      "text/plain": [
       "evaluating: 0it [00:00, ?it/s]"
      ]
     },
     "metadata": {},
     "output_type": "display_data"
    },
    {
     "name": "stdout",
     "output_type": "stream",
     "text": [
      "6624\n"
     ]
    },
    {
     "data": {
      "application/vnd.jupyter.widget-view+json": {
       "model_id": "a50fef94156a456ea0dcc238c278d0fa",
       "version_major": 2,
       "version_minor": 0
      },
      "text/plain": [
       "evaluating: 0it [00:00, ?it/s]"
      ]
     },
     "metadata": {},
     "output_type": "display_data"
    },
    {
     "name": "stdout",
     "output_type": "stream",
     "text": [
      "6624\n"
     ]
    },
    {
     "data": {
      "application/vnd.jupyter.widget-view+json": {
       "model_id": "bee06ee6fedd46fcaa98a1e2ae92ce38",
       "version_major": 2,
       "version_minor": 0
      },
      "text/plain": [
       "evaluating: 0it [00:00, ?it/s]"
      ]
     },
     "metadata": {},
     "output_type": "display_data"
    },
    {
     "name": "stdout",
     "output_type": "stream",
     "text": [
      "6624\n"
     ]
    },
    {
     "data": {
      "application/vnd.jupyter.widget-view+json": {
       "model_id": "328e2199138b48b184df0bb249ca8095",
       "version_major": 2,
       "version_minor": 0
      },
      "text/plain": [
       "evaluating: 0it [00:00, ?it/s]"
      ]
     },
     "metadata": {},
     "output_type": "display_data"
    },
    {
     "name": "stdout",
     "output_type": "stream",
     "text": [
      "6624\n"
     ]
    },
    {
     "data": {
      "application/vnd.jupyter.widget-view+json": {
       "model_id": "1161eb5275f14bd9bc12ce9bc881af3c",
       "version_major": 2,
       "version_minor": 0
      },
      "text/plain": [
       "evaluating: 0it [00:00, ?it/s]"
      ]
     },
     "metadata": {},
     "output_type": "display_data"
    },
    {
     "name": "stdout",
     "output_type": "stream",
     "text": [
      "6624\n"
     ]
    },
    {
     "data": {
      "application/vnd.jupyter.widget-view+json": {
       "model_id": "22e9cea6dcde44c4a958636ad578ea4b",
       "version_major": 2,
       "version_minor": 0
      },
      "text/plain": [
       "evaluating: 0it [00:00, ?it/s]"
      ]
     },
     "metadata": {},
     "output_type": "display_data"
    },
    {
     "name": "stdout",
     "output_type": "stream",
     "text": [
      "6624\n"
     ]
    },
    {
     "data": {
      "application/vnd.jupyter.widget-view+json": {
       "model_id": "ae844fc83f274cfd9c32b6acc18cc0ce",
       "version_major": 2,
       "version_minor": 0
      },
      "text/plain": [
       "evaluating: 0it [00:00, ?it/s]"
      ]
     },
     "metadata": {},
     "output_type": "display_data"
    },
    {
     "name": "stdout",
     "output_type": "stream",
     "text": [
      "6624\n"
     ]
    },
    {
     "data": {
      "application/vnd.jupyter.widget-view+json": {
       "model_id": "6c575411b6b548e8bf9dea50ea6ca83c",
       "version_major": 2,
       "version_minor": 0
      },
      "text/plain": [
       "evaluating: 0it [00:00, ?it/s]"
      ]
     },
     "metadata": {},
     "output_type": "display_data"
    },
    {
     "name": "stdout",
     "output_type": "stream",
     "text": [
      "6624\n"
     ]
    },
    {
     "data": {
      "application/vnd.jupyter.widget-view+json": {
       "model_id": "7da36f7ed03646d4b7c9966f0f5bed1e",
       "version_major": 2,
       "version_minor": 0
      },
      "text/plain": [
       "evaluating: 0it [00:00, ?it/s]"
      ]
     },
     "metadata": {},
     "output_type": "display_data"
    },
    {
     "name": "stdout",
     "output_type": "stream",
     "text": [
      "6624\n"
     ]
    },
    {
     "data": {
      "application/vnd.jupyter.widget-view+json": {
       "model_id": "a59c7d116f9f41b9b0b852768bdb0679",
       "version_major": 2,
       "version_minor": 0
      },
      "text/plain": [
       "evaluating: 0it [00:00, ?it/s]"
      ]
     },
     "metadata": {},
     "output_type": "display_data"
    },
    {
     "name": "stdout",
     "output_type": "stream",
     "text": [
      "6624\n"
     ]
    },
    {
     "data": {
      "application/vnd.jupyter.widget-view+json": {
       "model_id": "3b26f42ad0374855bf7d0060143f5e42",
       "version_major": 2,
       "version_minor": 0
      },
      "text/plain": [
       "evaluating: 0it [00:00, ?it/s]"
      ]
     },
     "metadata": {},
     "output_type": "display_data"
    },
    {
     "name": "stdout",
     "output_type": "stream",
     "text": [
      "6624\n"
     ]
    },
    {
     "data": {
      "application/vnd.jupyter.widget-view+json": {
       "model_id": "4ba6bfcaf33b453fac651718a3ef8121",
       "version_major": 2,
       "version_minor": 0
      },
      "text/plain": [
       "evaluating: 0it [00:00, ?it/s]"
      ]
     },
     "metadata": {},
     "output_type": "display_data"
    },
    {
     "name": "stdout",
     "output_type": "stream",
     "text": [
      "6624\n"
     ]
    },
    {
     "data": {
      "application/vnd.jupyter.widget-view+json": {
       "model_id": "ebe788b7b8604a1db524076566a5093a",
       "version_major": 2,
       "version_minor": 0
      },
      "text/plain": [
       "evaluating: 0it [00:00, ?it/s]"
      ]
     },
     "metadata": {},
     "output_type": "display_data"
    },
    {
     "name": "stdout",
     "output_type": "stream",
     "text": [
      "6624\n"
     ]
    },
    {
     "data": {
      "application/vnd.jupyter.widget-view+json": {
       "model_id": "9e9f697a0bd74411b9d32fab29bdfe8f",
       "version_major": 2,
       "version_minor": 0
      },
      "text/plain": [
       "evaluating: 0it [00:00, ?it/s]"
      ]
     },
     "metadata": {},
     "output_type": "display_data"
    },
    {
     "name": "stdout",
     "output_type": "stream",
     "text": [
      "6624\n"
     ]
    },
    {
     "data": {
      "application/vnd.jupyter.widget-view+json": {
       "model_id": "658e842809ce4aa996f31b9720792f92",
       "version_major": 2,
       "version_minor": 0
      },
      "text/plain": [
       "evaluating: 0it [00:00, ?it/s]"
      ]
     },
     "metadata": {},
     "output_type": "display_data"
    },
    {
     "name": "stdout",
     "output_type": "stream",
     "text": [
      "6624\n"
     ]
    },
    {
     "data": {
      "application/vnd.jupyter.widget-view+json": {
       "model_id": "54ad46785c7843d5b92bbdda300d2aba",
       "version_major": 2,
       "version_minor": 0
      },
      "text/plain": [
       "evaluating: 0it [00:00, ?it/s]"
      ]
     },
     "metadata": {},
     "output_type": "display_data"
    },
    {
     "name": "stdout",
     "output_type": "stream",
     "text": [
      "6624\n"
     ]
    },
    {
     "data": {
      "application/vnd.jupyter.widget-view+json": {
       "model_id": "022c5b35aeef4d02854c4de85087ac7e",
       "version_major": 2,
       "version_minor": 0
      },
      "text/plain": [
       "evaluating: 0it [00:00, ?it/s]"
      ]
     },
     "metadata": {},
     "output_type": "display_data"
    },
    {
     "name": "stdout",
     "output_type": "stream",
     "text": [
      "6624\n"
     ]
    },
    {
     "data": {
      "application/vnd.jupyter.widget-view+json": {
       "model_id": "45683d11cf864a7fab442bdcfe5a8c7f",
       "version_major": 2,
       "version_minor": 0
      },
      "text/plain": [
       "evaluating: 0it [00:00, ?it/s]"
      ]
     },
     "metadata": {},
     "output_type": "display_data"
    },
    {
     "name": "stdout",
     "output_type": "stream",
     "text": [
      "6624\n"
     ]
    },
    {
     "data": {
      "application/vnd.jupyter.widget-view+json": {
       "model_id": "3eca9cdd857d49edb08bf0acb0f6382e",
       "version_major": 2,
       "version_minor": 0
      },
      "text/plain": [
       "evaluating: 0it [00:00, ?it/s]"
      ]
     },
     "metadata": {},
     "output_type": "display_data"
    },
    {
     "name": "stdout",
     "output_type": "stream",
     "text": [
      "6624\n"
     ]
    },
    {
     "data": {
      "application/vnd.jupyter.widget-view+json": {
       "model_id": "f292638958814e199ecf3fba417d6679",
       "version_major": 2,
       "version_minor": 0
      },
      "text/plain": [
       "evaluating: 0it [00:00, ?it/s]"
      ]
     },
     "metadata": {},
     "output_type": "display_data"
    },
    {
     "name": "stdout",
     "output_type": "stream",
     "text": [
      "6624\n"
     ]
    },
    {
     "data": {
      "application/vnd.jupyter.widget-view+json": {
       "model_id": "f11859b6632e428c81366e0620bcad50",
       "version_major": 2,
       "version_minor": 0
      },
      "text/plain": [
       "evaluating: 0it [00:00, ?it/s]"
      ]
     },
     "metadata": {},
     "output_type": "display_data"
    },
    {
     "name": "stdout",
     "output_type": "stream",
     "text": [
      "6624\n"
     ]
    },
    {
     "data": {
      "application/vnd.jupyter.widget-view+json": {
       "model_id": "5b08953239494ca58e6e099bac66252a",
       "version_major": 2,
       "version_minor": 0
      },
      "text/plain": [
       "evaluating: 0it [00:00, ?it/s]"
      ]
     },
     "metadata": {},
     "output_type": "display_data"
    },
    {
     "name": "stdout",
     "output_type": "stream",
     "text": [
      "6624\n"
     ]
    },
    {
     "data": {
      "application/vnd.jupyter.widget-view+json": {
       "model_id": "5d3225c279e344a5b371ae0cd75b1e0a",
       "version_major": 2,
       "version_minor": 0
      },
      "text/plain": [
       "evaluating: 0it [00:00, ?it/s]"
      ]
     },
     "metadata": {},
     "output_type": "display_data"
    },
    {
     "name": "stdout",
     "output_type": "stream",
     "text": [
      "6624\n"
     ]
    },
    {
     "data": {
      "application/vnd.jupyter.widget-view+json": {
       "model_id": "ad2689d30a2f437d851ce0e6ca61e879",
       "version_major": 2,
       "version_minor": 0
      },
      "text/plain": [
       "evaluating: 0it [00:00, ?it/s]"
      ]
     },
     "metadata": {},
     "output_type": "display_data"
    },
    {
     "name": "stdout",
     "output_type": "stream",
     "text": [
      "6624\n"
     ]
    },
    {
     "data": {
      "application/vnd.jupyter.widget-view+json": {
       "model_id": "97376e9fe1a14109a240ac5ba787c449",
       "version_major": 2,
       "version_minor": 0
      },
      "text/plain": [
       "evaluating: 0it [00:00, ?it/s]"
      ]
     },
     "metadata": {},
     "output_type": "display_data"
    },
    {
     "name": "stdout",
     "output_type": "stream",
     "text": [
      "6624\n"
     ]
    },
    {
     "data": {
      "application/vnd.jupyter.widget-view+json": {
       "model_id": "6c4fab1a6fbc43cf896beaff93e22843",
       "version_major": 2,
       "version_minor": 0
      },
      "text/plain": [
       "evaluating: 0it [00:00, ?it/s]"
      ]
     },
     "metadata": {},
     "output_type": "display_data"
    },
    {
     "name": "stdout",
     "output_type": "stream",
     "text": [
      "6624\n"
     ]
    },
    {
     "data": {
      "application/vnd.jupyter.widget-view+json": {
       "model_id": "b3458702d86748e59dbe5b339f73f915",
       "version_major": 2,
       "version_minor": 0
      },
      "text/plain": [
       "evaluating: 0it [00:00, ?it/s]"
      ]
     },
     "metadata": {},
     "output_type": "display_data"
    },
    {
     "name": "stdout",
     "output_type": "stream",
     "text": [
      "6624\n"
     ]
    },
    {
     "data": {
      "application/vnd.jupyter.widget-view+json": {
       "model_id": "a29312c4976b41fd8a4b0a288b866d5f",
       "version_major": 2,
       "version_minor": 0
      },
      "text/plain": [
       "evaluating: 0it [00:00, ?it/s]"
      ]
     },
     "metadata": {},
     "output_type": "display_data"
    },
    {
     "name": "stdout",
     "output_type": "stream",
     "text": [
      "6624\n"
     ]
    },
    {
     "data": {
      "application/vnd.jupyter.widget-view+json": {
       "model_id": "94a8b23b7eca4d2cb58ac858c8e26b32",
       "version_major": 2,
       "version_minor": 0
      },
      "text/plain": [
       "evaluating: 0it [00:00, ?it/s]"
      ]
     },
     "metadata": {},
     "output_type": "display_data"
    },
    {
     "name": "stdout",
     "output_type": "stream",
     "text": [
      "6624\n"
     ]
    },
    {
     "data": {
      "application/vnd.jupyter.widget-view+json": {
       "model_id": "b189cfd1153b4c069f0661d05047cdf4",
       "version_major": 2,
       "version_minor": 0
      },
      "text/plain": [
       "evaluating: 0it [00:00, ?it/s]"
      ]
     },
     "metadata": {},
     "output_type": "display_data"
    },
    {
     "name": "stdout",
     "output_type": "stream",
     "text": [
      "6624\n"
     ]
    },
    {
     "data": {
      "application/vnd.jupyter.widget-view+json": {
       "model_id": "a1e1d45fa21748f5a148b435cab3188f",
       "version_major": 2,
       "version_minor": 0
      },
      "text/plain": [
       "evaluating: 0it [00:00, ?it/s]"
      ]
     },
     "metadata": {},
     "output_type": "display_data"
    },
    {
     "name": "stdout",
     "output_type": "stream",
     "text": [
      "6624\n"
     ]
    },
    {
     "data": {
      "application/vnd.jupyter.widget-view+json": {
       "model_id": "19be9a6ee9f0423aa0928e7781f6e19e",
       "version_major": 2,
       "version_minor": 0
      },
      "text/plain": [
       "evaluating: 0it [00:00, ?it/s]"
      ]
     },
     "metadata": {},
     "output_type": "display_data"
    },
    {
     "name": "stdout",
     "output_type": "stream",
     "text": [
      "6624\n"
     ]
    },
    {
     "data": {
      "application/vnd.jupyter.widget-view+json": {
       "model_id": "53f80a361d694fea980d4a78e68b50f8",
       "version_major": 2,
       "version_minor": 0
      },
      "text/plain": [
       "evaluating: 0it [00:00, ?it/s]"
      ]
     },
     "metadata": {},
     "output_type": "display_data"
    },
    {
     "name": "stdout",
     "output_type": "stream",
     "text": [
      "6624\n"
     ]
    },
    {
     "data": {
      "application/vnd.jupyter.widget-view+json": {
       "model_id": "1d34d48fd1b542e9a615d0d297978f14",
       "version_major": 2,
       "version_minor": 0
      },
      "text/plain": [
       "evaluating: 0it [00:00, ?it/s]"
      ]
     },
     "metadata": {},
     "output_type": "display_data"
    },
    {
     "name": "stdout",
     "output_type": "stream",
     "text": [
      "6624\n"
     ]
    },
    {
     "data": {
      "application/vnd.jupyter.widget-view+json": {
       "model_id": "3d11580a213543798e5db21f5b6f8e59",
       "version_major": 2,
       "version_minor": 0
      },
      "text/plain": [
       "evaluating: 0it [00:00, ?it/s]"
      ]
     },
     "metadata": {},
     "output_type": "display_data"
    },
    {
     "name": "stdout",
     "output_type": "stream",
     "text": [
      "6624\n"
     ]
    },
    {
     "data": {
      "application/vnd.jupyter.widget-view+json": {
       "model_id": "2f883a449f7841a58b94365b1baa651a",
       "version_major": 2,
       "version_minor": 0
      },
      "text/plain": [
       "evaluating: 0it [00:00, ?it/s]"
      ]
     },
     "metadata": {},
     "output_type": "display_data"
    },
    {
     "name": "stdout",
     "output_type": "stream",
     "text": [
      "6624\n"
     ]
    },
    {
     "data": {
      "application/vnd.jupyter.widget-view+json": {
       "model_id": "e35ab85e4f184eada2e5fb6fc59a3f30",
       "version_major": 2,
       "version_minor": 0
      },
      "text/plain": [
       "evaluating: 0it [00:00, ?it/s]"
      ]
     },
     "metadata": {},
     "output_type": "display_data"
    },
    {
     "name": "stdout",
     "output_type": "stream",
     "text": [
      "6624\n"
     ]
    },
    {
     "data": {
      "application/vnd.jupyter.widget-view+json": {
       "model_id": "b6d48cbb1b5c433dba8791f9fef44c77",
       "version_major": 2,
       "version_minor": 0
      },
      "text/plain": [
       "evaluating: 0it [00:00, ?it/s]"
      ]
     },
     "metadata": {},
     "output_type": "display_data"
    },
    {
     "name": "stdout",
     "output_type": "stream",
     "text": [
      "6624\n"
     ]
    },
    {
     "data": {
      "application/vnd.jupyter.widget-view+json": {
       "model_id": "05069d222f1a4510b3928213346c57b0",
       "version_major": 2,
       "version_minor": 0
      },
      "text/plain": [
       "evaluating: 0it [00:00, ?it/s]"
      ]
     },
     "metadata": {},
     "output_type": "display_data"
    },
    {
     "name": "stdout",
     "output_type": "stream",
     "text": [
      "6624\n"
     ]
    },
    {
     "data": {
      "application/vnd.jupyter.widget-view+json": {
       "model_id": "dc96b0ab0625447f8919fad05a2cc2af",
       "version_major": 2,
       "version_minor": 0
      },
      "text/plain": [
       "evaluating: 0it [00:00, ?it/s]"
      ]
     },
     "metadata": {},
     "output_type": "display_data"
    },
    {
     "name": "stdout",
     "output_type": "stream",
     "text": [
      "6624\n"
     ]
    },
    {
     "data": {
      "application/vnd.jupyter.widget-view+json": {
       "model_id": "15a59740abea457dbde918ede3dd153b",
       "version_major": 2,
       "version_minor": 0
      },
      "text/plain": [
       "evaluating: 0it [00:00, ?it/s]"
      ]
     },
     "metadata": {},
     "output_type": "display_data"
    },
    {
     "name": "stdout",
     "output_type": "stream",
     "text": [
      "6624\n"
     ]
    },
    {
     "data": {
      "application/vnd.jupyter.widget-view+json": {
       "model_id": "208768198722481cb73d69738cc0dd51",
       "version_major": 2,
       "version_minor": 0
      },
      "text/plain": [
       "evaluating: 0it [00:00, ?it/s]"
      ]
     },
     "metadata": {},
     "output_type": "display_data"
    },
    {
     "name": "stdout",
     "output_type": "stream",
     "text": [
      "6624\n"
     ]
    },
    {
     "data": {
      "application/vnd.jupyter.widget-view+json": {
       "model_id": "4487f6b1e029451cac6c68b337a78e1e",
       "version_major": 2,
       "version_minor": 0
      },
      "text/plain": [
       "evaluating: 0it [00:00, ?it/s]"
      ]
     },
     "metadata": {},
     "output_type": "display_data"
    },
    {
     "name": "stdout",
     "output_type": "stream",
     "text": [
      "6624\n"
     ]
    },
    {
     "data": {
      "application/vnd.jupyter.widget-view+json": {
       "model_id": "4742d8b93f964b88b3988e12c0dadaa8",
       "version_major": 2,
       "version_minor": 0
      },
      "text/plain": [
       "evaluating: 0it [00:00, ?it/s]"
      ]
     },
     "metadata": {},
     "output_type": "display_data"
    },
    {
     "name": "stdout",
     "output_type": "stream",
     "text": [
      "6624\n"
     ]
    },
    {
     "data": {
      "application/vnd.jupyter.widget-view+json": {
       "model_id": "455edfecb6ee40cd9a476afe3276003a",
       "version_major": 2,
       "version_minor": 0
      },
      "text/plain": [
       "evaluating: 0it [00:00, ?it/s]"
      ]
     },
     "metadata": {},
     "output_type": "display_data"
    },
    {
     "name": "stdout",
     "output_type": "stream",
     "text": [
      "6624\n"
     ]
    },
    {
     "data": {
      "application/vnd.jupyter.widget-view+json": {
       "model_id": "dc8f4352e64a4f7eb598751d92c3f2f7",
       "version_major": 2,
       "version_minor": 0
      },
      "text/plain": [
       "evaluating: 0it [00:00, ?it/s]"
      ]
     },
     "metadata": {},
     "output_type": "display_data"
    },
    {
     "name": "stdout",
     "output_type": "stream",
     "text": [
      "6624\n"
     ]
    },
    {
     "data": {
      "application/vnd.jupyter.widget-view+json": {
       "model_id": "3c7e9ee88a39449fbcf916d1fbaf065f",
       "version_major": 2,
       "version_minor": 0
      },
      "text/plain": [
       "evaluating: 0it [00:00, ?it/s]"
      ]
     },
     "metadata": {},
     "output_type": "display_data"
    },
    {
     "name": "stdout",
     "output_type": "stream",
     "text": [
      "6624\n"
     ]
    },
    {
     "data": {
      "application/vnd.jupyter.widget-view+json": {
       "model_id": "f0e8d01622214edbbae0ace13120f21d",
       "version_major": 2,
       "version_minor": 0
      },
      "text/plain": [
       "evaluating: 0it [00:00, ?it/s]"
      ]
     },
     "metadata": {},
     "output_type": "display_data"
    },
    {
     "name": "stdout",
     "output_type": "stream",
     "text": [
      "6624\n"
     ]
    },
    {
     "data": {
      "application/vnd.jupyter.widget-view+json": {
       "model_id": "391bc2e49b65436b840aed51c2cd8b47",
       "version_major": 2,
       "version_minor": 0
      },
      "text/plain": [
       "evaluating: 0it [00:00, ?it/s]"
      ]
     },
     "metadata": {},
     "output_type": "display_data"
    },
    {
     "name": "stdout",
     "output_type": "stream",
     "text": [
      "6624\n"
     ]
    },
    {
     "data": {
      "application/vnd.jupyter.widget-view+json": {
       "model_id": "ed9bcb21384b4530ae0111a6b42351bb",
       "version_major": 2,
       "version_minor": 0
      },
      "text/plain": [
       "evaluating: 0it [00:00, ?it/s]"
      ]
     },
     "metadata": {},
     "output_type": "display_data"
    },
    {
     "name": "stdout",
     "output_type": "stream",
     "text": [
      "6624\n"
     ]
    },
    {
     "data": {
      "application/vnd.jupyter.widget-view+json": {
       "model_id": "385999621acd4990ade3687afb5ec586",
       "version_major": 2,
       "version_minor": 0
      },
      "text/plain": [
       "evaluating: 0it [00:00, ?it/s]"
      ]
     },
     "metadata": {},
     "output_type": "display_data"
    },
    {
     "name": "stdout",
     "output_type": "stream",
     "text": [
      "6624\n"
     ]
    },
    {
     "data": {
      "application/vnd.jupyter.widget-view+json": {
       "model_id": "ebcfc87d28da4f35b7818f5d4dd589b3",
       "version_major": 2,
       "version_minor": 0
      },
      "text/plain": [
       "evaluating: 0it [00:00, ?it/s]"
      ]
     },
     "metadata": {},
     "output_type": "display_data"
    },
    {
     "name": "stdout",
     "output_type": "stream",
     "text": [
      "6624\n"
     ]
    },
    {
     "data": {
      "application/vnd.jupyter.widget-view+json": {
       "model_id": "f71d3dd1b87b457085ee5b2da3848515",
       "version_major": 2,
       "version_minor": 0
      },
      "text/plain": [
       "evaluating: 0it [00:00, ?it/s]"
      ]
     },
     "metadata": {},
     "output_type": "display_data"
    },
    {
     "name": "stdout",
     "output_type": "stream",
     "text": [
      "6624\n"
     ]
    },
    {
     "data": {
      "application/vnd.jupyter.widget-view+json": {
       "model_id": "63620ce93233435683377ab418fddc77",
       "version_major": 2,
       "version_minor": 0
      },
      "text/plain": [
       "evaluating: 0it [00:00, ?it/s]"
      ]
     },
     "metadata": {},
     "output_type": "display_data"
    },
    {
     "name": "stdout",
     "output_type": "stream",
     "text": [
      "6624\n"
     ]
    },
    {
     "data": {
      "application/vnd.jupyter.widget-view+json": {
       "model_id": "8521676e6d514e39b467e2acfe59d912",
       "version_major": 2,
       "version_minor": 0
      },
      "text/plain": [
       "evaluating: 0it [00:00, ?it/s]"
      ]
     },
     "metadata": {},
     "output_type": "display_data"
    },
    {
     "name": "stdout",
     "output_type": "stream",
     "text": [
      "6624\n"
     ]
    },
    {
     "data": {
      "application/vnd.jupyter.widget-view+json": {
       "model_id": "6ecb5a8a9a9f4649a06f5b3f90b19ce0",
       "version_major": 2,
       "version_minor": 0
      },
      "text/plain": [
       "evaluating: 0it [00:00, ?it/s]"
      ]
     },
     "metadata": {},
     "output_type": "display_data"
    },
    {
     "name": "stdout",
     "output_type": "stream",
     "text": [
      "6624\n"
     ]
    },
    {
     "data": {
      "application/vnd.jupyter.widget-view+json": {
       "model_id": "8910e02836e945ea956c8d19d3a8372d",
       "version_major": 2,
       "version_minor": 0
      },
      "text/plain": [
       "evaluating: 0it [00:00, ?it/s]"
      ]
     },
     "metadata": {},
     "output_type": "display_data"
    },
    {
     "name": "stdout",
     "output_type": "stream",
     "text": [
      "6624\n"
     ]
    },
    {
     "data": {
      "application/vnd.jupyter.widget-view+json": {
       "model_id": "6841c036f5474158a62bf50647cd02b0",
       "version_major": 2,
       "version_minor": 0
      },
      "text/plain": [
       "evaluating: 0it [00:00, ?it/s]"
      ]
     },
     "metadata": {},
     "output_type": "display_data"
    },
    {
     "name": "stdout",
     "output_type": "stream",
     "text": [
      "6624\n"
     ]
    },
    {
     "data": {
      "application/vnd.jupyter.widget-view+json": {
       "model_id": "2b910d590247484ba3320aabf0b89695",
       "version_major": 2,
       "version_minor": 0
      },
      "text/plain": [
       "evaluating: 0it [00:00, ?it/s]"
      ]
     },
     "metadata": {},
     "output_type": "display_data"
    },
    {
     "name": "stdout",
     "output_type": "stream",
     "text": [
      "6624\n"
     ]
    },
    {
     "data": {
      "application/vnd.jupyter.widget-view+json": {
       "model_id": "3ef4bde7f39d4d3389b21b13e41f2963",
       "version_major": 2,
       "version_minor": 0
      },
      "text/plain": [
       "evaluating: 0it [00:00, ?it/s]"
      ]
     },
     "metadata": {},
     "output_type": "display_data"
    },
    {
     "name": "stdout",
     "output_type": "stream",
     "text": [
      "6624\n"
     ]
    },
    {
     "data": {
      "application/vnd.jupyter.widget-view+json": {
       "model_id": "c3150fd9f0624118bab341f2848724c4",
       "version_major": 2,
       "version_minor": 0
      },
      "text/plain": [
       "evaluating: 0it [00:00, ?it/s]"
      ]
     },
     "metadata": {},
     "output_type": "display_data"
    },
    {
     "name": "stdout",
     "output_type": "stream",
     "text": [
      "6624\n"
     ]
    },
    {
     "data": {
      "application/vnd.jupyter.widget-view+json": {
       "model_id": "d98223fa55d94f68abfa819d309aa6e7",
       "version_major": 2,
       "version_minor": 0
      },
      "text/plain": [
       "evaluating: 0it [00:00, ?it/s]"
      ]
     },
     "metadata": {},
     "output_type": "display_data"
    },
    {
     "name": "stdout",
     "output_type": "stream",
     "text": [
      "6624\n"
     ]
    },
    {
     "data": {
      "application/vnd.jupyter.widget-view+json": {
       "model_id": "6348f5c6c2f1428cb04975a995748de2",
       "version_major": 2,
       "version_minor": 0
      },
      "text/plain": [
       "evaluating: 0it [00:00, ?it/s]"
      ]
     },
     "metadata": {},
     "output_type": "display_data"
    },
    {
     "name": "stdout",
     "output_type": "stream",
     "text": [
      "6624\n"
     ]
    },
    {
     "data": {
      "application/vnd.jupyter.widget-view+json": {
       "model_id": "8c10b04395824f7f8a3c3a75afb9b353",
       "version_major": 2,
       "version_minor": 0
      },
      "text/plain": [
       "evaluating: 0it [00:00, ?it/s]"
      ]
     },
     "metadata": {},
     "output_type": "display_data"
    },
    {
     "name": "stdout",
     "output_type": "stream",
     "text": [
      "6624\n"
     ]
    },
    {
     "data": {
      "application/vnd.jupyter.widget-view+json": {
       "model_id": "5107ab74248a472d8f2333e351b902b1",
       "version_major": 2,
       "version_minor": 0
      },
      "text/plain": [
       "evaluating: 0it [00:00, ?it/s]"
      ]
     },
     "metadata": {},
     "output_type": "display_data"
    },
    {
     "name": "stdout",
     "output_type": "stream",
     "text": [
      "6624\n"
     ]
    },
    {
     "data": {
      "application/vnd.jupyter.widget-view+json": {
       "model_id": "d3588af045074a369ca32e555768a6d7",
       "version_major": 2,
       "version_minor": 0
      },
      "text/plain": [
       "evaluating: 0it [00:00, ?it/s]"
      ]
     },
     "metadata": {},
     "output_type": "display_data"
    },
    {
     "name": "stdout",
     "output_type": "stream",
     "text": [
      "6624\n"
     ]
    },
    {
     "data": {
      "application/vnd.jupyter.widget-view+json": {
       "model_id": "b1cc7c281ff44eb1a82b74f700aebf1f",
       "version_major": 2,
       "version_minor": 0
      },
      "text/plain": [
       "evaluating: 0it [00:00, ?it/s]"
      ]
     },
     "metadata": {},
     "output_type": "display_data"
    },
    {
     "name": "stdout",
     "output_type": "stream",
     "text": [
      "6624\n"
     ]
    },
    {
     "data": {
      "application/vnd.jupyter.widget-view+json": {
       "model_id": "d2d80ceca3134153aa48a71aafd17963",
       "version_major": 2,
       "version_minor": 0
      },
      "text/plain": [
       "evaluating: 0it [00:00, ?it/s]"
      ]
     },
     "metadata": {},
     "output_type": "display_data"
    },
    {
     "name": "stdout",
     "output_type": "stream",
     "text": [
      "6624\n"
     ]
    },
    {
     "data": {
      "application/vnd.jupyter.widget-view+json": {
       "model_id": "5a0572fe46924ec1930b2273a7fa2fe4",
       "version_major": 2,
       "version_minor": 0
      },
      "text/plain": [
       "evaluating: 0it [00:00, ?it/s]"
      ]
     },
     "metadata": {},
     "output_type": "display_data"
    },
    {
     "name": "stdout",
     "output_type": "stream",
     "text": [
      "6624\n"
     ]
    },
    {
     "data": {
      "application/vnd.jupyter.widget-view+json": {
       "model_id": "cdfce2425ee744aca01775facd752f47",
       "version_major": 2,
       "version_minor": 0
      },
      "text/plain": [
       "evaluating: 0it [00:00, ?it/s]"
      ]
     },
     "metadata": {},
     "output_type": "display_data"
    },
    {
     "name": "stdout",
     "output_type": "stream",
     "text": [
      "6624\n"
     ]
    },
    {
     "data": {
      "application/vnd.jupyter.widget-view+json": {
       "model_id": "779b274fd5ff4f1ca6bec926ca9037bc",
       "version_major": 2,
       "version_minor": 0
      },
      "text/plain": [
       "evaluating: 0it [00:00, ?it/s]"
      ]
     },
     "metadata": {},
     "output_type": "display_data"
    },
    {
     "name": "stdout",
     "output_type": "stream",
     "text": [
      "6624\n"
     ]
    },
    {
     "data": {
      "application/vnd.jupyter.widget-view+json": {
       "model_id": "6c118c4325f849b8b628c09f1d37a8b0",
       "version_major": 2,
       "version_minor": 0
      },
      "text/plain": [
       "evaluating: 0it [00:00, ?it/s]"
      ]
     },
     "metadata": {},
     "output_type": "display_data"
    },
    {
     "name": "stdout",
     "output_type": "stream",
     "text": [
      "6624\n"
     ]
    },
    {
     "data": {
      "application/vnd.jupyter.widget-view+json": {
       "model_id": "5d5e91ca90004016bf0c0b766a2eabad",
       "version_major": 2,
       "version_minor": 0
      },
      "text/plain": [
       "evaluating: 0it [00:00, ?it/s]"
      ]
     },
     "metadata": {},
     "output_type": "display_data"
    },
    {
     "name": "stdout",
     "output_type": "stream",
     "text": [
      "6624\n"
     ]
    },
    {
     "data": {
      "application/vnd.jupyter.widget-view+json": {
       "model_id": "e9d8f69d89dc468687dd160ad251cc9a",
       "version_major": 2,
       "version_minor": 0
      },
      "text/plain": [
       "evaluating: 0it [00:00, ?it/s]"
      ]
     },
     "metadata": {},
     "output_type": "display_data"
    },
    {
     "name": "stdout",
     "output_type": "stream",
     "text": [
      "6624\n"
     ]
    },
    {
     "data": {
      "application/vnd.jupyter.widget-view+json": {
       "model_id": "14fa5dd1063441eb9e6c1734bb0072fb",
       "version_major": 2,
       "version_minor": 0
      },
      "text/plain": [
       "evaluating: 0it [00:00, ?it/s]"
      ]
     },
     "metadata": {},
     "output_type": "display_data"
    },
    {
     "name": "stdout",
     "output_type": "stream",
     "text": [
      "6624\n"
     ]
    },
    {
     "data": {
      "application/vnd.jupyter.widget-view+json": {
       "model_id": "2bba2f5cf6f440fba450b0ad0781419c",
       "version_major": 2,
       "version_minor": 0
      },
      "text/plain": [
       "evaluating: 0it [00:00, ?it/s]"
      ]
     },
     "metadata": {},
     "output_type": "display_data"
    },
    {
     "name": "stdout",
     "output_type": "stream",
     "text": [
      "6624\n"
     ]
    },
    {
     "data": {
      "application/vnd.jupyter.widget-view+json": {
       "model_id": "216d2d0de3ea49f1828a599728028c59",
       "version_major": 2,
       "version_minor": 0
      },
      "text/plain": [
       "evaluating: 0it [00:00, ?it/s]"
      ]
     },
     "metadata": {},
     "output_type": "display_data"
    },
    {
     "name": "stdout",
     "output_type": "stream",
     "text": [
      "6624\n"
     ]
    },
    {
     "data": {
      "application/vnd.jupyter.widget-view+json": {
       "model_id": "aff70dd08e884e7c92b47b18082c9291",
       "version_major": 2,
       "version_minor": 0
      },
      "text/plain": [
       "evaluating: 0it [00:00, ?it/s]"
      ]
     },
     "metadata": {},
     "output_type": "display_data"
    },
    {
     "name": "stdout",
     "output_type": "stream",
     "text": [
      "6624\n"
     ]
    },
    {
     "data": {
      "application/vnd.jupyter.widget-view+json": {
       "model_id": "261500b8754e492aa35d6784b138f5c3",
       "version_major": 2,
       "version_minor": 0
      },
      "text/plain": [
       "evaluating: 0it [00:00, ?it/s]"
      ]
     },
     "metadata": {},
     "output_type": "display_data"
    },
    {
     "name": "stdout",
     "output_type": "stream",
     "text": [
      "6624\n"
     ]
    },
    {
     "data": {
      "application/vnd.jupyter.widget-view+json": {
       "model_id": "4460ac81982441e0b9c3a306ec926e39",
       "version_major": 2,
       "version_minor": 0
      },
      "text/plain": [
       "evaluating: 0it [00:00, ?it/s]"
      ]
     },
     "metadata": {},
     "output_type": "display_data"
    },
    {
     "name": "stdout",
     "output_type": "stream",
     "text": [
      "6624\n"
     ]
    },
    {
     "data": {
      "application/vnd.jupyter.widget-view+json": {
       "model_id": "912751782e4244d69d807aec50eb5430",
       "version_major": 2,
       "version_minor": 0
      },
      "text/plain": [
       "evaluating: 0it [00:00, ?it/s]"
      ]
     },
     "metadata": {},
     "output_type": "display_data"
    },
    {
     "name": "stdout",
     "output_type": "stream",
     "text": [
      "6624\n"
     ]
    },
    {
     "data": {
      "application/vnd.jupyter.widget-view+json": {
       "model_id": "1a27c610b6d24c10a56e3f2ce14c419d",
       "version_major": 2,
       "version_minor": 0
      },
      "text/plain": [
       "evaluating: 0it [00:00, ?it/s]"
      ]
     },
     "metadata": {},
     "output_type": "display_data"
    },
    {
     "name": "stdout",
     "output_type": "stream",
     "text": [
      "6624\n"
     ]
    },
    {
     "data": {
      "application/vnd.jupyter.widget-view+json": {
       "model_id": "3ff5cb7e33fc46d1a61dba1a6f2724b8",
       "version_major": 2,
       "version_minor": 0
      },
      "text/plain": [
       "evaluating: 0it [00:00, ?it/s]"
      ]
     },
     "metadata": {},
     "output_type": "display_data"
    },
    {
     "name": "stdout",
     "output_type": "stream",
     "text": [
      "6624\n"
     ]
    },
    {
     "data": {
      "application/vnd.jupyter.widget-view+json": {
       "model_id": "c77f81b82d2e4da699227bfce9cb6036",
       "version_major": 2,
       "version_minor": 0
      },
      "text/plain": [
       "evaluating: 0it [00:00, ?it/s]"
      ]
     },
     "metadata": {},
     "output_type": "display_data"
    },
    {
     "name": "stdout",
     "output_type": "stream",
     "text": [
      "6624\n"
     ]
    },
    {
     "data": {
      "application/vnd.jupyter.widget-view+json": {
       "model_id": "9331cec49a0b49a7929f8d5188d8150c",
       "version_major": 2,
       "version_minor": 0
      },
      "text/plain": [
       "evaluating: 0it [00:00, ?it/s]"
      ]
     },
     "metadata": {},
     "output_type": "display_data"
    },
    {
     "name": "stdout",
     "output_type": "stream",
     "text": [
      "6624\n"
     ]
    },
    {
     "data": {
      "application/vnd.jupyter.widget-view+json": {
       "model_id": "973e048d93294ac3ab91a35859270511",
       "version_major": 2,
       "version_minor": 0
      },
      "text/plain": [
       "evaluating: 0it [00:00, ?it/s]"
      ]
     },
     "metadata": {},
     "output_type": "display_data"
    },
    {
     "name": "stdout",
     "output_type": "stream",
     "text": [
      "6624\n"
     ]
    },
    {
     "data": {
      "application/vnd.jupyter.widget-view+json": {
       "model_id": "8da2ea4b3469499fa3b44628258b218c",
       "version_major": 2,
       "version_minor": 0
      },
      "text/plain": [
       "evaluating: 0it [00:00, ?it/s]"
      ]
     },
     "metadata": {},
     "output_type": "display_data"
    },
    {
     "name": "stdout",
     "output_type": "stream",
     "text": [
      "6624\n"
     ]
    },
    {
     "data": {
      "application/vnd.jupyter.widget-view+json": {
       "model_id": "04e66851a7584b3fa892cf03d84708e0",
       "version_major": 2,
       "version_minor": 0
      },
      "text/plain": [
       "evaluating: 0it [00:00, ?it/s]"
      ]
     },
     "metadata": {},
     "output_type": "display_data"
    },
    {
     "name": "stdout",
     "output_type": "stream",
     "text": [
      "6624\n"
     ]
    },
    {
     "data": {
      "application/vnd.jupyter.widget-view+json": {
       "model_id": "fc568a1727c34395833a3be5300b0998",
       "version_major": 2,
       "version_minor": 0
      },
      "text/plain": [
       "evaluating: 0it [00:00, ?it/s]"
      ]
     },
     "metadata": {},
     "output_type": "display_data"
    },
    {
     "name": "stdout",
     "output_type": "stream",
     "text": [
      "6624\n"
     ]
    },
    {
     "data": {
      "application/vnd.jupyter.widget-view+json": {
       "model_id": "2322b54ca49744c1966e15bd4eaeafac",
       "version_major": 2,
       "version_minor": 0
      },
      "text/plain": [
       "evaluating: 0it [00:00, ?it/s]"
      ]
     },
     "metadata": {},
     "output_type": "display_data"
    },
    {
     "name": "stdout",
     "output_type": "stream",
     "text": [
      "6624\n"
     ]
    },
    {
     "data": {
      "application/vnd.jupyter.widget-view+json": {
       "model_id": "957a4bf19e9d4b948e4c097866145f10",
       "version_major": 2,
       "version_minor": 0
      },
      "text/plain": [
       "evaluating: 0it [00:00, ?it/s]"
      ]
     },
     "metadata": {},
     "output_type": "display_data"
    },
    {
     "name": "stdout",
     "output_type": "stream",
     "text": [
      "6624\n"
     ]
    },
    {
     "data": {
      "application/vnd.jupyter.widget-view+json": {
       "model_id": "eb6214c3bb1840819e99fc4ccbba0588",
       "version_major": 2,
       "version_minor": 0
      },
      "text/plain": [
       "evaluating: 0it [00:00, ?it/s]"
      ]
     },
     "metadata": {},
     "output_type": "display_data"
    },
    {
     "name": "stdout",
     "output_type": "stream",
     "text": [
      "6624\n"
     ]
    },
    {
     "data": {
      "application/vnd.jupyter.widget-view+json": {
       "model_id": "ce4255ffb818485282e2b600956ed616",
       "version_major": 2,
       "version_minor": 0
      },
      "text/plain": [
       "evaluating: 0it [00:00, ?it/s]"
      ]
     },
     "metadata": {},
     "output_type": "display_data"
    },
    {
     "name": "stdout",
     "output_type": "stream",
     "text": [
      "6624\n"
     ]
    },
    {
     "data": {
      "application/vnd.jupyter.widget-view+json": {
       "model_id": "8fd7e05147504251b2862ff9888220a9",
       "version_major": 2,
       "version_minor": 0
      },
      "text/plain": [
       "evaluating: 0it [00:00, ?it/s]"
      ]
     },
     "metadata": {},
     "output_type": "display_data"
    },
    {
     "name": "stdout",
     "output_type": "stream",
     "text": [
      "6624\n"
     ]
    },
    {
     "data": {
      "application/vnd.jupyter.widget-view+json": {
       "model_id": "d77fcf03bcf94a90827362392d4e9195",
       "version_major": 2,
       "version_minor": 0
      },
      "text/plain": [
       "evaluating: 0it [00:00, ?it/s]"
      ]
     },
     "metadata": {},
     "output_type": "display_data"
    },
    {
     "name": "stdout",
     "output_type": "stream",
     "text": [
      "6624\n"
     ]
    },
    {
     "data": {
      "application/vnd.jupyter.widget-view+json": {
       "model_id": "f0117a9998c24a27bd2b2e742bbea95b",
       "version_major": 2,
       "version_minor": 0
      },
      "text/plain": [
       "evaluating: 0it [00:00, ?it/s]"
      ]
     },
     "metadata": {},
     "output_type": "display_data"
    },
    {
     "name": "stdout",
     "output_type": "stream",
     "text": [
      "6624\n"
     ]
    },
    {
     "data": {
      "application/vnd.jupyter.widget-view+json": {
       "model_id": "7347ff5d60ac413a99ca4695b023e1af",
       "version_major": 2,
       "version_minor": 0
      },
      "text/plain": [
       "evaluating: 0it [00:00, ?it/s]"
      ]
     },
     "metadata": {},
     "output_type": "display_data"
    },
    {
     "name": "stdout",
     "output_type": "stream",
     "text": [
      "6624\n"
     ]
    },
    {
     "data": {
      "application/vnd.jupyter.widget-view+json": {
       "model_id": "707823a6715942bdae45989b46c1c0f0",
       "version_major": 2,
       "version_minor": 0
      },
      "text/plain": [
       "evaluating: 0it [00:00, ?it/s]"
      ]
     },
     "metadata": {},
     "output_type": "display_data"
    },
    {
     "name": "stdout",
     "output_type": "stream",
     "text": [
      "6624\n"
     ]
    },
    {
     "data": {
      "application/vnd.jupyter.widget-view+json": {
       "model_id": "c3967193618a4efb8e6254f7c369ebed",
       "version_major": 2,
       "version_minor": 0
      },
      "text/plain": [
       "evaluating: 0it [00:00, ?it/s]"
      ]
     },
     "metadata": {},
     "output_type": "display_data"
    },
    {
     "name": "stdout",
     "output_type": "stream",
     "text": [
      "6624\n"
     ]
    },
    {
     "data": {
      "application/vnd.jupyter.widget-view+json": {
       "model_id": "0c8befad855e4341a0712a3b75211e76",
       "version_major": 2,
       "version_minor": 0
      },
      "text/plain": [
       "evaluating: 0it [00:00, ?it/s]"
      ]
     },
     "metadata": {},
     "output_type": "display_data"
    },
    {
     "name": "stdout",
     "output_type": "stream",
     "text": [
      "6624\n"
     ]
    },
    {
     "data": {
      "application/vnd.jupyter.widget-view+json": {
       "model_id": "0c7d1d7110404d61a28a8cb6b4c1a7d0",
       "version_major": 2,
       "version_minor": 0
      },
      "text/plain": [
       "evaluating: 0it [00:00, ?it/s]"
      ]
     },
     "metadata": {},
     "output_type": "display_data"
    },
    {
     "name": "stdout",
     "output_type": "stream",
     "text": [
      "6624\n"
     ]
    },
    {
     "data": {
      "application/vnd.jupyter.widget-view+json": {
       "model_id": "4282cfc10cb44d729edc0637aae17f2b",
       "version_major": 2,
       "version_minor": 0
      },
      "text/plain": [
       "evaluating: 0it [00:00, ?it/s]"
      ]
     },
     "metadata": {},
     "output_type": "display_data"
    },
    {
     "name": "stdout",
     "output_type": "stream",
     "text": [
      "6624\n"
     ]
    },
    {
     "data": {
      "application/vnd.jupyter.widget-view+json": {
       "model_id": "708ae8359c664f80884bdbc8899bae2c",
       "version_major": 2,
       "version_minor": 0
      },
      "text/plain": [
       "evaluating: 0it [00:00, ?it/s]"
      ]
     },
     "metadata": {},
     "output_type": "display_data"
    },
    {
     "name": "stdout",
     "output_type": "stream",
     "text": [
      "6624\n"
     ]
    },
    {
     "data": {
      "application/vnd.jupyter.widget-view+json": {
       "model_id": "e423439276a842f3afeae70dad5825d4",
       "version_major": 2,
       "version_minor": 0
      },
      "text/plain": [
       "evaluating: 0it [00:00, ?it/s]"
      ]
     },
     "metadata": {},
     "output_type": "display_data"
    },
    {
     "name": "stdout",
     "output_type": "stream",
     "text": [
      "6624\n"
     ]
    },
    {
     "data": {
      "application/vnd.jupyter.widget-view+json": {
       "model_id": "e236b60437534a93b62c2992a86d82d0",
       "version_major": 2,
       "version_minor": 0
      },
      "text/plain": [
       "evaluating: 0it [00:00, ?it/s]"
      ]
     },
     "metadata": {},
     "output_type": "display_data"
    },
    {
     "name": "stdout",
     "output_type": "stream",
     "text": [
      "6624\n"
     ]
    },
    {
     "data": {
      "application/vnd.jupyter.widget-view+json": {
       "model_id": "2291a1ad1a474f91be18f158af87cc84",
       "version_major": 2,
       "version_minor": 0
      },
      "text/plain": [
       "evaluating: 0it [00:00, ?it/s]"
      ]
     },
     "metadata": {},
     "output_type": "display_data"
    },
    {
     "name": "stdout",
     "output_type": "stream",
     "text": [
      "6624\n"
     ]
    },
    {
     "data": {
      "application/vnd.jupyter.widget-view+json": {
       "model_id": "bc4f290f3cc742c9877950508577ff8f",
       "version_major": 2,
       "version_minor": 0
      },
      "text/plain": [
       "evaluating: 0it [00:00, ?it/s]"
      ]
     },
     "metadata": {},
     "output_type": "display_data"
    },
    {
     "name": "stdout",
     "output_type": "stream",
     "text": [
      "6624\n"
     ]
    },
    {
     "data": {
      "application/vnd.jupyter.widget-view+json": {
       "model_id": "b7df536ca0a04c179ac6925a0b1f8ac1",
       "version_major": 2,
       "version_minor": 0
      },
      "text/plain": [
       "evaluating: 0it [00:00, ?it/s]"
      ]
     },
     "metadata": {},
     "output_type": "display_data"
    },
    {
     "name": "stdout",
     "output_type": "stream",
     "text": [
      "6624\n"
     ]
    },
    {
     "data": {
      "application/vnd.jupyter.widget-view+json": {
       "model_id": "e0a3917d35c841899800fd5b46765b93",
       "version_major": 2,
       "version_minor": 0
      },
      "text/plain": [
       "evaluating: 0it [00:00, ?it/s]"
      ]
     },
     "metadata": {},
     "output_type": "display_data"
    },
    {
     "name": "stdout",
     "output_type": "stream",
     "text": [
      "6624\n"
     ]
    },
    {
     "data": {
      "application/vnd.jupyter.widget-view+json": {
       "model_id": "2eb83f1771894e0aaa7a197dcb5e25a5",
       "version_major": 2,
       "version_minor": 0
      },
      "text/plain": [
       "evaluating: 0it [00:00, ?it/s]"
      ]
     },
     "metadata": {},
     "output_type": "display_data"
    },
    {
     "name": "stdout",
     "output_type": "stream",
     "text": [
      "6624\n"
     ]
    },
    {
     "data": {
      "application/vnd.jupyter.widget-view+json": {
       "model_id": "ddce0211d3c04c9486f99e97691c0b18",
       "version_major": 2,
       "version_minor": 0
      },
      "text/plain": [
       "evaluating: 0it [00:00, ?it/s]"
      ]
     },
     "metadata": {},
     "output_type": "display_data"
    },
    {
     "name": "stdout",
     "output_type": "stream",
     "text": [
      "6624\n"
     ]
    },
    {
     "data": {
      "application/vnd.jupyter.widget-view+json": {
       "model_id": "9b1d060253fb4b5c8b300b28e46d7d64",
       "version_major": 2,
       "version_minor": 0
      },
      "text/plain": [
       "evaluating: 0it [00:00, ?it/s]"
      ]
     },
     "metadata": {},
     "output_type": "display_data"
    },
    {
     "name": "stdout",
     "output_type": "stream",
     "text": [
      "6624\n"
     ]
    },
    {
     "data": {
      "application/vnd.jupyter.widget-view+json": {
       "model_id": "9216e05ed6bd41ffb1a454919e548ed6",
       "version_major": 2,
       "version_minor": 0
      },
      "text/plain": [
       "evaluating: 0it [00:00, ?it/s]"
      ]
     },
     "metadata": {},
     "output_type": "display_data"
    },
    {
     "name": "stdout",
     "output_type": "stream",
     "text": [
      "6624\n"
     ]
    },
    {
     "data": {
      "application/vnd.jupyter.widget-view+json": {
       "model_id": "a81f9faaf7e3472ba88746dfce7d078b",
       "version_major": 2,
       "version_minor": 0
      },
      "text/plain": [
       "evaluating: 0it [00:00, ?it/s]"
      ]
     },
     "metadata": {},
     "output_type": "display_data"
    },
    {
     "name": "stdout",
     "output_type": "stream",
     "text": [
      "6624\n"
     ]
    },
    {
     "data": {
      "application/vnd.jupyter.widget-view+json": {
       "model_id": "3c37446c76484ec29e2b9df88a429f9d",
       "version_major": 2,
       "version_minor": 0
      },
      "text/plain": [
       "evaluating: 0it [00:00, ?it/s]"
      ]
     },
     "metadata": {},
     "output_type": "display_data"
    },
    {
     "name": "stdout",
     "output_type": "stream",
     "text": [
      "6624\n"
     ]
    },
    {
     "data": {
      "application/vnd.jupyter.widget-view+json": {
       "model_id": "fa3c35ca71ff40e8928d0f9dc7aba1e6",
       "version_major": 2,
       "version_minor": 0
      },
      "text/plain": [
       "evaluating: 0it [00:00, ?it/s]"
      ]
     },
     "metadata": {},
     "output_type": "display_data"
    },
    {
     "name": "stdout",
     "output_type": "stream",
     "text": [
      "6624\n"
     ]
    },
    {
     "data": {
      "application/vnd.jupyter.widget-view+json": {
       "model_id": "b8b22177a15340fba73d46eae4acee65",
       "version_major": 2,
       "version_minor": 0
      },
      "text/plain": [
       "evaluating: 0it [00:00, ?it/s]"
      ]
     },
     "metadata": {},
     "output_type": "display_data"
    }
   ],
   "source": [
    "from torchmetrics import Accuracy\n",
    "from tqdm.notebook import tqdm \n",
    "import numpy as np \n",
    "from torch.utils.tensorboard import SummaryWriter\n",
    "\n",
    "writer = SummaryWriter()\n",
    "model = ReviewClassifier()\n",
    "bce_loss = nn.BCELoss() # TODO: https://pytorch.org/docs/stable/generated/torch.nn.BCELoss.html\n",
    "\n",
    "accuracies_per_epoch = []\n",
    "batch_size = 128\n",
    "adam_optimizer = torch.optim.Adam(model.parameters()) #TODO: https://pytorch.org/docs/stable/generated/torch.optim.Adam.html [use lr=0.0005]\n",
    "nr_of_epochs = 450\n",
    "losses = []\n",
    "for epoch in tqdm(range(nr_of_epochs)):\n",
    "    # shuffle \n",
    "    train_df = train_df.sample(frac=1.0)\n",
    "    print(len(train_df))\n",
    "    current_index = 0 \n",
    "    while current_index < len(train_df):        \n",
    "        batch_x = np.array(\n",
    "            train_df.embeddings[current_index:(current_index + batch_size)].tolist()\n",
    "        )\n",
    "        batch_y = np.array(\n",
    "            train_df.rating[current_index: (current_index + batch_size)].tolist()\n",
    "        )\n",
    "        \n",
    "        tensor_batch_x = torch.Tensor(batch_x)\n",
    "        tensor_batch_y = torch.Tensor(batch_y).reshape(-1, 1)\n",
    "        \n",
    "        pred = model.forward(tensor_batch_x)\n",
    "        loss = bce_loss(pred, tensor_batch_y)\n",
    " \n",
    "        # Backpropagation\n",
    "        loss.backward() # Liczenie gradientu wag modelu\n",
    "        adam_optimizer.step() # adam oblicza nowe parametry sieci \n",
    "        adam_optimizer.zero_grad()\n",
    "        \n",
    "        current_index += batch_size\n",
    "        losses.append(float(loss.detach().numpy()))\n",
    "        \n",
    "    model.eval()\n",
    "    metric = Accuracy(task='BINARY')\n",
    "    for _, eval_row in tqdm(val_df.iterrows(), desc='evaluating'):\n",
    "        pred = model.forward(\n",
    "            torch.Tensor(np.array(eval_row.embeddings))\n",
    "        )\n",
    "        metric.update(pred, torch.Tensor([eval_row.rating]))\n",
    "    metric_value = metric.compute()\n",
    "    accuracies_per_epoch.append(metric_value)\n",
    "    writer.add_scalar('Accuracy/eval', metric_value, epoch)\n",
    "\n",
    "        "
   ]
  },
  {
   "cell_type": "code",
   "execution_count": 88,
   "id": "6526a493-3993-41c3-b2a5-763cfc5f30dd",
   "metadata": {},
   "outputs": [],
   "source": [
    "from sentence_transformers import SentenceTransformer\n",
    "sentence_transformer = SentenceTransformer(\"all-MiniLM-L6-v2\")"
   ]
  },
  {
   "cell_type": "code",
   "execution_count": 89,
   "id": "cea9a5db-e1c5-40a9-b1e0-76e3838e795f",
   "metadata": {},
   "outputs": [],
   "source": [
    "review = review = \"\"\"Jonathan Smith's latest novel, *Time in Twilight*, certainly leaves an impression. From the opening chapter, readers are thrust into a world that Smith describes with an abundance of detail that some might find lavish while others could deem excessively verbose. The protagonist, Elara, is as enigmatic as the plot itself; she navigates through her twilight realm with a blend of stoicism and emotiveness that straddles the line between intriguing and puzzling. The pacing of the story might challenge the patience of those accustomed to a brisk narrative, yet for others, it provides a thoughtful, almost meditative examination of themes that resonate deeply in our current era. Smith's stylistic choices, especially his penchant for obscure metaphors, will undoubtedly polarize; they are either strokes of genius or puzzling distractions. Overall, *Time in Twilight* is a book that will be remembered, whether for its ambitious scope or intricate idiosyncrasies.\"\"\"\n",
    "encoded_review = sentence_transformer.encode(review)"
   ]
  },
  {
   "cell_type": "code",
   "execution_count": 90,
   "id": "dd09dd85-72d0-4716-8479-7ca93bcf7e33",
   "metadata": {},
   "outputs": [
    {
     "data": {
      "text/plain": [
       "tensor([8.7928e-17], grad_fn=<SigmoidBackward0>)"
      ]
     },
     "execution_count": 90,
     "metadata": {},
     "output_type": "execute_result"
    }
   ],
   "source": [
    "model.forward(torch.Tensor(encoded_review))"
   ]
  },
  {
   "cell_type": "code",
   "execution_count": 91,
   "id": "effd6f0e-457a-424c-8f64-1fd73e610721",
   "metadata": {},
   "outputs": [
    {
     "data": {
      "text/plain": [
       "[0.681666910648346,\n",
       " 0.6725338101387024,\n",
       " 0.6746135950088501,\n",
       " 0.6647240519523621,\n",
       " 0.6815543174743652,\n",
       " 0.6745673418045044,\n",
       " 0.6747317314147949,\n",
       " 0.6437901258468628,\n",
       " 0.6806095242500305,\n",
       " 0.6691461205482483,\n",
       " 0.6541888117790222,\n",
       " 0.6642566323280334,\n",
       " 0.6705148220062256,\n",
       " 0.6587295532226562,\n",
       " 0.660510778427124,\n",
       " 0.6403868794441223,\n",
       " 0.6159483194351196,\n",
       " 0.6438888907432556,\n",
       " 0.6466230750083923,\n",
       " 0.6696285009384155,\n",
       " 0.6168714761734009,\n",
       " 0.6500520706176758,\n",
       " 0.6866517663002014,\n",
       " 0.6520202159881592,\n",
       " 0.6620652675628662,\n",
       " 0.6171106100082397,\n",
       " 0.6714526414871216,\n",
       " 0.6827130317687988,\n",
       " 0.6312203407287598,\n",
       " 0.613624095916748,\n",
       " 0.6405470371246338,\n",
       " 0.6522574424743652,\n",
       " 0.5567718744277954,\n",
       " 0.6597205996513367,\n",
       " 0.6259629726409912,\n",
       " 0.6196060180664062,\n",
       " 0.6033990383148193,\n",
       " 0.6255961060523987,\n",
       " 0.6097203493118286,\n",
       " 0.6525278091430664,\n",
       " 0.6373856663703918,\n",
       " 0.6003544330596924,\n",
       " 0.6401858329772949,\n",
       " 0.6622883081436157,\n",
       " 0.6221334934234619,\n",
       " 0.590554416179657,\n",
       " 0.578426718711853,\n",
       " 0.5801952481269836,\n",
       " 0.6632181406021118,\n",
       " 0.5939583778381348,\n",
       " 0.5765025019645691,\n",
       " 0.6371789574623108,\n",
       " 0.6110072135925293,\n",
       " 0.5936056971549988,\n",
       " 0.5962064266204834,\n",
       " 0.5894891619682312,\n",
       " 0.6503092646598816,\n",
       " 0.5979225039482117,\n",
       " 0.5946957468986511,\n",
       " 0.5804968476295471,\n",
       " 0.5482568740844727,\n",
       " 0.6414475440979004,\n",
       " 0.6159747838973999,\n",
       " 0.610908031463623,\n",
       " 0.5653873682022095,\n",
       " 0.5635946989059448,\n",
       " 0.5695981979370117,\n",
       " 0.5912570953369141,\n",
       " 0.5914360284805298,\n",
       " 0.6016690731048584,\n",
       " 0.6110024452209473,\n",
       " 0.5666729807853699,\n",
       " 0.5941086411476135,\n",
       " 0.5430693626403809,\n",
       " 0.5984594225883484,\n",
       " 0.5269614458084106,\n",
       " 0.5708953142166138,\n",
       " 0.5407625436782837,\n",
       " 0.5522537231445312,\n",
       " 0.5639182329177856,\n",
       " 0.590992271900177,\n",
       " 0.5514981746673584,\n",
       " 0.5378067493438721,\n",
       " 0.4814640283584595,\n",
       " 0.5562729239463806,\n",
       " 0.5563541054725647,\n",
       " 0.5739733576774597,\n",
       " 0.49885493516921997,\n",
       " 0.5608824491500854,\n",
       " 0.5067723989486694,\n",
       " 0.5390175580978394,\n",
       " 0.5221713781356812,\n",
       " 0.5556676387786865,\n",
       " 0.5425192713737488,\n",
       " 0.5396345853805542,\n",
       " 0.5629608631134033,\n",
       " 0.5558823347091675,\n",
       " 0.5050403475761414,\n",
       " 0.5387840270996094,\n",
       " 0.5408694744110107,\n",
       " 0.5314674973487854,\n",
       " 0.4969239830970764,\n",
       " 0.5321047306060791,\n",
       " 0.5849831700325012,\n",
       " 0.5759874582290649,\n",
       " 0.5106138586997986,\n",
       " 0.5389047861099243,\n",
       " 0.5022030472755432,\n",
       " 0.47197914123535156,\n",
       " 0.49750712513923645,\n",
       " 0.5065910220146179,\n",
       " 0.5524212121963501,\n",
       " 0.48844555020332336,\n",
       " 0.5143353343009949,\n",
       " 0.5055333375930786,\n",
       " 0.5018414258956909,\n",
       " 0.5066714882850647,\n",
       " 0.49998337030410767,\n",
       " 0.5284208059310913,\n",
       " 0.5202282667160034,\n",
       " 0.596240758895874,\n",
       " 0.4958551824092865,\n",
       " 0.5511574745178223,\n",
       " 0.529977560043335,\n",
       " 0.5634332299232483,\n",
       " 0.44456759095191956,\n",
       " 0.5499240159988403,\n",
       " 0.4730251133441925,\n",
       " 0.522200345993042,\n",
       " 0.54815673828125,\n",
       " 0.5065229535102844,\n",
       " 0.5053060054779053,\n",
       " 0.552974283695221,\n",
       " 0.5822679996490479,\n",
       " 0.5059963464736938,\n",
       " 0.4658341109752655,\n",
       " 0.4844996929168701,\n",
       " 0.4836938679218292,\n",
       " 0.5184863209724426,\n",
       " 0.5456892251968384,\n",
       " 0.5396482348442078,\n",
       " 0.49565231800079346,\n",
       " 0.46252068877220154,\n",
       " 0.5209147334098816,\n",
       " 0.513110876083374,\n",
       " 0.5493677258491516,\n",
       " 0.48704880475997925,\n",
       " 0.46039605140686035,\n",
       " 0.46470266580581665,\n",
       " 0.4814777970314026,\n",
       " 0.483015239238739,\n",
       " 0.5406209230422974,\n",
       " 0.533503532409668,\n",
       " 0.47519373893737793,\n",
       " 0.5120486617088318,\n",
       " 0.4720337390899658,\n",
       " 0.4750993251800537,\n",
       " 0.4911192059516907,\n",
       " 0.43179142475128174,\n",
       " 0.46572038531303406,\n",
       " 0.5277478694915771,\n",
       " 0.495048463344574,\n",
       " 0.5266284346580505,\n",
       " 0.44436439871788025,\n",
       " 0.5536210536956787,\n",
       " 0.5187128782272339,\n",
       " 0.5118985176086426,\n",
       " 0.43901315331459045,\n",
       " 0.46710577607154846,\n",
       " 0.4622722864151001,\n",
       " 0.48759961128234863,\n",
       " 0.4640553295612335,\n",
       " 0.5069499015808105,\n",
       " 0.48714298009872437,\n",
       " 0.4864916503429413,\n",
       " 0.5413171052932739,\n",
       " 0.5618883371353149,\n",
       " 0.4948464334011078,\n",
       " 0.4671976566314697,\n",
       " 0.4908082187175751,\n",
       " 0.536547839641571,\n",
       " 0.45298242568969727,\n",
       " 0.504082977771759,\n",
       " 0.5145134925842285,\n",
       " 0.4502980411052704,\n",
       " 0.5463839769363403,\n",
       " 0.49001479148864746,\n",
       " 0.5082516670227051,\n",
       " 0.44818392395973206,\n",
       " 0.46753591299057007,\n",
       " 0.4754467308521271,\n",
       " 0.47952309250831604,\n",
       " 0.4428398609161377,\n",
       " 0.5153602957725525,\n",
       " 0.437222421169281,\n",
       " 0.44737663865089417,\n",
       " 0.46179336309432983,\n",
       " 0.4715022146701813,\n",
       " 0.5050452351570129,\n",
       " 0.4723634123802185,\n",
       " 0.47873884439468384,\n",
       " 0.48689085245132446,\n",
       " 0.4937548041343689,\n",
       " 0.4327471852302551,\n",
       " 0.40736499428749084,\n",
       " 0.4582459628582001,\n",
       " 0.5063850283622742,\n",
       " 0.44378551840782166,\n",
       " 0.46869632601737976,\n",
       " 0.5118941068649292,\n",
       " 0.42252394556999207,\n",
       " 0.4831516742706299,\n",
       " 0.4803307354450226,\n",
       " 0.46414169669151306,\n",
       " 0.49552369117736816,\n",
       " 0.39592793583869934,\n",
       " 0.4259800910949707,\n",
       " 0.4677737057209015,\n",
       " 0.5258728265762329,\n",
       " 0.4564760625362396,\n",
       " 0.44289764761924744,\n",
       " 0.5043076276779175,\n",
       " 0.47341522574424744,\n",
       " 0.4978143274784088,\n",
       " 0.44679591059684753,\n",
       " 0.49732905626296997,\n",
       " 0.4049603343009949,\n",
       " 0.45094817876815796,\n",
       " 0.4924004077911377,\n",
       " 0.47374799847602844,\n",
       " 0.47264811396598816,\n",
       " 0.4880586266517639,\n",
       " 0.44400203227996826,\n",
       " 0.6038178205490112,\n",
       " 0.4704887270927429,\n",
       " 0.5094557404518127,\n",
       " 0.48611247539520264,\n",
       " 0.5030786991119385,\n",
       " 0.4620126485824585,\n",
       " 0.5299057364463806,\n",
       " 0.5126661658287048,\n",
       " 0.420345664024353,\n",
       " 0.5106029510498047,\n",
       " 0.4087992310523987,\n",
       " 0.43491336703300476,\n",
       " 0.42409056425094604,\n",
       " 0.5181536078453064,\n",
       " 0.5244095921516418,\n",
       " 0.5470892786979675,\n",
       " 0.4618930518627167,\n",
       " 0.3933928608894348,\n",
       " 0.44016218185424805,\n",
       " 0.4850705564022064,\n",
       " 0.4582233428955078,\n",
       " 0.4665740430355072,\n",
       " 0.51964271068573,\n",
       " 0.4623033404350281,\n",
       " 0.39439424872398376,\n",
       " 0.44594794511795044,\n",
       " 0.45873865485191345,\n",
       " 0.4252941906452179,\n",
       " 0.4305117726325989,\n",
       " 0.48555806279182434,\n",
       " 0.4010302722454071,\n",
       " 0.4127095639705658,\n",
       " 0.3772214949131012,\n",
       " 0.4799268841743469,\n",
       " 0.42504680156707764,\n",
       " 0.4703998863697052,\n",
       " 0.45148134231567383,\n",
       " 0.4282139241695404,\n",
       " 0.4880051612854004,\n",
       " 0.5133680105209351,\n",
       " 0.4508202075958252,\n",
       " 0.4453987181186676,\n",
       " 0.5036581158638,\n",
       " 0.3737839162349701,\n",
       " 0.5564913749694824,\n",
       " 0.4791366159915924,\n",
       " 0.46264854073524475,\n",
       " 0.4395696520805359,\n",
       " 0.4477066695690155,\n",
       " 0.5110198855400085,\n",
       " 0.4802834987640381,\n",
       " 0.4393918216228485,\n",
       " 0.5013346672058105,\n",
       " 0.43400275707244873,\n",
       " 0.4154786467552185,\n",
       " 0.40983134508132935,\n",
       " 0.4703652858734131,\n",
       " 0.49336060881614685,\n",
       " 0.4702434241771698,\n",
       " 0.3814551532268524,\n",
       " 0.4421491324901581,\n",
       " 0.4592359662055969,\n",
       " 0.46695467829704285,\n",
       " 0.5102624893188477,\n",
       " 0.42824628949165344,\n",
       " 0.43802422285079956,\n",
       " 0.4147469401359558,\n",
       " 0.4116198420524597,\n",
       " 0.46447092294692993,\n",
       " 0.4699966311454773,\n",
       " 0.5576810240745544,\n",
       " 0.47764819860458374,\n",
       " 0.49421411752700806,\n",
       " 0.46238428354263306,\n",
       " 0.5121333003044128,\n",
       " 0.443855881690979,\n",
       " 0.5213974714279175,\n",
       " 0.5258816480636597,\n",
       " 0.40889033675193787,\n",
       " 0.43562597036361694,\n",
       " 0.42330700159072876,\n",
       " 0.3835563659667969,\n",
       " 0.4847421646118164,\n",
       " 0.435312956571579,\n",
       " 0.41241154074668884,\n",
       " 0.4598062038421631,\n",
       " 0.4528844356536865,\n",
       " 0.43330737948417664,\n",
       " 0.4817044138908386,\n",
       " 0.4426068365573883,\n",
       " 0.41143038868904114,\n",
       " 0.5558921694755554,\n",
       " 0.4421766698360443,\n",
       " 0.42481112480163574,\n",
       " 0.4254779815673828,\n",
       " 0.4495389759540558,\n",
       " 0.4829774498939514,\n",
       " 0.40045642852783203,\n",
       " 0.4858167767524719,\n",
       " 0.5018157362937927,\n",
       " 0.4607371687889099,\n",
       " 0.4892662763595581,\n",
       " 0.4607688784599304,\n",
       " 0.5414506196975708,\n",
       " 0.46691855788230896,\n",
       " 0.528557538986206,\n",
       " 0.45757102966308594,\n",
       " 0.447282999753952,\n",
       " 0.4776197671890259,\n",
       " 0.3827986717224121,\n",
       " 0.3982313871383667,\n",
       " 0.45446720719337463,\n",
       " 0.47640013694763184,\n",
       " 0.4825511872768402,\n",
       " 0.38593560457229614,\n",
       " 0.35922491550445557,\n",
       " 0.43162938952445984,\n",
       " 0.42367011308670044,\n",
       " 0.4349112808704376,\n",
       " 0.537800133228302,\n",
       " 0.4432740807533264,\n",
       " 0.3947890102863312,\n",
       " 0.43958941102027893,\n",
       " 0.44894710183143616,\n",
       " 0.4381696581840515,\n",
       " 0.4888795018196106,\n",
       " 0.4046967327594757,\n",
       " 0.505210816860199,\n",
       " 0.5059861540794373,\n",
       " 0.4153895378112793,\n",
       " 0.4465372562408447,\n",
       " 0.4415702819824219,\n",
       " 0.4561883211135864,\n",
       " 0.5078829526901245,\n",
       " 0.48896268010139465,\n",
       " 0.46208158135414124,\n",
       " 0.4176484942436218,\n",
       " 0.45004042983055115,\n",
       " 0.3515391945838928,\n",
       " 0.3507997393608093,\n",
       " 0.4752388000488281,\n",
       " 0.42430028319358826,\n",
       " 0.4167500138282776,\n",
       " 0.4709016680717468,\n",
       " 0.48797839879989624,\n",
       " 0.36953461170196533,\n",
       " 0.46175819635391235,\n",
       " 0.4513307213783264,\n",
       " 0.46401530504226685,\n",
       " 0.39758938550949097,\n",
       " 0.5046731233596802,\n",
       " 0.40813833475112915,\n",
       " 0.45714402198791504,\n",
       " 0.5435075759887695,\n",
       " 0.4203135073184967,\n",
       " 0.45995545387268066,\n",
       " 0.4086223840713501,\n",
       " 0.38410425186157227,\n",
       " 0.505486249923706,\n",
       " 0.4170273542404175,\n",
       " 0.4974614977836609,\n",
       " 0.4787692725658417,\n",
       " 0.4351001977920532,\n",
       " 0.4110957384109497,\n",
       " 0.40739086270332336,\n",
       " 0.41072773933410645,\n",
       " 0.49553611874580383,\n",
       " 0.42240142822265625,\n",
       " 0.44263336062431335,\n",
       " 0.4289175271987915,\n",
       " 0.37944644689559937,\n",
       " 0.5098463892936707,\n",
       " 0.5179107189178467,\n",
       " 0.47092878818511963,\n",
       " 0.4319702982902527,\n",
       " 0.4989834427833557,\n",
       " 0.41461536288261414,\n",
       " 0.4221333861351013,\n",
       " 0.40989571809768677,\n",
       " 0.4862842261791229,\n",
       " 0.4980342388153076,\n",
       " 0.4345141053199768,\n",
       " 0.41662919521331787,\n",
       " 0.5062685012817383,\n",
       " 0.4195895791053772,\n",
       " 0.49602073431015015,\n",
       " 0.43287938833236694,\n",
       " 0.468309223651886,\n",
       " 0.43036359548568726,\n",
       " 0.46577441692352295,\n",
       " 0.3908645808696747,\n",
       " 0.36916935443878174,\n",
       " 0.404762864112854,\n",
       " 0.3495384752750397,\n",
       " 0.4539220929145813,\n",
       " 0.4794912338256836,\n",
       " 0.3876703679561615,\n",
       " 0.4895671010017395,\n",
       " 0.4532230496406555,\n",
       " 0.41585439443588257,\n",
       " 0.41822731494903564,\n",
       " 0.4774206280708313,\n",
       " 0.37527912855148315,\n",
       " 0.3667070269584656,\n",
       " 0.4666905701160431,\n",
       " 0.47437241673469543,\n",
       " 0.4761124849319458,\n",
       " 0.4693009853363037,\n",
       " 0.43467584252357483,\n",
       " 0.4694836139678955,\n",
       " 0.3724581003189087,\n",
       " 0.3503205478191376,\n",
       " 0.49385684728622437,\n",
       " 0.4047393500804901,\n",
       " 0.4512920379638672,\n",
       " 0.35247254371643066,\n",
       " 0.5029889941215515,\n",
       " 0.4947829842567444,\n",
       " 0.41822946071624756,\n",
       " 0.5182404518127441,\n",
       " 0.5006785988807678,\n",
       " 0.42928165197372437,\n",
       " 0.5119285583496094,\n",
       " 0.419169545173645,\n",
       " 0.3884669840335846,\n",
       " 0.4665117561817169,\n",
       " 0.39691200852394104,\n",
       " 0.42564380168914795,\n",
       " 0.3924773037433624,\n",
       " 0.39115697145462036,\n",
       " 0.4450077712535858,\n",
       " 0.4371394217014313,\n",
       " 0.5027081966400146,\n",
       " 0.42536619305610657,\n",
       " 0.48816826939582825,\n",
       " 0.38682547211647034,\n",
       " 0.3585505783557892,\n",
       " 0.4178820848464966,\n",
       " 0.40837305784225464,\n",
       " 0.4421885013580322,\n",
       " 0.3988577425479889,\n",
       " 0.42225661873817444,\n",
       " 0.3763238787651062,\n",
       " 0.3627661466598511,\n",
       " 0.4250345230102539,\n",
       " 0.45409148931503296,\n",
       " 0.384325236082077,\n",
       " 0.4330505132675171,\n",
       " 0.354259192943573,\n",
       " 0.47256067395210266,\n",
       " 0.47251003980636597,\n",
       " 0.4682162404060364,\n",
       " 0.5049927830696106,\n",
       " 0.43037477135658264,\n",
       " 0.4164489507675171,\n",
       " 0.39585500955581665,\n",
       " 0.45135849714279175,\n",
       " 0.4362417459487915,\n",
       " 0.5023705363273621,\n",
       " 0.4778061509132385,\n",
       " 0.41590502858161926,\n",
       " 0.39915481209754944,\n",
       " 0.43739330768585205,\n",
       " 0.37455296516418457,\n",
       " 0.4208765923976898,\n",
       " 0.4252164959907532,\n",
       " 0.48673880100250244,\n",
       " 0.44000938534736633,\n",
       " 0.44018083810806274,\n",
       " 0.35408541560173035,\n",
       " 0.45888325572013855,\n",
       " 0.42484965920448303,\n",
       " 0.48154765367507935,\n",
       " 0.43670159578323364,\n",
       " 0.43117672204971313,\n",
       " 0.5150226950645447,\n",
       " 0.3977282643318176,\n",
       " 0.44521403312683105,\n",
       " 0.4236249327659607,\n",
       " 0.4647851586341858,\n",
       " 0.4548596143722534,\n",
       " 0.45880362391471863,\n",
       " 0.4224984049797058,\n",
       " 0.336885005235672,\n",
       " 0.5006741881370544,\n",
       " 0.4714462161064148,\n",
       " 0.47079357504844666,\n",
       " 0.4258394241333008,\n",
       " 0.43430933356285095,\n",
       " 0.41532406210899353,\n",
       " 0.4123729169368744,\n",
       " 0.4899953007698059,\n",
       " 0.4220329821109772,\n",
       " 0.5297966003417969,\n",
       " 0.4361935257911682,\n",
       " 0.3422910273075104,\n",
       " 0.46004241704940796,\n",
       " 0.3790988326072693,\n",
       " 0.416770339012146,\n",
       " 0.3668525815010071,\n",
       " 0.46471482515335083,\n",
       " 0.42461466789245605,\n",
       " 0.4963586926460266,\n",
       " 0.46373826265335083,\n",
       " 0.4846155643463135,\n",
       " 0.408357709646225,\n",
       " 0.4656338691711426,\n",
       " 0.3913881778717041,\n",
       " 0.4478738009929657,\n",
       " 0.4051209092140198,\n",
       " 0.4430924654006958,\n",
       " 0.39139699935913086,\n",
       " 0.44293463230133057,\n",
       " 0.4032909870147705,\n",
       " 0.5238376259803772,\n",
       " 0.4697759747505188,\n",
       " 0.40928056836128235,\n",
       " 0.4242424964904785,\n",
       " 0.47643014788627625,\n",
       " 0.4737207889556885,\n",
       " 0.5105975270271301,\n",
       " 0.445473313331604,\n",
       " 0.42458781599998474,\n",
       " 0.41917023062705994,\n",
       " 0.3538622260093689,\n",
       " 0.42698538303375244,\n",
       " 0.3801780641078949,\n",
       " 0.45064324140548706,\n",
       " 0.42258885502815247,\n",
       " 0.5217469930648804,\n",
       " 0.3377205729484558,\n",
       " 0.4457276463508606,\n",
       " 0.5043106079101562,\n",
       " 0.40305355191230774,\n",
       " 0.38765114545822144,\n",
       " 0.4337342381477356,\n",
       " 0.45744702219963074,\n",
       " 0.4148674011230469,\n",
       " 0.3820629417896271,\n",
       " 0.4362296164035797,\n",
       " 0.42652958631515503,\n",
       " 0.40477454662323,\n",
       " 0.449716717004776,\n",
       " 0.47890177369117737,\n",
       " 0.36939311027526855,\n",
       " 0.43571269512176514,\n",
       " 0.41999608278274536,\n",
       " 0.42759156227111816,\n",
       " 0.348876953125,\n",
       " 0.38725996017456055,\n",
       " 0.35172855854034424,\n",
       " 0.4030956029891968,\n",
       " 0.441814661026001,\n",
       " 0.3677571415901184,\n",
       " 0.48352324962615967,\n",
       " 0.42706766724586487,\n",
       " 0.40134871006011963,\n",
       " 0.4509274959564209,\n",
       " 0.4080934226512909,\n",
       " 0.4220799505710602,\n",
       " 0.5347652435302734,\n",
       " 0.3885974884033203,\n",
       " 0.42639997601509094,\n",
       " 0.37097904086112976,\n",
       " 0.4552654027938843,\n",
       " 0.43629974126815796,\n",
       " 0.42823249101638794,\n",
       " 0.44270652532577515,\n",
       " 0.40518712997436523,\n",
       " 0.38736945390701294,\n",
       " 0.431193083524704,\n",
       " 0.3673698306083679,\n",
       " 0.3662210702896118,\n",
       " 0.44100674986839294,\n",
       " 0.42259666323661804,\n",
       " 0.43025198578834534,\n",
       " 0.3514232933521271,\n",
       " 0.5254346132278442,\n",
       " 0.39849036931991577,\n",
       " 0.42982760071754456,\n",
       " 0.313186377286911,\n",
       " 0.4455510675907135,\n",
       " 0.4368675947189331,\n",
       " 0.44372624158859253,\n",
       " 0.42418351769447327,\n",
       " 0.41047656536102295,\n",
       " 0.5273981690406799,\n",
       " 0.4223600924015045,\n",
       " 0.4390234649181366,\n",
       " 0.42375484108924866,\n",
       " 0.397377610206604,\n",
       " 0.42076653242111206,\n",
       " 0.4147266447544098,\n",
       " 0.3846432566642761,\n",
       " 0.3436538577079773,\n",
       " 0.4564852714538574,\n",
       " 0.35077187418937683,\n",
       " 0.4200618863105774,\n",
       " 0.4241251051425934,\n",
       " 0.3560490608215332,\n",
       " 0.4081769287586212,\n",
       " 0.48350977897644043,\n",
       " 0.38403448462486267,\n",
       " 0.42762699723243713,\n",
       " 0.43262431025505066,\n",
       " 0.35613003373146057,\n",
       " 0.35994642972946167,\n",
       " 0.47554999589920044,\n",
       " 0.3984108865261078,\n",
       " 0.4057948887348175,\n",
       " 0.40760502219200134,\n",
       " 0.4465479850769043,\n",
       " 0.3760826885700226,\n",
       " 0.46932703256607056,\n",
       " 0.4169889986515045,\n",
       " 0.4029737114906311,\n",
       " 0.37871140241622925,\n",
       " 0.42764347791671753,\n",
       " 0.4305846095085144,\n",
       " 0.4359757900238037,\n",
       " 0.38115447759628296,\n",
       " 0.42270874977111816,\n",
       " 0.35321271419525146,\n",
       " 0.4327850639820099,\n",
       " 0.3574749231338501,\n",
       " 0.40567177534103394,\n",
       " 0.46404990553855896,\n",
       " 0.44300276041030884,\n",
       " 0.4379982352256775,\n",
       " 0.4390464127063751,\n",
       " 0.45688214898109436,\n",
       " 0.42028093338012695,\n",
       " 0.47117379307746887,\n",
       " 0.45843061804771423,\n",
       " 0.3385065793991089,\n",
       " 0.4077266454696655,\n",
       " 0.4341263771057129,\n",
       " 0.38427188992500305,\n",
       " 0.47246426343917847,\n",
       " 0.426106333732605,\n",
       " 0.4593934714794159,\n",
       " 0.49542897939682007,\n",
       " 0.3617635667324066,\n",
       " 0.42657917737960815,\n",
       " 0.3609759211540222,\n",
       " 0.43227288126945496,\n",
       " 0.4573974311351776,\n",
       " 0.3923165798187256,\n",
       " 0.38141828775405884,\n",
       " 0.456235408782959,\n",
       " 0.3855213224887848,\n",
       " 0.3769192695617676,\n",
       " 0.3325958251953125,\n",
       " 0.3974425792694092,\n",
       " 0.3681102991104126,\n",
       " 0.42038434743881226,\n",
       " 0.49360719323158264,\n",
       " 0.3436067998409271,\n",
       " 0.3940473198890686,\n",
       " 0.4420703649520874,\n",
       " 0.33778268098831177,\n",
       " 0.4796470105648041,\n",
       " 0.42803364992141724,\n",
       " 0.4523411691188812,\n",
       " 0.289400577545166,\n",
       " 0.40438756346702576,\n",
       " 0.417227566242218,\n",
       " 0.48733842372894287,\n",
       " 0.42561274766921997,\n",
       " 0.3615019619464874,\n",
       " 0.4526510536670685,\n",
       " 0.38327473402023315,\n",
       " 0.36763209104537964,\n",
       " 0.36953121423721313,\n",
       " 0.38065776228904724,\n",
       " 0.35141581296920776,\n",
       " 0.35687142610549927,\n",
       " 0.42374154925346375,\n",
       " 0.39461207389831543,\n",
       " 0.3488871157169342,\n",
       " 0.33855119347572327,\n",
       " 0.42977145314216614,\n",
       " 0.44217148423194885,\n",
       " 0.3925461769104004,\n",
       " 0.43339142203330994,\n",
       " 0.40183937549591064,\n",
       " 0.4792638421058655,\n",
       " 0.43866226077079773,\n",
       " 0.4360549747943878,\n",
       " 0.4460235834121704,\n",
       " 0.42127561569213867,\n",
       " 0.4203331470489502,\n",
       " 0.5307155847549438,\n",
       " 0.36254099011421204,\n",
       " 0.43863487243652344,\n",
       " 0.3814128637313843,\n",
       " 0.3981958031654358,\n",
       " 0.46519386768341064,\n",
       " 0.39438962936401367,\n",
       " 0.3893392086029053,\n",
       " 0.4494331181049347,\n",
       " 0.46472299098968506,\n",
       " 0.36747750639915466,\n",
       " 0.3349061608314514,\n",
       " 0.4657725691795349,\n",
       " 0.4115232825279236,\n",
       " 0.4250551462173462,\n",
       " 0.417259156703949,\n",
       " 0.3607986271381378,\n",
       " 0.43988096714019775,\n",
       " 0.32540303468704224,\n",
       " 0.40027233958244324,\n",
       " 0.3739994764328003,\n",
       " 0.39388319849967957,\n",
       " 0.36426469683647156,\n",
       " 0.4025989770889282,\n",
       " 0.35556578636169434,\n",
       " 0.42142951488494873,\n",
       " 0.4402289092540741,\n",
       " 0.42422816157341003,\n",
       " 0.4754929542541504,\n",
       " 0.36418789625167847,\n",
       " 0.3734802305698395,\n",
       " 0.4248810410499573,\n",
       " 0.4129263460636139,\n",
       " 0.4140366315841675,\n",
       " 0.3315192461013794,\n",
       " 0.4129827618598938,\n",
       " 0.3802957534790039,\n",
       " 0.39954400062561035,\n",
       " 0.3848666548728943,\n",
       " 0.3840946555137634,\n",
       " 0.3442111611366272,\n",
       " 0.46142372488975525,\n",
       " 0.4745188057422638,\n",
       " 0.3444613516330719,\n",
       " 0.36513468623161316,\n",
       " 0.4268002510070801,\n",
       " 0.42831531167030334,\n",
       " 0.4291987121105194,\n",
       " 0.4071253538131714,\n",
       " 0.3506270945072174,\n",
       " 0.3840877115726471,\n",
       " 0.3873896300792694,\n",
       " 0.420326828956604,\n",
       " 0.39234858751296997,\n",
       " 0.4075593054294586,\n",
       " 0.383713960647583,\n",
       " 0.3265981078147888,\n",
       " 0.35420989990234375,\n",
       " 0.390114426612854,\n",
       " 0.43906882405281067,\n",
       " 0.40129050612449646,\n",
       " 0.33677971363067627,\n",
       " 0.42319080233573914,\n",
       " 0.3758217990398407,\n",
       " 0.42686569690704346,\n",
       " 0.34251484274864197,\n",
       " 0.3779832124710083,\n",
       " 0.3729252815246582,\n",
       " 0.43500858545303345,\n",
       " 0.37720751762390137,\n",
       " 0.3461357653141022,\n",
       " 0.29360005259513855,\n",
       " 0.3280802369117737,\n",
       " 0.39469173550605774,\n",
       " 0.3175708055496216,\n",
       " 0.37958863377571106,\n",
       " 0.3751678466796875,\n",
       " 0.35119515657424927,\n",
       " 0.3773946166038513,\n",
       " 0.42574721574783325,\n",
       " 0.4281117022037506,\n",
       " 0.3995693027973175,\n",
       " 0.3351173996925354,\n",
       " 0.45767784118652344,\n",
       " 0.37440529465675354,\n",
       " 0.3821834623813629,\n",
       " 0.49176594614982605,\n",
       " 0.4346619248390198,\n",
       " 0.44098100066185,\n",
       " 0.4212891459465027,\n",
       " 0.35648971796035767,\n",
       " 0.4819183349609375,\n",
       " 0.39629945158958435,\n",
       " 0.41349852085113525,\n",
       " 0.4697871506214142,\n",
       " 0.39396560192108154,\n",
       " 0.336060106754303,\n",
       " 0.39699217677116394,\n",
       " 0.40881937742233276,\n",
       " 0.4260029196739197,\n",
       " 0.38828185200691223,\n",
       " 0.48286476731300354,\n",
       " 0.3437989354133606,\n",
       " 0.39565062522888184,\n",
       " 0.3790675103664398,\n",
       " 0.43012183904647827,\n",
       " 0.43743810057640076,\n",
       " 0.3780735731124878,\n",
       " 0.38236165046691895,\n",
       " 0.3518246114253998,\n",
       " 0.3691827356815338,\n",
       " 0.3789209723472595,\n",
       " 0.3018815517425537,\n",
       " 0.42791932821273804,\n",
       " 0.38413602113723755,\n",
       " 0.3512357771396637,\n",
       " 0.3068733513355255,\n",
       " 0.4237991273403168,\n",
       " 0.31600940227508545,\n",
       " 0.37656038999557495,\n",
       " 0.35031837224960327,\n",
       " 0.4517383575439453,\n",
       " 0.39862021803855896,\n",
       " 0.3982178270816803,\n",
       " 0.4009716510772705,\n",
       " 0.3435058295726776,\n",
       " 0.3555224537849426,\n",
       " 0.36443331837654114,\n",
       " 0.3195507526397705,\n",
       " 0.3679177463054657,\n",
       " 0.4316680133342743,\n",
       " 0.3690010905265808,\n",
       " 0.507572591304779,\n",
       " 0.4199932813644409,\n",
       " 0.3861865997314453,\n",
       " 0.4524306654930115,\n",
       " 0.40207546949386597,\n",
       " 0.399766743183136,\n",
       " 0.34260499477386475,\n",
       " 0.39730915427207947,\n",
       " 0.39667409658432007,\n",
       " 0.43812963366508484,\n",
       " 0.4063059091567993,\n",
       " 0.3798520863056183,\n",
       " 0.32680878043174744,\n",
       " 0.37660378217697144,\n",
       " 0.4242269694805145,\n",
       " 0.39752739667892456,\n",
       " 0.47993797063827515,\n",
       " 0.39521554112434387,\n",
       " 0.2933981716632843,\n",
       " 0.44852423667907715,\n",
       " 0.40584078431129456,\n",
       " 0.390940397977829,\n",
       " 0.39767712354660034,\n",
       " 0.36266663670539856,\n",
       " 0.39535173773765564,\n",
       " 0.32256054878234863,\n",
       " 0.4339959919452667,\n",
       " 0.3531930148601532,\n",
       " 0.4045003652572632,\n",
       " 0.4252409040927887,\n",
       " 0.351832777261734,\n",
       " 0.36676380038261414,\n",
       " 0.32575762271881104,\n",
       " 0.3552369773387909,\n",
       " 0.35682886838912964,\n",
       " 0.2986381947994232,\n",
       " 0.3510473966598511,\n",
       " 0.45216286182403564,\n",
       " 0.29895153641700745,\n",
       " 0.3020864427089691,\n",
       " 0.3541257083415985,\n",
       " 0.39174607396125793,\n",
       " 0.33759430050849915,\n",
       " 0.31673526763916016,\n",
       " 0.35414400696754456,\n",
       " 0.3549472987651825,\n",
       " 0.44440463185310364,\n",
       " 0.40980851650238037,\n",
       " 0.4075172543525696,\n",
       " 0.3602287471294403,\n",
       " 0.3057197630405426,\n",
       " 0.3598945438861847,\n",
       " 0.40934786200523376,\n",
       " 0.47811371088027954,\n",
       " 0.4529789984226227,\n",
       " 0.4313203692436218,\n",
       " 0.3547867238521576,\n",
       " 0.3417414426803589,\n",
       " 0.4168558120727539,\n",
       " 0.3693540692329407,\n",
       " 0.37311244010925293,\n",
       " 0.4692555069923401,\n",
       " 0.3789970278739929,\n",
       " 0.39980608224868774,\n",
       " 0.33917418122291565,\n",
       " 0.3754909336566925,\n",
       " 0.37053877115249634,\n",
       " 0.3943253755569458,\n",
       " 0.3627956211566925,\n",
       " 0.3395143151283264,\n",
       " 0.40850791335105896,\n",
       " 0.41434013843536377,\n",
       " 0.3376910090446472,\n",
       " 0.35583505034446716,\n",
       " 0.40073564648628235,\n",
       " 0.35827046632766724,\n",
       " 0.40884920954704285,\n",
       " 0.3681443929672241,\n",
       " 0.3315323293209076,\n",
       " 0.536500096321106,\n",
       " 0.3416447639465332,\n",
       " 0.3766542077064514,\n",
       " 0.4417801797389984,\n",
       " 0.34581059217453003,\n",
       " 0.3942243754863739,\n",
       " 0.4205889105796814,\n",
       " 0.25380271673202515,\n",
       " 0.4213646650314331,\n",
       " 0.3378112316131592,\n",
       " 0.3850057125091553,\n",
       " 0.36420661211013794,\n",
       " 0.475297212600708,\n",
       " 0.3860200047492981,\n",
       " 0.42007654905319214,\n",
       " 0.3953809142112732,\n",
       " 0.3486365079879761,\n",
       " 0.3232181668281555,\n",
       " 0.35084962844848633,\n",
       " 0.3248279094696045,\n",
       " 0.36785611510276794,\n",
       " 0.3571058213710785,\n",
       " 0.3998832702636719,\n",
       " 0.3760761618614197,\n",
       " 0.3504646420478821,\n",
       " 0.3010067045688629,\n",
       " 0.32498684525489807,\n",
       " 0.4245617091655731,\n",
       " 0.40108752250671387,\n",
       " 0.35224002599716187,\n",
       " 0.3853972256183624,\n",
       " 0.3137268126010895,\n",
       " 0.3611072599887848,\n",
       " 0.44768446683883667,\n",
       " 0.33501625061035156,\n",
       " 0.3982387185096741,\n",
       " 0.39199578762054443,\n",
       " 0.44054746627807617,\n",
       " 0.3889772295951843,\n",
       " 0.3237915635108948,\n",
       " 0.4162614345550537,\n",
       " 0.3295210599899292,\n",
       " 0.3159467279911041,\n",
       " 0.3293134570121765,\n",
       " 0.3048449754714966,\n",
       " 0.38655105233192444,\n",
       " 0.38171717524528503,\n",
       " 0.303692102432251,\n",
       " 0.3314095139503479,\n",
       " 0.3120948374271393,\n",
       " 0.31635570526123047,\n",
       " 0.2553216516971588,\n",
       " 0.4064822793006897,\n",
       " 0.4223390221595764,\n",
       " 0.363738089799881,\n",
       " 0.33176836371421814,\n",
       " 0.36426109075546265,\n",
       " 0.35120612382888794,\n",
       " 0.3280818462371826,\n",
       " 0.4337296187877655,\n",
       " 0.3396383225917816,\n",
       " 0.41917940974235535,\n",
       " 0.31299951672554016,\n",
       " 0.36501452326774597,\n",
       " ...]"
      ]
     },
     "execution_count": 91,
     "metadata": {},
     "output_type": "execute_result"
    }
   ],
   "source": [
    "losses"
   ]
  },
  {
   "cell_type": "code",
   "execution_count": 92,
   "id": "92652e32-1c5c-45ee-a274-5d886286e0a1",
   "metadata": {},
   "outputs": [
    {
     "data": {
      "image/png": "[encoded data removed]",
      "text/plain": [
       "<Figure size 640x480 with 1 Axes>"
      ]
     },
     "metadata": {},
     "output_type": "display_data"
    }
   ],
   "source": [
    "from matplotlib import pyplot as plt\n",
    "plt.plot(losses)\n",
    "plt.show()"
   ]
  },
  {
   "cell_type": "code",
   "execution_count": 93,
   "id": "1eb41b0c-1384-411f-84fb-11ac2eec6665",
   "metadata": {},
   "outputs": [
    {
     "data": {
      "text/plain": [
       "23400"
      ]
     },
     "execution_count": 93,
     "metadata": {},
     "output_type": "execute_result"
    }
   ],
   "source": [
    "len(losses)"
   ]
  },
  {
   "cell_type": "code",
   "execution_count": 94,
   "id": "4675f6d5-344b-4796-b9e9-9c2866da42bf",
   "metadata": {},
   "outputs": [
    {
     "data": {
      "image/png": "[encoded data removed]",
      "text/plain": [
       "<Figure size 640x480 with 1 Axes>"
      ]
     },
     "metadata": {},
     "output_type": "display_data"
    }
   ],
   "source": [
    "plt.xlabel(\"Epochs (every 52)\")\n",
    "plt.ylabel(\"Loss\")\n",
    "plt.plot(losses[::52])\n",
    "plt.show()"
   ]
  },
  {
   "cell_type": "code",
   "execution_count": 95,
   "id": "c6320d71-059a-4399-8d15-399d23bfb4bd",
   "metadata": {},
   "outputs": [
    {
     "data": {
      "image/png": "[encoded data removed]",
      "text/plain": [
       "<Figure size 640x480 with 1 Axes>"
      ]
     },
     "metadata": {},
     "output_type": "display_data"
    }
   ],
   "source": [
    "plt.xlabel(\"Epochs (every 52)\")\n",
    "plt.ylabel(\"Loss\")\n",
    "plt.plot(losses)\n",
    "plt.show()"
   ]
  },
  {
   "cell_type": "code",
   "execution_count": 96,
   "id": "ebaad100-6fc1-4b01-a3c9-f28cca3212f9",
   "metadata": {},
   "outputs": [
    {
     "data": {
      "text/plain": [
       "[tensor(0.6708),\n",
       " tensor(0.7143),\n",
       " tensor(0.7547),\n",
       " tensor(0.7578),\n",
       " tensor(0.7694),\n",
       " tensor(0.7748),\n",
       " tensor(0.7725),\n",
       " tensor(0.7826),\n",
       " tensor(0.7811),\n",
       " tensor(0.7787),\n",
       " tensor(0.7795),\n",
       " tensor(0.7772),\n",
       " tensor(0.7904),\n",
       " tensor(0.7725),\n",
       " tensor(0.7834),\n",
       " tensor(0.7741),\n",
       " tensor(0.7818),\n",
       " tensor(0.7834),\n",
       " tensor(0.7733),\n",
       " tensor(0.7803),\n",
       " tensor(0.7795),\n",
       " tensor(0.7694),\n",
       " tensor(0.7803),\n",
       " tensor(0.7694),\n",
       " tensor(0.7725),\n",
       " tensor(0.7741),\n",
       " tensor(0.7780),\n",
       " tensor(0.7570),\n",
       " tensor(0.7772),\n",
       " tensor(0.7772),\n",
       " tensor(0.7671),\n",
       " tensor(0.7624),\n",
       " tensor(0.7632),\n",
       " tensor(0.7725),\n",
       " tensor(0.7733),\n",
       " tensor(0.7640),\n",
       " tensor(0.7601),\n",
       " tensor(0.7648),\n",
       " tensor(0.7686),\n",
       " tensor(0.7632),\n",
       " tensor(0.7679),\n",
       " tensor(0.7663),\n",
       " tensor(0.7593),\n",
       " tensor(0.7609),\n",
       " tensor(0.7616),\n",
       " tensor(0.7585),\n",
       " tensor(0.7508),\n",
       " tensor(0.7547),\n",
       " tensor(0.7554),\n",
       " tensor(0.7484),\n",
       " tensor(0.7585),\n",
       " tensor(0.7547),\n",
       " tensor(0.7539),\n",
       " tensor(0.7461),\n",
       " tensor(0.7508),\n",
       " tensor(0.7516),\n",
       " tensor(0.7531),\n",
       " tensor(0.7547),\n",
       " tensor(0.7585),\n",
       " tensor(0.7585),\n",
       " tensor(0.7601),\n",
       " tensor(0.7585),\n",
       " tensor(0.7585),\n",
       " tensor(0.7616),\n",
       " tensor(0.7585),\n",
       " tensor(0.7578),\n",
       " tensor(0.7554),\n",
       " tensor(0.7570),\n",
       " tensor(0.7578),\n",
       " tensor(0.7562),\n",
       " tensor(0.7554),\n",
       " tensor(0.7531),\n",
       " tensor(0.7624),\n",
       " tensor(0.7492),\n",
       " tensor(0.7523),\n",
       " tensor(0.7523),\n",
       " tensor(0.7484),\n",
       " tensor(0.7508),\n",
       " tensor(0.7516),\n",
       " tensor(0.7570),\n",
       " tensor(0.7492),\n",
       " tensor(0.7469),\n",
       " tensor(0.7484),\n",
       " tensor(0.7516),\n",
       " tensor(0.7500),\n",
       " tensor(0.7508),\n",
       " tensor(0.7484),\n",
       " tensor(0.7562),\n",
       " tensor(0.7508),\n",
       " tensor(0.7516),\n",
       " tensor(0.7508),\n",
       " tensor(0.7477),\n",
       " tensor(0.7484),\n",
       " tensor(0.7500),\n",
       " tensor(0.7461),\n",
       " tensor(0.7492),\n",
       " tensor(0.7484),\n",
       " tensor(0.7508),\n",
       " tensor(0.7500),\n",
       " tensor(0.7484),\n",
       " tensor(0.7484),\n",
       " tensor(0.7500),\n",
       " tensor(0.7516),\n",
       " tensor(0.7516),\n",
       " tensor(0.7492),\n",
       " tensor(0.7500),\n",
       " tensor(0.7516),\n",
       " tensor(0.7477),\n",
       " tensor(0.7438),\n",
       " tensor(0.7492),\n",
       " tensor(0.7508),\n",
       " tensor(0.7500),\n",
       " tensor(0.7430),\n",
       " tensor(0.7469),\n",
       " tensor(0.7500),\n",
       " tensor(0.7500),\n",
       " tensor(0.7461),\n",
       " tensor(0.7492),\n",
       " tensor(0.7453),\n",
       " tensor(0.7500),\n",
       " tensor(0.7500),\n",
       " tensor(0.7516),\n",
       " tensor(0.7469),\n",
       " tensor(0.7422),\n",
       " tensor(0.7477),\n",
       " tensor(0.7469),\n",
       " tensor(0.7407),\n",
       " tensor(0.7469),\n",
       " tensor(0.7469),\n",
       " tensor(0.7438),\n",
       " tensor(0.7407),\n",
       " tensor(0.7477),\n",
       " tensor(0.7453),\n",
       " tensor(0.7500),\n",
       " tensor(0.7415),\n",
       " tensor(0.7438),\n",
       " tensor(0.7461),\n",
       " tensor(0.7446),\n",
       " tensor(0.7500),\n",
       " tensor(0.7477),\n",
       " tensor(0.7453),\n",
       " tensor(0.7484),\n",
       " tensor(0.7453),\n",
       " tensor(0.7484),\n",
       " tensor(0.7484),\n",
       " tensor(0.7492),\n",
       " tensor(0.7438),\n",
       " tensor(0.7438),\n",
       " tensor(0.7422),\n",
       " tensor(0.7469),\n",
       " tensor(0.7469),\n",
       " tensor(0.7492),\n",
       " tensor(0.7469),\n",
       " tensor(0.7484),\n",
       " tensor(0.7453),\n",
       " tensor(0.7446),\n",
       " tensor(0.7430),\n",
       " tensor(0.7492),\n",
       " tensor(0.7523),\n",
       " tensor(0.7484),\n",
       " tensor(0.7477),\n",
       " tensor(0.7508),\n",
       " tensor(0.7469),\n",
       " tensor(0.7461),\n",
       " tensor(0.7469),\n",
       " tensor(0.7446),\n",
       " tensor(0.7453),\n",
       " tensor(0.7469),\n",
       " tensor(0.7453),\n",
       " tensor(0.7484),\n",
       " tensor(0.7461),\n",
       " tensor(0.7500),\n",
       " tensor(0.7446),\n",
       " tensor(0.7469),\n",
       " tensor(0.7453),\n",
       " tensor(0.7453),\n",
       " tensor(0.7422),\n",
       " tensor(0.7446),\n",
       " tensor(0.7461),\n",
       " tensor(0.7461),\n",
       " tensor(0.7438),\n",
       " tensor(0.7461),\n",
       " tensor(0.7469),\n",
       " tensor(0.7477),\n",
       " tensor(0.7469),\n",
       " tensor(0.7461),\n",
       " tensor(0.7477),\n",
       " tensor(0.7477),\n",
       " tensor(0.7469),\n",
       " tensor(0.7461),\n",
       " tensor(0.7453),\n",
       " tensor(0.7461),\n",
       " tensor(0.7453),\n",
       " tensor(0.7461),\n",
       " tensor(0.7469),\n",
       " tensor(0.7469),\n",
       " tensor(0.7469),\n",
       " tensor(0.7461),\n",
       " tensor(0.7469),\n",
       " tensor(0.7446),\n",
       " tensor(0.7461),\n",
       " tensor(0.7477),\n",
       " tensor(0.7461),\n",
       " tensor(0.7461),\n",
       " tensor(0.7484),\n",
       " tensor(0.7461),\n",
       " tensor(0.7469),\n",
       " tensor(0.7461),\n",
       " tensor(0.7461),\n",
       " tensor(0.7469),\n",
       " tensor(0.7453),\n",
       " tensor(0.7492),\n",
       " tensor(0.7461),\n",
       " tensor(0.7446),\n",
       " tensor(0.7461),\n",
       " tensor(0.7469),\n",
       " tensor(0.7453),\n",
       " tensor(0.7469),\n",
       " tensor(0.7469),\n",
       " tensor(0.7484),\n",
       " tensor(0.7469),\n",
       " tensor(0.7492),\n",
       " tensor(0.7477),\n",
       " tensor(0.7469),\n",
       " tensor(0.7477),\n",
       " tensor(0.7469),\n",
       " tensor(0.7453),\n",
       " tensor(0.7477),\n",
       " tensor(0.7492),\n",
       " tensor(0.7484),\n",
       " tensor(0.7461),\n",
       " tensor(0.7484),\n",
       " tensor(0.7461),\n",
       " tensor(0.7446),\n",
       " tensor(0.7461),\n",
       " tensor(0.7484),\n",
       " tensor(0.7469),\n",
       " tensor(0.7469),\n",
       " tensor(0.7484),\n",
       " tensor(0.7469),\n",
       " tensor(0.7469),\n",
       " tensor(0.7484),\n",
       " tensor(0.7477),\n",
       " tensor(0.7484),\n",
       " tensor(0.7461),\n",
       " tensor(0.7477),\n",
       " tensor(0.7469),\n",
       " tensor(0.7492),\n",
       " tensor(0.7477),\n",
       " tensor(0.7469),\n",
       " tensor(0.7469),\n",
       " tensor(0.7461),\n",
       " tensor(0.7484),\n",
       " tensor(0.7453),\n",
       " tensor(0.7484),\n",
       " tensor(0.7453),\n",
       " tensor(0.7484),\n",
       " tensor(0.7461),\n",
       " tensor(0.7508),\n",
       " tensor(0.7500),\n",
       " tensor(0.7461),\n",
       " tensor(0.7453),\n",
       " tensor(0.7469),\n",
       " tensor(0.7453),\n",
       " tensor(0.7453),\n",
       " tensor(0.7461),\n",
       " tensor(0.7422),\n",
       " tensor(0.7477),\n",
       " tensor(0.7453),\n",
       " tensor(0.7469),\n",
       " tensor(0.7508),\n",
       " tensor(0.7446),\n",
       " tensor(0.7492),\n",
       " tensor(0.7477),\n",
       " tensor(0.7461),\n",
       " tensor(0.7461),\n",
       " tensor(0.7446),\n",
       " tensor(0.7446),\n",
       " tensor(0.7453),\n",
       " tensor(0.7469),\n",
       " tensor(0.7422),\n",
       " tensor(0.7461),\n",
       " tensor(0.7500),\n",
       " tensor(0.7469),\n",
       " tensor(0.7469),\n",
       " tensor(0.7484),\n",
       " tensor(0.7500),\n",
       " tensor(0.7469),\n",
       " tensor(0.7422),\n",
       " tensor(0.7469),\n",
       " tensor(0.7453),\n",
       " tensor(0.7446),\n",
       " tensor(0.7484),\n",
       " tensor(0.7492),\n",
       " tensor(0.7477),\n",
       " tensor(0.7477),\n",
       " tensor(0.7484),\n",
       " tensor(0.7453),\n",
       " tensor(0.7477),\n",
       " tensor(0.7469),\n",
       " tensor(0.7477),\n",
       " tensor(0.7484),\n",
       " tensor(0.7484),\n",
       " tensor(0.7446),\n",
       " tensor(0.7469),\n",
       " tensor(0.7484),\n",
       " tensor(0.7500),\n",
       " tensor(0.7453),\n",
       " tensor(0.7438),\n",
       " tensor(0.7461),\n",
       " tensor(0.7446),\n",
       " tensor(0.7500),\n",
       " tensor(0.7492),\n",
       " tensor(0.7477),\n",
       " tensor(0.7492),\n",
       " tensor(0.7469),\n",
       " tensor(0.7492),\n",
       " tensor(0.7500),\n",
       " tensor(0.7477),\n",
       " tensor(0.7453),\n",
       " tensor(0.7453),\n",
       " tensor(0.7453),\n",
       " tensor(0.7477),\n",
       " tensor(0.7500),\n",
       " tensor(0.7469),\n",
       " tensor(0.7438),\n",
       " tensor(0.7477),\n",
       " tensor(0.7461),\n",
       " tensor(0.7484),\n",
       " tensor(0.7492),\n",
       " tensor(0.7461),\n",
       " tensor(0.7446),\n",
       " tensor(0.7492),\n",
       " tensor(0.7453),\n",
       " tensor(0.7438),\n",
       " tensor(0.7461),\n",
       " tensor(0.7422),\n",
       " tensor(0.7446),\n",
       " tensor(0.7484),\n",
       " tensor(0.7430),\n",
       " tensor(0.7446),\n",
       " tensor(0.7446),\n",
       " tensor(0.7430),\n",
       " tensor(0.7484),\n",
       " tensor(0.7484),\n",
       " tensor(0.7469),\n",
       " tensor(0.7453),\n",
       " tensor(0.7461),\n",
       " tensor(0.7500),\n",
       " tensor(0.7446),\n",
       " tensor(0.7484),\n",
       " tensor(0.7500),\n",
       " tensor(0.7446),\n",
       " tensor(0.7484),\n",
       " tensor(0.7477),\n",
       " tensor(0.7477),\n",
       " tensor(0.7461),\n",
       " tensor(0.7508),\n",
       " tensor(0.7446),\n",
       " tensor(0.7461),\n",
       " tensor(0.7438),\n",
       " tensor(0.7461),\n",
       " tensor(0.7461),\n",
       " tensor(0.7461),\n",
       " tensor(0.7438),\n",
       " tensor(0.7430),\n",
       " tensor(0.7438),\n",
       " tensor(0.7461),\n",
       " tensor(0.7461),\n",
       " tensor(0.7492),\n",
       " tensor(0.7438),\n",
       " tensor(0.7477),\n",
       " tensor(0.7484),\n",
       " tensor(0.7438),\n",
       " tensor(0.7446),\n",
       " tensor(0.7446),\n",
       " tensor(0.7438),\n",
       " tensor(0.7461),\n",
       " tensor(0.7461),\n",
       " tensor(0.7477),\n",
       " tensor(0.7469),\n",
       " tensor(0.7453),\n",
       " tensor(0.7446),\n",
       " tensor(0.7438),\n",
       " tensor(0.7430),\n",
       " tensor(0.7446),\n",
       " tensor(0.7469),\n",
       " tensor(0.7469),\n",
       " tensor(0.7438),\n",
       " tensor(0.7438),\n",
       " tensor(0.7477),\n",
       " tensor(0.7453),\n",
       " tensor(0.7484),\n",
       " tensor(0.7446),\n",
       " tensor(0.7430),\n",
       " tensor(0.7430),\n",
       " tensor(0.7469),\n",
       " tensor(0.7438),\n",
       " tensor(0.7453),\n",
       " tensor(0.7438),\n",
       " tensor(0.7430),\n",
       " tensor(0.7415),\n",
       " tensor(0.7430),\n",
       " tensor(0.7477),\n",
       " tensor(0.7469),\n",
       " tensor(0.7438),\n",
       " tensor(0.7430),\n",
       " tensor(0.7461),\n",
       " tensor(0.7391),\n",
       " tensor(0.7415),\n",
       " tensor(0.7461),\n",
       " tensor(0.7422),\n",
       " tensor(0.7453),\n",
       " tensor(0.7422),\n",
       " tensor(0.7477),\n",
       " tensor(0.7469),\n",
       " tensor(0.7422),\n",
       " tensor(0.7453),\n",
       " tensor(0.7453),\n",
       " tensor(0.7438),\n",
       " tensor(0.7438),\n",
       " tensor(0.7446),\n",
       " tensor(0.7446),\n",
       " tensor(0.7446),\n",
       " tensor(0.7453),\n",
       " tensor(0.7438),\n",
       " tensor(0.7430),\n",
       " tensor(0.7461),\n",
       " tensor(0.7453),\n",
       " tensor(0.7446),\n",
       " tensor(0.7477),\n",
       " tensor(0.7461),\n",
       " tensor(0.7469),\n",
       " tensor(0.7422),\n",
       " tensor(0.7446),\n",
       " tensor(0.7422),\n",
       " tensor(0.7469),\n",
       " tensor(0.7469),\n",
       " tensor(0.7461),\n",
       " tensor(0.7461),\n",
       " tensor(0.7453),\n",
       " tensor(0.7453),\n",
       " tensor(0.7438),\n",
       " tensor(0.7469),\n",
       " tensor(0.7446),\n",
       " tensor(0.7438),\n",
       " tensor(0.7422),\n",
       " tensor(0.7430),\n",
       " tensor(0.7453),\n",
       " tensor(0.7438)]"
      ]
     },
     "execution_count": 96,
     "metadata": {},
     "output_type": "execute_result"
    }
   ],
   "source": [
    "accuracies_per_epoch"
   ]
  },
  {
   "cell_type": "code",
   "execution_count": 97,
   "id": "b10c1d01-eaf6-4451-b81d-427a4334b0e7",
   "metadata": {},
   "outputs": [
    {
     "data": {
      "image/png": "[encoded data removed]",
      "text/plain": [
       "<Figure size 640x480 with 1 Axes>"
      ]
     },
     "metadata": {},
     "output_type": "display_data"
    }
   ],
   "source": [
    "plt.plot([float(acc) for acc in accuracies_per_epoch])\n",
    "plt.xlabel(\"Epochs\")\n",
    "plt.ylabel(\"Accuracy\")\n",
    "plt.show()\n"
   ]
  },
  {
   "cell_type": "code",
   "execution_count": 98,
   "id": "0d991836-2118-4cee-b7a6-dba3ce41a1fd",
   "metadata": {},
   "outputs": [
    {
     "name": "stdout",
     "output_type": "stream",
     "text": [
      "ReviewClassifier(\n",
      "  (mlp): Sequential(\n",
      "    (0): Linear(in_features=384, out_features=150, bias=True)\n",
      "    (1): ReLU()\n",
      "    (2): Linear(in_features=150, out_features=15, bias=True)\n",
      "    (3): ReLU()\n",
      "    (4): Linear(in_features=15, out_features=1, bias=True)\n",
      "    (5): Sigmoid()\n",
      "  )\n",
      ")\n",
      "['T_destination', '__annotations__', '__call__', '__class__', '__delattr__', '__dict__', '__dir__', '__doc__', '__eq__', '__format__', '__ge__', '__getattr__', '__getattribute__', '__getstate__', '__gt__', '__hash__', '__init__', '__init_subclass__', '__le__', '__lt__', '__module__', '__ne__', '__new__', '__reduce__', '__reduce_ex__', '__repr__', '__setattr__', '__setstate__', '__sizeof__', '__str__', '__subclasshook__', '__weakref__', '_apply', '_backward_hooks', '_backward_pre_hooks', '_buffers', '_call_impl', '_compiled_call_impl', '_forward_hooks', '_forward_hooks_always_called', '_forward_hooks_with_kwargs', '_forward_pre_hooks', '_forward_pre_hooks_with_kwargs', '_get_backward_hooks', '_get_backward_pre_hooks', '_get_name', '_is_full_backward_hook', '_load_from_state_dict', '_load_state_dict_post_hooks', '_load_state_dict_pre_hooks', '_maybe_warn_non_full_backward_hook', '_modules', '_named_members', '_non_persistent_buffers_set', '_parameters', '_register_load_state_dict_pre_hook', '_register_state_dict_hook', '_replicate_for_data_parallel', '_save_to_state_dict', '_slow_forward', '_state_dict_hooks', '_state_dict_pre_hooks', '_version', '_wrapped_call_impl', 'add_module', 'apply', 'bfloat16', 'buffers', 'call_super_init', 'children', 'compile', 'cpu', 'cuda', 'double', 'dump_patches', 'eval', 'extra_repr', 'float', 'forward', 'get_buffer', 'get_extra_state', 'get_parameter', 'get_submodule', 'half', 'ipu', 'load_state_dict', 'mlp', 'modules', 'named_buffers', 'named_children', 'named_modules', 'named_parameters', 'parameters', 'register_backward_hook', 'register_buffer', 'register_forward_hook', 'register_forward_pre_hook', 'register_full_backward_hook', 'register_full_backward_pre_hook', 'register_load_state_dict_post_hook', 'register_module', 'register_parameter', 'register_state_dict_pre_hook', 'requires_grad_', 'set_extra_state', 'share_memory', 'state_dict', 'to', 'to_empty', 'train', 'training', 'type', 'xpu', 'zero_grad']\n",
      "[Parameter containing:\n",
      "tensor([[ 0.0182, -0.0016,  0.0218,  ...,  0.0504,  0.0361, -0.0260],\n",
      "        [ 0.0046, -0.0312, -0.0267,  ..., -0.0501, -0.0372, -0.0035],\n",
      "        [ 0.0118,  0.0281,  0.0331,  ...,  0.0482, -0.0320, -0.0006],\n",
      "        ...,\n",
      "        [ 0.0155, -0.0146,  0.0280,  ...,  0.0087,  0.0434,  0.0111],\n",
      "        [ 0.0281,  0.0407, -0.0243,  ...,  0.0332,  0.0253,  0.0320],\n",
      "        [-0.0207, -0.0368,  0.0485,  ...,  0.0079,  0.0073, -0.0163]],\n",
      "       requires_grad=True), Parameter containing:\n",
      "tensor([-8.6810e-03,  5.0962e-05,  6.9698e-03, -2.3502e-02,  3.1682e-02,\n",
      "         4.5984e-02, -1.5889e-02,  3.7643e-02,  4.5827e-02,  2.5813e-02,\n",
      "         8.7926e-03,  7.3225e-03, -2.9731e-02, -1.3959e-02, -3.7400e-02,\n",
      "        -5.0565e-02,  1.1285e-02,  4.7719e-02,  4.3575e-02, -3.8481e-02,\n",
      "         2.2713e-02,  2.6158e-02, -1.3094e-02, -1.3008e-03, -2.9811e-02,\n",
      "        -3.7372e-02,  1.1023e-02, -1.9241e-02, -3.0950e-02,  3.0875e-02,\n",
      "         2.7615e-03, -4.8874e-02, -2.0453e-02, -1.4743e-02,  2.1287e-02,\n",
      "         3.5809e-02, -4.3985e-02,  4.5991e-02,  1.2131e-02, -3.8443e-02,\n",
      "        -3.4444e-02,  7.9478e-03,  1.2078e-03, -4.0523e-02,  1.0623e-02,\n",
      "        -7.7476e-03, -2.5290e-02,  2.9557e-02, -4.4311e-02,  3.0472e-02,\n",
      "        -1.2009e-02, -4.0463e-02,  3.2975e-02, -3.0183e-03, -3.7441e-02,\n",
      "         2.6390e-02,  4.5418e-02,  5.9775e-04,  1.2311e-02, -1.7857e-02,\n",
      "         2.9319e-03,  4.0377e-02,  3.0999e-02, -3.9013e-02,  2.1437e-02,\n",
      "        -2.4730e-02,  1.5638e-02, -4.2789e-02,  4.1864e-02,  4.0298e-02,\n",
      "        -4.1909e-02, -3.1883e-02, -2.6242e-02, -4.4580e-02, -2.7964e-02,\n",
      "        -8.2460e-03,  4.6862e-02,  2.1248e-02,  4.7298e-02, -2.9917e-03,\n",
      "        -1.3454e-02,  9.0617e-03,  1.7999e-02,  3.5897e-02, -1.7906e-02,\n",
      "         4.4808e-03, -1.5553e-02,  2.9613e-02, -5.7837e-03,  1.7966e-02,\n",
      "         3.9512e-02, -4.1501e-02, -1.1226e-03,  4.0752e-02,  3.7382e-02,\n",
      "        -2.6492e-02,  2.5556e-02,  9.5763e-03,  3.4054e-02, -4.5416e-02,\n",
      "         3.5378e-02, -5.0802e-02,  1.8383e-02,  1.5884e-02,  4.8548e-03,\n",
      "         2.9371e-02,  2.2204e-02,  3.8376e-02, -1.5536e-02, -7.8541e-03,\n",
      "         1.4525e-02, -1.8444e-02,  4.5952e-02, -4.7311e-02,  1.7136e-03,\n",
      "         4.9539e-02,  1.2296e-02,  1.7923e-02,  6.0125e-03, -3.0568e-02,\n",
      "        -3.9387e-02, -5.2955e-05,  2.0104e-02, -8.4628e-03, -2.3905e-02,\n",
      "        -1.4887e-02,  1.5724e-02, -9.1185e-03,  3.5257e-02, -3.6510e-02,\n",
      "        -2.5958e-02,  4.4654e-02, -3.7877e-02, -4.3443e-02, -1.7344e-02,\n",
      "        -3.9843e-02, -1.1094e-02,  3.8585e-02,  4.7471e-02,  1.7361e-02,\n",
      "         3.3111e-03,  3.1164e-02,  4.7107e-03, -1.1590e-03,  2.4613e-02,\n",
      "        -1.9205e-02,  3.7228e-02, -1.5869e-02,  2.0151e-03,  3.2805e-02],\n",
      "       requires_grad=True), Parameter containing:\n",
      "tensor([[ 0.0338,  0.0405,  0.0748,  ..., -0.0490,  0.0066,  0.0290],\n",
      "        [-0.0633,  0.0775,  0.0548,  ..., -0.0627, -0.0561, -0.0648],\n",
      "        [ 0.0058,  0.0648,  0.0805,  ..., -0.0303, -0.0396,  0.0283],\n",
      "        ...,\n",
      "        [-0.0450,  0.0323, -0.0167,  ..., -0.0411,  0.0095, -0.0342],\n",
      "        [ 0.0326, -0.0810,  0.0640,  ...,  0.0557,  0.0542,  0.0126],\n",
      "        [-0.0222, -0.0553,  0.0174,  ...,  0.0235, -0.0032, -0.0728]],\n",
      "       requires_grad=True), Parameter containing:\n",
      "tensor([-0.0698,  0.0719,  0.0611,  0.0741, -0.0488, -0.0411,  0.0447, -0.0299,\n",
      "         0.0228, -0.0379, -0.0448, -0.0008, -0.0602,  0.0406, -0.0339],\n",
      "       requires_grad=True), Parameter containing:\n",
      "tensor([[-0.1189, -0.1203,  0.0704, -0.2344, -0.1726, -0.1053,  0.2253, -0.2058,\n",
      "          0.2397, -0.2184, -0.0716, -0.1388, -0.1364,  0.1964, -0.2410]],\n",
      "       requires_grad=True), Parameter containing:\n",
      "tensor([-0.0850], requires_grad=True)]\n"
     ]
    }
   ],
   "source": [
    "empty_model = ReviewClassifier()\n",
    "print(empty_model)\n",
    "print(dir(empty_model))\n",
    "print(list(empty_model.parameters()))"
   ]
  },
  {
   "cell_type": "code",
   "execution_count": 99,
   "id": "6a26dea4-049f-4fa0-b34f-8968cd12190b",
   "metadata": {},
   "outputs": [
    {
     "data": {
      "text/plain": [
       "0.7656000000000001"
      ]
     },
     "execution_count": 99,
     "metadata": {},
     "output_type": "execute_result"
    }
   ],
   "source": [
    "1 - 0.2344"
   ]
  },
  {
   "cell_type": "code",
   "execution_count": null,
   "id": "5a3331c1-107a-4f29-bab0-88cc6fd4675c",
   "metadata": {},
   "outputs": [],
   "source": []
  }
 ],
 "metadata": {
  "kernelspec": {
   "display_name": "Python 3 (ipykernel)",
   "language": "python",
   "name": "python3"
  },
  "language_info": {
   "codemirror_mode": {
    "name": "ipython",
    "version": 3
   },
   "file_extension": ".py",
   "mimetype": "text/x-python",
   "name": "python",
   "nbconvert_exporter": "python",
   "pygments_lexer": "ipython3",
   "version": "3.10.12"
  }
 },
 "nbformat": 4,
 "nbformat_minor": 5
}
